{
 "cells": [
  {
   "cell_type": "code",
   "execution_count": 1,
   "metadata": {},
   "outputs": [],
   "source": [
    "import time\n",
    "import random\n",
    "\n",
    "import numpy as np\n",
    "import itertools\n",
    "from collections import Counter\n",
    "\n",
    "import matplotlib.pyplot as plt\n",
    "\n",
    "from typing import List"
   ]
  },
  {
   "cell_type": "code",
   "execution_count": 2,
   "metadata": {},
   "outputs": [],
   "source": [
    "RANDOM_SEED = 42\n",
    "random.seed(RANDOM_SEED)\n",
    "np.random.seed(RANDOM_SEED)"
   ]
  },
  {
   "cell_type": "markdown",
   "metadata": {},
   "source": [
    "### Задача 1\n",
    "Даны интервалы, отсортируйте их пожалуйста по возрастанию длины. \n",
    "\n",
    "Пример  \n",
    "Вход: [(2, 8), (-1, 0.2), (14, 15.3), (-4, -1.5), (1, 7), (1, 7), (0,0)]  \n",
    "Выход: [(-1, 0.2), (14, 15.3), ..., (2, 8)]  \n",
    "\n",
    "***задача с собеса Яндекса, соответствующая задача на литкод не найдена***"
   ]
  },
  {
   "cell_type": "markdown",
   "metadata": {},
   "source": [
    "**Решение задачи 1 вариант 1**: с помощью встроенной функции sorted"
   ]
  },
  {
   "cell_type": "code",
   "execution_count": 3,
   "metadata": {},
   "outputs": [],
   "source": [
    "def dist(i):\n",
    "    return abs(i[1] - i[0])"
   ]
  },
  {
   "cell_type": "code",
   "execution_count": 4,
   "metadata": {},
   "outputs": [],
   "source": [
    "def my_sort(l):\n",
    "    return sorted(l, key=dist)"
   ]
  },
  {
   "cell_type": "code",
   "execution_count": 5,
   "metadata": {},
   "outputs": [
    {
     "data": {
      "text/plain": [
       "[(0, 0), (-1, 0.2), (14, 15.3), (-4, -1.5), (2, 8), (1, 7), (1, 7)]"
      ]
     },
     "execution_count": 5,
     "metadata": {},
     "output_type": "execute_result"
    }
   ],
   "source": [
    "list_intervals = [(2, 8), (-1, 0.2), (14, 15.3), (-4, -1.5), (1, 7), (1, 7), (0,0)]\n",
    "my_sort(list_intervals)"
   ]
  },
  {
   "cell_type": "markdown",
   "metadata": {},
   "source": [
    "далее обычно следует чтото типа того:  \n",
    "Представим, что у нас нет sorted (collections, itertools, set.intersection **выберите из списка нужный вариант**),  \n",
    "случилась война и стандартные библиотеки питона погибли,  \n",
    "остались в живых только int, bool, for, range, if и while"
   ]
  },
  {
   "cell_type": "markdown",
   "metadata": {},
   "source": [
    "**Решение задачи 1 вариант 2**: без функции sorted сортировка пузырьковым методом"
   ]
  },
  {
   "cell_type": "code",
   "execution_count": 6,
   "metadata": {},
   "outputs": [],
   "source": [
    "def my_bubble_sort2(l):\n",
    "    n = len(l)\n",
    "    for i in range(n):\n",
    "        shifted = False\n",
    "        for j in range(n - 1 - i):\n",
    "            if dist(l[j]) > dist(l[j + 1]):\n",
    "                l[j], l[j + 1] = l[j + 1], l[j]\n",
    "                shifted = True\n",
    "\n",
    "        if not shifted:\n",
    "            break\n",
    "\n",
    "    return l"
   ]
  },
  {
   "cell_type": "code",
   "execution_count": 7,
   "metadata": {},
   "outputs": [
    {
     "data": {
      "text/plain": [
       "[(0, 0), (-1, 0.2), (14, 15.3), (-4, -1.5), (2, 8), (1, 7), (1, 7)]"
      ]
     },
     "execution_count": 7,
     "metadata": {},
     "output_type": "execute_result"
    }
   ],
   "source": [
    "list_intervals = [(2, 8), (-1, 0.2), (14, 15.3), (-4, -1.5), (1, 7), (1, 7), (0,0)]\n",
    "my_bubble_sort2(list_intervals[:])"
   ]
  },
  {
   "cell_type": "code",
   "execution_count": 8,
   "metadata": {},
   "outputs": [
    {
     "data": {
      "text/plain": [
       "True"
      ]
     },
     "execution_count": 8,
     "metadata": {},
     "output_type": "execute_result"
    }
   ],
   "source": [
    "my_bubble_sort2(list_intervals[:]) == my_sort(list_intervals[:])"
   ]
  },
  {
   "cell_type": "markdown",
   "metadata": {},
   "source": [
    "Алгоритм сортировки пузырьком имеет следующую трудоёмкость:\n",
    "\n",
    "1. **Лучший случай** (когда массив уже отсортирован): $O(n)$\n",
    "   В этом случае после первого прохода не будет произведено ни одной замены, и алгоритм может быть остановлен.\n",
    "\n",
    "2. **Средний случай**: $O(n^2)$\n",
    "   В среднем случае (как и в большинстве других случаев) потребуется $O(n^2)$ операций.\n",
    "\n",
    "3. **Худший случай** (когда массив отсортирован в обратном порядке): $O(n^2)$\n",
    "   В худшем случае для каждого из $n$ элементов потребуется проверить остальные $n$ элементов.\n",
    "\n",
    "Таким образом, средняя и максимальная трудоёмкость алгоритма сортировки пузырьком составляют $O(n^2)$.\n"
   ]
  },
  {
   "cell_type": "markdown",
   "metadata": {},
   "source": [
    "**Решение задачи 1 вариант 3**: без функции sorted сортировка вставками"
   ]
  },
  {
   "cell_type": "code",
   "execution_count": 9,
   "metadata": {},
   "outputs": [],
   "source": [
    "def my_insertion_sort3(l):\n",
    "    for i in range(1, len(l)):\n",
    "        key = l[i]\n",
    "        j = i - 1\n",
    "        while j >= 0 and dist(l[j + 1]) < dist(l[j]):\n",
    "            l[j + 1] = l[j]\n",
    "            j -= 1\n",
    "        l[j + 1] = key\n",
    "    return l"
   ]
  },
  {
   "cell_type": "code",
   "execution_count": 10,
   "metadata": {},
   "outputs": [
    {
     "data": {
      "text/plain": [
       "[(-1, 0.2), (14, 15.3), (-4, -1.5), (2, 8), (1, 7), (0, 0), (1, 7)]"
      ]
     },
     "execution_count": 10,
     "metadata": {},
     "output_type": "execute_result"
    }
   ],
   "source": [
    "my_insertion_sort3(list_intervals[:])"
   ]
  },
  {
   "cell_type": "markdown",
   "metadata": {},
   "source": [
    "Трудоёмкость сортировки вставками:\n",
    "\n",
    "- **Лучший случай**: $O(n)$ - когда список уже отсортирован.\n",
    "- **Средний случай**: $O(n^2)$.\n",
    "- **Худший случай**: $O(n^2)$ - когда список отсортирован в обратном порядке.\n",
    "\n",
    "Пространственная сложность: \n",
    "- $O(1)$ - так как алгоритм является сортировкой на месте и не требует дополнительной памяти.\n"
   ]
  },
  {
   "cell_type": "markdown",
   "metadata": {},
   "source": [
    "**Тест производительности - Задача 1**:"
   ]
  },
  {
   "cell_type": "code",
   "execution_count": 11,
   "metadata": {},
   "outputs": [],
   "source": [
    "def generate_intervals(n, lower_bound=-100, upper_bound=100):\n",
    "    '''\n",
    "    generates a list of n random intervals with integer boundaries\n",
    "    each boundary of interval is generated from range [lower_bound, upper_bound]\n",
    "    '''\n",
    "    intervals = []\n",
    "    for _ in range(n):\n",
    "        start, end = sorted([random.randint(lower_bound, upper_bound) for _ in range(2)])\n",
    "        intervals.append((start, end))\n",
    "    return intervals\n"
   ]
  },
  {
   "cell_type": "code",
   "execution_count": 12,
   "metadata": {},
   "outputs": [
    {
     "name": "stdout",
     "output_type": "stream",
     "text": [
      "[(-72, 63), (-94, 89), (-38, -30), (-65, -43), (-74, 88), (73, 89), (-78, 39), (8, 51), (-93, -92), (-77, -45)]\n"
     ]
    }
   ],
   "source": [
    "test_list_intervals = generate_intervals(100)\n",
    "print(test_list_intervals[:10])"
   ]
  },
  {
   "cell_type": "code",
   "execution_count": 13,
   "metadata": {},
   "outputs": [
    {
     "name": "stdout",
     "output_type": "stream",
     "text": [
      "27 µs ± 5.53 µs per loop (mean ± std. dev. of 7 runs, 500 loops each)\n"
     ]
    }
   ],
   "source": [
    "%timeit -n 500  my_sort(test_list_intervals[:])"
   ]
  },
  {
   "cell_type": "code",
   "execution_count": 14,
   "metadata": {},
   "outputs": [
    {
     "name": "stdout",
     "output_type": "stream",
     "text": [
      "2.49 ms ± 300 µs per loop (mean ± std. dev. of 7 runs, 500 loops each)\n"
     ]
    }
   ],
   "source": [
    "%timeit -n 500  my_bubble_sort2(test_list_intervals[:])"
   ]
  },
  {
   "cell_type": "code",
   "execution_count": 15,
   "metadata": {},
   "outputs": [
    {
     "name": "stdout",
     "output_type": "stream",
     "text": [
      "138 µs ± 28.4 µs per loop (mean ± std. dev. of 7 runs, 500 loops each)\n"
     ]
    }
   ],
   "source": [
    "%timeit -n 500  my_insertion_sort3(test_list_intervals[:])"
   ]
  },
  {
   "cell_type": "markdown",
   "metadata": {},
   "source": [
    "Вывод по тесту производительности - Задача 1:  \n",
    "без встроенных функций код медленнее примерно в 4 раза. Но также вариант сортировки пузырьком оказался в 20 раз медленнее сортировки вставками. Пузырьковая сортировка требует дополнительных операций обмена, которые могут добавлять оверхед, особенно при работе с большими списками. И даже если вы удалите отпимизацию с shifted на случай если список отсортирован, то это не поможет. Если вы делаете продуктовый код иногда лучше отказаться от красивого кода и экономии памяти на одном элементе ради ускорения кода."
   ]
  },
  {
   "cell_type": "markdown",
   "metadata": {},
   "source": [
    "### Задача 2 - Пересечение двух массивов с учетом множественности элементов - 350 Intersection of Two Arrays II (Easy)\n",
    "Даны два массива целых чисел `nums1` и `nums2`. Верните массив их пересечения. Каждый элемент в результате должен появляться столько раз, сколько раз он встречается в обоих массивах, и вы можете вернуть результат в любом порядке.\n",
    "\n",
    "**Пример 1:**  \n",
    "Вход: nums1 = [1, 2, 3, 2, 0], nums2 = [5, 1, 2, 7, 3, 2]  \n",
    "Выход: [1, 2, 2, 3]  \n",
    "\n",
    "**Пример 2:**  \n",
    "Вход: nums1 = [4,9,5], nums2 = [9,4,9,8,4]  \n",
    "Выход: [4,9]  \n",
    "Объяснение: [9,4] также принимается  \n",
    "\n",
    "***задача с собеседования Яндекс, соответвует задаче с литкод [350 Intersection of Two Arrays II (Easy)](https://leetcode.com/problems/intersection-of-two-arrays-ii/)***\n"
   ]
  },
  {
   "cell_type": "markdown",
   "metadata": {},
   "source": [
    "**Решение задачи 2 вариант 1**: с помощью встроенных функции"
   ]
  },
  {
   "cell_type": "code",
   "execution_count": 16,
   "metadata": {},
   "outputs": [],
   "source": [
    "def repeated_intersection(nums1, nums2):\n",
    "    result = []\n",
    "    \n",
    "    for element in set(nums1) & set(nums2):\n",
    "        result.extend([element] * min(nums1.count(element), nums2.count(element)))\n",
    "    \n",
    "    return result"
   ]
  },
  {
   "cell_type": "code",
   "execution_count": 17,
   "metadata": {},
   "outputs": [
    {
     "data": {
      "text/plain": [
       "[1, 2, 2, 3]"
      ]
     },
     "execution_count": 17,
     "metadata": {},
     "output_type": "execute_result"
    }
   ],
   "source": [
    "nums1 = [1, 2, 3, 2, 0]\n",
    "nums2 = [5, 1, 2, 7, 3, 2]\n",
    "repeated_intersection(nums1, nums2)"
   ]
  },
  {
   "cell_type": "markdown",
   "metadata": {},
   "source": [
    "**Решение задачи 2 вариант 2**: без помощи встроенных функции"
   ]
  },
  {
   "cell_type": "code",
   "execution_count": 18,
   "metadata": {},
   "outputs": [],
   "source": [
    "def repeated_intersection2(nums1, nums2):\n",
    "    result = []  # to store result of intersection\n",
    "    count = {}  # dictionary to store count of numbers from nums1\n",
    "\n",
    "    # count occurrences of each number in nums1\n",
    "    for i in nums1:\n",
    "        if count.get(i): \n",
    "            count[i] += 1\n",
    "        else: \n",
    "            count[i] = 1\n",
    "    \n",
    "    # check for numbers existence in nums1 and decrease its count if found\n",
    "    for j in nums2:\n",
    "        if count.get(j) and count[j] > 0:\n",
    "                count[j] -= 1\n",
    "                result.append(j)\n",
    "    return result\n"
   ]
  },
  {
   "cell_type": "code",
   "execution_count": 19,
   "metadata": {},
   "outputs": [
    {
     "data": {
      "text/plain": [
       "[1, 2, 3, 2]"
      ]
     },
     "execution_count": 19,
     "metadata": {},
     "output_type": "execute_result"
    }
   ],
   "source": [
    "repeated_intersection2(nums1, nums2)"
   ]
  },
  {
   "cell_type": "markdown",
   "metadata": {},
   "source": [
    "**Тест производительности - Задача 2**:"
   ]
  },
  {
   "cell_type": "code",
   "execution_count": 20,
   "metadata": {},
   "outputs": [],
   "source": [
    "def generate_random_lists(max_length=1000, max_value=100):\n",
    "    '''\n",
    "    generate two random lists.\n",
    "    \n",
    "    :param max_length: Maximum possible length for the lists.\n",
    "    :param max_value: Maximum absolute integer value in the lists.\n",
    "    \n",
    "    :return: Two lists of random length with random integers.\n",
    "    '''\n",
    "    len1 = random.randint(1, max_length)\n",
    "    len2 = random.randint(1, max_length)\n",
    "    \n",
    "    list1 = [random.randint(-max_value, max_value) for _ in range(len1)]\n",
    "    list2 = [random.randint(-max_value, max_value) for _ in range(len2)]\n",
    "    \n",
    "    return list1, list2"
   ]
  },
  {
   "cell_type": "code",
   "execution_count": 21,
   "metadata": {},
   "outputs": [
    {
     "data": {
      "text/plain": [
       "([-20, 18, 0, 11, -19, -13, 3, -1, -5, -17, -5, 16, -15, -15, 11],\n",
       " [-3, -2, 18, -7, 1, -7, 20, -4, 12, 11, -4, -17, -15, 20, 7])"
      ]
     },
     "execution_count": 21,
     "metadata": {},
     "output_type": "execute_result"
    }
   ],
   "source": [
    "nums1, nums2 = generate_random_lists(200, 20)\n",
    "nums1[:15], nums2[:15]"
   ]
  },
  {
   "cell_type": "code",
   "execution_count": 22,
   "metadata": {},
   "outputs": [
    {
     "name": "stdout",
     "output_type": "stream",
     "text": [
      "308 µs ± 64.3 µs per loop (mean ± std. dev. of 7 runs, 500 loops each)\n"
     ]
    }
   ],
   "source": [
    "%timeit -n 500  repeated_intersection(nums1, nums2)"
   ]
  },
  {
   "cell_type": "code",
   "execution_count": 23,
   "metadata": {},
   "outputs": [
    {
     "name": "stdout",
     "output_type": "stream",
     "text": [
      "90.3 µs ± 20.5 µs per loop (mean ± std. dev. of 7 runs, 500 loops each)\n"
     ]
    }
   ],
   "source": [
    "%timeit -n 500  repeated_intersection2(nums1, nums2)"
   ]
  },
  {
   "cell_type": "markdown",
   "metadata": {},
   "source": [
    "Вывод 1 по тесту производительности - Задача 2:  \n",
    "странный момент получается - код на основе встроенных функции медленнее чем вариант без них. Все дело в подсчете колва вхождений для всех элементов массивов. Посмотрим как это выглядит на графиках"
   ]
  },
  {
   "cell_type": "code",
   "execution_count": 24,
   "metadata": {},
   "outputs": [],
   "source": [
    "def plot_time_process(function1, function2, start=10, end=200, step=5, label1='Method 1', label2='Method 2'):\n",
    "    lengths = list(range(start, end, step))\n",
    "    times1 = []\n",
    "    times2 = []\n",
    "\n",
    "    for max_length in lengths:\n",
    "        nums1, nums2 = generate_random_lists(max_length, max_length//10)\n",
    "        \n",
    "        start_time = time.time()\n",
    "        for _ in range(100):\n",
    "            function1(nums1, nums2)\n",
    "        times1.append((time.time() - start_time) / 100)\n",
    "        \n",
    "        start_time = time.time()\n",
    "        for _ in range(100):\n",
    "            function2(nums1, nums2)\n",
    "        times2.append((time.time() - start_time) / 100)\n",
    "\n",
    "    mean1 = round(np.mean(times1)*100,2)\n",
    "    mean2 = round(np.mean(times2)*100,2)\n",
    "    \n",
    "    plt.figure(figsize=(12, 6))\n",
    "    plt.plot(lengths, times1, label=label1 + ' mean==' + str(mean1))\n",
    "    plt.plot(lengths, times2, label=label2 + ' mean==' + str(mean2))\n",
    "    plt.xlabel('List Length')\n",
    "    plt.ylabel('Average Execution Time (s/100)')\n",
    "    plt.title('Comparison of Execution Times')\n",
    "    plt.legend()\n",
    "    plt.grid(True)\n",
    "    plt.show()\n"
   ]
  },
  {
   "cell_type": "code",
   "execution_count": 25,
   "metadata": {},
   "outputs": [
    {
     "data": {
      "image/png": "[encoded data removed]",
      "text/plain": [
       "<Figure size 864x432 with 1 Axes>"
      ]
     },
     "metadata": {
      "needs_background": "light"
     },
     "output_type": "display_data"
    }
   ],
   "source": [
    "plot_time_process(repeated_intersection, repeated_intersection2,\n",
    "                  label1='repeated_intersection',\n",
    "                  label2='repeated_intersection2')"
   ]
  },
  {
   "cell_type": "code",
   "execution_count": 26,
   "metadata": {},
   "outputs": [
    {
     "data": {
      "image/png": "[encoded data removed]",
      "text/plain": [
       "<Figure size 864x432 with 1 Axes>"
      ]
     },
     "metadata": {
      "needs_background": "light"
     },
     "output_type": "display_data"
    }
   ],
   "source": [
    "plot_time_process(repeated_intersection, repeated_intersection2, 200, 1001, 100,\n",
    "                  label1='repeated_intersection',\n",
    "                  label2='repeated_intersection2')"
   ]
  },
  {
   "cell_type": "markdown",
   "metadata": {},
   "source": [
    "Вывод 2 по тесту производительности - Задача 2:  \n",
    "Интересно, а можно увеличить производительность варианта 2 встроенными функциями чтобы он работал быстрее?"
   ]
  },
  {
   "cell_type": "code",
   "execution_count": 27,
   "metadata": {},
   "outputs": [],
   "source": [
    "def repeated_intersection3(nums1, nums2):\n",
    "    result = []  # to store the result of intersection\n",
    "    \n",
    "    # count occurrences of each number in nums1 using collections.Counter\n",
    "    nums1_counts = Counter(nums1)\n",
    "\n",
    "    # Iterate through nums2 and check if the number exists in nums1_counts\n",
    "    for num in nums2:\n",
    "        if num in nums1_counts and nums1_counts[num] > 0:\n",
    "            result.append(num)\n",
    "            nums1_counts[num] -= 1\n",
    "\n",
    "    return result"
   ]
  },
  {
   "cell_type": "code",
   "execution_count": 28,
   "metadata": {},
   "outputs": [
    {
     "data": {
      "image/png": "[encoded data removed]",
      "text/plain": [
       "<Figure size 864x432 with 1 Axes>"
      ]
     },
     "metadata": {
      "needs_background": "light"
     },
     "output_type": "display_data"
    }
   ],
   "source": [
    "plot_time_process(repeated_intersection3, repeated_intersection2, 600, 20001, 500,\n",
    "                  label1='repeated_intersection3',\n",
    "                  label2='repeated_intersection2')"
   ]
  },
  {
   "cell_type": "markdown",
   "metadata": {},
   "source": [
    "Вывод 3 по тесту производительности - Задача 2:  \n",
    "Прирост производительности есть, но он незначительный "
   ]
  },
  {
   "cell_type": "markdown",
   "metadata": {},
   "source": [
    "### Задача 3\n",
    "\n",
    "Дана строка, состоящая из букв A-Z (возможно, пустая). Ваша задача - написать функцию RLE (Run-Length Encoding), которая будет преобразовывать эту строку следующим образом: символы будут оставлены без изменений, если они встречаются в строке один раз, и в противном случае к символу будет добавлено количество его повторений. Функция также должна генерировать ошибку, если на вход пришла невалидная строка.\n",
    "\n",
    "**Пример 1:**  \n",
    "Вход: \"AAAABBBCCXYZDDDDEEEFFFAAAAAABBBBBBBBBBBBBBBBBBBBBBBBBBBB\"  \n",
    "Выход: \"A4B3C2XYZD4E3F3A6B28\"\n",
    "\n",
    "Таким образом, задача заключается в реализации алгоритма кодирования строки в формат RLE и обработке невалидных входных данных\n",
    "\n",
    "***задача с собеседования Яндекс, почти соответвует задаче с литкод [443 String Compression (Medium)](https://leetcode.com/problems/string-compression/) основное отличие в том, что там на выходе нужно еще выводить длину итогового списка символов. В задаче 4 я разберу оригинал задачи с литкода***\n"
   ]
  },
  {
   "cell_type": "markdown",
   "metadata": {},
   "source": [
    "**Решение задачи 2 вариант 1**: с помощью встроенных функции"
   ]
  },
  {
   "cell_type": "code",
   "execution_count": 29,
   "metadata": {},
   "outputs": [],
   "source": [
    "def rle_str_encoder(s):\n",
    "    if not s:\n",
    "        return ''\n",
    "\n",
    "    encoded = []\n",
    "    for char, group in itertools.groupby(s):\n",
    "        _count = len(list(group))\n",
    "        encoded.append(char if _count == 1 else f'{char}{_count}')\n",
    "\n",
    "    return ''.join(encoded)"
   ]
  },
  {
   "cell_type": "code",
   "execution_count": 30,
   "metadata": {},
   "outputs": [
    {
     "data": {
      "text/plain": [
       "'A4B3C2XYZD4E3F3A6B28'"
      ]
     },
     "execution_count": 30,
     "metadata": {},
     "output_type": "execute_result"
    }
   ],
   "source": [
    "input_string = 'AAAABBBCCXYZDDDDEEEFFFAAAAAABBBBBBBBBBBBBBBBBBBBBBBBBBBB'\n",
    "rle_str_encoder(input_string)"
   ]
  },
  {
   "cell_type": "markdown",
   "metadata": {},
   "source": [
    "**Решение задачи 2 вариант 2**: без помощи встроенных функции"
   ]
  },
  {
   "cell_type": "code",
   "execution_count": 31,
   "metadata": {},
   "outputs": [],
   "source": [
    "def rle_str_encoder2(input_str):\n",
    "    if not input_str:\n",
    "        return ''\n",
    "\n",
    "    encoded_str = ''\n",
    "    count = 1  # initialize a count for current character's repetitions\n",
    "    prev_char = input_str[0]  # initialize previous character as first character in input string\n",
    "\n",
    "    for char in input_str[1:]:\n",
    "        if char == prev_char:\n",
    "            count += 1  # increment count if current character is same as previous one\n",
    "        else:\n",
    "            if count > 1:\n",
    "                encoded_str += prev_char + str(count)  # add character and its count to encoded string\n",
    "            else:\n",
    "                encoded_str += prev_char  # add character without count if it appears only once\n",
    "            count = 1  # reset count for new character\n",
    "        prev_char = char  # update previous character\n",
    "\n",
    "    if count > 1:\n",
    "        encoded_str += prev_char + str(count)  # add last character and its count to encoded string\n",
    "    else:\n",
    "        encoded_str += prev_char  # add last character without count if it appears only once\n",
    "\n",
    "    return encoded_str\n"
   ]
  },
  {
   "cell_type": "code",
   "execution_count": 32,
   "metadata": {},
   "outputs": [
    {
     "data": {
      "text/plain": [
       "'A4B3C2XYZD4E3F3A6B28'"
      ]
     },
     "execution_count": 32,
     "metadata": {},
     "output_type": "execute_result"
    }
   ],
   "source": [
    "rle_str_encoder2(input_string)"
   ]
  },
  {
   "cell_type": "code",
   "execution_count": 33,
   "metadata": {},
   "outputs": [
    {
     "data": {
      "text/plain": [
       "True"
      ]
     },
     "execution_count": 33,
     "metadata": {},
     "output_type": "execute_result"
    }
   ],
   "source": [
    "rle_str_encoder(input_string) == rle_str_encoder2(input_string)"
   ]
  },
  {
   "cell_type": "markdown",
   "metadata": {},
   "source": [
    "**Тест производительности - Задача 3**:"
   ]
  },
  {
   "cell_type": "code",
   "execution_count": 34,
   "metadata": {},
   "outputs": [],
   "source": [
    "def generate_random_string(total_length, max_repetition):\n",
    "    alphabet = 'ABCDEFGHIJKLMNOPQRSTUVWXYZ'\n",
    "    result = []\n",
    "    \n",
    "    while total_length > 0:\n",
    "        char = random.choice(alphabet)  # randomly choose a character from the alphabet\n",
    "        repetition = random.randint(1, max_repetition)  # generate a random repetition count\n",
    "        \n",
    "        # Make sure not to add more characters than needed to reach total_length\n",
    "        repetition = min(repetition, total_length)\n",
    "        \n",
    "        result.append(char * repetition)  # append the character repeated by repetition times\n",
    "        total_length -= repetition  # update the remaining total_length\n",
    "    \n",
    "    return ''.join(result)"
   ]
  },
  {
   "cell_type": "code",
   "execution_count": 35,
   "metadata": {},
   "outputs": [
    {
     "data": {
      "text/plain": [
       "'FKKKYYYYRRRRXXXOOOSSSOOOOMCCCSIIIBBBBBGGIIIIDDDIII'"
      ]
     },
     "execution_count": 35,
     "metadata": {},
     "output_type": "execute_result"
    }
   ],
   "source": [
    "generate_random_string(50, 4)"
   ]
  },
  {
   "cell_type": "code",
   "execution_count": 36,
   "metadata": {},
   "outputs": [],
   "source": [
    "test_str = generate_random_string(2000, 500)"
   ]
  },
  {
   "cell_type": "code",
   "execution_count": 37,
   "metadata": {},
   "outputs": [
    {
     "name": "stdout",
     "output_type": "stream",
     "text": [
      "The slowest run took 8.36 times longer than the fastest. This could mean that an intermediate result is being cached.\n",
      "214 µs ± 146 µs per loop (mean ± std. dev. of 7 runs, 100 loops each)\n"
     ]
    }
   ],
   "source": [
    "%timeit -n 100  rle_str_encoder(test_str)"
   ]
  },
  {
   "cell_type": "code",
   "execution_count": 38,
   "metadata": {},
   "outputs": [
    {
     "name": "stdout",
     "output_type": "stream",
     "text": [
      "359 µs ± 115 µs per loop (mean ± std. dev. of 7 runs, 100 loops each)\n"
     ]
    }
   ],
   "source": [
    "%timeit -n 100  rle_str_encoder2(test_str)"
   ]
  },
  {
   "cell_type": "markdown",
   "metadata": {},
   "source": [
    "### Задача 4 - Сжатие строки - 443 String Compression (Medium)\n",
    "\n",
    "Дан массив символов chars. Сжать его с использованием следующего алгоритма:\n",
    "\n",
    "1. Создайте пустую строку s.\n",
    "2. Для каждой группы подряд повторяющихся символов в chars:\n",
    "   - Если длина группы равна 1, добавьте символ в s.\n",
    "   - В противном случае, добавьте символ, за которым следует длина группы.\n",
    "3. Сжатая строка s не должна возвращаться отдельно, а должна быть сохранена в массиве символов chars. Обратите внимание, что длины групп, равные 10 или больше, будут разбиты на несколько символов в массиве chars.\n",
    "4. После завершения модификации входного массива верните новую длину массива.\n",
    "\n",
    "Необходимо написать алгоритм, который использует только постоянное количество дополнительной памяти.\n",
    "\n",
    "**Пример 1:**\n",
    "Вход: chars = [\"a\",\"a\",\"b\",\"b\",\"c\",\"c\",\"c\"]\n",
    "Выход: Вернуть 6, и первые 6 символов входного массива должны быть: [\"a\",\"2\",\"b\",\"2\",\"c\",\"3\"]\n",
    "Объяснение: Группы символов \"aa\", \"bb\" и \"ccc\" сжимаются в \"a2b2c3\".\n",
    "\n",
    "**Пример 2:**\n",
    "Вход: chars = [\"a\"]\n",
    "Выход: Вернуть 1, и первый символ входного массива должен быть: [\"a\"]\n",
    "Объяснение: Единственная группа - это \"a\", она остается несжатой, так как это одиночный символ.\n",
    "\n",
    "**Пример 3:**\n",
    "Вход: chars = [\"a\",\"b\",\"b\",\"b\",\"b\",\"b\",\"b\",\"b\",\"b\",\"b\",\"b\",\"b\",\"b\"]\n",
    "Выход: Вернуть 4, и первые 4 символа входного массива должны быть: [\"a\",\"b\",\"1\",\"2\"].\n",
    "Объяснение: Группы символов \"a\" и \"bbbbbbbbbbbb\" сжимаются в \"ab12\".\n",
    "\n",
    "**Ограничения:**\n",
    "1 <= chars.length <= 2000\n",
    "chars[i] - это строчная буква английского алфавита, заглавная буква английского алфавита, цифра или символ.\n",
    "\n",
    "***задача с литкод [443 String Compression (Medium)](https://leetcode.com/problems/string-compression/) привожу ее тут потому что условие на литкод отличается от того что дают на собеседованиях***\n"
   ]
  },
  {
   "cell_type": "markdown",
   "metadata": {},
   "source": [
    "**Решение задачи 4**: \n",
    "\n",
    "Шаги:\n",
    "1. добавляем вспомогательный элемент [None] в конец списка chars, чтобы избежать специальной обработки последнего символа\n",
    "2. используем два указателя, left и right, для прохода по списку. Left будет использоваться для записи, а right - для чтения.\n",
    "3. отслеживаем текущий символ и его вхождения\n",
    "4. если символ у указателя right совпадает с текущим символом, увеличиваем счетчик вхождений\n",
    "5. если они различны, записываем текущий символ и его количество вхождений (если оно больше 1) у указателя left, затем обновляем текущий символ и сбросываем его счетчик\n",
    "6. соответствующим образом увеличиваем указатель left и перемезаем указатель right к следующему символу\n",
    "7. возвращаем длину списка chars до указателя left\n"
   ]
  },
  {
   "cell_type": "code",
   "execution_count": 39,
   "metadata": {},
   "outputs": [],
   "source": [
    "def compress(chars: List[str]) -> int:\n",
    "    '''\n",
    "    Compress the given list of characters using two pointers.\n",
    "\n",
    "    Time Complexity: O(n)\n",
    "    Space Complexity: O(1)\n",
    "\n",
    "    Steps:\n",
    "    1. Add a sentinel [None] at the end of chars to avoid special handling for the last character.\n",
    "    2. Use two pointers, left and right, to traverse the list. Left will be for writing while right is for reading.\n",
    "    3. Keep track of the current character and its count.\n",
    "    4. If the character at the right pointer is the same as the current character, increment the count.\n",
    "    5. If they are different, write the current character and its count if greater than 1 at the left pointer, then update the current character and reset its count.\n",
    "    6. Increment the left pointer accordingly and move the right pointer to the next character.\n",
    "    7. Return the length of chars up to the left pointer.\n",
    "    '''\n",
    "    \n",
    "    # append sentinel value\n",
    "    chars.append(None)\n",
    "    \n",
    "    left, right = 0, 1\n",
    "    curr_char = chars[0]\n",
    "    count = 1\n",
    "\n",
    "    while right < len(chars):\n",
    "        if curr_char == chars[right]:\n",
    "            count += 1\n",
    "        else:\n",
    "            chars[left] = curr_char\n",
    "            left += 1\n",
    "\n",
    "            # write count if greater than 1\n",
    "            if count > 1:\n",
    "                for num in str(count):\n",
    "                    chars[left] = num\n",
    "                    left += 1\n",
    "\n",
    "            # reset current character and its count\n",
    "            curr_char = chars[right]\n",
    "            count = 1\n",
    "\n",
    "        right += 1\n",
    "\n",
    "    return left\n",
    "\n"
   ]
  },
  {
   "cell_type": "code",
   "execution_count": 40,
   "metadata": {},
   "outputs": [
    {
     "name": "stdout",
     "output_type": "stream",
     "text": [
      "['A', 'A', 'A', 'A', 'B', 'B', 'B', 'C', 'C', 'X']\n"
     ]
    }
   ],
   "source": [
    "chars = list(input_string[:10])\n",
    "print(chars)"
   ]
  },
  {
   "cell_type": "code",
   "execution_count": 41,
   "metadata": {},
   "outputs": [
    {
     "data": {
      "text/plain": [
       "(7, ['A', '4', 'B', '3', 'C', '2', 'X'])"
      ]
     },
     "execution_count": 41,
     "metadata": {},
     "output_type": "execute_result"
    }
   ],
   "source": [
    "n = compress(chars)\n",
    "n, chars[:n]"
   ]
  },
  {
   "cell_type": "markdown",
   "metadata": {},
   "source": [
    "**Тест производительности - Задача 4**:"
   ]
  },
  {
   "cell_type": "code",
   "execution_count": 42,
   "metadata": {},
   "outputs": [],
   "source": [
    "chars = list(test_str)"
   ]
  },
  {
   "cell_type": "code",
   "execution_count": 43,
   "metadata": {},
   "outputs": [
    {
     "name": "stdout",
     "output_type": "stream",
     "text": [
      "1.89 ms ± 461 µs per loop (mean ± std. dev. of 7 runs, 100 loops each)\n"
     ]
    }
   ],
   "source": [
    "%timeit -n 100  compress(chars)"
   ]
  },
  {
   "cell_type": "code",
   "execution_count": 44,
   "metadata": {},
   "outputs": [
    {
     "name": "stdout",
     "output_type": "stream",
     "text": [
      "['A', '3', '1', '2', 'G', '2', '9', '0', 'Y', '4', '1', '5', 'X', '2', '2', '7', 'I', '5', '9', '4', 'U', '1', '2', '4', 'X', '3', '9', 'A', '2', '8', '4', 'G', '2', '9', '0', 'Y', '4', '1', '5', 'X', '2', '2', '7', 'I', '5', '9', '4', 'U', '1', '2', '4', 'X', '3', '9', 'A', '2', '5', '7', 'G', '2', '9', '0', 'Y', '4', '1', '5', 'X', '2', '2', '7', 'I', '5', '9', '4', 'U', '1', '2', '4', 'X', '3', '9', 'A', '2', '3', '0', 'G', '2', '9', '0', 'Y', '4', '1', '5', 'X', '2', '2', '7', 'I', '5', '9', '4', 'U', '1', '2', '4', 'X', '3', '9', 'A', '2', '0', '3', 'G', '2', '9', '0', 'Y', '4', '1', '5', 'X', '2', '2', '7', 'I', '5', '9', '4', 'U', '1', '2', '4', 'X', '3', '9', 'A', '1', '7', '6', 'G', '2', '9', '0', 'Y', '4', '1', '5', 'X', '2', '2', '7', 'I', '5', '9', '4', 'U', '1', '2', '4', 'X', '3', '9', 'A', '1', '4', '9', 'G', '2', '9', '0', 'Y', '4', '1', '5', 'X', '2', '2', '7', 'I', '5', '9', '4', 'U', '1', '2', '4', 'X', '3', '9', 'A', '1', '2', '2', 'G', '2', '9', '0', 'Y', '4', '1', '5', 'X', '2', '2', '7', 'I', '5', '9', '4', 'U', '1', '2', '4', 'X', '3', '9', 'A', '9', '5', 'G', '2', '9', '0', 'Y', '4', '1', '5', 'X', '2', '2', '7', 'I', '5', '9', '4', 'U', '1', '2', '4', 'X', '3', '9', 'A', '6', '9', 'G', '2', '9', '0', 'Y', '4', '1', '5', 'X', '2', '2', '7', 'I', '5', '9', '4', 'U', '1', '2', '4', 'X', '3', '9', 'A', '4', '3', 'G', '2', '9', '0', 'Y', '4', '1', '5', 'X', '2', '2', '7', 'I', '5', '9', '4', 'U', '1', '2', '4', 'X', '3', '9', 'A', '1', '7', 'G', '2', '9', '0', 'Y', '4', '1', '5', 'X', '2', '2', '7', 'I', '5', '9', '4', 'U', '1', '2', '4', 'X', '3', '9', 'G', '2', '8', '1', 'Y', '4', '1', '5', 'X', '2', '2', '7', 'I', '5', '9', '4', 'U', '1', '2', '4', 'X', '3', '9', 'G', '2', '5', '8', 'Y', '4', '1', '5', 'X', '2', '2', '7', 'I', '5', '9', '4', 'U', '1', '2', '4', 'X', '3', '9', 'G', '2', '3', '5', 'Y', '4', '1', '5', 'X', '2', '2', '7', 'I', '5', '9', '4', 'U', '1', '2', '4', 'X', '3', '9', 'G', '2', '1', '2', 'Y', '4', '1', '5', 'X', '2', '2', '7', 'I', '5', '9', '4', 'U', '1', '2', '4', 'X', '3', '9', 'G', '1', '8', '9', 'Y', '4', '1', '5', 'X', '2', '2', '7', 'I', '5', '9', '4', 'U', '1', '2', '4', 'X', '3', '9', 'G', '1', '6', '2', 'Y', '4', '1', '5', 'X', '2', '2', '7', 'I', '5', '9', '4', 'U', '1', '2', '4', 'X', '3', '9', 'G', '1', '4', '3', 'Y', '4', '1', '5', 'X', '2', '2', '7', 'I', '5', '9', '4', 'U', '1', '2', '4', 'X', '3', '9', 'G', '1', '2', '0', 'Y', '4', '1', '5', 'X', '2', '2', '7', 'I', '5', '9', '4', 'U', '1', '2', '4', 'X', '3', '9', 'G', '9', '7', 'Y', '4', '1', '5', 'X', '2', '2', '7', 'I', '5', '9', '4', 'U', '1', '2', '4', 'X', '3', '9', 'G', '7', '5', 'Y', '4', '1', '5', 'X', '2', '2', '7', 'I', '5', '9', '4', 'U', '1', '2', '4', 'X', '3', '9', 'G', '5', '3', 'Y', '4', '1', '5', 'X', '2', '2', '7', 'I', '5', '9', '4', 'U', '1', '2', '4', 'X', '3', '9', 'G', '3', '1', 'Y', '4', '1', '5', 'X', '2', '2', '7', 'I', '5', '9', '4', 'U', '1', '2', '4', 'X', '3', '9', 'G', '9', 'Y', '4', '1', '5', 'X', '2', '2', '7', 'I', '5', '9', '4', 'U', '1', '2', '4', 'X', '3', '9', 'Y', '4', '0', '3', 'X', '2', '2', '7', 'I', '5', '9', '4', 'U', '1', '2', '4', 'X', '3', '9', 'Y', '3', '8', '4', 'X', '2', '2', '7', 'I', '5', '9', '4', 'U', '1', '2', '4', 'X', '3', '9', 'Y', '3', '6', '5', 'X', '2', '2', '7', 'I', '5', '9', '4', 'U', '1', '2', '4', 'X', '3', '9', 'Y', '3', '4', '6', 'X', '2', '2', '7', 'I', '5', '9', '4', 'U', '1', '2', '4', 'X', '3', '9', 'Y', '3', '2', '7', 'X', '2', '2', '7', 'I', '5', '9', '4', 'U', '1', '2', '4', 'X', '3', '9', 'Y', '3', '0', '8', 'X', '2', '2', '7', 'I', '5', '9', '4', 'U', '1', '2', '4', 'X', '3', '9', 'Y', '2', '8', '9', 'X', '2', '2', '7', 'I', '5', '9', '4', 'U', '1', '2', '4', 'X', '3', '9', 'Y', '2', '7', '0', 'X', '2', '2', '7', 'I', '5', '9', '4', 'U', '1', '2', '4', 'X', '3', '9', 'Y', '2', '5', '1', 'X', '2', '2', '7', 'I', '5', '9', '4', 'U', '1', '2', '4', 'X', '3', '9', 'Y', '2', '3', '2', 'X', '2', '2', '7', 'I', '5', '9', '4', 'U', '1', '2', '4', 'X', '3', '9', 'Y', '2', '1', '3', 'X', '2', '2', '7', 'I', '5', '9', '4', 'U', '1', '2', '4', 'X', '3', '9', 'Y', '1', '9', '4', 'X', '2', '2', '7', 'I', '5', '9', '4', 'U', '1', '2', '4', 'X', '3', '9', 'Y', '1', '7', '5', 'X', '2', '2', '7', 'I', '5', '9', '4', 'U', '1', '2', '4', 'X', '3', '9', 'Y', '1', '5', '6', 'X', '2', '2', '7', 'I', '5', '9', '4', 'U', '1', '2', '4', 'X', '3', '9', 'Y', '1', '3', '7', 'X', '2', '2', '7', 'I', '5', '9', '4', 'U', '1', '2', '4', 'X', '3', '9', 'Y', '1', '2', '8', 'X', '2', '2', '7', 'I', '5', '9', '4', 'U', '1', '2', '4', 'X', '3', '9', 'Y', '9', '2', 'X', '2', '2', '7', 'I', '5', '9', '4', 'U', '1', '2', '4', 'X', '3', '9', 'Y', '8', '1', 'X', '2', '2', '7', 'I', '5', '9', '4', 'U', '1', '2', '4', 'X', '3', '9', 'Y', '6', '3', 'X', '2', '2', '7', 'I', '5', '9', '4', 'U', '1', '2', '4', 'X', '3', '9', 'Y', '4', '5', 'X', '2', '2', '7', 'I', '5', '9', '4', 'U', '1', '2', '4', 'X', '3', '9', 'Y', '2', '7', 'X', '2', '2', '7', 'I', '5', '9', '4', 'U', '1', '2', '4', 'X', '3', '9', 'Y', '9', 'X', '2', '2', '7', 'I', '5', '9', '4', 'U', '1', '2', '4', 'X', '3', '9', 'X', '2', '1', '9', 'I', '5', '9', '4', 'U', '1', '2', '4', 'X', '3', '9', 'X', '2', '0', '4', 'I', '5', '9', '4', 'U', '1', '2', '4', 'X', '3', '9', 'X', '1', '8', '9', 'I', '5', '9', '4', 'U', '1', '2', '4', 'X', '3', '9', 'X', '1', '7', '4', 'I', '5', '9', '4', 'U', '1', '2', '4', 'X', '3', '9', 'X', '1', '5', '9', 'I', '5', '9', '4', 'U', '1', '2', '4', 'X', '3', '9', 'X', '1', '4', '2', 'I', '5', '9', '4', 'U', '1', '2', '4', 'X', '3', '9', 'X', '1', '2', '9', 'I', '5', '9', '4', 'U', '1', '2', '4', 'X', '3', '9', 'X', '1', '2', '4', 'I', '5', '9', '4', 'U', '1', '2', '4', 'X', '3', '9', 'X', '9', '2', 'I', '5', '9', '4', 'U', '1', '2', '4', 'X', '3', '9', 'X', '8', '5', 'I', '5', '9', '4', 'U', '1', '2', '4', 'X', '3', '9', 'X', '7', '1', 'I', '5', '9', '4', 'U', '1', '2', '4', 'X', '3', '9', 'X', '5', '7', 'I', '5', '9', '4', 'U', '1', '2', '4', 'X', '3', '9', 'X', '4', '3', 'I', '5', '9', '4', 'U', '1', '2', '4', 'X', '3', '9', 'X', '2', '9', 'I', '5', '9', '4', 'U', '1', '2', '4', 'X', '3', '9', 'X', '1', '5', 'I', '5', '9', '4', 'U', '1', '2', '4', 'X', '3', '9', 'X', 'I', '5', '9', '4', 'U', '1', '2', '4', 'X', '3', '9', 'I', '5', '8', '3', 'U', '1', '2', '4', 'X', '3', '9', 'I', '5', '7', '2', 'U', '1', '2', '4', 'X', '3', '9', 'I', '5', '6', '1', 'U', '1', '2', '4', 'X', '3', '9', 'I', '5', '2', '0', 'U', '1', '2', '4', 'X', '3', '9', 'I', '5', '3', '9', 'U', '1', '2', '4', 'X', '3', '9', 'I', '5', '2', '8', 'U', '1', '2', '4', 'X', '3', '9', 'I', '5', '1', '7', 'U', '1', '2', '4', 'X', '3', '9', 'I', '5', '0', '6', 'U', '1', '2', '4', 'X', '3', '9', 'I', '4', '9', '5', 'U', '1', '2', '4', 'X', '3', '9', 'I', '4', '8', '4', 'U', '1', '2', '4', 'X', '3', '9', 'I', '4', '7', '3', 'U', '1', '2', '4', 'X', '3', '9', 'I', '4', '6', '2', 'U', '1', '2', '4', 'X', '3', '9', 'I', '4', '5', '1', 'U', '1', '2', '4', 'X', '3', '9', 'I', '4', '2', '0', 'U', '1', '2', '4', 'X', '3', '9', 'I', '4', '2', '9', 'U', '1', '2', '4', 'X', '3', '9', 'I', '4', '1', '8', 'U', '1', '2', '4', 'X', '3', '9', 'I', '4', '0', '7', 'U', '1', '2', '4', 'X', '3', '9', 'I', '3', '9', '6', 'U', '1', '2', '4', 'X', '3', '9', 'I', '3', '8', '5', 'U', '1', '2', '4', 'X', '3', '9', 'I', '3', '7', '4', 'U', '1', '2', '4', 'X', '3', '9', 'I', '3', '6', '3', 'U', '1', '2', '4', 'X', '3', '9', 'I', '3', '5', '2', 'U', '1', '2', '4', 'X', '3', '9', 'I', '3', '4', '1', 'U', '1', '2', '4', 'X', '3', '9', 'I', '3', '2', '0', 'U', '1', '2', '4', 'X', '3', '9', 'I', '3', '1', '9', 'U', '1', '2', '4', 'X', '3', '9', 'I', '3', '0', '8', 'U', '1', '2', '4', 'X', '3', '9', 'I', '2', '9', '7', 'U', '1', '2', '4', 'X', '3', '9', 'I', '2', '8', '6', 'U', '1', '2', '4', 'X', '3', '9', 'I', '2', '7', '5', 'U', '1', '2', '4', 'X', '3', '9', 'I', '2', '6', '4', 'U', '1', '2', '4', 'X', '3', '9', 'I', '2', '5', '3', 'U', '1', '2', '4', 'X', '3', '9', 'I', '2', '4', '2', 'U', '1', '2', '4', 'X', '3', '9', 'I', '2', '3', '1', 'U', '1', '2', '4', 'X', '3', '9', 'I', '2', '2', '0', 'U', '1', '2', '4', 'X', '3', '9', 'I', '2', '0', '9', 'U', '1', '2', '4', 'X', '3', '9', 'I', '1', '9', '8', 'U', '1', '2', '4', 'X', '3', '9', 'I', '1', '8', '7', 'U', '1', '2', '4', 'X', '3', '9', 'I', '1', '7', '6', 'U', '1', '2', '4', 'X', '3', '9', 'I', '1', '6', '5', 'U', '1', '2', '4', 'X', '3', '9', 'I', '1', '5', '4', 'U', '1', '2', '4', 'X', '3', '9', 'I', '1', '4', '3', 'U', '1', '2', '4', 'X', '3', '9', 'I', '1', '3', '2', 'U', '1', '2', '4', 'X', '3', '9', 'I', '1', '2', '1', 'U', '1', '2', '4', 'X', '3', '9', 'I', '1', '2', '0', 'U', '1', '2', '4', 'X', '3', '9', 'I', '9', '2', 'U', '1', '2', '4', 'X', '3', '9', 'I', '8', '9', 'U', '1', '2', '4', 'X', '3', '9', 'I', '7', '9', 'U', '1', '2', '4', 'X', '3', '9', 'I', '6', '9', 'U', '1', '2', '4', 'X', '3', '9', 'I', '5', '9', 'U', '1', '2', '4', 'X', '3', '9', 'I', '4', '9', 'U', '1', '2', '4', 'X', '3', '9', 'I', '3', '9', 'U', '1', '2', '4', 'X', '3', '9', 'I', '2', '9', 'U', '1', '2', '4', 'X', '3', '9', 'I', '1', '9', 'U', '1', '2', '4', 'X', '3', '9', 'I', '9', 'U', '1', '2', '4', 'X', '3', '9', 'U', '1', '2', '4', 'X', '3', '9', 'U', '1', '2', '7', 'X', '3', '9', 'U', '1', '2', '0', 'X', '3', '9', 'U', '1', '0', '3', 'X', '3', '9', 'U', '9', '6', 'X', '3', '9', 'U', '9', '0', 'X', '3', '9', 'U', '8', '4', 'X', '3', '9', 'U', '7', '8', 'X', '3', '9', 'U', '7', '2', 'X', '3', '9', 'U', '6', '2', 'X', '3', '9', 'U', '6', '0', 'X', '3', '9', 'U', '5', '4', 'X', '3', '9', 'U', '4', '8', 'X', '3', '9', 'U', '4', '2', 'X', '3', '9', 'U', '3', '6', 'X', '3', '9', 'U', '3', '0', 'X', '3', '9', 'U', '2', '4', 'X', '3', '9', 'U', '1', '8', 'X', '3', '9', 'U', '1', '2', 'X', '3', '9', 'U', '6', 'X', '3', '9', 'U', 'X', '3', '9', 'X', '3', '6', 'X', '3', '2', 'X', '3', '0', 'X', '2', '7', 'X', '2', '4', 'X', '2', '1', 'X', '1', '8', 'X', '1', '5', 'X', '1', '2', 'X', '9', 'X', '7', 'X', '5', 'X', '3', 'X', None, None, None, None, None, None, None, None, None, None, None, None, None, None, None, None, None, None, None, None, None, None, None, None, None, None, None, None, None, None, None, None, None, None, None, None, None, None, None, None, None, None, None, None, None, None, None, None, None, None, None, None, None, None, None, None, None, None, None, None, None, None, None, None, None, None, None, None, None, None, None, None, None, None, None, None, None, None, None, None, None, None, None, None, None, None, None, None, None, None, None, None, None, None, None, None, None, None, None, None, None, None, None, None, None, None, None, None, None, None, None, None, None, None, None, None, None, None, None, None, None, None, None, None, None, None, None, None, None, None, None, None, None, None, None, None, None, None, None, None, None, None, None, None, None, None, None, None, None, None, None, None, None, None, None, None, None, None, None, None, None, None, None, None, None, None, None, None, None, None, None, None, None, None, None, None, None, None, None, None, None, None, None, None, None, None, None, None, None, None, None, None, None, None, None, None, None, None, None, None, None, None, None, None, None, None, None, None, None, None, None, None, None, None, None, None, None, None, None, None, None, None, None, None, None, None, None, None, None, None, None, None, None, None, None, None, None, None, None, None, None, None, None, None, None, None, None, None, None, None, None, None, None, None, None, None, None, None, None, None, None, None, None, None, None, None, None, None, None, None, None, None, None, None, None, None, None, None, None, None, None, None, None, None, None, None, None, None, None, None, None, None, None, None, None, None, None, None, None, None, None, None, None, None, None, None, None, None, None, None, None, None, None, None, None, None, None, None, None, None, None, None, None, None, None, None, None, None, None, None, None, None, None, None, None, None, None, None, None, None, None, None, None, None, None, None, None, None, None, None, None, None, None, None, None, None, None, None, None, None, None, None, None, None, None, None, None, None, None, None, None, None, None, None, None, None, None, None, None, None, None, None, None, None, None, None, None, None, None, None, None, None, None, None, None, None, None, None, None, None, None, None, None, None, None, None, None, None, None, None, None, None, None, None, None, None, None, None, None, None, None, None, None, None, None, None, None, None, None, None, None, None, None, None, None, None, None, None, None, None, None, None, None, None, None, None, None, None, None, None, None, None, None, None, None, None, None, None, None, None, None, None, None, None, None, None, None, None, None, None, None, None, None, None, None, None, None, None, None, None, None, None, None, None, None, None, None, None, None, None, None, None, None, None, None, None, None, None, None, None, None, None, None, None, None, None, None, None, None, None, None, None, None, None, None, None, None, None, None, None, None, None, None, None, None, None, None, None, None, None, None, None, None, None, None, None, None, None, None, None, None, None, None, None, None, None, None, None, None, None, None, None, None, None, None, None, None, None, None, None, None, None, None, None, None, None, None, None, None, None, None, None, None, None, None, None, None, None, None, None, None, None, None, None, None, None, None, None, None, None, None, None, None, None, None, None, None, None, None, None, None, None, None, None, None, None, None, None, None, None, None, None, None, None, None, None, None, None, None, None, None, None, None, None, None, None, None, None, None, None, None, None, None, None, None, None, None, None, None, None, None, None, None, None, None, None, None, None, None, None, None, None, None, None, None, None, None, None, None, None, None, None, None, None, None, None, None, None, None, None, None, None, None, None, None, None, None, None, None, None, None, None, None, None, None, None, None, None, None, None, None, None, None, None, None, None, None, None, None, None]\n"
     ]
    }
   ],
   "source": [
    "print(chars)"
   ]
  },
  {
   "cell_type": "markdown",
   "metadata": {},
   "source": [
    "Runtime == 59ms (Beats 88.76%of users with Python3)  \n",
    "Memory (Beats 65.40%of users with Python3)"
   ]
  },
  {
   "cell_type": "markdown",
   "metadata": {},
   "source": [
    "### Задача 5 -  Свертка списка чисел в их диапазоны \n",
    "\n",
    "Дан список целых чисел, в котором нет повторяющихся элементов. Необходимо преобразовать этот список в строку, сворачивая последовательные числа в диапазоны.  \n",
    "\n",
    "Входные данные:  \n",
    "- Список целых чисел nums длиной \\(n\\) (1 ≤ \\(n\\) ≤ 10^5), где каждое число \\(a_i\\) удовлетворяет условию (-10^9 ≤ \\(a_i\\) ≤ 10^9). В списке нет повторяющихся элементов.  \n",
    "Выходные данные:  \n",
    "- Строка, представляющая собой диапазоны чисел. Если числа идут последовательно, они представляются в виде диапазона (например, '1-4'). Если числа не соседние, они разделяются запятой (например, '1,4').  \n",
    "\n",
    "**Примеры:**  \n",
    "1. Вход: [1,4,5,2,3,9,8,11,0]  \n",
    "   Выход: '0-5,8-9,11'  \n",
    "\n",
    "2. Вход: [1,4,3,2]  \n",
    "   Выход: '1-4'  \n",
    "\n",
    "3. Вход: [1,4]  \n",
    "   Выход: '1,4'  \n",
    "\n",
    "***задача с собеседования Яндекс, почти соответвует задаче с литкод [228 Summary Ranges (Easy)](https://leetcode.com/problems/summary-ranges/) основное отличие в том, что на выходе подается уже отсортированный список и на выходе возвращаем список из строк. В следующей задаче 6 я разберу оригинал задачи с литкода***"
   ]
  },
  {
   "cell_type": "markdown",
   "metadata": {},
   "source": [
    "При решении этой задачи разрешено использовать встроенную сортировку и join и map, поэтому тут не рассматриваются разные решения со встроенными функциями и без них. Если у вас есть более оптимальное решение можете законтрибьютить с тестом"
   ]
  },
  {
   "cell_type": "markdown",
   "metadata": {},
   "source": [
    "**Решение задачи 5 вариант 1**:\n",
    "1. Сначала отсортируем список.\n",
    "2. Затем пройдемся по списку и будем искать последовательные числа.\n",
    "3. Если мы находим последовательные числа, мы начинаем формировать диапазон.\n",
    "4. Если числа не последовательные, мы завершаем текущий диапазон и начинаем новый."
   ]
  },
  {
   "cell_type": "code",
   "execution_count": 45,
   "metadata": {},
   "outputs": [],
   "source": [
    "def convert_to_ranges(nums):\n",
    "    if not nums:\n",
    "        return ''\n",
    "\n",
    "    # sort list\n",
    "    nums.sort()\n",
    "\n",
    "    # function to group consecutive numbers\n",
    "    def group_consecutive(nums):\n",
    "        ranges = []\n",
    "        for e in nums:\n",
    "            if not ranges or e > ranges[-1][-1] + 1:\n",
    "                ranges.append([e])\n",
    "            else:\n",
    "                ranges[-1].append(e)\n",
    "        return ranges\n",
    "\n",
    "    # convert groups of numbers to string\n",
    "    def range_to_str(r):\n",
    "        if len(r) == 1:\n",
    "            return str(r[0])\n",
    "        else:\n",
    "            return f'{r[0]}-{r[-1]}'\n",
    "\n",
    "    ranges = group_consecutive(nums)\n",
    "    return ','.join(map(range_to_str, ranges))"
   ]
  },
  {
   "cell_type": "code",
   "execution_count": 46,
   "metadata": {},
   "outputs": [
    {
     "data": {
      "text/plain": [
       "'0-5,8-9,11'"
      ]
     },
     "execution_count": 46,
     "metadata": {},
     "output_type": "execute_result"
    }
   ],
   "source": [
    "convert_to_ranges([1,4,5,2,3,9,8,11,0])"
   ]
  },
  {
   "cell_type": "markdown",
   "metadata": {},
   "source": [
    "**Решение задачи 5 вариант 2**:  \n",
    "такой же принцип только используем два указателя чтобы сразу записывать рпавильную форму в строку и не использоать join после цикла"
   ]
  },
  {
   "cell_type": "code",
   "execution_count": 47,
   "metadata": {},
   "outputs": [],
   "source": [
    "def convert_to_ranges2(nums):\n",
    "    if not nums:\n",
    "        return ''\n",
    "\n",
    "    # sort the list\n",
    "    nums.sort()\n",
    "\n",
    "    # initialize the start and end values of the range\n",
    "    start, end = nums[0], nums[0]\n",
    "    result = ''\n",
    "\n",
    "    for num in nums[1:]:\n",
    "        # if the current number is consecutive to the previous one\n",
    "        if num == end + 1:\n",
    "            end = num\n",
    "        else:\n",
    "            # if it was a range of more than one number\n",
    "            if start != end:\n",
    "                result += f'{start}-{end},'\n",
    "            else:\n",
    "                result += str(start) + ','\n",
    "            start, end = num, num\n",
    "\n",
    "    # add the last range or number\n",
    "    if start != end:\n",
    "        result += f'{start}-{end},'\n",
    "    else:\n",
    "        result += str(start) + ','\n",
    "\n",
    "    return result[:-1]"
   ]
  },
  {
   "cell_type": "code",
   "execution_count": 48,
   "metadata": {},
   "outputs": [
    {
     "data": {
      "text/plain": [
       "'0-5,8-9,11'"
      ]
     },
     "execution_count": 48,
     "metadata": {},
     "output_type": "execute_result"
    }
   ],
   "source": [
    "convert_to_ranges2([1,4,5,2,3,9,8,11,0])"
   ]
  },
  {
   "cell_type": "code",
   "execution_count": 49,
   "metadata": {},
   "outputs": [
    {
     "data": {
      "text/plain": [
       "True"
      ]
     },
     "execution_count": 49,
     "metadata": {},
     "output_type": "execute_result"
    }
   ],
   "source": [
    "convert_to_ranges([1,4,5,2,3,9,8,11,0]) == convert_to_ranges2([1,4,5,2,3,9,8,11,0])"
   ]
  },
  {
   "cell_type": "markdown",
   "metadata": {},
   "source": [
    "**Тест производительности - Задача 5**:  \n",
    "Мы будем использовать отсортированный список чтобы производительность была O(n) и разницу текущей производительности вариантов можно было отследить лучше"
   ]
  },
  {
   "cell_type": "code",
   "execution_count": 50,
   "metadata": {},
   "outputs": [],
   "source": [
    "def generate_unique_sorted_list(n, max_len_range):\n",
    "    '''\n",
    "    Generates a list of length n of unique sorted numbers.\n",
    "    '''\n",
    "    result = []\n",
    "    current_num = 1\n",
    "\n",
    "    while len(result) < n:\n",
    "        # generate segment length (not exceeding the remaining space to n)\n",
    "        segment_length = random.randint(1, max_len_range)\n",
    "\n",
    "        # add the segment to the result\n",
    "        for _ in range(segment_length):\n",
    "            result.append(current_num)\n",
    "            current_num += 1\n",
    "\n",
    "        # generate gap length (can be 0)\n",
    "        gap_length = random.randint(0, max_len_range)\n",
    "\n",
    "        # increase the current number by the gap length\n",
    "        current_num += gap_length\n",
    "\n",
    "    return result[:n]\n"
   ]
  },
  {
   "cell_type": "code",
   "execution_count": 51,
   "metadata": {},
   "outputs": [
    {
     "name": "stdout",
     "output_type": "stream",
     "text": [
      "[1, 2, 3, 4, 5, 6, 7, 8, 9, 10, 11, 12, 13, 14, 15, 16, 17, 18, 19, 20, 21, 22, 23, 24, 25, 48, 49, 50, 51, 52, 53, 54, 55, 56, 57, 58, 59, 60, 61, 62]\n"
     ]
    }
   ],
   "source": [
    "test_nums = generate_unique_sorted_list(1000,40)\n",
    "print(test_nums[:40])"
   ]
  },
  {
   "cell_type": "code",
   "execution_count": 52,
   "metadata": {},
   "outputs": [
    {
     "name": "stdout",
     "output_type": "stream",
     "text": [
      "460 µs ± 98.1 µs per loop (mean ± std. dev. of 7 runs, 1000 loops each)\n"
     ]
    }
   ],
   "source": [
    "%timeit -n 1000  convert_to_ranges(test_nums)"
   ]
  },
  {
   "cell_type": "code",
   "execution_count": 53,
   "metadata": {},
   "outputs": [
    {
     "name": "stdout",
     "output_type": "stream",
     "text": [
      "142 µs ± 45.6 µs per loop (mean ± std. dev. of 7 runs, 1000 loops each)\n"
     ]
    }
   ],
   "source": [
    "%timeit -n 1000  convert_to_ranges2(test_nums)"
   ]
  },
  {
   "cell_type": "markdown",
   "metadata": {},
   "source": [
    "Вывод по тесту производительности - Задача 5:  \n",
    "Второй вариант в котором мы сразу пишем правильные значения в строку и не используем второй цикл через join работает быстрее "
   ]
  },
  {
   "cell_type": "code",
   "execution_count": null,
   "metadata": {},
   "outputs": [],
   "source": []
  },
  {
   "cell_type": "markdown",
   "metadata": {},
   "source": [
    "### Задача 6 - Свертка диапазонов - 228 Summary Ranges (Easy)\n",
    "\n",
    "Дан отсортированный уникальный массив целых чисел nums.  \n",
    "Диапазон [a,b] представляет собой набор всех целых чисел от a до b (включительно).  \n",
    "Верните наименьший отсортированный список диапазонов, который полностью покрывает все числа в массиве. То есть каждый элемент `nums` покрывается ровно одним из диапазонов, и не существует такого целого числа x, что x находится в одном из диапазонов, но не в `nums`.\n",
    "\n",
    "Каждый диапазон [a,b] в списке должен быть представлен как:  \n",
    "- \"a->b\", если a != b  \n",
    "- \"a\", если a == b  \n",
    "\n",
    "**Примеры:**  \n",
    "1. Вход: nums = [0,1,2,4,5,7]  \n",
    "   Выход: [\"0->2\",\"4->5\",\"7\"]  \n",
    "   Объяснение: Диапазоны:  \n",
    "   [0,2] --> \"0->2\"  \n",
    "   [4,5] --> \"4->5\"  \n",
    "   [7,7] --> \"7\"  \n",
    "\n",
    "2. Вход: nums = [0,2,3,4,6,8,9]  \n",
    "   Выход: [\"0\",\"2->4\",\"6\",\"8->9\"]  \n",
    "   Объяснение: Диапазоны:  \n",
    "   [0,0] --> \"0\"  \n",
    "   [2,4] --> \"2->4\"  \n",
    "   [6,6] --> \"6\"  \n",
    "   [8,9] --> \"8->9\"  \n",
    "\n",
    "**Ограничения:**\n",
    "\n",
    "- 0 <= длина(nums) <= 20\n",
    "- -2^31 <= nums[i] <= 2^31 - 1\n",
    "- все значения в nums уникальны.\n",
    "- nums отсортирован по возрастанию.\n",
    "\n",
    "***задача с литкод [228 Summary Ranges (Easy)](https://leetcode.com/problems/summary-ranges/) привожу ее тут потому что условие на литкод отличается от того, что дают на собеседованиях***\n"
   ]
  },
  {
   "cell_type": "markdown",
   "metadata": {},
   "source": [
    "**Решение задачи 6**:  \n",
    "такой же принцип решения как у задачи 5 только используем два указателя чтобы сразу записывать правильную форму в список и не использоать второй цикл, потому что этот вариант оказался быстрее по результатам задачи 5"
   ]
  },
  {
   "cell_type": "code",
   "execution_count": 54,
   "metadata": {},
   "outputs": [],
   "source": [
    "def summaryRanges(nums: List[int]) -> List[str]:\n",
    "    if not nums:\n",
    "        return []\n",
    "\n",
    "    res = []\n",
    "    start = nums[0]\n",
    "    end = nums[0]\n",
    "\n",
    "    for i in range(1, len(nums)):\n",
    "        if nums[i] == end + 1:\n",
    "            end = nums[i]\n",
    "        else:\n",
    "            if start == end:\n",
    "                res.append(str(start))\n",
    "            else:\n",
    "                res.append(f'{start}->{end}')\n",
    "            start = end = nums[i]\n",
    "\n",
    "    if start == end:\n",
    "        res.append(str(start))\n",
    "    else:\n",
    "        res.append(f'{start}->{end}')\n",
    "\n",
    "    return res"
   ]
  },
  {
   "cell_type": "code",
   "execution_count": 55,
   "metadata": {},
   "outputs": [
    {
     "data": {
      "text/plain": [
       "['0', '2->4', '6', '8->9']"
      ]
     },
     "execution_count": 55,
     "metadata": {},
     "output_type": "execute_result"
    }
   ],
   "source": [
    "summaryRanges([0,2,3,4,6,8,9])"
   ]
  },
  {
   "cell_type": "markdown",
   "metadata": {},
   "source": [
    "Runtime == 33ms (Beats 85.34%of users with Python3)  \n",
    "Memory (Beats 17.87%of users with Python3)"
   ]
  },
  {
   "cell_type": "markdown",
   "metadata": {},
   "source": [
    "### Задача 7 -  Максимальная последовательность единиц при одной замене \n",
    "\n",
    "Дан бинарный массив. Вам нужно найти максимальную длину последовательных единиц, которую вы можете получить, заменив ровно один 0 на 1.\n",
    "\n",
    "**Примеры:**\n",
    "1. Вход: [1,0,1,1,0]  \n",
    "   Вывод: 4  \n",
    "   Объяснение: Замените первый 0 на 1, массив станет [1,1,1,1,0].  \n",
    "\n",
    "2. Вход: [1,0,1,1,0,1]  \n",
    "   Вывод: 5  \n",
    "   Объяснение: Замените второй 0 на 1, массив станет [1,0,1,1,1,1].  \n",
    "\n",
    "***задача с собеседования Яндекс, соответвует задаче с литкод [487 Max Consecutive Ones II (Medium)](https://leetcode.com/problems/max-consecutive-ones-ii/)***"
   ]
  },
  {
   "cell_type": "markdown",
   "metadata": {},
   "source": [
    "**Решение задачи 7 вариант 1**:\n",
    "1. Инициализация:\n",
    "  - Установите два указателя left и right в начало массива.\n",
    "  - Создайте переменную max_ones для отслеживания максимального количества последовательных единиц.\n",
    "  - Создайте переменную zero_count для отслеживания количества нулей в текущем окне.\n",
    "2. Скользящее окно:\n",
    "  - Расширяйте правый указатель right на один шаг вправо на каждой итерации.\n",
    "  - Если текущий элемент под указателем right равен 0, увеличьте zero_count.\n",
    "  - Пока zero_count больше 1, сдвигайте левый указатель left вправо и уменьшайте zero_count, если элемент под указателем left равен 0.\n",
    "  - Обновите max_ones, установив его равным максимальному значению между max_ones и разницей между right и left плюс 1 (размер текущего окна).\n",
    "3. Результат:\n",
    "  - После завершения обхода массива max_ones будет содержать максимальное количество последовательных единиц, которое можно получить, заменив ровно один 0 на 1.\n",
    "4. Обработка пограничных значений:\n",
    "  - если длина меньше 2 возвращай длину\n",
    "  - если сумма больше длинны списка минус 2 возвращай длинну"
   ]
  },
  {
   "cell_type": "code",
   "execution_count": 180,
   "metadata": {},
   "outputs": [],
   "source": [
    "def find_max_consecutive_ones(nums):\n",
    "    if len(nums) < 2 or np.sum(nums) > len(nums) - 2:\n",
    "        return len(nums)\n",
    "\n",
    "    left = 0\n",
    "    zero_count = 1 - nums[0]\n",
    "    max_ones = 1\n",
    "\n",
    "    for right in range(1, len(nums)):\n",
    "        if nums[right] == 0:\n",
    "            zero_count += 1\n",
    "\n",
    "        while zero_count > 1:\n",
    "            if nums[left] == 0:\n",
    "                zero_count -= 1\n",
    "            left += 1\n",
    "\n",
    "        max_ones = max(max_ones, right - left + 1)\n",
    "\n",
    "    return max_ones"
   ]
  },
  {
   "cell_type": "code",
   "execution_count": 190,
   "metadata": {},
   "outputs": [
    {
     "data": {
      "text/plain": [
       "0"
      ]
     },
     "execution_count": 190,
     "metadata": {},
     "output_type": "execute_result"
    }
   ],
   "source": [
    "nums = []\n",
    "find_max_consecutive_ones(nums)"
   ]
  },
  {
   "cell_type": "code",
   "execution_count": 191,
   "metadata": {},
   "outputs": [
    {
     "data": {
      "text/plain": [
       "1"
      ]
     },
     "execution_count": 191,
     "metadata": {},
     "output_type": "execute_result"
    }
   ],
   "source": [
    "nums = [0]\n",
    "find_max_consecutive_ones(nums)"
   ]
  },
  {
   "cell_type": "code",
   "execution_count": 192,
   "metadata": {},
   "outputs": [
    {
     "data": {
      "text/plain": [
       "5"
      ]
     },
     "execution_count": 192,
     "metadata": {},
     "output_type": "execute_result"
    }
   ],
   "source": [
    "nums = [1, 0, 1, 1, 0, 1, 1]\n",
    "find_max_consecutive_ones(nums)"
   ]
  },
  {
   "cell_type": "code",
   "execution_count": 193,
   "metadata": {},
   "outputs": [
    {
     "data": {
      "text/plain": [
       "6"
      ]
     },
     "execution_count": 193,
     "metadata": {},
     "output_type": "execute_result"
    }
   ],
   "source": [
    "nums = [1, 1, 1, 0, 1, 0, 0, 1, 1, 1, 1, 1, 0, 0]\n",
    "find_max_consecutive_ones(nums)"
   ]
  },
  {
   "cell_type": "code",
   "execution_count": 194,
   "metadata": {},
   "outputs": [
    {
     "data": {
      "text/plain": [
       "[0, 0, 1, 1, 1, 1, 1, 0, 0, 1, 0, 1, 1, 1]"
      ]
     },
     "execution_count": 194,
     "metadata": {},
     "output_type": "execute_result"
    }
   ],
   "source": [
    "nums[::-1]"
   ]
  },
  {
   "cell_type": "code",
   "execution_count": 195,
   "metadata": {},
   "outputs": [
    {
     "data": {
      "text/plain": [
       "6"
      ]
     },
     "execution_count": 195,
     "metadata": {},
     "output_type": "execute_result"
    }
   ],
   "source": [
    "find_max_consecutive_ones(nums[::-1])"
   ]
  },
  {
   "cell_type": "code",
   "execution_count": 196,
   "metadata": {},
   "outputs": [
    {
     "data": {
      "text/plain": [
       "10"
      ]
     },
     "execution_count": 196,
     "metadata": {},
     "output_type": "execute_result"
    }
   ],
   "source": [
    "find_max_consecutive_ones([1] * 10)"
   ]
  },
  {
   "cell_type": "code",
   "execution_count": 197,
   "metadata": {},
   "outputs": [
    {
     "data": {
      "text/plain": [
       "(11, 11)"
      ]
     },
     "execution_count": 197,
     "metadata": {},
     "output_type": "execute_result"
    }
   ],
   "source": [
    "find_max_consecutive_ones([0]+ ([1] * 10)), find_max_consecutive_ones(([1] * 10) + [0])"
   ]
  },
  {
   "cell_type": "code",
   "execution_count": 207,
   "metadata": {},
   "outputs": [],
   "source": [
    "def find_max_consecutive_ones2(nums):\n",
    "    if len(nums) < 2 or np.sum(nums) > len(nums) - 2:\n",
    "        return len(nums)\n",
    "\n",
    "    max_ones = 0\n",
    "    curr_ones = 0\n",
    "    most_recent_zero = -1\n",
    "    ones_before_recent_zero = 0\n",
    "\n",
    "    for i in range(len(nums)):\n",
    "        if nums[i] == 1:\n",
    "            curr_ones += 1\n",
    "        else:\n",
    "            if most_recent_zero != -1:\n",
    "                max_ones = max(max_ones, curr_ones + ones_before_recent_zero + 1)\n",
    "            else:\n",
    "                max_ones = max(max_ones, curr_ones)\n",
    "\n",
    "            ones_before_recent_zero = curr_ones\n",
    "            curr_ones = 0\n",
    "            most_recent_zero = i\n",
    "\n",
    "    max_ones = max(max_ones, curr_ones)\n",
    "\n",
    "    return max_ones"
   ]
  },
  {
   "cell_type": "code",
   "execution_count": 208,
   "metadata": {},
   "outputs": [
    {
     "data": {
      "text/plain": [
       "6"
      ]
     },
     "execution_count": 208,
     "metadata": {},
     "output_type": "execute_result"
    }
   ],
   "source": [
    "find_max_consecutive_ones2(nums)"
   ]
  },
  {
   "cell_type": "code",
   "execution_count": 202,
   "metadata": {},
   "outputs": [],
   "source": [
    "def generate_binary_list(length):\n",
    "    return [random.choice([0, 1]) for _ in range(length)]"
   ]
  },
  {
   "cell_type": "code",
   "execution_count": 209,
   "metadata": {},
   "outputs": [
    {
     "data": {
      "text/plain": [
       "[0, 0, 0, 0, 0, 0, 1, 0, 1, 1, 0, 0, 0, 1, 1, 0, 0, 1, 1, 1]"
      ]
     },
     "execution_count": 209,
     "metadata": {},
     "output_type": "execute_result"
    }
   ],
   "source": [
    "binary_list = generate_binary_list(1000)\n",
    "binary_list[:20]"
   ]
  },
  {
   "cell_type": "code",
   "execution_count": 212,
   "metadata": {},
   "outputs": [
    {
     "data": {
      "text/plain": [
       "10"
      ]
     },
     "execution_count": 212,
     "metadata": {},
     "output_type": "execute_result"
    }
   ],
   "source": [
    "find_max_consecutive_ones(binary_list)"
   ]
  },
  {
   "cell_type": "code",
   "execution_count": 213,
   "metadata": {},
   "outputs": [
    {
     "name": "stdout",
     "output_type": "stream",
     "text": [
      "578 µs ± 48.4 µs per loop (mean ± std. dev. of 7 runs, 1000 loops each)\n"
     ]
    }
   ],
   "source": [
    "%timeit -n 1000  find_max_consecutive_ones(binary_list)"
   ]
  },
  {
   "cell_type": "code",
   "execution_count": 214,
   "metadata": {},
   "outputs": [
    {
     "name": "stdout",
     "output_type": "stream",
     "text": [
      "302 µs ± 13.2 µs per loop (mean ± std. dev. of 7 runs, 1000 loops each)\n"
     ]
    }
   ],
   "source": [
    "%timeit -n 1000  find_max_consecutive_ones2(binary_list)"
   ]
  },
  {
   "cell_type": "code",
   "execution_count": null,
   "metadata": {},
   "outputs": [],
   "source": []
  }
 ],
 "metadata": {
  "kernelspec": {
   "display_name": "Python 3",
   "language": "python",
   "name": "python3"
  },
  "language_info": {
   "codemirror_mode": {
    "name": "ipython",
    "version": 3
   },
   "file_extension": ".py",
   "mimetype": "text/x-python",
   "name": "python",
   "nbconvert_exporter": "python",
   "pygments_lexer": "ipython3",
   "version": "3.8.10"
  }
 },
 "nbformat": 4,
 "nbformat_minor": 2
}
