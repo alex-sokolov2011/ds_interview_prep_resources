{
 "cells": [
  {
   "cell_type": "markdown",
   "metadata": {},
   "source": [
    "# Разбор leetcode задач с собеседований\n",
    "\n",
    "Добро пожаловать! Если вы готовитесь к собеседованиям на роль Data Scientist, этот материал может быть для вас полезным. Этот ноутбук разработан как инструмент для быстрого возвращения в форму по решению задач с LeetCode перед собеседованием. Задача не в том, чтобы изучить тему с нуля, а чтобы освежить в памяти и усовершенствовать уже имеющиеся навыки. Ну а если, у вас все таки нет никакого опыта это будет полезно, чтобы сильно не кринжевать, потому что тут собраны самые популярные задачки. \n",
    "\n",
    "## Что вы найдете в этом ноутбуке:\n",
    "\n",
    "1. **Реальные задачи с собеседований:** Все задачи, представленные здесь, были собраны с реальных собеседований. На мой субъективный взгляд это самые популярные задачки\n",
    "2. **Ссылки на LeetCode:** Для задач, которые похожи на задачи с LeetCode, я предоставляю прямые ссылки. Если задача сильно отличается, я указываю различия и разбираю её отдельно\n",
    "3. **Варианты решений:** Для каждой задачи я предлагаю несколько вариантов решения, включая решения с использованием встроенных функций, где это возможно. Также стараюсь перед решением накидать алгоритм решения задачи, обычно это помогает вспомнить какие методы где используют и вопсроизвести решение в бою\n",
    "4. **Тесты производительности:** Я также провожу тесты производительности для различных вариантов решения, чтобы вы могли оценить их эффективность\n",
    "\n",
    "Цель этого ноутбука - не только помочь вам лучше подготовиться к собеседованиям, но и предоставить удобный инструмент для быстрого возвращения в форму по leetcode, дать понимание типов задач, которые могут быть заданы, и предложить эффективные методы их решения. В общем можно под кофеек протыкать ячейки и вспомнить. Удачи в подготовке!"
   ]
  },
  {
   "cell_type": "code",
   "execution_count": 1,
   "metadata": {},
   "outputs": [],
   "source": [
    "import time\n",
    "import random\n",
    "\n",
    "import numpy as np\n",
    "import itertools\n",
    "from collections import Counter\n",
    "\n",
    "import matplotlib.pyplot as plt\n",
    "\n",
    "from typing import List"
   ]
  },
  {
   "cell_type": "code",
   "execution_count": 2,
   "metadata": {},
   "outputs": [],
   "source": [
    "RANDOM_SEED = 42\n",
    "random.seed(RANDOM_SEED)\n",
    "np.random.seed(RANDOM_SEED)"
   ]
  },
  {
   "cell_type": "markdown",
   "metadata": {},
   "source": [
    "### Задача 1\n",
    "Даны интервалы, отсортируйте их по возрастанию длины. \n",
    "\n",
    "**Пример 1:**  \n",
    "Вход: [(2, 8), (-1, 0.2), (14, 15.3), (-4, -1.5), (1, 7), (1, 7), (0,0)]  \n",
    "Выход: [(-1, 0.2), (14, 15.3), ..., (2, 8)]  \n",
    "\n",
    "**Пример 2:**  \n",
    "Вход: [(2, 8)]  \n",
    "Выход: [(2, 8)]  \n",
    "\n",
    "**Пример 3:**  \n",
    "Вход: []  \n",
    "Выход: []  \n",
    "\n",
    "***задача с собеса Яндекса, соответствующая задача на литкод не найдена. Примеры 2 и 3 не даются при формулировке задания, я их добавил самостоятельно, потому что подразумевается, что вы их добавите сами как граничные условия***"
   ]
  },
  {
   "cell_type": "markdown",
   "metadata": {},
   "source": [
    "**Решение задачи 1 вариант 1**: с помощью встроенной функции sorted"
   ]
  },
  {
   "cell_type": "code",
   "execution_count": 3,
   "metadata": {},
   "outputs": [],
   "source": [
    "def dist(i):\n",
    "    return abs(i[1] - i[0])"
   ]
  },
  {
   "cell_type": "code",
   "execution_count": 4,
   "metadata": {},
   "outputs": [],
   "source": [
    "def my_sort(l):\n",
    "    return sorted(l, key=dist)"
   ]
  },
  {
   "cell_type": "markdown",
   "metadata": {},
   "source": [
    "**Проверка решения задачи 1 вариант 1**: обычно это делается в отдельных ячейках ноута, зачастую такие тесты не проводят пытаются компилировать в уме, часто интервьюэры забивают на незначительные ошибки и фокусируются на важных моментах алгоритма. Тут и далее я использую тест тесты, чтобы сократить место для проверки решений."
   ]
  },
  {
   "cell_type": "code",
   "execution_count": 5,
   "metadata": {},
   "outputs": [],
   "source": [
    "def test_task1(solve):\n",
    "    test_cases = [\n",
    "        ([(2, 9), (-1, 0.2), (14, 15.3), (-4, -1.5), (1, 7), (1, 6), (0,0)], \n",
    "        [(0, 0), (-1, 0.2), (14, 15.3), (-4, -1.5), (1, 6), (1, 7), (2, 9)]),\n",
    "        ([(2, 8)], \n",
    "        [(2, 8)]),\n",
    "        ([], \n",
    "        [])\n",
    "    ]\n",
    "\n",
    "    for i, (input_list, expected) in enumerate(test_cases):\n",
    "        solvation = solve(input_list[:])  # Create a copy of the list to sort\n",
    "        assert solvation == expected, f\"Test case {i+1} failed:\\nexpected: {expected},\\ngot     : {sorted_list}\"\n",
    "        print(f\"Test case {i+1} passed.\")"
   ]
  },
  {
   "cell_type": "code",
   "execution_count": 6,
   "metadata": {},
   "outputs": [
    {
     "name": "stdout",
     "output_type": "stream",
     "text": [
      "Test case 1 passed.\n",
      "Test case 2 passed.\n",
      "Test case 3 passed.\n"
     ]
    }
   ],
   "source": [
    "# Run the tests\n",
    "test_task1(my_sort)"
   ]
  },
  {
   "cell_type": "markdown",
   "metadata": {},
   "source": [
    "далее обычно следует чтото типа того:  \n",
    "Представим, что у нас нет sorted (collections, itertools, set.intersection **выберите из списка нужный вариант**),  \n",
    "случилась война и стандартные библиотеки питона погибли,  \n",
    "остались в живых только int, bool, for, range, if и while"
   ]
  },
  {
   "cell_type": "markdown",
   "metadata": {},
   "source": [
    "**Решение задачи 1 вариант 2**: без функции sorted сортировка методом пузырька"
   ]
  },
  {
   "cell_type": "code",
   "execution_count": 7,
   "metadata": {},
   "outputs": [],
   "source": [
    "def my_bubble_sort2(l):\n",
    "    n = len(l)\n",
    "    for i in range(n):\n",
    "        shifted = False  # This flag is used to check if any swaps have occurred\n",
    "        for j in range(n - 1 - i):\n",
    "            if dist(l[j]) > dist(l[j + 1]):\n",
    "                l[j], l[j + 1] = l[j + 1], l[j]\n",
    "                shifted = True\n",
    "\n",
    "        # If no swaps occurred during the inner loop, the list is sorted, and we can exit early\n",
    "        if not shifted:\n",
    "            break\n",
    "\n",
    "    return l"
   ]
  },
  {
   "cell_type": "code",
   "execution_count": 8,
   "metadata": {},
   "outputs": [
    {
     "name": "stdout",
     "output_type": "stream",
     "text": [
      "Test case 1 passed.\n",
      "Test case 2 passed.\n",
      "Test case 3 passed.\n"
     ]
    }
   ],
   "source": [
    "test_task1(my_bubble_sort2)"
   ]
  },
  {
   "cell_type": "markdown",
   "metadata": {},
   "source": [
    "Алгоритм сортировки пузырьком имеет следующую трудоёмкость:\n",
    "\n",
    "1. **Лучший случай** (когда массив уже отсортирован): $O(n)$\n",
    "   В этом случае после первого прохода не будет произведено ни одной замены, и алгоритм может быть остановлен.\n",
    "\n",
    "2. **Средний случай**: $O(n^2)$\n",
    "   В среднем случае (как и в большинстве других случаев) потребуется $O(n^2)$ операций.\n",
    "\n",
    "3. **Худший случай** (когда массив отсортирован в обратном порядке): $O(n^2)$\n",
    "   В худшем случае для каждого из $n$ элементов потребуется проверить остальные $n$ элементов.\n",
    "\n",
    "Таким образом, средняя и максимальная трудоёмкость алгоритма сортировки пузырьком составляют $O(n^2)$.\n"
   ]
  },
  {
   "cell_type": "markdown",
   "metadata": {},
   "source": [
    "**Решение задачи 1 вариант 3**: без функции sorted сортировка вставками"
   ]
  },
  {
   "cell_type": "code",
   "execution_count": 9,
   "metadata": {},
   "outputs": [],
   "source": [
    "def my_insertion_sort3(l):\n",
    "    # Start from the second element of the array\n",
    "    for i in range(1, len(l)):\n",
    "        key = l[i]  # The value of the current element to be inserted\n",
    "        j = i - 1  # Start with the element to the left of the current one\n",
    "\n",
    "        # Move elements greater than 'key' one position to the right\n",
    "        while j >= 0 and dist(key) < dist(l[j]):\n",
    "            l[j + 1] = l[j]  # Shift the element one position to the right\n",
    "            j -= 1  # Proceed to the next element on the left\n",
    "\n",
    "        l[j + 1] = key  # Insert 'key' in its correct position\n",
    "\n",
    "    return l  # Return the sorted list\n"
   ]
  },
  {
   "cell_type": "code",
   "execution_count": 10,
   "metadata": {},
   "outputs": [
    {
     "name": "stdout",
     "output_type": "stream",
     "text": [
      "Test case 1 passed.\n",
      "Test case 2 passed.\n",
      "Test case 3 passed.\n"
     ]
    }
   ],
   "source": [
    "test_task1(my_insertion_sort3)"
   ]
  },
  {
   "cell_type": "markdown",
   "metadata": {},
   "source": [
    "Трудоёмкость сортировки вставками:\n",
    "\n",
    "- **Лучший случай**: $O(n)$ - когда список уже отсортирован.\n",
    "- **Средний случай**: $O(n^2)$.\n",
    "- **Худший случай**: $O(n^2)$ - когда список отсортирован в обратном порядке.\n",
    "\n",
    "Пространственная сложность: \n",
    "- $O(1)$ - так как алгоритм является сортировкой на месте и не требует дополнительной памяти.\n"
   ]
  },
  {
   "cell_type": "markdown",
   "metadata": {},
   "source": [
    "**Тест производительности - Задача 1**:"
   ]
  },
  {
   "cell_type": "code",
   "execution_count": 11,
   "metadata": {},
   "outputs": [],
   "source": [
    "def generate_intervals(n, lower_bound=-100, upper_bound=100):\n",
    "    '''\n",
    "    generates a list of n random intervals with integer boundaries\n",
    "    each boundary of interval is generated from range [lower_bound, upper_bound]\n",
    "    '''\n",
    "    intervals = []\n",
    "    for _ in range(n):\n",
    "        start, end = sorted([random.randint(lower_bound, upper_bound) for _ in range(2)])\n",
    "        intervals.append((start, end))\n",
    "    return intervals\n"
   ]
  },
  {
   "cell_type": "code",
   "execution_count": 12,
   "metadata": {},
   "outputs": [
    {
     "name": "stdout",
     "output_type": "stream",
     "text": [
      "[(-72, 63), (-94, 89), (-38, -30), (-65, -43), (-74, 88), (73, 89), (-78, 39), (8, 51), (-93, -92), (-77, -45)]\n"
     ]
    }
   ],
   "source": [
    "test_list_intervals = generate_intervals(100)\n",
    "print(test_list_intervals[:10])"
   ]
  },
  {
   "cell_type": "code",
   "execution_count": 13,
   "metadata": {},
   "outputs": [
    {
     "name": "stdout",
     "output_type": "stream",
     "text": [
      "25 µs ± 4.23 µs per loop (mean ± std. dev. of 7 runs, 500 loops each)\n"
     ]
    }
   ],
   "source": [
    "%timeit -n 500  my_sort(test_list_intervals[:])"
   ]
  },
  {
   "cell_type": "code",
   "execution_count": 14,
   "metadata": {},
   "outputs": [
    {
     "name": "stdout",
     "output_type": "stream",
     "text": [
      "2.91 ms ± 408 µs per loop (mean ± std. dev. of 7 runs, 500 loops each)\n"
     ]
    }
   ],
   "source": [
    "%timeit -n 500  my_bubble_sort2(test_list_intervals[:])"
   ]
  },
  {
   "cell_type": "code",
   "execution_count": 15,
   "metadata": {},
   "outputs": [
    {
     "name": "stdout",
     "output_type": "stream",
     "text": [
      "1.36 ms ± 57.2 µs per loop (mean ± std. dev. of 7 runs, 500 loops each)\n"
     ]
    }
   ],
   "source": [
    "%timeit -n 500  my_insertion_sort3(test_list_intervals[:])"
   ]
  },
  {
   "cell_type": "markdown",
   "metadata": {},
   "source": [
    "Вывод по тесту производительности - Задача 1:  \n",
    "без встроенных функций код медленнее примерно в 4 раза. Но также вариант сортировки пузырьком оказался в 20 раз медленнее сортировки вставками. Пузырьковая сортировка требует дополнительных операций обмена, которые могут добавлять оверхед, особенно при работе с большими списками. И даже если вы удалите отпимизацию с shifted на случай если список отсортирован, то это не поможет. Если вы делаете продуктовый код иногда лучше отказаться от красивого кода и экономии памяти на одном элементе ради ускорения кода."
   ]
  },
  {
   "cell_type": "markdown",
   "metadata": {},
   "source": [
    "### Задача 2 - Пересечение двух массивов с учетом множественности элементов - 350 Intersection of Two Arrays II (Easy)\n",
    "Даны два массива целых чисел `nums1` и `nums2`. Верните массив их пересечения. Каждый элемент в результате должен появляться столько раз, сколько раз он встречается в обоих массивах, и вы можете вернуть результат в любом порядке.\n",
    "\n",
    "**Пример 1:**  \n",
    "Вход: nums1 = [1, 2, 3, 2, 0], nums2 = [5, 1, 2, 7, 3, 2]  \n",
    "Выход: [1, 2, 2, 3]  \n",
    "\n",
    "**Пример 2:**  \n",
    "Вход: nums1 = [4,9,5], nums2 = [9,4,9,8,4]  \n",
    "Выход: [4,9]  \n",
    "Объяснение: [9,4] также принимается  \n",
    "\n",
    "***задача с собеседования Яндекс, соответвует задаче с литкод [350 Intersection of Two Arrays II (Easy)](https://leetcode.com/problems/intersection-of-two-arrays-ii/)***\n"
   ]
  },
  {
   "cell_type": "markdown",
   "metadata": {},
   "source": [
    "**Решение задачи 2 вариант 1**: с помощью встроенных функции"
   ]
  },
  {
   "cell_type": "code",
   "execution_count": 16,
   "metadata": {},
   "outputs": [],
   "source": [
    "def repeated_intersection(nums1, nums2):\n",
    "    result = []\n",
    "    \n",
    "    for element in set(nums1) & set(nums2):\n",
    "        result.extend([element] * min(nums1.count(element), nums2.count(element)))\n",
    "    \n",
    "    return result"
   ]
  },
  {
   "cell_type": "code",
   "execution_count": 17,
   "metadata": {},
   "outputs": [
    {
     "data": {
      "text/plain": [
       "[1, 2, 2, 3]"
      ]
     },
     "execution_count": 17,
     "metadata": {},
     "output_type": "execute_result"
    }
   ],
   "source": [
    "nums1 = [1, 2, 3, 2, 0]\n",
    "nums2 = [5, 1, 2, 7, 3, 2]\n",
    "repeated_intersection(nums1, nums2)"
   ]
  },
  {
   "cell_type": "markdown",
   "metadata": {},
   "source": [
    "**Решение задачи 2 вариант 2**: без помощи встроенных функции"
   ]
  },
  {
   "cell_type": "code",
   "execution_count": 18,
   "metadata": {},
   "outputs": [],
   "source": [
    "def repeated_intersection2(nums1, nums2):\n",
    "    result = []  # to store result of intersection\n",
    "    count = {}  # dictionary to store count of numbers from nums1\n",
    "\n",
    "    # count occurrences of each number in nums1\n",
    "    for i in nums1:\n",
    "        if count.get(i): \n",
    "            count[i] += 1\n",
    "        else: \n",
    "            count[i] = 1\n",
    "    \n",
    "    # check for numbers existence in nums1 and decrease its count if found\n",
    "    for j in nums2:\n",
    "        if count.get(j) and count[j] > 0:\n",
    "                count[j] -= 1\n",
    "                result.append(j)\n",
    "    return result\n"
   ]
  },
  {
   "cell_type": "code",
   "execution_count": 19,
   "metadata": {},
   "outputs": [
    {
     "data": {
      "text/plain": [
       "[1, 2, 3, 2]"
      ]
     },
     "execution_count": 19,
     "metadata": {},
     "output_type": "execute_result"
    }
   ],
   "source": [
    "repeated_intersection2(nums1, nums2)"
   ]
  },
  {
   "cell_type": "markdown",
   "metadata": {},
   "source": [
    "**Тест производительности - Задача 2**:"
   ]
  },
  {
   "cell_type": "code",
   "execution_count": 20,
   "metadata": {},
   "outputs": [],
   "source": [
    "def generate_random_lists(max_length=1000, max_value=100):\n",
    "    '''\n",
    "    generate two random lists.\n",
    "    \n",
    "    :param max_length: Maximum possible length for the lists.\n",
    "    :param max_value: Maximum absolute integer value in the lists.\n",
    "    \n",
    "    :return: Two lists of random length with random integers.\n",
    "    '''\n",
    "    len1 = random.randint(1, max_length)\n",
    "    len2 = random.randint(1, max_length)\n",
    "    \n",
    "    list1 = [random.randint(-max_value, max_value) for _ in range(len1)]\n",
    "    list2 = [random.randint(-max_value, max_value) for _ in range(len2)]\n",
    "    \n",
    "    return list1, list2"
   ]
  },
  {
   "cell_type": "code",
   "execution_count": 21,
   "metadata": {},
   "outputs": [
    {
     "data": {
      "text/plain": [
       "([-20, 18, 0, 11, -19, -13, 3, -1, -5, -17, -5, 16, -15, -15, 11],\n",
       " [-3, -2, 18, -7, 1, -7, 20, -4, 12, 11, -4, -17, -15, 20, 7])"
      ]
     },
     "execution_count": 21,
     "metadata": {},
     "output_type": "execute_result"
    }
   ],
   "source": [
    "nums1, nums2 = generate_random_lists(200, 20)\n",
    "nums1[:15], nums2[:15]"
   ]
  },
  {
   "cell_type": "code",
   "execution_count": 22,
   "metadata": {},
   "outputs": [
    {
     "name": "stdout",
     "output_type": "stream",
     "text": [
      "352 µs ± 19.9 µs per loop (mean ± std. dev. of 7 runs, 500 loops each)\n"
     ]
    }
   ],
   "source": [
    "%timeit -n 500  repeated_intersection(nums1, nums2)"
   ]
  },
  {
   "cell_type": "code",
   "execution_count": 23,
   "metadata": {},
   "outputs": [
    {
     "name": "stdout",
     "output_type": "stream",
     "text": [
      "123 µs ± 11.9 µs per loop (mean ± std. dev. of 7 runs, 500 loops each)\n"
     ]
    }
   ],
   "source": [
    "%timeit -n 500  repeated_intersection2(nums1, nums2)"
   ]
  },
  {
   "cell_type": "markdown",
   "metadata": {},
   "source": [
    "Вывод 1 по тесту производительности - Задача 2:  \n",
    "странный момент получается - код на основе встроенных функции медленнее чем вариант без них. Все дело в подсчете колва вхождений для всех элементов массивов. Посмотрим как это выглядит на графиках"
   ]
  },
  {
   "cell_type": "code",
   "execution_count": 24,
   "metadata": {},
   "outputs": [],
   "source": [
    "def plot_time_process(function1, function2, start=10, end=200, step=5, label1='Method 1', label2='Method 2'):\n",
    "    lengths = list(range(start, end, step))\n",
    "    times1 = []\n",
    "    times2 = []\n",
    "\n",
    "    for max_length in lengths:\n",
    "        nums1, nums2 = generate_random_lists(max_length, max_length//10)\n",
    "        \n",
    "        start_time = time.time()\n",
    "        for _ in range(100):\n",
    "            function1(nums1, nums2)\n",
    "        times1.append((time.time() - start_time) / 100)\n",
    "        \n",
    "        start_time = time.time()\n",
    "        for _ in range(100):\n",
    "            function2(nums1, nums2)\n",
    "        times2.append((time.time() - start_time) / 100)\n",
    "\n",
    "    mean1 = round(np.mean(times1)*100,2)\n",
    "    mean2 = round(np.mean(times2)*100,2)\n",
    "    \n",
    "    plt.figure(figsize=(12, 6))\n",
    "    plt.plot(lengths, times1, label=label1 + ' mean==' + str(mean1))\n",
    "    plt.plot(lengths, times2, label=label2 + ' mean==' + str(mean2))\n",
    "    plt.xlabel('List Length')\n",
    "    plt.ylabel('Average Execution Time (s/100)')\n",
    "    plt.title('Comparison of Execution Times')\n",
    "    plt.legend()\n",
    "    plt.grid(True)\n",
    "    plt.show()\n"
   ]
  },
  {
   "cell_type": "code",
   "execution_count": 25,
   "metadata": {},
   "outputs": [
    {
     "data": {
      "image/png": "[encoded data removed]",
      "text/plain": [
       "<Figure size 864x432 with 1 Axes>"
      ]
     },
     "metadata": {
      "needs_background": "light"
     },
     "output_type": "display_data"
    }
   ],
   "source": [
    "plot_time_process(repeated_intersection, repeated_intersection2,\n",
    "                  label1='repeated_intersection',\n",
    "                  label2='repeated_intersection2')"
   ]
  },
  {
   "cell_type": "code",
   "execution_count": 26,
   "metadata": {},
   "outputs": [
    {
     "data": {
      "image/png": "[encoded data removed]",
      "text/plain": [
       "<Figure size 864x432 with 1 Axes>"
      ]
     },
     "metadata": {
      "needs_background": "light"
     },
     "output_type": "display_data"
    }
   ],
   "source": [
    "plot_time_process(repeated_intersection, repeated_intersection2, 200, 1001, 100,\n",
    "                  label1='repeated_intersection',\n",
    "                  label2='repeated_intersection2')"
   ]
  },
  {
   "cell_type": "markdown",
   "metadata": {},
   "source": [
    "Вывод 2 по тесту производительности - Задача 2:  \n",
    "Интересно, а можно увеличить производительность варианта 2 встроенными функциями чтобы он работал быстрее?"
   ]
  },
  {
   "cell_type": "code",
   "execution_count": 27,
   "metadata": {},
   "outputs": [],
   "source": [
    "def repeated_intersection3(nums1, nums2):\n",
    "    result = []  # to store the result of intersection\n",
    "    \n",
    "    # count occurrences of each number in nums1 using collections.Counter\n",
    "    nums1_counts = Counter(nums1)\n",
    "\n",
    "    # Iterate through nums2 and check if the number exists in nums1_counts\n",
    "    for num in nums2:\n",
    "        if num in nums1_counts and nums1_counts[num] > 0:\n",
    "            result.append(num)\n",
    "            nums1_counts[num] -= 1\n",
    "\n",
    "    return result"
   ]
  },
  {
   "cell_type": "code",
   "execution_count": 28,
   "metadata": {},
   "outputs": [
    {
     "data": {
      "image/png": "[encoded data removed]",
      "text/plain": [
       "<Figure size 864x432 with 1 Axes>"
      ]
     },
     "metadata": {
      "needs_background": "light"
     },
     "output_type": "display_data"
    }
   ],
   "source": [
    "plot_time_process(repeated_intersection3, repeated_intersection2, 600, 20001, 500,\n",
    "                  label1='repeated_intersection3',\n",
    "                  label2='repeated_intersection2')"
   ]
  },
  {
   "cell_type": "markdown",
   "metadata": {},
   "source": [
    "Вывод 3 по тесту производительности - Задача 2:  \n",
    "Прирост производительности есть, но он незначительный "
   ]
  },
  {
   "cell_type": "markdown",
   "metadata": {},
   "source": [
    "### Задача 3\n",
    "\n",
    "Дана строка, состоящая из букв A-Z (возможно, пустая). Ваша задача - написать функцию RLE (Run-Length Encoding), которая будет преобразовывать эту строку следующим образом: символы будут оставлены без изменений, если они встречаются в строке один раз, и в противном случае к символу будет добавлено количество его повторений. Функция также должна генерировать ошибку, если на вход пришла невалидная строка.\n",
    "\n",
    "**Пример 1:**  \n",
    "Вход: \"AAAABBBCCXYZDDDDEEEFFFAAAAAABBBBBBBBBBBBBBBBBBBBBBBBBBBB\"  \n",
    "Выход: \"A4B3C2XYZD4E3F3A6B28\"\n",
    "\n",
    "Таким образом, задача заключается в реализации алгоритма кодирования строки в формат RLE и обработке невалидных входных данных\n",
    "\n",
    "***задача с собеседования Яндекс, почти соответвует задаче с литкод [443 String Compression (Medium)](https://leetcode.com/problems/string-compression/) основное отличие в том, что там на выходе нужно еще выводить длину итогового списка символов. В задаче 4 я разберу оригинал задачи с литкода***\n"
   ]
  },
  {
   "cell_type": "markdown",
   "metadata": {},
   "source": [
    "**Решение задачи 2 вариант 1**: с помощью встроенных функции"
   ]
  },
  {
   "cell_type": "code",
   "execution_count": 29,
   "metadata": {},
   "outputs": [],
   "source": [
    "def rle_str_encoder(s):\n",
    "    if not s:\n",
    "        return ''\n",
    "\n",
    "    encoded = []\n",
    "    for char, group in itertools.groupby(s):\n",
    "        _count = len(list(group))\n",
    "        encoded.append(char if _count == 1 else f'{char}{_count}')\n",
    "\n",
    "    return ''.join(encoded)"
   ]
  },
  {
   "cell_type": "code",
   "execution_count": 30,
   "metadata": {},
   "outputs": [
    {
     "data": {
      "text/plain": [
       "'A4B3C2XYZD4E3F3A6B28'"
      ]
     },
     "execution_count": 30,
     "metadata": {},
     "output_type": "execute_result"
    }
   ],
   "source": [
    "input_string = 'AAAABBBCCXYZDDDDEEEFFFAAAAAABBBBBBBBBBBBBBBBBBBBBBBBBBBB'\n",
    "rle_str_encoder(input_string)"
   ]
  },
  {
   "cell_type": "markdown",
   "metadata": {},
   "source": [
    "**Решение задачи 2 вариант 2**: без помощи встроенных функции"
   ]
  },
  {
   "cell_type": "code",
   "execution_count": 31,
   "metadata": {},
   "outputs": [],
   "source": [
    "def rle_str_encoder2(input_str):\n",
    "    if not input_str:\n",
    "        return ''\n",
    "\n",
    "    encoded_str = ''\n",
    "    count = 1  # initialize a count for current character's repetitions\n",
    "    prev_char = input_str[0]  # initialize previous character as first character in input string\n",
    "\n",
    "    for char in input_str[1:]:\n",
    "        if char == prev_char:\n",
    "            count += 1  # increment count if current character is same as previous one\n",
    "        else:\n",
    "            if count > 1:\n",
    "                encoded_str += prev_char + str(count)  # add character and its count to encoded string\n",
    "            else:\n",
    "                encoded_str += prev_char  # add character without count if it appears only once\n",
    "            count = 1  # reset count for new character\n",
    "        prev_char = char  # update previous character\n",
    "\n",
    "    if count > 1:\n",
    "        encoded_str += prev_char + str(count)  # add last character and its count to encoded string\n",
    "    else:\n",
    "        encoded_str += prev_char  # add last character without count if it appears only once\n",
    "\n",
    "    return encoded_str\n"
   ]
  },
  {
   "cell_type": "code",
   "execution_count": 32,
   "metadata": {},
   "outputs": [
    {
     "data": {
      "text/plain": [
       "'A4B3C2XYZD4E3F3A6B28'"
      ]
     },
     "execution_count": 32,
     "metadata": {},
     "output_type": "execute_result"
    }
   ],
   "source": [
    "rle_str_encoder2(input_string)"
   ]
  },
  {
   "cell_type": "code",
   "execution_count": 33,
   "metadata": {},
   "outputs": [
    {
     "data": {
      "text/plain": [
       "True"
      ]
     },
     "execution_count": 33,
     "metadata": {},
     "output_type": "execute_result"
    }
   ],
   "source": [
    "rle_str_encoder(input_string) == rle_str_encoder2(input_string)"
   ]
  },
  {
   "cell_type": "markdown",
   "metadata": {},
   "source": [
    "**Тест производительности - Задача 3**:"
   ]
  },
  {
   "cell_type": "code",
   "execution_count": 34,
   "metadata": {},
   "outputs": [],
   "source": [
    "def generate_random_string(total_length, max_repetition):\n",
    "    alphabet = 'ABCDEFGHIJKLMNOPQRSTUVWXYZ'\n",
    "    result = []\n",
    "    \n",
    "    while total_length > 0:\n",
    "        char = random.choice(alphabet)  # randomly choose a character from the alphabet\n",
    "        repetition = random.randint(1, max_repetition)  # generate a random repetition count\n",
    "        \n",
    "        # Make sure not to add more characters than needed to reach total_length\n",
    "        repetition = min(repetition, total_length)\n",
    "        \n",
    "        result.append(char * repetition)  # append the character repeated by repetition times\n",
    "        total_length -= repetition  # update the remaining total_length\n",
    "    \n",
    "    return ''.join(result)"
   ]
  },
  {
   "cell_type": "code",
   "execution_count": 35,
   "metadata": {},
   "outputs": [
    {
     "data": {
      "text/plain": [
       "'FKKKYYYYRRRRXXXOOOSSSOOOOMCCCSIIIBBBBBGGIIIIDDDIII'"
      ]
     },
     "execution_count": 35,
     "metadata": {},
     "output_type": "execute_result"
    }
   ],
   "source": [
    "generate_random_string(50, 4)"
   ]
  },
  {
   "cell_type": "code",
   "execution_count": 36,
   "metadata": {},
   "outputs": [],
   "source": [
    "test_str = generate_random_string(2000, 500)"
   ]
  },
  {
   "cell_type": "code",
   "execution_count": 37,
   "metadata": {},
   "outputs": [
    {
     "name": "stdout",
     "output_type": "stream",
     "text": [
      "77.8 µs ± 13.1 µs per loop (mean ± std. dev. of 7 runs, 100 loops each)\n"
     ]
    }
   ],
   "source": [
    "%timeit -n 100  rle_str_encoder(test_str)"
   ]
  },
  {
   "cell_type": "code",
   "execution_count": 38,
   "metadata": {},
   "outputs": [
    {
     "name": "stdout",
     "output_type": "stream",
     "text": [
      "206 µs ± 58.2 µs per loop (mean ± std. dev. of 7 runs, 100 loops each)\n"
     ]
    }
   ],
   "source": [
    "%timeit -n 100  rle_str_encoder2(test_str)"
   ]
  },
  {
   "cell_type": "markdown",
   "metadata": {},
   "source": [
    "### Задача 4 - Сжатие строки - 443 String Compression (Medium)\n",
    "\n",
    "Дан массив символов chars. Сжать его с использованием следующего алгоритма:\n",
    "\n",
    "1. Создайте пустую строку s.\n",
    "2. Для каждой группы подряд повторяющихся символов в chars:\n",
    "   - Если длина группы равна 1, добавьте символ в s.\n",
    "   - В противном случае, добавьте символ, за которым следует длина группы.\n",
    "3. Сжатая строка s не должна возвращаться отдельно, а должна быть сохранена в массиве символов chars. Обратите внимание, что длины групп, равные 10 или больше, будут разбиты на несколько символов в массиве chars.\n",
    "4. После завершения модификации входного массива верните новую длину массива.\n",
    "\n",
    "Необходимо написать алгоритм, который использует только постоянное количество дополнительной памяти.\n",
    "\n",
    "**Пример 1:**  \n",
    "Вход: chars = [\"a\",\"a\",\"b\",\"b\",\"c\",\"c\",\"c\"]  \n",
    "Выход: Вернуть 6, и первые 6 символов входного массива должны быть: [\"a\",\"2\",\"b\",\"2\",\"c\",\"3\"]  \n",
    "Объяснение: Группы символов \"aa\", \"bb\" и \"ccc\" сжимаются в \"a2b2c3\".  \n",
    "\n",
    "**Пример 2:**  \n",
    "Вход: chars = [\"a\"]  \n",
    "Выход: Вернуть 1, и первый символ входного массива должен быть: [\"a\"]  \n",
    "Объяснение: Единственная группа - это \"a\", она остается несжатой, так как это одиночный символ.  \n",
    "\n",
    "**Пример 3:**  \n",
    "Вход: chars = [\"a\",\"b\",\"b\",\"b\",\"b\",\"b\",\"b\",\"b\",\"b\",\"b\",\"b\",\"b\",\"b\"]  \n",
    "Выход: Вернуть 4, и первые 4 символа входного массива должны быть: [\"a\",\"b\",\"1\",\"2\"].  \n",
    "Объяснение: Группы символов \"a\" и \"bbbbbbbbbbbb\" сжимаются в \"ab12\".  \n",
    "\n",
    "**Ограничения:**  \n",
    "1 <= chars.length <= 2000  \n",
    "chars[i] - это строчная буква английского алфавита, заглавная буква английского алфавита, цифра или символ.  \n",
    "\n",
    "***задача с литкод [443 String Compression (Medium)](https://leetcode.com/problems/string-compression/) привожу ее тут потому что условие на литкод отличается от того что дают на собеседованиях***\n"
   ]
  },
  {
   "cell_type": "markdown",
   "metadata": {},
   "source": [
    "**Решение задачи 4**: \n",
    "\n",
    "Шаги:\n",
    "1. добавляем вспомогательный элемент [None] в конец списка chars, чтобы избежать специальной обработки последнего символа\n",
    "2. используем два указателя, left и right, для прохода по списку. Left будет использоваться для записи, а right - для чтения.\n",
    "3. отслеживаем текущий символ и его вхождения\n",
    "4. если символ у указателя right совпадает с текущим символом, увеличиваем счетчик вхождений\n",
    "5. если они различны, записываем текущий символ и его количество вхождений (если оно больше 1) у указателя left, затем обновляем текущий символ и сбросываем его счетчик\n",
    "6. соответствующим образом увеличиваем указатель left и перемезаем указатель right к следующему символу\n",
    "7. возвращаем длину списка chars до указателя left\n"
   ]
  },
  {
   "cell_type": "code",
   "execution_count": 39,
   "metadata": {},
   "outputs": [],
   "source": [
    "def compress(chars: List[str]) -> int:\n",
    "    '''\n",
    "    Compress the given list of characters using two pointers.\n",
    "\n",
    "    Time Complexity: O(n)\n",
    "    Space Complexity: O(1)\n",
    "\n",
    "    Steps:\n",
    "    1. Add a sentinel [None] at the end of chars to avoid special handling for the last character.\n",
    "    2. Use two pointers, left and right, to traverse the list. Left will be for writing while right is for reading.\n",
    "    3. Keep track of the current character and its count.\n",
    "    4. If the character at the right pointer is the same as the current character, increment the count.\n",
    "    5. If they are different, write the current character and its count if greater than 1 at the left pointer, then update the current character and reset its count.\n",
    "    6. Increment the left pointer accordingly and move the right pointer to the next character.\n",
    "    7. Return the length of chars up to the left pointer.\n",
    "    '''\n",
    "    \n",
    "    # append sentinel value\n",
    "    chars.append(None)\n",
    "    \n",
    "    left, right = 0, 1\n",
    "    curr_char = chars[0]\n",
    "    count = 1\n",
    "\n",
    "    while right < len(chars):\n",
    "        if curr_char == chars[right]:\n",
    "            count += 1\n",
    "        else:\n",
    "            chars[left] = curr_char\n",
    "            left += 1\n",
    "\n",
    "            # write count if greater than 1\n",
    "            if count > 1:\n",
    "                for num in str(count):\n",
    "                    chars[left] = num\n",
    "                    left += 1\n",
    "\n",
    "            # reset current character and its count\n",
    "            curr_char = chars[right]\n",
    "            count = 1\n",
    "\n",
    "        right += 1\n",
    "\n",
    "    return left\n",
    "\n"
   ]
  },
  {
   "cell_type": "code",
   "execution_count": 40,
   "metadata": {},
   "outputs": [
    {
     "name": "stdout",
     "output_type": "stream",
     "text": [
      "['A', 'A', 'A', 'A', 'B', 'B', 'B', 'C', 'C', 'X']\n"
     ]
    }
   ],
   "source": [
    "chars = list(input_string[:10])\n",
    "print(chars)"
   ]
  },
  {
   "cell_type": "code",
   "execution_count": 41,
   "metadata": {},
   "outputs": [
    {
     "data": {
      "text/plain": [
       "(7, ['A', '4', 'B', '3', 'C', '2', 'X'])"
      ]
     },
     "execution_count": 41,
     "metadata": {},
     "output_type": "execute_result"
    }
   ],
   "source": [
    "n = compress(chars)\n",
    "n, chars[:n]"
   ]
  },
  {
   "cell_type": "markdown",
   "metadata": {},
   "source": [
    "**Тест производительности - Задача 4**:"
   ]
  },
  {
   "cell_type": "code",
   "execution_count": 42,
   "metadata": {},
   "outputs": [
    {
     "name": "stdout",
     "output_type": "stream",
     "text": [
      "['A', 'A', 'A', 'A', 'A', 'A', 'A', 'A', 'A', 'A', 'A', 'A', 'A', 'A', 'A', 'A', 'A', 'A', 'A', 'A'] 2000\n"
     ]
    }
   ],
   "source": [
    "chars = list(test_str)\n",
    "print(chars[:20], len(chars))"
   ]
  },
  {
   "cell_type": "code",
   "execution_count": 43,
   "metadata": {},
   "outputs": [
    {
     "name": "stdout",
     "output_type": "stream",
     "text": [
      "528 µs ± 89.3 µs per loop (mean ± std. dev. of 7 runs, 1000 loops each)\n"
     ]
    }
   ],
   "source": [
    "%timeit -n 1000  compress(chars[:])"
   ]
  },
  {
   "cell_type": "markdown",
   "metadata": {},
   "source": [
    "в предыдущей ячейке я не передаю сам список и только его срез, чтобы список не изменялся на каждом шаге цикла и не приводил к необоснованному увеличению времени"
   ]
  },
  {
   "cell_type": "code",
   "execution_count": 44,
   "metadata": {},
   "outputs": [
    {
     "name": "stdout",
     "output_type": "stream",
     "text": [
      "['A', '3', '1', '1', 'G', '2', '9', '0', 'Y', '4', '1', '5', 'X', '2', '2', '7', 'I', '5', '9', '4']\n"
     ]
    }
   ],
   "source": [
    "# но при желании можно проверить\n",
    "compress(chars)\n",
    "print(chars[:20])"
   ]
  },
  {
   "cell_type": "markdown",
   "metadata": {},
   "source": [
    "Runtime == 59ms (Beats 88.76%of users with Python3)  \n",
    "Memory (Beats 65.40%of users with Python3)"
   ]
  },
  {
   "cell_type": "markdown",
   "metadata": {},
   "source": [
    "### Задача 5 -  Свертка списка чисел в их диапазоны (интервалы)\n",
    "\n",
    "Дан список целых чисел, в котором нет повторяющихся элементов. Необходимо преобразовать этот список в строку, сворачивая последовательные числа в диапазоны.  \n",
    "\n",
    "Входные данные:  \n",
    "- Список целых чисел nums длиной \\(n\\) (1 ≤ \\(n\\) ≤ 10^5), где каждое число \\(a_i\\) удовлетворяет условию (-10^9 ≤ \\(a_i\\) ≤ 10^9). В списке нет повторяющихся элементов.  \n",
    "Выходные данные:  \n",
    "- Строка, представляющая собой диапазоны чисел. Если числа идут последовательно, они представляются в виде диапазона (например, '1-4'). Если числа не соседние, они разделяются запятой (например, '1,4').  \n",
    "\n",
    "**Примеры:**  \n",
    "1. Вход: [1,4,5,2,3,9,8,11,0]  \n",
    "   Выход: '0-5,8-9,11'  \n",
    "\n",
    "2. Вход: [1,4,3,2]  \n",
    "   Выход: '1-4'  \n",
    "\n",
    "3. Вход: [1,4]  \n",
    "   Выход: '1,4'  \n",
    "\n",
    "***задача с собеседования Яндекс, почти соответвует задаче с литкод [228 Summary Ranges (Easy)](https://leetcode.com/problems/summary-ranges/) основное отличие в том, что на выходе подается уже отсортированный список и на выходе возвращаем список из строк. В следующей задаче 6 я разберу оригинал задачи с литкода***"
   ]
  },
  {
   "cell_type": "markdown",
   "metadata": {},
   "source": [
    "При решении этой задачи разрешено использовать встроенную сортировку и join и map, поэтому тут не рассматриваются разные решения со встроенными функциями и без них. Если у вас есть более оптимальное решение можете законтрибьютить с тестом"
   ]
  },
  {
   "cell_type": "markdown",
   "metadata": {},
   "source": [
    "**Решение задачи 5 вариант 1**:\n",
    "1. Сначала отсортируем список.\n",
    "2. Затем пройдемся по списку и будем искать последовательные числа.\n",
    "3. Если мы находим последовательные числа, мы начинаем формировать диапазон.\n",
    "4. Если числа не последовательные, мы завершаем текущий диапазон и начинаем новый."
   ]
  },
  {
   "cell_type": "code",
   "execution_count": 45,
   "metadata": {},
   "outputs": [],
   "source": [
    "def group_ranges(nums):\n",
    "    if not nums:\n",
    "        return ''\n",
    "\n",
    "    # sort list\n",
    "    nums.sort()\n",
    "\n",
    "    ranges = []\n",
    "    for i in nums:\n",
    "        if not ranges or i != ranges[-1][-1] + 1:\n",
    "            ranges.append([i])\n",
    "        else:\n",
    "            if len(ranges[-1])==1:\n",
    "                ranges[-1].append(i)\n",
    "            else:\n",
    "                ranges[-1][-1] = i\n",
    "\n",
    "    # convert ranges to string for mapping list\n",
    "    def convert_ranges_to_str(r):\n",
    "        if len(r)==1:\n",
    "            return f'{r[0]}'\n",
    "        else:\n",
    "            return f'{r[0]}-{r[-1]}'\n",
    "\n",
    "    return ','.join(map(convert_ranges_to_str, ranges))"
   ]
  },
  {
   "cell_type": "code",
   "execution_count": 46,
   "metadata": {},
   "outputs": [
    {
     "data": {
      "text/plain": [
       "'0-5,8-9,11'"
      ]
     },
     "execution_count": 46,
     "metadata": {},
     "output_type": "execute_result"
    }
   ],
   "source": [
    "group_ranges([1,4,5,2,3,9,8,11,0])"
   ]
  },
  {
   "cell_type": "markdown",
   "metadata": {},
   "source": [
    "**Решение задачи 5 вариант 2**:  \n",
    "такой же принцип только используем два указателя чтобы сразу записывать правильную форму в строку и не использоать join после цикла"
   ]
  },
  {
   "cell_type": "code",
   "execution_count": 47,
   "metadata": {},
   "outputs": [],
   "source": [
    "def group_ranges2(nums):\n",
    "    if not nums:\n",
    "        return ''\n",
    "\n",
    "    # sort the list\n",
    "    nums.sort()\n",
    "\n",
    "    # initialize the start and end values of the range\n",
    "    start, end = nums[0], nums[0]\n",
    "    result = ''\n",
    "\n",
    "    for num in nums[1:]:\n",
    "        # if the current number is consecutive to the previous one\n",
    "        if num == end + 1:\n",
    "            end = num\n",
    "        else:\n",
    "            # if it was a range of more than one number\n",
    "            if start != end:\n",
    "                result += f'{start}-{end},'\n",
    "            else:\n",
    "                result += str(start) + ','\n",
    "            start, end = num, num\n",
    "\n",
    "    # add the last range or number\n",
    "    if start != end:\n",
    "        result += f'{start}-{end},'\n",
    "    else:\n",
    "        result += str(start) + ','\n",
    "\n",
    "    return result[:-1]"
   ]
  },
  {
   "cell_type": "code",
   "execution_count": 48,
   "metadata": {},
   "outputs": [
    {
     "data": {
      "text/plain": [
       "'0-5,8-9,11'"
      ]
     },
     "execution_count": 48,
     "metadata": {},
     "output_type": "execute_result"
    }
   ],
   "source": [
    "group_ranges2([1,4,5,2,3,9,8,11,0])"
   ]
  },
  {
   "cell_type": "code",
   "execution_count": 49,
   "metadata": {},
   "outputs": [
    {
     "data": {
      "text/plain": [
       "True"
      ]
     },
     "execution_count": 49,
     "metadata": {},
     "output_type": "execute_result"
    }
   ],
   "source": [
    "group_ranges([1,4,5,2,3,9,8,11,0]) == group_ranges2([1,4,5,2,3,9,8,11,0])"
   ]
  },
  {
   "cell_type": "markdown",
   "metadata": {},
   "source": [
    "**Решение задачи 5 вариант 3**:  \n",
    "используем теже два указателя и кортежи + join"
   ]
  },
  {
   "cell_type": "code",
   "execution_count": 50,
   "metadata": {},
   "outputs": [],
   "source": [
    "def group_ranges3(nums):\n",
    "    if not nums:\n",
    "        return ''\n",
    "\n",
    "    nums.sort()\n",
    "\n",
    "    ranges = []\n",
    "    start = end = nums[0]\n",
    "\n",
    "    for i in nums[1:]:\n",
    "        if i == end + 1:\n",
    "            end = i\n",
    "        else:\n",
    "            if start == end:\n",
    "                ranges.append((start,))\n",
    "            else:\n",
    "                ranges.append((start, end))\n",
    "\n",
    "            start = end = i\n",
    "\n",
    "    if start == end:\n",
    "        ranges.append((start,))\n",
    "    else:\n",
    "        ranges.append((start, end))\n",
    "\n",
    "    def convert_ranges_to_str(r):\n",
    "        if len(r) == 1:\n",
    "            return f'{r[0]}'\n",
    "        else:\n",
    "            return f'{r[0]}-{r[-1]}'\n",
    "\n",
    "    return ','.join(map(convert_ranges_to_str, ranges))"
   ]
  },
  {
   "cell_type": "code",
   "execution_count": 51,
   "metadata": {},
   "outputs": [
    {
     "data": {
      "text/plain": [
       "'0-5,8-9,11'"
      ]
     },
     "execution_count": 51,
     "metadata": {},
     "output_type": "execute_result"
    }
   ],
   "source": [
    "group_ranges3([1,4,5,2,3,9,8,11,0])"
   ]
  },
  {
   "cell_type": "code",
   "execution_count": 52,
   "metadata": {},
   "outputs": [
    {
     "data": {
      "text/plain": [
       "True"
      ]
     },
     "execution_count": 52,
     "metadata": {},
     "output_type": "execute_result"
    }
   ],
   "source": [
    "group_ranges([1,4,5,2,3,9,8,11,0]) == group_ranges3([1,4,5,2,3,9,8,11,0])"
   ]
  },
  {
   "cell_type": "markdown",
   "metadata": {},
   "source": [
    "**Тест производительности - Задача 5**:  \n",
    "Мы будем использовать отсортированный список чтобы производительность была O(n) и разницу текущей производительности вариантов можно было отследить лучше"
   ]
  },
  {
   "cell_type": "code",
   "execution_count": 65,
   "metadata": {},
   "outputs": [],
   "source": [
    "def generate_unique_sorted_list(n, min, max_len_range):\n",
    "    '''\n",
    "    Generates a list of length n of unique sorted numbers.\n",
    "    '''\n",
    "    result = []\n",
    "    current_num = min\n",
    "\n",
    "    while len(result) < n:\n",
    "        # generate segment length (not exceeding the remaining space to n)\n",
    "        segment_length = random.randint(0, max_len_range)\n",
    "\n",
    "        # add the segment to the result\n",
    "        for _ in range(segment_length):\n",
    "            result.append(current_num)\n",
    "            current_num += 1\n",
    "\n",
    "        # generate gap length (can be 0)\n",
    "        gap_length = random.randint(0, max_len_range)\n",
    "\n",
    "        # increase the current number by the gap length\n",
    "        current_num += gap_length\n",
    "\n",
    "    return result[:n]\n"
   ]
  },
  {
   "cell_type": "code",
   "execution_count": 70,
   "metadata": {},
   "outputs": [
    {
     "name": "stdout",
     "output_type": "stream",
     "text": [
      "[10000000000, 10000000001, 10000000002, 10000000003, 10000000004, 10000000005, 10000000006, 10000000008, 10000000009, 10000000010, 10000000011, 10000000012, 10000000013, 10000000014, 10000000015, 10000000016, 10000000017, 10000000033, 10000000034, 10000000035, 10000000040, 10000000041, 10000000042, 10000000043, 10000000044, 10000000045, 10000000046, 10000000047, 10000000048, 10000000049, 10000000050, 10000000051, 10000000052, 10000000053, 10000000054, 10000000055, 10000000074, 10000000075, 10000000076, 10000000077]\n"
     ]
    }
   ],
   "source": [
    "test_nums = generate_unique_sorted_list(100000, 10000000000, 40)\n",
    "print(test_nums[:40])"
   ]
  },
  {
   "cell_type": "code",
   "execution_count": 71,
   "metadata": {},
   "outputs": [
    {
     "name": "stdout",
     "output_type": "stream",
     "text": [
      "38.2 ms ± 1.04 ms per loop (mean ± std. dev. of 7 runs, 100 loops each)\n"
     ]
    }
   ],
   "source": [
    "%timeit -n 100  group_ranges(test_nums)"
   ]
  },
  {
   "cell_type": "code",
   "execution_count": 72,
   "metadata": {},
   "outputs": [
    {
     "name": "stdout",
     "output_type": "stream",
     "text": [
      "17.1 ms ± 840 µs per loop (mean ± std. dev. of 7 runs, 100 loops each)\n"
     ]
    }
   ],
   "source": [
    "%timeit -n 100  group_ranges2(test_nums)"
   ]
  },
  {
   "cell_type": "code",
   "execution_count": 73,
   "metadata": {},
   "outputs": [
    {
     "name": "stdout",
     "output_type": "stream",
     "text": [
      "18 ms ± 568 µs per loop (mean ± std. dev. of 7 runs, 100 loops each)\n"
     ]
    }
   ],
   "source": [
    "%timeit -n 100  group_ranges3(test_nums)"
   ]
  },
  {
   "cell_type": "markdown",
   "metadata": {},
   "source": [
    "Вывод по тесту производительности - Задача 5:  \n",
    "Второй вариант в котором мы сразу пишем правильные значения в строку и не используем второй цикл через join работает быстрее даже на длинных строках, но третий вариант с кортежами практически не уступает в скорости второму даже с использованием join"
   ]
  },
  {
   "cell_type": "markdown",
   "metadata": {},
   "source": [
    "### Задача 6 - Свертка диапазонов - 228 Summary Ranges (Easy)\n",
    "\n",
    "Дан отсортированный уникальный массив целых чисел nums.  \n",
    "Диапазон или интервал [a,b] представляет собой набор всех целых чисел от a до b (включительно).  \n",
    "Верните наименьший отсортированный список диапазонов, который полностью покрывает все числа в массиве. То есть каждый элемент `nums` покрывается ровно одним из диапазонов, и не существует такого целого числа x, что x находится в одном из диапазонов, но не в `nums`.\n",
    "\n",
    "Каждый диапазон [a,b] в списке должен быть представлен как:  \n",
    "- \"a->b\", если a != b  \n",
    "- \"a\", если a == b  \n",
    "\n",
    "**Примеры:**  \n",
    "1. Вход: nums = [0,1,2,4,5,7]  \n",
    "   Выход: [\"0->2\",\"4->5\",\"7\"]  \n",
    "   Объяснение: Диапазоны:  \n",
    "   [0,2] --> \"0->2\"  \n",
    "   [4,5] --> \"4->5\"  \n",
    "   [7,7] --> \"7\"  \n",
    "\n",
    "2. Вход: nums = [0,2,3,4,6,8,9]  \n",
    "   Выход: [\"0\",\"2->4\",\"6\",\"8->9\"]  \n",
    "   Объяснение: Диапазоны:  \n",
    "   [0,0] --> \"0\"  \n",
    "   [2,4] --> \"2->4\"  \n",
    "   [6,6] --> \"6\"  \n",
    "   [8,9] --> \"8->9\"  \n",
    "\n",
    "**Ограничения:**\n",
    "\n",
    "- 0 <= длина(nums) <= 20\n",
    "- -2^31 <= nums[i] <= 2^31 - 1\n",
    "- все значения в nums уникальны.\n",
    "- nums отсортирован по возрастанию.\n",
    "\n",
    "***задача с литкод [228 Summary Ranges (Easy)](https://leetcode.com/problems/summary-ranges/) привожу ее тут потому что условие на литкод отличается от того, что дают на собеседованиях***\n"
   ]
  },
  {
   "cell_type": "markdown",
   "metadata": {},
   "source": [
    "**Решение задачи 6**:  \n",
    "такой же принцип решения как у задачи 5 только используем два указателя, чтобы сразу записывать правильную форму в список и не использоать второй цикл, потому что этот вариант оказался быстрее по результатам задачи 5"
   ]
  },
  {
   "cell_type": "code",
   "execution_count": 54,
   "metadata": {},
   "outputs": [],
   "source": [
    "def summaryRanges(nums: List[int]) -> List[str]:\n",
    "    if not nums:\n",
    "        return []\n",
    "\n",
    "    res = []\n",
    "    start = nums[0]\n",
    "    end = nums[0]\n",
    "\n",
    "    for i in range(1, len(nums)):\n",
    "        if nums[i] == end + 1:\n",
    "            end = nums[i]\n",
    "        else:\n",
    "            if start == end:\n",
    "                res.append(str(start))\n",
    "            else:\n",
    "                res.append(f'{start}->{end}')\n",
    "            start = end = nums[i]\n",
    "\n",
    "    if start == end:\n",
    "        res.append(str(start))\n",
    "    else:\n",
    "        res.append(f'{start}->{end}')\n",
    "\n",
    "    return res"
   ]
  },
  {
   "cell_type": "code",
   "execution_count": 55,
   "metadata": {},
   "outputs": [
    {
     "data": {
      "text/plain": [
       "['0', '2->4', '6', '8->9']"
      ]
     },
     "execution_count": 55,
     "metadata": {},
     "output_type": "execute_result"
    }
   ],
   "source": [
    "summaryRanges([0,2,3,4,6,8,9])"
   ]
  },
  {
   "cell_type": "markdown",
   "metadata": {},
   "source": [
    "Runtime == 33ms (Beats 85.34%of users with Python3)  \n",
    "Memory (Beats 17.87%of users with Python3)"
   ]
  },
  {
   "cell_type": "markdown",
   "metadata": {},
   "source": [
    "### Задача 7 -  Максимальная последовательность единиц при одной замене \n",
    "\n",
    "Дан бинарный массив. Вам нужно найти максимальную длину последовательных единиц, которую вы можете получить, заменив ровно один 0 на 1.\n",
    "\n",
    "**Примеры:**\n",
    "1. Вход: [1,0,1,1,0]  \n",
    "   Вывод: 4  \n",
    "   Объяснение: Замените первый 0 на 1, массив станет [1,1,1,1,0].  \n",
    "\n",
    "2. Вход: [1,0,1,1,0,1]  \n",
    "   Вывод: 5  \n",
    "   Объяснение: Замените второй 0 на 1, массив станет [1,0,1,1,1,1].  \n",
    "\n",
    "***задача с собеседования Яндекс, соответвует задаче с литкод [487 Max Consecutive Ones II (Medium)](https://leetcode.com/problems/max-consecutive-ones-ii/)***"
   ]
  },
  {
   "cell_type": "markdown",
   "metadata": {},
   "source": [
    "**Решение задачи 7 вариант 1**:\n",
    "1. Инициализация:\n",
    "  - Установите два указателя left и right в начало массива.\n",
    "  - Создайте переменную max_ones для отслеживания максимального количества последовательных единиц.\n",
    "  - Создайте переменную zero_count для отслеживания количества нулей в текущем окне.\n",
    "2. Скользящее окно:\n",
    "  - Расширяйте правый указатель right на один шаг вправо на каждой итерации.\n",
    "  - Если текущий элемент под указателем right равен 0, увеличьте zero_count.\n",
    "  - Пока zero_count больше 1, сдвигайте левый указатель left вправо и уменьшайте zero_count, если элемент под указателем left равен 0.\n",
    "  - Обновите max_ones, установив его равным максимальному значению между max_ones и разницей между right и left плюс 1 (размер текущего окна).\n",
    "3. Результат:\n",
    "  - После завершения обхода массива max_ones будет содержать максимальное количество последовательных единиц, которое можно получить, заменив ровно один 0 на 1.\n",
    "4. Обработка пограничных значений:\n",
    "  - если длина меньше 2 возвращай длину\n",
    "  - если сумма больше длинны списка минус 2 возвращай длинну"
   ]
  },
  {
   "cell_type": "code",
   "execution_count": 56,
   "metadata": {},
   "outputs": [],
   "source": [
    "def find_max_consecutive_ones(nums):\n",
    "    if len(nums) < 2 or np.sum(nums) > len(nums) - 2:\n",
    "        return len(nums)\n",
    "\n",
    "    left = 0\n",
    "    zero_count = 1 - nums[0]\n",
    "    max_ones = 1\n",
    "\n",
    "    for right in range(1, len(nums)):\n",
    "        if nums[right] == 0:\n",
    "            zero_count += 1\n",
    "\n",
    "        while zero_count > 1:\n",
    "            if nums[left] == 0:\n",
    "                zero_count -= 1\n",
    "            left += 1\n",
    "\n",
    "        max_ones = max(max_ones, right - left + 1)\n",
    "\n",
    "    return max_ones"
   ]
  },
  {
   "cell_type": "code",
   "execution_count": 57,
   "metadata": {},
   "outputs": [
    {
     "data": {
      "text/plain": [
       "0"
      ]
     },
     "execution_count": 57,
     "metadata": {},
     "output_type": "execute_result"
    }
   ],
   "source": [
    "nums = []\n",
    "find_max_consecutive_ones(nums)"
   ]
  },
  {
   "cell_type": "code",
   "execution_count": 58,
   "metadata": {},
   "outputs": [
    {
     "data": {
      "text/plain": [
       "1"
      ]
     },
     "execution_count": 58,
     "metadata": {},
     "output_type": "execute_result"
    }
   ],
   "source": [
    "nums = [0]\n",
    "find_max_consecutive_ones(nums)"
   ]
  },
  {
   "cell_type": "code",
   "execution_count": 59,
   "metadata": {},
   "outputs": [
    {
     "data": {
      "text/plain": [
       "5"
      ]
     },
     "execution_count": 59,
     "metadata": {},
     "output_type": "execute_result"
    }
   ],
   "source": [
    "nums = [1, 0, 1, 1, 0, 1, 1]\n",
    "find_max_consecutive_ones(nums)"
   ]
  },
  {
   "cell_type": "code",
   "execution_count": 60,
   "metadata": {},
   "outputs": [
    {
     "data": {
      "text/plain": [
       "7"
      ]
     },
     "execution_count": 60,
     "metadata": {},
     "output_type": "execute_result"
    }
   ],
   "source": [
    "nums = [1, 1, 1, 0, 1, 0, 0, 1, 1, 1, 1, 1, 1, 0]\n",
    "find_max_consecutive_ones(nums)"
   ]
  },
  {
   "cell_type": "code",
   "execution_count": 61,
   "metadata": {},
   "outputs": [
    {
     "data": {
      "text/plain": [
       "[0, 1, 1, 1, 1, 1, 1, 0, 0, 1, 0, 1, 1, 1]"
      ]
     },
     "execution_count": 61,
     "metadata": {},
     "output_type": "execute_result"
    }
   ],
   "source": [
    "nums[::-1]"
   ]
  },
  {
   "cell_type": "code",
   "execution_count": 62,
   "metadata": {},
   "outputs": [
    {
     "data": {
      "text/plain": [
       "7"
      ]
     },
     "execution_count": 62,
     "metadata": {},
     "output_type": "execute_result"
    }
   ],
   "source": [
    "find_max_consecutive_ones(nums[::-1])"
   ]
  },
  {
   "cell_type": "code",
   "execution_count": 63,
   "metadata": {},
   "outputs": [
    {
     "data": {
      "text/plain": [
       "10"
      ]
     },
     "execution_count": 63,
     "metadata": {},
     "output_type": "execute_result"
    }
   ],
   "source": [
    "find_max_consecutive_ones([1] * 10)"
   ]
  },
  {
   "cell_type": "code",
   "execution_count": 64,
   "metadata": {},
   "outputs": [
    {
     "data": {
      "text/plain": [
       "(11, 11)"
      ]
     },
     "execution_count": 64,
     "metadata": {},
     "output_type": "execute_result"
    }
   ],
   "source": [
    "find_max_consecutive_ones([0]+ ([1] * 10)), find_max_consecutive_ones(([1] * 10) + [0])"
   ]
  },
  {
   "cell_type": "code",
   "execution_count": 65,
   "metadata": {},
   "outputs": [],
   "source": [
    "def find_max_consecutive_ones2(nums):\n",
    "    if len(nums) < 2 or np.sum(nums) > len(nums) - 2:\n",
    "        return len(nums)\n",
    "\n",
    "    max_ones = 0\n",
    "    curr_ones = 0\n",
    "    most_recent_zero = -1\n",
    "    ones_before_recent_zero = 0\n",
    "\n",
    "    for i in range(len(nums)):\n",
    "        if nums[i] == 1:\n",
    "            curr_ones += 1\n",
    "        else:\n",
    "            if most_recent_zero != -1:\n",
    "                max_ones = max(max_ones, curr_ones + ones_before_recent_zero + 1)\n",
    "            else:\n",
    "                max_ones = max(max_ones, curr_ones)\n",
    "\n",
    "            ones_before_recent_zero = curr_ones\n",
    "            curr_ones = 0\n",
    "            most_recent_zero = i\n",
    "\n",
    "    max_ones = max(max_ones, curr_ones)\n",
    "\n",
    "    return max_ones"
   ]
  },
  {
   "cell_type": "code",
   "execution_count": 66,
   "metadata": {},
   "outputs": [
    {
     "data": {
      "text/plain": [
       "7"
      ]
     },
     "execution_count": 66,
     "metadata": {},
     "output_type": "execute_result"
    }
   ],
   "source": [
    "find_max_consecutive_ones2(nums)"
   ]
  },
  {
   "cell_type": "code",
   "execution_count": 67,
   "metadata": {},
   "outputs": [],
   "source": [
    "def generate_binary_list(length):\n",
    "    return [random.choice([0, 1]) for _ in range(length)]"
   ]
  },
  {
   "cell_type": "code",
   "execution_count": 68,
   "metadata": {},
   "outputs": [
    {
     "data": {
      "text/plain": [
       "[0, 0, 1, 1, 0, 1, 0, 0, 1, 0, 0, 1, 0, 0, 1, 0, 0, 0, 0, 1]"
      ]
     },
     "execution_count": 68,
     "metadata": {},
     "output_type": "execute_result"
    }
   ],
   "source": [
    "binary_list = generate_binary_list(1000)\n",
    "binary_list[:20]"
   ]
  },
  {
   "cell_type": "code",
   "execution_count": 69,
   "metadata": {},
   "outputs": [
    {
     "data": {
      "text/plain": [
       "12"
      ]
     },
     "execution_count": 69,
     "metadata": {},
     "output_type": "execute_result"
    }
   ],
   "source": [
    "find_max_consecutive_ones(binary_list)"
   ]
  },
  {
   "cell_type": "code",
   "execution_count": 70,
   "metadata": {},
   "outputs": [
    {
     "name": "stdout",
     "output_type": "stream",
     "text": [
      "672 µs ± 90.7 µs per loop (mean ± std. dev. of 7 runs, 1000 loops each)\n"
     ]
    }
   ],
   "source": [
    "%timeit -n 1000  find_max_consecutive_ones(binary_list)"
   ]
  },
  {
   "cell_type": "code",
   "execution_count": 71,
   "metadata": {},
   "outputs": [
    {
     "name": "stdout",
     "output_type": "stream",
     "text": [
      "345 µs ± 59.7 µs per loop (mean ± std. dev. of 7 runs, 1000 loops each)\n"
     ]
    }
   ],
   "source": [
    "%timeit -n 1000  find_max_consecutive_ones2(binary_list)"
   ]
  },
  {
   "cell_type": "markdown",
   "metadata": {},
   "source": [
    "### Задача 8. - 487 Максимальное количество последовательных единиц при удалении одного элемента (Medium)\n",
    "\n",
    "Дан бинарный массив, необходимо найти максимальное количество последовательных единиц в этом массиве, если можно перевернуть максимум один 0.\n",
    "\n",
    "**Примеры:**\n",
    "\n",
    "1. Вход: nums = [1,0,1,1,0]  \n",
    "   Выход: 4  \n",
    "   Объяснение: Перевернуть первый ноль, чтобы получить максимальное количество последовательных единиц. После переворачивания максимальное количество последовательных единиц будет 4.\n",
    "\n",
    "2. Вход: nums = [1,0,1,0,1]  \n",
    "   Выход: 3  \n",
    "   Объяснение: Перевернуть каждый ноль, чтобы получить максимальное количество последовательных единиц. После переворачивания максимальное количество последовательных единиц будет 3.\n",
    "\n",
    "**Ограничения:**\n",
    "\n",
    "- Входной массив будет содержать только 0 и 1.\n",
    "- Длина входного массива - положительное целое число и не превышает 10,000.\n",
    "\n",
    "***задача с leetcode [487 Max Consecutive Ones II (Medium)](https://leetcode.com/problems/max-consecutive-ones-ii/) привожу ее тут потому что условие на leetcode отличается от того, что дают на собеседованиях***\n"
   ]
  },
  {
   "cell_type": "code",
   "execution_count": 72,
   "metadata": {},
   "outputs": [],
   "source": [
    "from typing import List\n",
    "\n",
    "class Solution:\n",
    "    \"\"\"\n",
    "    @param nums: a list of integer\n",
    "    @return: return an integer, denote the maximum number of consecutive 1s\n",
    "    \"\"\"\n",
    "    def find_max_consecutive_ones(self, nums: List[int]) -> int:\n",
    "        if len(nums) < 2 or sum(nums) > len(nums) - 2:\n",
    "            return len(nums)\n",
    "\n",
    "        max_ones = 0\n",
    "        curr_ones = 0\n",
    "        most_recent_zero = -1\n",
    "        ones_before_recent_zero = 0\n",
    "\n",
    "        for i in range(len(nums)):\n",
    "            if nums[i] == 1:\n",
    "                curr_ones += 1\n",
    "            else:\n",
    "                if most_recent_zero != -1:\n",
    "                    max_ones = max(max_ones, curr_ones + ones_before_recent_zero + 1)\n",
    "                else:\n",
    "                    max_ones = max(max_ones, curr_ones)\n",
    "\n",
    "                ones_before_recent_zero = curr_ones\n",
    "                curr_ones = 0\n",
    "                most_recent_zero = i\n",
    "\n",
    "        max_ones = max(max_ones, curr_ones + ones_before_recent_zero + 1)\n",
    "\n",
    "        return max_ones"
   ]
  },
  {
   "cell_type": "code",
   "execution_count": 73,
   "metadata": {},
   "outputs": [
    {
     "data": {
      "text/plain": [
       "0"
      ]
     },
     "execution_count": 73,
     "metadata": {},
     "output_type": "execute_result"
    }
   ],
   "source": [
    "solution = Solution()\n",
    "nums = []\n",
    "solution.find_max_consecutive_ones(nums)"
   ]
  },
  {
   "cell_type": "code",
   "execution_count": 74,
   "metadata": {},
   "outputs": [
    {
     "data": {
      "text/plain": [
       "1"
      ]
     },
     "execution_count": 74,
     "metadata": {},
     "output_type": "execute_result"
    }
   ],
   "source": [
    "nums = [0]\n",
    "solution.find_max_consecutive_ones(nums)"
   ]
  },
  {
   "cell_type": "code",
   "execution_count": 75,
   "metadata": {},
   "outputs": [
    {
     "data": {
      "text/plain": [
       "5"
      ]
     },
     "execution_count": 75,
     "metadata": {},
     "output_type": "execute_result"
    }
   ],
   "source": [
    "nums = [1, 0, 1, 1, 0, 1, 1]\n",
    "solution.find_max_consecutive_ones(nums)"
   ]
  },
  {
   "cell_type": "code",
   "execution_count": 76,
   "metadata": {},
   "outputs": [
    {
     "data": {
      "text/plain": [
       "7"
      ]
     },
     "execution_count": 76,
     "metadata": {},
     "output_type": "execute_result"
    }
   ],
   "source": [
    "nums = [1, 1, 1, 0, 1, 0, 0, 1, 1, 1, 1, 1, 1, 0]\n",
    "solution.find_max_consecutive_ones(nums)"
   ]
  },
  {
   "cell_type": "code",
   "execution_count": 77,
   "metadata": {},
   "outputs": [
    {
     "data": {
      "text/plain": [
       "7"
      ]
     },
     "execution_count": 77,
     "metadata": {},
     "output_type": "execute_result"
    }
   ],
   "source": [
    "solution.find_max_consecutive_ones(nums[::-1])"
   ]
  },
  {
   "cell_type": "code",
   "execution_count": 78,
   "metadata": {},
   "outputs": [
    {
     "data": {
      "text/plain": [
       "10"
      ]
     },
     "execution_count": 78,
     "metadata": {},
     "output_type": "execute_result"
    }
   ],
   "source": [
    "solution.find_max_consecutive_ones([1] * 10)"
   ]
  },
  {
   "cell_type": "code",
   "execution_count": 79,
   "metadata": {},
   "outputs": [
    {
     "data": {
      "text/plain": [
       "(11, 11)"
      ]
     },
     "execution_count": 79,
     "metadata": {},
     "output_type": "execute_result"
    }
   ],
   "source": [
    "solution.find_max_consecutive_ones([0]+ ([1] * 10)), solution.find_max_consecutive_ones(([1] * 10) + [0])"
   ]
  },
  {
   "cell_type": "markdown",
   "metadata": {},
   "source": [
    "### Задача 9 -  Поиск числа в массиве, которое меньше заданного и ближайшее к нему\n",
    "\n",
    "Эта задача оказалась муторной и долгой, из-за того что ничего кроме формулировки не давалось. И как оказалось далее нужно было через уточнияющие вопросы доопределить условие задачи. Оно оказалось таким - надо было сформировать условие задачи примерно как шаблону выше. То есть уточнить формулировку до состояния при котором можно приступать к созданию кода. Написать пример и/или два на которых будет тестироваться решение. Самое муторное отпределить все граничные условия. Интервьюер назвал это тестом на знания TDD и умение определять граничные условия задачи. Поэтому ответы к этой задаче частично будут представлены в маркдаун и потом уже будет идти код.\n",
    "\n",
    "***задача с собеседования ГК Самолет, отдаленно соответствует задаче с литкод [35. Search Insert Position (Easy) (Поиск позиции для вставки)](https://leetcode.com/problems/search-insert-position/)***"
   ]
  },
  {
   "cell_type": "markdown",
   "metadata": {},
   "source": [
    "**Решение задачи 9 вариант 1**: \n",
    "\n",
    "Ответ к задаче 9 (часть 1) - вот такая формулировка задачи получилась после уточнения условия задачи и формулирования граничных условий\n",
    "\n",
    "#### Задача 9 - Нахождение ближайшего меньшего или равного числа\n",
    "\n",
    "Дан отсортированный массив, представленный в виде списка, и задано число. Элементы массива положительные целые числа. Заданное число целое. Необходимо найти в этом массиве ближайшее число, которое меньше или равно заданному.\n",
    "\n",
    "**Примеры:**\n",
    "\n",
    "1. Вход: массив = [1, 3, 5, 7, 9], число = 6  \n",
    "   Вывод: 5  \n",
    "   Объяснение: Число 5 - ближайшее к 6, которое меньше или равно 6.\n",
    "\n",
    "2. Вход: массив = [1, 2, 3, 4, 5, 7], число = 5  \n",
    "   Вывод: 5  \n",
    "   Объяснение: Число 5 равно заданному, оно и является ответом.\n",
    "\n",
    "3. Вход: массив = [1, 2, 3, 4, 5, 6], число = 0  \n",
    "   Вывод: Нет подходящего числа  \n",
    "   Объяснение: В массиве нет числа, которое меньше или равно 0.\n",
    "\n",
    "**Ограничения:**\n",
    "- 0 <= длина массива <= 10^4\n",
    "- 0 < элементы массива <= 10^4\n",
    "- -10^4 <= заданное число <= 10^4\n"
   ]
  },
  {
   "cell_type": "markdown",
   "metadata": {},
   "source": [
    "**Ответ к задаче 9 (часть 2)** - вот какие условия я не указал в виде примеров, а нужно было их указать в виде примеров, чтобы сделать решение оптимальным.\n",
    "\n",
    "**Примеры:**\n",
    "\n",
    "4. Вход: массив = [1, 3, 5, 7, 9], число = 10  \n",
    "   Вывод: 9  \n",
    "   Объяснение: Число 10 слишком велико и выходит за границы массива\n",
    "\n",
    "5. Вход: массив = [1, 2, 3, 4, 5, 7], число = 1  \n",
    "   Вывод: 1  \n",
    "   Объяснение: Левая граница массива\n",
    "\n",
    "6. Вход: массив = [1, 2, 3, 4, 5, 6], число = 6  \n",
    "   Вывод: 6  \n",
    "   Объяснение: Правая граница массива\n",
    "\n",
    "7. Вход: массив = [], число = 6  \n",
    "   Вывод: -1  \n",
    "   Объяснение: Массив пуст\n",
    "\n",
    "8. Вход: массив = None, число = 6  \n",
    "   Вывод: -1  \n",
    "   Объяснение: Неверный аргумент\n",
    "\n",
    "9. Вход: массив = [1, 2, 3, 4, 5, 6], число = None  \n",
    "   Вывод: -1  \n",
    "   Объяснение: Неверный аргумент"
   ]
  },
  {
   "cell_type": "markdown",
   "metadata": {},
   "source": [
    "**Ответ к задаче 9 (часть 3)** - далее как выяснилось, если я знаком и следую принципам TDD (Test-Driven Development) (Разработка через тестирование), то я должен был начать писать тесты, а не писать класс с решением. Как понимаете я это не сделал, но вам пишу правильную (ожидаемую) последовательность шагов.  \n",
    "Test-Driven Development - методология разработки программного обеспечения, при которой сначала пишутся тесты для новой функциональности, и только потом реализуется сам код, который должен пройти эти тесты. Это подход, который подчеркивает важность тестирования и разработки в малых итерациях."
   ]
  },
  {
   "cell_type": "code",
   "execution_count": 80,
   "metadata": {},
   "outputs": [],
   "source": [
    "import unittest\n",
    "\n",
    "class TestArraySearch(unittest.TestCase):\n",
    "    def setUp(self):\n",
    "        self.array_search = ArraySearch()\n",
    "\n",
    "    def test_find_closest_normal_case(self):\n",
    "        self.assertEqual(self.array_search.find_closest([1, 3, 5, 7, 9], 6), 5)\n",
    "        self.assertEqual(self.array_search.find_closest([1, 2, 3, 4, 5, 7], 5), 5)\n",
    "        self.assertEqual(self.array_search.find_closest([1, 2, 3, 4, 5, 6], 6), 6)\n",
    "\n",
    "    def test_find_closest_edge_case(self):\n",
    "        self.assertEqual(self.array_search.find_closest([1, 3, 5, 7, 9], 10), 9)\n",
    "        self.assertEqual(self.array_search.find_closest([1, 2, 3, 4, 5, 7], 1), 1)\n",
    "\n",
    "    def test_find_closest_empty_array(self):\n",
    "        self.assertEqual(self.array_search.find_closest([], 6), -1)\n",
    "\n",
    "    def test_find_closest_invalid_input(self):\n",
    "        self.assertEqual(self.array_search.find_closest(None, 6), -1)\n",
    "        self.assertEqual(self.array_search.find_closest([1, 2, 3, 4, 5, 6], None), -1)\n"
   ]
  },
  {
   "cell_type": "markdown",
   "metadata": {},
   "source": [
    "**Ответ к задаче 9 (часть 4)** -  после того как меня стопанули и объяснили, что начать надо было с тестов - я их написал.  \n",
    "Потом я уже насторожился и перед тем как начать писать решение сначала порассуждал на тему выбора алгоритма (метода) решения. Что было положительно отмечено интерьюером и сопровождалось следующими комментариями о том, что хорошо, что я начал рассуждать о решении и таким образом удалось сразу обсудить, что метод должен с трудоемкостью не выше О(lg(n)) и не писать простой перебор с трудоемкостью O(n)."
   ]
  },
  {
   "cell_type": "code",
   "execution_count": 81,
   "metadata": {},
   "outputs": [],
   "source": [
    "class ArraySearch:\n",
    "    def find_closest(self, array, target):\n",
    "        if array is None or target is None:\n",
    "            return -1\n",
    "        if not array:\n",
    "            return -1\n",
    "\n",
    "        n = len(array)\n",
    "\n",
    "        # Проверка граничных условий\n",
    "        if target < array[0]:\n",
    "            return -1\n",
    "        if target == array[0] or target == array[1]:\n",
    "            return target\n",
    "        if target >= array[n - 1]:\n",
    "            return array[n - 1]\n",
    "        if target == array[n - 2]:\n",
    "            return array[n - 2]\n",
    "\n",
    "        # Инициализация для бинарного поиска\n",
    "        left, right = 0, n - 1\n",
    "\n",
    "        # Бинарный поиск\n",
    "        while left <= right:\n",
    "            mid = left + (right - left) // 2\n",
    "            if array[mid] > target:\n",
    "                right = mid - 1\n",
    "            else:\n",
    "                left = mid + 1\n",
    "\n",
    "        return array[right]"
   ]
  },
  {
   "cell_type": "markdown",
   "metadata": {},
   "source": [
    "Не удивляйтесь - проверка первого и последнего элемента на равенство тут не спроста. По ходу решения и отладки шло обсуждение производительности и выяснилось, что данный метод мы будем использовать в следующей задаче:\n",
    "\n",
    "Оптимизация выбора границы для разбиения в решающем дереве. Описание задачи: Вы разрабатываете алгоритм для решающего дерева, который использует квантили значений признаков для определения границ разбиения. Ваш алгоритм получает отсортированный массив значений признака и значение квантиля. Задача состоит в том, чтобы эффективно найти ближайшее значение к заданному квантилю, причем это значение должно быть равно или меньше квантиля. Особенностью задачи является то, что часто квантиль близок к началу или концу массива значений. Например: массив значений признака: [1, 3, 3, 4, 5, 7, 7, 8] первый (25%) квантиль == 3, а последний (75%) == 7.  \n",
    "Таким образом, добавление проверок для второго и предпоследнего элементов может быть полезным в сценариях, когда квантили часто попадают близко к границам распределения значений признаков.  \n",
    "\n",
    "Вероятно итервьюер хотел более изящной оптимизации для хвостов, но я ничего лучше не придумал и сослался на то что трудоемкость метода соответствует заявленной и такие две проверки как-то повысят оптимальность."
   ]
  },
  {
   "cell_type": "markdown",
   "metadata": {},
   "source": [
    "Дальше я запустил тест"
   ]
  },
  {
   "cell_type": "code",
   "execution_count": 82,
   "metadata": {},
   "outputs": [],
   "source": [
    "t = TestArraySearch()\n",
    "t.setUp()\n",
    "t.test_find_closest_normal_case()"
   ]
  },
  {
   "cell_type": "markdown",
   "metadata": {},
   "source": [
    "Оказалось что такой подход не совсем оптимальный. Потому что прямой вызов метода теста:\n",
    "- не предоставляет подробной информации об ошибках автоматически.\n",
    "- не подсчитывает количество успешных и неудачных тестов\n",
    "- необходимо вручную вызывать setUp() и tearDown() при необходимости\n",
    "\n",
    "Нужно было так:"
   ]
  },
  {
   "cell_type": "code",
   "execution_count": 83,
   "metadata": {},
   "outputs": [
    {
     "name": "stderr",
     "output_type": "stream",
     "text": [
      "test_find_closest_edge_case (__main__.TestArraySearch) ... ok\n",
      "test_find_closest_empty_array (__main__.TestArraySearch) ... ok\n",
      "test_find_closest_invalid_input (__main__.TestArraySearch) ... ok\n",
      "test_find_closest_normal_case (__main__.TestArraySearch) ... ok\n",
      "\n",
      "----------------------------------------------------------------------\n",
      "Ran 4 tests in 0.006s\n",
      "\n",
      "OK\n"
     ]
    },
    {
     "data": {
      "text/plain": [
       "<unittest.runner.TextTestResult run=4 errors=0 failures=0>"
      ]
     },
     "execution_count": 83,
     "metadata": {},
     "output_type": "execute_result"
    }
   ],
   "source": [
    "loader = unittest.TestLoader()\n",
    "suite = loader.loadTestsFromTestCase(TestArraySearch)\n",
    "runner = unittest.TextTestRunner(verbosity=2)\n",
    "runner.run(suite)"
   ]
  },
  {
   "cell_type": "markdown",
   "metadata": {},
   "source": [
    "Дальше по традиции приведу решение на встроенных функциях. Его не было на собеседовании, но для сравнения производительности будет пользно."
   ]
  },
  {
   "cell_type": "code",
   "execution_count": 84,
   "metadata": {},
   "outputs": [],
   "source": [
    "import bisect\n",
    "\n",
    "class ArraySearch_bisect:\n",
    "    def find_closest(self, array, target):\n",
    "        if array is None or target is None or not array:\n",
    "            return -1\n",
    "\n",
    "        # Находим позицию, где должен был бы находиться target\n",
    "        index = bisect.bisect_left(array, target)\n",
    "\n",
    "        # Если target меньше первого элемента массива или равен ему\n",
    "        if index == 0:\n",
    "            return array[0]\n",
    "\n",
    "        # Если target больше последнего элемента массива\n",
    "        if index == len(array):\n",
    "            return array[-1]\n",
    "\n",
    "        # Если target равен элементу в массиве\n",
    "        if array[index] == target:\n",
    "            return array[index]\n",
    "\n",
    "        # Возвращаем элемент, который строго меньше target\n",
    "        return array[index - 1]\n",
    "\n",
    "\n"
   ]
  },
  {
   "cell_type": "code",
   "execution_count": 85,
   "metadata": {},
   "outputs": [],
   "source": [
    "class TestArraySearch_bisect(unittest.TestCase):\n",
    "    def setUp(self):\n",
    "        self.array_search = ArraySearch_bisect()\n",
    "\n",
    "    def test_find_closest_normal_case(self):\n",
    "        self.assertEqual(self.array_search.find_closest([1, 3, 5, 7, 9], 6), 5)\n",
    "        self.assertEqual(self.array_search.find_closest([1, 2, 3, 4, 5, 7], 5), 5)\n",
    "        self.assertEqual(self.array_search.find_closest([1, 2, 3, 4, 5, 6], 6), 6)\n",
    "\n",
    "    def test_find_closest_edge_case(self):\n",
    "        self.assertEqual(self.array_search.find_closest([1, 3, 5, 7, 9], 10), 9)\n",
    "        self.assertEqual(self.array_search.find_closest([1, 2, 3, 4, 5, 7], 1), 1)\n",
    "\n",
    "    def test_find_closest_empty_array(self):\n",
    "        self.assertEqual(self.array_search.find_closest([], 6), -1)\n",
    "\n",
    "    def test_find_closest_invalid_input(self):\n",
    "        self.assertEqual(self.array_search.find_closest(None, 6), -1)\n",
    "        self.assertEqual(self.array_search.find_closest([1, 2, 3, 4, 5, 6], None), -1)"
   ]
  },
  {
   "cell_type": "code",
   "execution_count": 86,
   "metadata": {},
   "outputs": [
    {
     "name": "stderr",
     "output_type": "stream",
     "text": [
      "test_find_closest_edge_case (__main__.TestArraySearch_bisect) ... ok\n",
      "test_find_closest_empty_array (__main__.TestArraySearch_bisect) ... ok\n",
      "test_find_closest_invalid_input (__main__.TestArraySearch_bisect) ... ok\n",
      "test_find_closest_normal_case (__main__.TestArraySearch_bisect) ... ok\n",
      "\n",
      "----------------------------------------------------------------------\n",
      "Ran 4 tests in 0.005s\n",
      "\n",
      "OK\n"
     ]
    },
    {
     "data": {
      "text/plain": [
       "<unittest.runner.TextTestResult run=4 errors=0 failures=0>"
      ]
     },
     "execution_count": 86,
     "metadata": {},
     "output_type": "execute_result"
    }
   ],
   "source": [
    "suite_bisect = loader.loadTestsFromTestCase(TestArraySearch_bisect)\n",
    "runner = unittest.TextTestRunner(verbosity=2)\n",
    "runner.run(suite_bisect)"
   ]
  },
  {
   "cell_type": "code",
   "execution_count": 87,
   "metadata": {},
   "outputs": [
    {
     "name": "stdout",
     "output_type": "stream",
     "text": [
      "Время выполнения метода 1: 0.032148551999853225 секунд\n",
      "Время выполнения метода 2: 0.009149768000497716 секунд\n"
     ]
    }
   ],
   "source": [
    "import timeit\n",
    "import random\n",
    "\n",
    "# Создание длинного массива для тестирования\n",
    "long_array = sorted(random.randint(0, 10000) for _ in range(1000))\n",
    "\n",
    "# Тестируемая функция для первой версии\n",
    "def test_method_1():\n",
    "    search = ArraySearch()\n",
    "    for target in long_array:  \n",
    "        search.find_closest(long_array, target)\n",
    "\n",
    "# Тестируемая функция для второй версии\n",
    "def test_method_2():\n",
    "    search = ArraySearch_bisect()\n",
    "    for target in long_array:\n",
    "        search.find_closest(long_array, target)\n",
    "\n",
    "# Замер времени выполнения\n",
    "time_1 = timeit.timeit(test_method_1, number=10)\n",
    "time_2 = timeit.timeit(test_method_2, number=10)\n",
    "\n",
    "print(f\"Время выполнения метода 1: {time_1} секунд\")\n",
    "print(f\"Время выполнения метода 2: {time_2} секунд\")\n"
   ]
  },
  {
   "cell_type": "markdown",
   "metadata": {},
   "source": [
    "### Задача 10 - 35 Поиск позиции для вставки (Easy)\n",
    "\n",
    "Дан отсортированный массив уникальных целых чисел и целевое значение. Необходимо вернуть индекс, если целевое значение найдено. Если нет, вернуть индекс, где оно могло бы быть вставлено в массив.\n",
    "\n",
    "Алгоритм должен иметь временную сложность O(log n).\n",
    "\n",
    "**Примеры:**\n",
    "\n",
    "1. Вход: nums = [1,3,5,6], target = 5  \n",
    "   Выход: 2  \n",
    "   Объяснение: Целевое значение 5 находится на индексе 2.\n",
    "\n",
    "2. Вход: nums = [1,3,5,6], target = 2  \n",
    "   Выход: 1  \n",
    "   Объяснение: Если вставить 2 в массив, он будет на позиции с индексом 1.\n",
    "\n",
    "3. Вход: nums = [1,3,5,6], target = 7  \n",
    "   Выход: 4  \n",
    "   Объяснение: Если вставить 7 в массив, он будет на позиции с индексом 4.\n",
    "\n",
    "**Ограничения:**\n",
    "\n",
    "- 1 <= len(nums) <= 10^4\n",
    "- -10^4 <= nums[i] <= 10^4\n",
    "- Массив nums содержит уникальные значения, отсортированные в порядке возрастания\n",
    "- -10^4 <= target <= 10^4\n",
    "\n",
    "***задача с leetcode [35. Search Insert Position (Easy) (Поиск позиции для вставки)](https://leetcode.com/problems/search-insert-position/) привожу ее тут потому что условие на leetcode отличается от того, что дают на собеседованиях***\n"
   ]
  },
  {
   "cell_type": "markdown",
   "metadata": {},
   "source": [
    "ну раз мы начали кодить как люди, которые следуют TDD будем продожать в этом духе и сначала напишем тесты"
   ]
  },
  {
   "cell_type": "code",
   "execution_count": 88,
   "metadata": {},
   "outputs": [],
   "source": [
    "class TestSolution(unittest.TestCase):\n",
    "    def setUp(self):\n",
    "        self.solution = Solution()\n",
    "\n",
    "    def test_main_function(self):\n",
    "        self.assertEqual(self.solution.search_insert([1,3,5,6], 5), 2)\n",
    "        self.assertEqual(self.solution.search_insert([1,3,5,6], 2), 1)\n",
    "        self.assertEqual(self.solution.search_insert([1,3,5,6], 7), 4)\n"
   ]
  },
  {
   "cell_type": "markdown",
   "metadata": {},
   "source": [
    "**Решение задачи 10**: реализует алгоритм бинарного поиска.  \n",
    "\n",
    "1. **Инициализация:**\n",
    "   - Определяются начальные значения переменных `left` и `right`, которые указывают на начало и конец массива `nums`.\n",
    "\n",
    "2. **Выполнение бинарного поиска:**\n",
    "   - Пока `left` не превышает `right`, выполняются следующие действия:\n",
    "     - Вычисляется `mid`, индекс среднего элемента текущего подмассива, путем сложения `left` и `(right - left) // 2`.\n",
    "     - Если элемент `nums[mid]` меньше `target`, то `left` сдвигается к `mid + 1`.\n",
    "     - Если `nums[mid]` больше или равно `target`, то `right` сдвигается к `mid - 1`.\n",
    "\n",
    "3. **Возвращение результата:**\n",
    "   - После завершения цикла, `left` указывает на индекс, где `target` должен быть вставлен в массив (или на индекс, где `target` находится, если он присутствует в массиве).\n",
    "\n",
    "Алгоритм бинарного поиска обеспечивает эффективность решения благодаря логарифмической сложности O(log n)\n"
   ]
  },
  {
   "cell_type": "code",
   "execution_count": 89,
   "metadata": {},
   "outputs": [],
   "source": [
    "class Solution:\n",
    "    def search_insert(self, nums: List[int], target: int) -> int:\n",
    "\n",
    "        # Инициализация для бинарного поиска\n",
    "        left, right = 0, len(nums) - 1\n",
    "\n",
    "        # Бинарный поиск\n",
    "        while left <= right:\n",
    "            mid = left + (right - left) // 2\n",
    "            if nums[mid] < target:\n",
    "                left = mid + 1\n",
    "            else:\n",
    "                right = mid - 1\n",
    "\n",
    "        return left\n"
   ]
  },
  {
   "cell_type": "code",
   "execution_count": 91,
   "metadata": {},
   "outputs": [
    {
     "name": "stderr",
     "output_type": "stream",
     "text": [
      "test_main_function (__main__.TestSolution) ... ok\n",
      "\n",
      "----------------------------------------------------------------------\n",
      "Ran 1 test in 0.002s\n",
      "\n",
      "OK\n"
     ]
    },
    {
     "data": {
      "text/plain": [
       "<unittest.runner.TextTestResult run=1 errors=0 failures=0>"
      ]
     },
     "execution_count": 91,
     "metadata": {},
     "output_type": "execute_result"
    }
   ],
   "source": [
    "suite = loader.loadTestsFromTestCase(TestSolution)\n",
    "runner = unittest.TextTestRunner(verbosity=2)\n",
    "runner.run(suite)"
   ]
  },
  {
   "cell_type": "markdown",
   "metadata": {},
   "source": [
    "Runtime == 35ms (Beats 99.94%of users with Python3)  \n",
    "Memory (Beats 17.16%of users with Python3)"
   ]
  }
 ],
 "metadata": {
  "kernelspec": {
   "display_name": "Python 3",
   "language": "python",
   "name": "python3"
  },
  "language_info": {
   "codemirror_mode": {
    "name": "ipython",
    "version": 3
   },
   "file_extension": ".py",
   "mimetype": "text/x-python",
   "name": "python",
   "nbconvert_exporter": "python",
   "pygments_lexer": "ipython3",
   "version": "3.8.10"
  }
 },
 "nbformat": 4,
 "nbformat_minor": 2
}
