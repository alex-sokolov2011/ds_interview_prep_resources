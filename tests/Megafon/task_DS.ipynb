{
  "nbformat": 4,
  "nbformat_minor": 0,
  "metadata": {
    "colab": {
      "provenance": [],
      "toc_visible": true
    },
    "kernelspec": {
      "name": "python3",
      "display_name": "Python 3"
    },
    "language_info": {
      "name": "python"
    }
  },
  "cells": [
    {
      "cell_type": "markdown",
      "source": [
        "# Секция SQL"
      ],
      "metadata": {
        "id": "3P6eikpIIVCi"
      }
    },
    {
      "cell_type": "markdown",
      "source": [
        "## Задание 1\n",
        "\n",
        "Таблица transactions пердставлена следующими полями:\n",
        "- clnt_id - уникальный идентификатор клиента;\n",
        "- service_type - идентификатор услуги (внешний ключ);\n",
        "- sum_amount - стоимость оказанной услуги в рублях;\n",
        "- charge_type - тип налога, который будет удержан с sum_amount (внешний ключ);\n",
        "\n",
        "Таблица (справочник) services:\n",
        "- service_type - уникальный идентификатор услуги;\n",
        "- service_name - название услуги;\n",
        "\n",
        "Таблица (справочник) charges:\n",
        "- charge_type - уникальный идентификатор типа налога;\n",
        "- value - процент комиссии (вещественное число от 0 до 1);\n",
        "\n",
        "Необходимо для каждой услуги <b>по названию</b> сформировать список топ-5 клиентов с максимальным суммарным налогом. Обратите внимание на то, что одна услуга может иметь несколько различных идентификаторов.\n",
        "\n",
        "Формат итоговой таблицы:\n",
        "- service_name;\n",
        "- clnt_clnt_id;\n",
        "- sum_charge;\n"
      ],
      "metadata": {
        "id": "Nogzl9sXIbnC"
      }
    },
    {
      "cell_type": "code",
      "source": [
        "import os\n",
        "import pandas as pd\n",
        "import sqlite3\n",
        "import numpy as np"
      ],
      "metadata": {
        "id": "4ntQfv_AIWYI"
      },
      "execution_count": null,
      "outputs": []
    },
    {
      "cell_type": "code",
      "source": [
        "np.random.seed(0)\n",
        "abon_pool = np.arange(1000, 1050, 1)\n",
        "services_id = np.arange(0, 10, 1)\n",
        "charges_id = np.arange(0, 15, 1)\n",
        "\n",
        "size = 10 ** 5\n",
        "data = pd.DataFrame({\n",
        "    'clnt_id': np.random.choice(abon_pool, size),\n",
        "    'service_type': np.random.choice(services_id, size),\n",
        "    'sum_amount': np.random.uniform(1, 1000, size),\n",
        "    'charge_type': np.random.choice(charges_id, size)\n",
        "})\n",
        "services_tab = pd.DataFrame({\n",
        "    'service_type': services_id,\n",
        "    'service_name': ['SMS', 'SMS', 'Call', 'Call', 'Call', 'Internet',\n",
        "                     'Internet', 'Payment', 'Payment', 'Payment']\n",
        "})\n",
        "charges_tab = pd.DataFrame({\n",
        "    'charges_type': charges_id,\n",
        "    'value': [0.1, 0.2, 0.05, 0.21, 0.3, 0.15, 0.08, 0.07, 0.09,\n",
        "                     0.13, 0.5, 0.42, 0.38, 0.16, 0.24]\n",
        "})\n",
        "\n",
        "con = sqlite3.connect(\"main.db\")\n",
        "cur = con.cursor()\n",
        "# Создаем таблицу с транзакциями\n",
        "cur.execute(\"CREATE TABLE IF NOT EXISTS transactions(clnt_id, service_type, sum_amount, charge_type)\")\n",
        "cur.execute(\"DELETE FROM transactions\")\n",
        "con.commit()\n",
        "cur.executemany(\"INSERT INTO transactions VALUES(?, ?, ?, ?)\", data.values)\n",
        "con.commit()\n",
        "# Создаем таблицу с сервисами\n",
        "cur.execute(\"CREATE TABLE IF NOT EXISTS services(service_type, service_name)\")\n",
        "cur.execute(\"DELETE FROM services\")\n",
        "con.commit()\n",
        "cur.executemany(\"INSERT INTO services VALUES(?, ?)\", services_tab.values)\n",
        "con.commit()\n",
        "# Создаем таблицу с налогами\n",
        "cur.execute(\"CREATE TABLE IF NOT EXISTS charges(charge_type, value)\")\n",
        "cur.execute(\"DELETE FROM charges\")\n",
        "con.commit()\n",
        "cur.executemany(\"INSERT INTO charges VALUES(?, ?)\", charges_tab.values)\n",
        "con.commit()\n"
      ],
      "metadata": {
        "id": "wVH1JLV_IWfh"
      },
      "execution_count": null,
      "outputs": []
    },
    {
      "cell_type": "code",
      "source": [
        "# Здесь напишите решение\n",
        "query = \"\"\"\n",
        "SELECT * FROM transactions LIMIT 10\n",
        "\"\"\"\n",
        "\n",
        "cur.execute(query)\n",
        "res = cur.fetchall()\n",
        "res"
      ],
      "metadata": {
        "colab": {
          "base_uri": "https://localhost:8080/"
        },
        "id": "aQRv_KESIWiC",
        "outputId": "385fed4b-84db-4fc6-81e7-27324d4c046e"
      },
      "execution_count": null,
      "outputs": [
        {
          "output_type": "execute_result",
          "data": {
            "text/plain": [
              "[(1044.0, 3.0, 357.5439254754585, 0.0),\n",
              " (1047.0, 0.0, 367.02606795120994, 8.0),\n",
              " (1000.0, 3.0, 266.16512435929263, 12.0),\n",
              " (1003.0, 3.0, 419.8037865126452, 12.0),\n",
              " (1003.0, 6.0, 882.55542359535, 11.0),\n",
              " (1039.0, 0.0, 136.24547587762027, 8.0),\n",
              " (1009.0, 6.0, 654.2232304839036, 14.0),\n",
              " (1019.0, 3.0, 967.063794046691, 11.0),\n",
              " (1021.0, 1.0, 218.3961324657107, 6.0),\n",
              " (1036.0, 0.0, 139.87797925489457, 13.0)]"
            ]
          },
          "metadata": {},
          "execution_count": 3
        }
      ]
    },
    {
      "cell_type": "markdown",
      "source": [
        "# Секция Python"
      ],
      "metadata": {
        "id": "8N0t7w_laU_J"
      }
    },
    {
      "cell_type": "markdown",
      "source": [
        "## Задание 1\n",
        "\n",
        "На вход функции поступет список целых чисел, причем у каждого числа кроме одного есть пара. Функция должна вернуть число, для которого в списке нет пары.\n",
        "\n",
        "\\*Попробуй решить без использования дополнительной памяти.\\\n",
        "**И с линейной сложностью.\n",
        "\n",
        "<b>Например</b>\n",
        "```\n",
        "Input: nums = [2,2,1]\n",
        "Output: 1\n",
        "\n",
        "Input: nums = [4,1,2,1,2]\n",
        "Output: 4\n",
        "\n",
        "Input: nums = [1]\n",
        "Output: 1\n",
        "```"
      ],
      "metadata": {
        "id": "-9gKazxaaYRQ"
      }
    },
    {
      "cell_type": "code",
      "source": [
        "# Код с решением\n",
        "def unique_number(x:list) -> int:\n",
        "  pass"
      ],
      "metadata": {
        "id": "YuckVDg60M7r"
      },
      "execution_count": null,
      "outputs": []
    },
    {
      "cell_type": "markdown",
      "source": [
        "## Задание 2\n",
        "Для заданного числового списка *X* напишите две функции, возвращающие список *Y*, такие что коэффицент корреляции между X и Y равен нулю при округлении до второго знака после точки.\n"
      ],
      "metadata": {
        "id": "zhAEBmIPskKu"
      }
    },
    {
      "cell_type": "code",
      "source": [
        "x = np.random.randint(-1000, 1000, 10**5)"
      ],
      "metadata": {
        "id": "5jCL_-eSzdGT"
      },
      "execution_count": null,
      "outputs": []
    },
    {
      "cell_type": "code",
      "source": [
        "# Код с решением и проверкой\n",
        "def g1(v:list) -> list:\n",
        "  pass\n",
        "\n",
        "def g2(v:list) -> list:\n",
        "  pass\n"
      ],
      "metadata": {
        "id": "1uTVeLSl0AcW"
      },
      "execution_count": null,
      "outputs": []
    }
  ]
}