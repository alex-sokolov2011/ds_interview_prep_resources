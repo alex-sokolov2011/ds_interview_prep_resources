{
 "cells": [
  {
   "cell_type": "markdown",
   "metadata": {},
   "source": [
    "# Сборник 2 из 19-ти задач. Соколова Александра  \n",
    "---\n",
    "## Из раздела \"Я люблю математику\"\n",
    "### Теория вероятностей и мат. статистика\n",
    "\n",
    "**Задача 1:**  \n",
    "Амеба имеет шанс 25%, 25% и 50% произвести 0, 1 или 2 потомства соответственно. Каждый из потомков амебы также имеет одинаковые вероятности.  \n",
    "Какова вероятность того, что род амебы вымрет?  "
   ]
  },
  {
   "cell_type": "markdown",
   "metadata": {},
   "source": [
    "**Решение для задачи 1:** \n",
    "Допустим искомая вероятность вымирания рода амебы равна **p**.  \n",
    "Событие вымирания рода случается если случится одно из трех зависимых событий перечисленных ниже:  \n",
    "1-ое событие (А) - с вероятностью 25% сразу не будет потомства => P(A) = 1/4 - вероятность события А  \n",
    "2-ое событие (В)- с вероятностью 25% родиться одна амеба и у нее с вероятностью **p** вымрет род => P(B)=1/4***p**  \n",
    "3-е событие (С) - с вороятностью 50% родится две амебы и у них вымрут рода одновременно => P(C) = 1/2***p**^2 - поттому что потомки амебы имеют одинаковую с родителем вероятность вымирания рода  \n",
    "P(события вымирания рода) = P(A) + P(B) + P(C), так как у одной амебы может родиться одновременно максимально два потомка  \n",
    "P(события вымирания рода) = **p**  \n",
    "\n",
    "**p** = 1/4 + 1/4***p** + 1/2* **p**^2  \n",
    "получаем квадратное уравнение: 1/2* **p**^2- 3/4***p** + 1/4  = 0  \n",
    "2 **p**^2 - 3 **p** + 1 = 0  \n",
    "D(Determinant) = 3*3 - 4*2*1 = 1  \n",
    "**p** = (3 ∓ √D)/(2*2) = (3 ∓ 1)/4 = 1 и 0.5  \n",
    "\n",
    "Ответ **p** = 1 отбрасываем так как это вырожденный случай.  \n",
    "\n",
    "**Ответ для задачи 1: p= 0.5**   "
   ]
  },
  {
   "cell_type": "markdown",
   "metadata": {},
   "source": [
    "**Задача 2:**  \n",
    "В любой 15-минутный интервал с вероятностью 20% вы увидите хотя бы одну падающую звезду.  \n",
    "Какова вероятность того, что вы увидите хотя бы одну падающую звезду в течение часа?  "
   ]
  },
  {
   "cell_type": "markdown",
   "metadata": {},
   "source": [
    "**Решение для задачи 2:**  \n",
    "Будем использовать формулу Бернули:  \n",
    "$P_n(m) = C_n^m p^m q^{(n-m)}$  \n",
    "$C_n^k = \\frac{n!}{k! (n-k)!}$  \n",
    "\n",
    "Вероятность увидеть звезду в течение 15 минут = 0.2 = p (можем прдположить что это один опыт который проходит в течении 15 минут и вероятность успеха опыта равна p)  \n",
    "Вероятность не увидеть звезду в течение 15 минут = q = 1 - p = 1 - 0.2 = 0.8  \n",
    "\n",
    "Проведем n=4 опытов (4*15 минут = 60 минут = 1 час), в каждом из которых может произойти определенное событие («успех») с вероятностью p (или не произойти — «неудача» — с вероятностью q=1-p. Задача — найти вероятность получения ровно m = 0 успехов в этих n=4 опытах.  \n",
    "\n",
    "$P_4(0) = C_4^0 p^0 q^{(4-0)} = (0.8)⁴ $  \n",
    "\n",
    "Вероятность того, что вы НЕ увидите НИ одну падающую звезду в течение часа = Вероятность не увидеть ни одной звезды за 15 минут 4 раза подряд = (0.8)⁴ = 0.4096 так как падение звезд в каждый 15-ти минутный промежуток времени независимо друг от друга  \n",
    "\n",
    "Вероятность того, что вы увидите хотя бы одну падающую звезду в течение часа = 1 - Вероятность того, что вы НЕ увидите НИ одну падающую звезду в течение часа = 1 - 0.4096 = 0,5904  \n",
    "\n",
    "**Ответ для задачи 2: 0,5904**   "
   ]
  },
  {
   "cell_type": "markdown",
   "metadata": {},
   "source": [
    "**Дополнительное решение для задачи 2:**  \n",
    "В сети я увидел еще одно решение этой задачи с помощью формулы Пуассона, но на мой взгляд её использование не собосновано, потому что одно из требований применения формулы достаточно большое n. В некоторых источниках указывается что n должно быть больше 30, а n*p <10. Что в рамках нашей задчи не выполняется  "
   ]
  },
  {
   "cell_type": "code",
   "execution_count": 78,
   "metadata": {},
   "outputs": [
    {
     "data": {
      "text/plain": [
       "0.5506710358827783"
      ]
     },
     "execution_count": 78,
     "metadata": {},
     "output_type": "execute_result"
    }
   ],
   "source": [
    "# решение задачи 2 с помощью формулы Пуассона\n",
    "import scipy.stats as ss\n",
    "1-ss.poisson.cdf(0,0.8)"
   ]
  },
  {
   "cell_type": "markdown",
   "metadata": {},
   "source": [
    "**Задача 3:**  \n",
    "Как вы можете сгенерировать случайное число от 1 до 7, используя только кубик?  "
   ]
  },
  {
   "cell_type": "markdown",
   "metadata": {},
   "source": [
    "**Решение для задачи 3:**  \n",
    "Для начала договоримся, что кубик у нас идеальный. При бросании кубика случайная величина — число точек на грани —   \n",
    "принимает одно из 6-и возможных значений: {1,2,3,4,5,6}. Вероятность выпадения одной точки из шести равна 1/6,  \n",
    "одинакова для каждой точки, поэтому случайная величина имеет дискретное равномерное распределение со следующими параметрами:  \n",
    "мат. ожидание = 3.5,  \n",
    "дисперсия ~= 2.916666,  \n",
    "стандартное отклонение ~= 1.7078,  \n",
    "коэффициент асимметрии = 0,  \n",
    "коэффициент эксцесса ~= -1.2685  \n",
    "\n",
    "Нам необходимо создать способ транформации вышеописанного распределения в распределение с возможными значениями: {1,2,3,4,5,6,7}.  \n",
    "Вероятность выпадения одного значения из семи равна 1/7 и одинакова для каждого значения и случайная величина имеет дискретное   \n",
    "равномерное распределение со следующими параметрами:  \n",
    "мат. ожидание = 4,  \n",
    "дисперсия = 4,  \n",
    "стандартное отклонение = 4,  \n",
    "коэффициент асимметрии = 0,  \n",
    "коэффициент эксцесса ~= -1.25  \n",
    "\n",
    "**Ответ для задачи 3**   \n",
    "Способ который решает вышеописанную задачу:  \n",
    "Бросаем кубик 3 раза. Каждый раз интерпретируем выпадаемое на кубике значение, как четное или нечетное, то есть переводим в биты.  \n",
    "Выпадает четное число это 0 (ноль), выпадает нечетное это - 1 (один).  \n",
    "Получаем три бита (бит - это один разряд двоичного кода (двоичная цифра)), которые начинаются от '000' и заканчиваются '111'.  \n",
    "Двоичное число '000' соответствует десятичному числу 0(ноль) ,а двоичное число '111' соответствует десятичному числу 7.  \n",
    "Получаем пространство элементарных исходов, состоящим из 8-ми (восьми) элементов: {0, 1, 2, 3, 4, 5, 6, 7}.   \n",
    "Полученные элементарные исходы равновозможны так как исходное распределение дискретное равномерное.  \n",
    "Но нам нужно не восем, а семь исходов. Поэтому мы договариваемся, что если мы получаем исход со значением 0,   \n",
    "то мы перебрасываем кубики. Тут важно отметить, что процесс с какой-то вероятностью может не завершиться никогда,   \n",
    "потому что могут непрерывно выпадать четные числа и мы будем получать 000 и будем вынуждены перебрасывать снова и снова.   \n",
    "Можно посчитать, что эта вероятность равна 1/2 в степени n, где n кол-во подбрасываний. Что означает что при n больше 20 она будет ничтожно мала (меньше 10**-7)  \n",
    "Таким образом мы получим пространство исходов {1, 2, 3, 4, 5, 6, 7}  \n",
    "\n"
   ]
  },
  {
   "cell_type": "code",
   "execution_count": 84,
   "metadata": {},
   "outputs": [
    {
     "name": "stdout",
     "output_type": "stream",
     "text": [
      "Мат.ожидание:  3.5\n",
      "Дисперсия:  2.9166666666666665\n",
      "Стандартное отклонение:  1.4583333333333333\n",
      "Коэффициент асимметрии:  0.0\n",
      "Коэффициент эксцесса:  -1.2685714285714285\n"
     ]
    }
   ],
   "source": [
    "# давайте проверим этот способ\n",
    "# сначала смоделируем распределение соответсвующее экспериментам по бросанию кубика\n",
    "from scipy.stats import randint\n",
    "low, high = 1, 7\n",
    "mean, var, skew, kurt = randint.stats(low, high, moments='mvsk')  # проверяем параметры дистректного равномерного распределения\n",
    "                                                                  # которое соответствует бросанию игрального кубика\n",
    "print('Мат.ожидание: ', mean)\n",
    "print('Дисперсия: ', var)\n",
    "print('Стандартное отклонение: ', var**1/2)\n",
    "print('Коэффициент асимметрии: ', skew)\n",
    "print('Коэффициент эксцесса: ', kurt)"
   ]
  },
  {
   "cell_type": "code",
   "execution_count": 108,
   "metadata": {},
   "outputs": [
    {
     "data": {
      "text/plain": [
       "array([1, 6, 1, ..., 4, 3, 1])"
      ]
     },
     "execution_count": 108,
     "metadata": {},
     "output_type": "execute_result"
    }
   ],
   "source": [
    "# сгенерируем массив из десяти миллионов (10 000 000) бросаний кубика\n",
    "r = randint.rvs(low, high, size=10000000)\n",
    "r"
   ]
  },
  {
   "cell_type": "code",
   "execution_count": 109,
   "metadata": {},
   "outputs": [
    {
     "name": "stdout",
     "output_type": "stream",
     "text": [
      "Уникальные значения: [1, 2, 3, 4, 5, 6]\n"
     ]
    },
    {
     "data": {
      "text/html": [
       "<div>\n",
       "<style scoped>\n",
       "    .dataframe tbody tr th:only-of-type {\n",
       "        vertical-align: middle;\n",
       "    }\n",
       "\n",
       "    .dataframe tbody tr th {\n",
       "        vertical-align: top;\n",
       "    }\n",
       "\n",
       "    .dataframe thead th {\n",
       "        text-align: right;\n",
       "    }\n",
       "</style>\n",
       "<table border=\"1\" class=\"dataframe\">\n",
       "  <thead>\n",
       "    <tr style=\"text-align: right;\">\n",
       "      <th></th>\n",
       "      <th>0</th>\n",
       "    </tr>\n",
       "  </thead>\n",
       "  <tbody>\n",
       "    <tr>\n",
       "      <th>count</th>\n",
       "      <td>1.000000e+07</td>\n",
       "    </tr>\n",
       "    <tr>\n",
       "      <th>mean</th>\n",
       "      <td>3.500421e+00</td>\n",
       "    </tr>\n",
       "    <tr>\n",
       "      <th>std</th>\n",
       "      <td>1.708246e+00</td>\n",
       "    </tr>\n",
       "    <tr>\n",
       "      <th>min</th>\n",
       "      <td>1.000000e+00</td>\n",
       "    </tr>\n",
       "    <tr>\n",
       "      <th>25%</th>\n",
       "      <td>2.000000e+00</td>\n",
       "    </tr>\n",
       "    <tr>\n",
       "      <th>50%</th>\n",
       "      <td>4.000000e+00</td>\n",
       "    </tr>\n",
       "    <tr>\n",
       "      <th>75%</th>\n",
       "      <td>5.000000e+00</td>\n",
       "    </tr>\n",
       "    <tr>\n",
       "      <th>max</th>\n",
       "      <td>6.000000e+00</td>\n",
       "    </tr>\n",
       "  </tbody>\n",
       "</table>\n",
       "</div>"
      ],
      "text/plain": [
       "                  0\n",
       "count  1.000000e+07\n",
       "mean   3.500421e+00\n",
       "std    1.708246e+00\n",
       "min    1.000000e+00\n",
       "25%    2.000000e+00\n",
       "50%    4.000000e+00\n",
       "75%    5.000000e+00\n",
       "max    6.000000e+00"
      ]
     },
     "execution_count": 109,
     "metadata": {},
     "output_type": "execute_result"
    }
   ],
   "source": [
    "# проверим уникальные значения, среднее и стандартное отклонение этого массива\n",
    "import pandas as pd\n",
    "df_r = pd.DataFrame(data= r)\n",
    "print('Уникальные значения:', sorted(df_r[0].unique()))\n",
    "df_r.describe()\n"
   ]
  },
  {
   "cell_type": "code",
   "execution_count": 113,
   "metadata": {},
   "outputs": [
    {
     "data": {
      "text/plain": [
       "6    0.166919\n",
       "4    0.166746\n",
       "2    0.166736\n",
       "1    0.166683\n",
       "5    0.166511\n",
       "3    0.166405\n",
       "Name: 0, dtype: float64"
      ]
     },
     "execution_count": 113,
     "metadata": {},
     "output_type": "execute_result"
    }
   ],
   "source": [
    "# посмотрим на вероятности появления каждого значения\n",
    "df_r[0].value_counts(normalize=True)"
   ]
  },
  {
   "cell_type": "code",
   "execution_count": 114,
   "metadata": {},
   "outputs": [
    {
     "data": {
      "text/plain": [
       "1.0"
      ]
     },
     "execution_count": 114,
     "metadata": {},
     "output_type": "execute_result"
    }
   ],
   "source": [
    "# проверим выполнение классического определения вероятности для полученного распределения\n",
    "df_r[0].value_counts(normalize=True).sum()"
   ]
  },
  {
   "cell_type": "code",
   "execution_count": 118,
   "metadata": {},
   "outputs": [],
   "source": [
    "# теперь создадим функцию которая будет реализовывать наш способ и транформировать одно распределение в другое\n",
    "import numpy as np\n",
    "\n",
    "def conver_uniform_1_6_to_uniform_1_7 (d_r: np.array):\n",
    "    new_r = np.zeros(len(d_r))\n",
    "    count, count_zero = 0, 0\n",
    "    bite_ = ''\n",
    "    for i in range(len(d_r)):\n",
    "        bite_ += str(int(d_r[i]<4))\n",
    "        if len(bite_) == 3:\n",
    "            a = int(bite_,2) \n",
    "            if a > 0:\n",
    "                new_r[count] = int(bite_,2)\n",
    "                count += 1\n",
    "            else:\n",
    "                count_zero += 1\n",
    "            bite_ = ''\n",
    "    return new_r, count, count_zero"
   ]
  },
  {
   "cell_type": "code",
   "execution_count": 120,
   "metadata": {},
   "outputs": [],
   "source": [
    "new_r, count, count_zero = conver_uniform_1_6_to_uniform_1_7(r)"
   ]
  },
  {
   "cell_type": "code",
   "execution_count": 121,
   "metadata": {},
   "outputs": [
    {
     "data": {
      "text/plain": [
       "2916199"
      ]
     },
     "execution_count": 121,
     "metadata": {},
     "output_type": "execute_result"
    }
   ],
   "source": [
    "new_r = new_r[:count]\n",
    "len(new_r)"
   ]
  },
  {
   "cell_type": "markdown",
   "metadata": {},
   "source": [
    "**Замечание:**  \n",
    "из 10-ти миллионов подбрасываний мы получили 2916199 значений нового распределения. Получается, что если бы мы не отбрасывали нулевые значения мы должны были получить 10000000/3 = 3333333 значения. А получили 2916199. Значит нули были в 3333333-2916199 = 417134 случаях. Это почти 1/8 (~=417134/3333333) от 3333333 значений, которые мы должны были получить. Что соответсвует доли одного значения, которое мы отбрасываем.  \n",
    "Важно понимать, что отбрасывание варианта '000' не изменяет структуру равномерного дискретного распределения, а только усложняет алгоритм и требует проверки его трудоемкости, чтобы не сталкиваться с высокими оценками по времени и сложности.  "
   ]
  },
  {
   "cell_type": "code",
   "execution_count": 122,
   "metadata": {},
   "outputs": [
    {
     "data": {
      "text/plain": [
       "417134"
      ]
     },
     "execution_count": 122,
     "metadata": {},
     "output_type": "execute_result"
    }
   ],
   "source": [
    "count_zero"
   ]
  },
  {
   "cell_type": "code",
   "execution_count": 127,
   "metadata": {},
   "outputs": [
    {
     "name": "stdout",
     "output_type": "stream",
     "text": [
      "Уникальные значения: [1.0, 2.0, 3.0, 4.0, 5.0, 6.0, 7.0]\n"
     ]
    },
    {
     "data": {
      "text/html": [
       "<div>\n",
       "<style scoped>\n",
       "    .dataframe tbody tr th:only-of-type {\n",
       "        vertical-align: middle;\n",
       "    }\n",
       "\n",
       "    .dataframe tbody tr th {\n",
       "        vertical-align: top;\n",
       "    }\n",
       "\n",
       "    .dataframe thead th {\n",
       "        text-align: right;\n",
       "    }\n",
       "</style>\n",
       "<table border=\"1\" class=\"dataframe\">\n",
       "  <thead>\n",
       "    <tr style=\"text-align: right;\">\n",
       "      <th></th>\n",
       "      <th>0</th>\n",
       "    </tr>\n",
       "  </thead>\n",
       "  <tbody>\n",
       "    <tr>\n",
       "      <th>count</th>\n",
       "      <td>2.916199e+06</td>\n",
       "    </tr>\n",
       "    <tr>\n",
       "      <th>mean</th>\n",
       "      <td>3.999537e+00</td>\n",
       "    </tr>\n",
       "    <tr>\n",
       "      <th>std</th>\n",
       "      <td>1.999918e+00</td>\n",
       "    </tr>\n",
       "    <tr>\n",
       "      <th>min</th>\n",
       "      <td>1.000000e+00</td>\n",
       "    </tr>\n",
       "    <tr>\n",
       "      <th>25%</th>\n",
       "      <td>2.000000e+00</td>\n",
       "    </tr>\n",
       "    <tr>\n",
       "      <th>50%</th>\n",
       "      <td>4.000000e+00</td>\n",
       "    </tr>\n",
       "    <tr>\n",
       "      <th>75%</th>\n",
       "      <td>6.000000e+00</td>\n",
       "    </tr>\n",
       "    <tr>\n",
       "      <th>max</th>\n",
       "      <td>7.000000e+00</td>\n",
       "    </tr>\n",
       "  </tbody>\n",
       "</table>\n",
       "</div>"
      ],
      "text/plain": [
       "                  0\n",
       "count  2.916199e+06\n",
       "mean   3.999537e+00\n",
       "std    1.999918e+00\n",
       "min    1.000000e+00\n",
       "25%    2.000000e+00\n",
       "50%    4.000000e+00\n",
       "75%    6.000000e+00\n",
       "max    7.000000e+00"
      ]
     },
     "execution_count": 127,
     "metadata": {},
     "output_type": "execute_result"
    }
   ],
   "source": [
    "# теперь проверим параметры полученного распределения и сравним с заданным в условии задачи\n",
    "df_r_new = pd.DataFrame(data= new_r)\n",
    "print('Уникальные значения:', sorted(df_r_new[0].unique()))\n",
    "df_r_new.describe()"
   ]
  },
  {
   "cell_type": "markdown",
   "metadata": {},
   "source": [
    "**Задача 4:**  \n",
    "Как с помощью не симметричной монеты можно добиться справедливого подбрасывания монеты (как при использовании идеальной монеты)?  \n",
    "Не симметричная монета - монета у которой вероятность выпадения орла **p** НЕ равна вероятности выпадения решки **q**.  \n",
    "В идеальной (симметричной) монете вероятность выпадения орла **p** равна вероятности выпадения решки **q** (**p** = **q** = 1/2)  \n",
    "\n",
    "Наша задача придумать способ при котором события, которые мы будем получать будут составлять пространство двух элементарных исходов,  \n",
    "равновероятных (вероятность одного исхода **p** будет равна вероятности второго исхода **q** и равны 1/2, исходя из классического   \n",
    "определения вероятности **p** + **q** = 1)"
   ]
  },
  {
   "cell_type": "markdown",
   "metadata": {},
   "source": [
    "**Ответ для задачи 4**   \n",
    "Способ позволяющий получить два равновероятных исхода:  \n",
    "1. подбросим монетку два раза.  \n",
    "2. если получили одинаковые последовательности (\"орел\" - \"орел\" или \"решка\" - \"решка\"), то перебрасываем еще раз два раза как в пункте 1.  \n",
    "3. если получили комбинацию \"орел\" - \"решка\", то считаем это выпадением \"орел2\" и бросаем снова (переходим к пункту 1). Если у нас уже был вариант с \"орел2\", то перебрасываем снова, до тех пор пока не выпадет вариант \"решка2\".  \n",
    "4. если получили комбинацию \"решка\" - \"орел\", то считаем это выпадением \"решка2\" и бросаем снова (переходим к пункту 1). Если у нас уже был вариант с \"решка2\", то перебрасываем снова, до тех пор пока не выпадет вариант \"орел2\".  \n",
    "5. получив один вариант \"орел2\" и \"решка2\" мы получим два равновероятных события.  \n",
    "\n",
    "При этом важно заметить, что если перед вами стоит практическая задача - такая например как определить какой команде будет отдано право разводить мяч в начале футболного матча. То достаточно будет в начале жеребьевки определить какой команде соответсвует комбинация \"орел2\", а какой \"решка2\". И далее достаточно получить только одну из этих комбинаций. Нет необходимости получать оба варианта, достаточно будет получить выпадение одного из этих вариантов комбинаций, чтобы определить победителя.  "
   ]
  },
  {
   "cell_type": "markdown",
   "metadata": {},
   "source": [
    "**Пояснения к ответу для задачи 4**   \n",
    "Давайте сформулируем задачу в математичсекой области: определим вероятность выпадения орла как **p**. Тогда вероятность выпадения \n",
    "решки **q** = 1 - **p**  \n",
    "Теперь простраство событий двукраного подбрасывания монетки состоит их следующих исходов:\n",
    "1. орел - орел . Вероятность этого события **p*****p**, так как последовательные подбрасывания монетки это независимые события с вероятностью **p**. Вероятность получить на первом и на втором подбрасывании орел равна **p** умноженное на **p**.\n",
    "2. орел - решка . Вероятность этого события **p***(1 - **p**)\n",
    "3. решка - орел . Вероятность этого события (1 - **p**)***p**\n",
    "4. решка - решка . Вероятность этого события (1 - **p**)*(1 - **p**)\n",
    "\n",
    "Можно заметить, что вероятность выпадения орла, а затем решки такая же, как вероятность выпадения орла, а затем орла, поскольку мы бросаем одну и туже монету и эти два броска независимы. При исключении исходов «два орла» и «две решки» путем повторения процедуры (двойное подбрасывание) у нас остаются только два оставшихся исхода с равной вероятностью **p***(1 - **p**) = (1 - **p**)***p**.  \n",
    "Эта процедура работает только в том случае, если броски правильно реализованы парами. То есть если вы вдруг получили варианты \"орел\" - \"орел\" и делая следующее подбрасывание вы получили \"решку\" и пытаетесь назвать это комбинацией 2 - \"орел\" - \"решка\" (\"орел2\"), то вы нарушаете правила эксперимента. Часть пары не должна повторно использоваться в другой паре, честность (точность) эксперимента в таком  случае может быть нарушена.  \n",
    "\n",
    "Исходы \"орел\"-\"решка\"  и \"решка\"-\"орел\" равновероятны, без какой-либо предвзятости мы можем назвать, что если происходит событие \"орел\"-\"решка\" - это означает \"орел2\", \"решка\"-\"орел\" означает \"решка2\", но если происходит \"орел\"-\"орел\" или \"решка\"-\"решка\" мы повторяем эксперимент с двойным подбрасыванием."
   ]
  },
  {
   "cell_type": "markdown",
   "metadata": {},
   "source": [
    "Теперь давайте попробуем найти ожидаемое количество подбрасываний монеты, необходимое для того, чтобы определить орел2 или решку2?  \n",
    "Пусть кол-во ожидаемых бросков монеты равно **n**.  \n",
    "\n",
    "Вероятность того, что мы получим результат сразу после двух подбрасываний (исходы 2 или 3), равна 2**p**(1 - **p**)  \n",
    "Общее количество подбрасываний монеты будет равно 2  \n",
    "\n",
    "Вероятность того, что мы не получим никакого результата после двух подбрасываний, равна (1 - 2**p**(1-**p**))\n",
    "Общее количество подбрасываний монеты будет 2 + **n** (мы потратили впустую 2 подбрасывания монеты и все равно ожидаем **n** подбрасываний)  \n",
    "\n",
    "**n** = 2 * 2**p**(1-**p**) + (2+**n**)  (1 - 2**p**(1-**p**))  =>  \n",
    "**n** = 4**p**(1-**p**) + 2 - 4**p**(1-**p**) + **n**  - 2**n** **p**(1-**p**) => сокращаем и преобразовываем  \n",
    "0 = 2 - 2**n** **p**(1-**p**) => выражаем **n** через **p**  \n",
    "**n** = 1/ (**p**(1-**p**))  \n",
    "\n",
    "поэтому для **p** = 1/2, получаем n = 4. То есть если монета идеальна, то ожидаемое кол-во подбрасываний = 4 (2 эксперимента), чтобы хотя бы в одном из экспериментов получить исход 2 (орел2) или исход 3 (решка2).  "
   ]
  },
  {
   "cell_type": "code",
   "execution_count": 5,
   "metadata": {},
   "outputs": [],
   "source": [
    "# функция округления в большую сторону до ближайшего четного\n",
    "import math\n",
    "def my_round_to_even_num(n):\n",
    "    answer = math.ceil(n)\n",
    "    if not answer%2: \n",
    "        return answer \n",
    "    else: \n",
    "        return answer + 1 "
   ]
  },
  {
   "cell_type": "code",
   "execution_count": 8,
   "metadata": {},
   "outputs": [
    {
     "name": "stdout",
     "output_type": "stream",
     "text": [
      "при вероятности p = 0.667, ожидаемое кол-во подбрасываний n = 6\n",
      "при вероятности p = 0.75, ожидаемое кол-во подбрасываний n = 6\n",
      "при вероятности p = 0.8, ожидаемое кол-во подбрасываний n = 8\n",
      "при вероятности p = 0.833, ожидаемое кол-во подбрасываний n = 8\n",
      "при вероятности p = 0.857, ожидаемое кол-во подбрасываний n = 10\n",
      "при вероятности p = 0.875, ожидаемое кол-во подбрасываний n = 10\n",
      "при вероятности p = 0.889, ожидаемое кол-во подбрасываний n = 12\n",
      "при вероятности p = 0.9, ожидаемое кол-во подбрасываний n = 12\n"
     ]
    }
   ],
   "source": [
    "\n",
    "for i in range(3,11):\n",
    "    p = 1 - 1/i\n",
    "    n = 1/(p*(1-p))\n",
    "    count_ = my_round_to_even_num(n)\n",
    "\n",
    "    print(f'при вероятности p = {round(p, 3)}, ожидаемое кол-во подбрасываний n = {count_}')"
   ]
  },
  {
   "cell_type": "markdown",
   "metadata": {},
   "source": [
    "\n",
    "При приближении **p** к 1 (единице), ожидаемое кол-во подбрасываний n  будет стремится к бесконечности,  \n",
    "потому что мы будем получать бесконечную цепочку из \"орлов\" (исход 1 - \"орел\" - \"орел\") и будем вынуждены перебрасывать снова и снова)  \n",
    "Но видно, что при достаточно предвзятой монете (p=0.9) ожидаемое кол-во подбрасываний 12. Это не так много с точки зрения практического применения данного способа.  \n",
    "\n",
    "Но давайте посчитаем какова вероятность того, что мы получим череду из орлов (исход 1) или череду из решек (исход 4) и не сможем получить желаемый результат в виде исходов 2 или 3 при подбрасывании монеты **n** раз?  \n",
    "\n",
    "При подбрасывании монеты **n** раз вероятность (**p_1_4**) получить ожидаемый исход 1 из **n** подряд идущих монет с орлом или исход 3 из **n** подряд идущих монет с решкой равен = **p**^**n** + (1-**p**)^**n**  \n",
    "p_1_4 = **p**^**n** + (1-**p**)^**n**"
   ]
  },
  {
   "cell_type": "code",
   "execution_count": 39,
   "metadata": {},
   "outputs": [
    {
     "name": "stdout",
     "output_type": "stream",
     "text": [
      "при вероятности p = 0.75 и \n",
      "кол-ве подбрасываний n = 4, вероятность не получить результат = 0.32\n",
      "кол-ве подбрасываний n = 8, вероятность не получить результат = 0.1\n",
      "кол-ве подбрасываний n = 12, вероятность не получить результат = 0.032\n",
      "кол-ве подбрасываний n = 16, вероятность не получить результат = 0.01\n",
      "кол-ве подбрасываний n = 20, вероятность не получить результат = 0.003\n",
      "===\n",
      "при вероятности p = 0.833 и \n",
      "кол-ве подбрасываний n = 4, вероятность не получить результат = 0.483\n",
      "кол-ве подбрасываний n = 8, вероятность не получить результат = 0.233\n",
      "кол-ве подбрасываний n = 12, вероятность не получить результат = 0.112\n",
      "кол-ве подбрасываний n = 16, вероятность не получить результат = 0.054\n",
      "кол-ве подбрасываний n = 20, вероятность не получить результат = 0.026\n",
      "===\n",
      "при вероятности p = 0.875 и \n",
      "кол-ве подбрасываний n = 4, вероятность не получить результат = 0.586\n",
      "кол-ве подбрасываний n = 8, вероятность не получить результат = 0.344\n",
      "кол-ве подбрасываний n = 12, вероятность не получить результат = 0.201\n",
      "кол-ве подбрасываний n = 16, вероятность не получить результат = 0.118\n",
      "кол-ве подбрасываний n = 20, вероятность не получить результат = 0.069\n",
      "===\n",
      "при вероятности p = 0.9 и \n",
      "кол-ве подбрасываний n = 4, вероятность не получить результат = 0.656\n",
      "кол-ве подбрасываний n = 8, вероятность не получить результат = 0.43\n",
      "кол-ве подбрасываний n = 12, вероятность не получить результат = 0.282\n",
      "кол-ве подбрасываний n = 16, вероятность не получить результат = 0.185\n",
      "кол-ве подбрасываний n = 20, вероятность не получить результат = 0.122\n",
      "===\n"
     ]
    }
   ],
   "source": [
    "for i in range(4,11, 2):\n",
    "    p = 1 - 1/i\n",
    "    print(f'при вероятности p = {round(p, 3)} и ')\n",
    "    max = 20\n",
    "    step = 4\n",
    "    start = max%step\n",
    "    if start == 0:\n",
    "        start += step\n",
    "    for n in range (start, max+1, step):\n",
    "        p_1_4 = p**n + (1-p)**n\n",
    "        print(f'кол-ве подбрасываний n = {n}, вероятность не получить результат = {round(p_1_4,3)}')\n",
    "    print('===')"
   ]
  },
  {
   "cell_type": "code",
   "execution_count": 41,
   "metadata": {},
   "outputs": [
    {
     "name": "stdout",
     "output_type": "stream",
     "text": [
      "при вероятности p = 0.99 и \n",
      "кол-ве подбрасываний n = 20, вероятность не получить результат = 0.818\n",
      "кол-ве подбрасываний n = 40, вероятность не получить результат = 0.669\n",
      "кол-ве подбрасываний n = 60, вероятность не получить результат = 0.547\n",
      "кол-ве подбрасываний n = 80, вероятность не получить результат = 0.448\n",
      "кол-ве подбрасываний n = 100, вероятность не получить результат = 0.366\n",
      "===\n"
     ]
    }
   ],
   "source": [
    "\n",
    "p = 0.99\n",
    "print(f'при вероятности p = {round(p, 3)} и ')\n",
    "max = 100\n",
    "step = 20\n",
    "start = max%step\n",
    "if start == 0:\n",
    "    start += step\n",
    "for n in range (start, max+1, step):\n",
    "    p_1_4 = p**n + (1-p)**n\n",
    "    print(f'кол-ве подбрасываний n = {n}, вероятность не получить результат = {round(p_1_4,3)}')\n",
    "print('===')"
   ]
  },
  {
   "cell_type": "markdown",
   "metadata": {},
   "source": [
    "Это говорит нам о том, что вероятность того, что результат наступит, достаточно высока даже при высокой предвзятости монеты (p=0.99).  \n",
    "Но надо согласиться, что 100 подбрасываний это уже трудоемкий процесс. Можно ли сделать этот процесс более эффективным?  \n",
    "\n",
    "Мы можем улучшить ожидаемое количество подбрасываний монеты, если доработаем вышеописанный способ следующим образом:  \n",
    "В способе который мы описали выше мы возвращаемся на пункт 1 и перебрасываем кубики, если получаем исход 1 (\"орел\"-\"орел\") или исход 4 (\"решка\"-\"решка\").  \n",
    "Но мы можем дополнить вышеописанный способ:  \n",
    "1. объединить событие двух исходов (исход 1 и исход 4) (ОО-РР) в исход орел3  \n",
    "2. объединить событие двух исходов (исход 4 и исход 1) (РР-ОО) в исход решка3  \n",
    "\n",
    "Из вышеописанного обоснования понятно, что вероятность исхода орел3 равна вероятности решка3 и это позволит сократить ожидаемое кол-во подбрасываний, так как мы сможем останавливать процесс быстрее не перебрасывая.  "
   ]
  },
  {
   "cell_type": "markdown",
   "metadata": {},
   "source": [
    "**Задача 5:**  \n",
    "У вас есть смесь 50-50 двух нормальных распределений с одинаковым стандартным отклонением.  \n",
    "***Вопрос:*** На каком расстоянии должны располагаться средние значения, чтобы это распределение было бимодальным? Почему?  \n",
    "\n",
    "**Ответ для задачи 5**  \n",
    "|μ1−μ2|>2σ  \n",
    "\n",
    "**Пояснения к ответу для задачи 5**   \n",
    "Если μ1 и μ2 средние значения (мат. ожидания) нормальных распределений. А σ - это стандартное отклонение этих распределений.  \n",
    "То функция вероятности от x смеси распределений будет задана формулой  \n",
    "p(x)=0.5N(x;μ1,σ)+0.5N(x;μ2,σ)  "
   ]
  },
  {
   "cell_type": "markdown",
   "metadata": {},
   "source": [
    "Теперь что такое бимодальность. Бимодальность смеси нормальных распределений существует тогда когда можно выделить  \n",
    "даже незначительное наличие двух куполов. На графиках наличие двух куполов можно будет отследить при наличии точки перегиба между двумя куполами.  \n",
    "\n",
    "Первая производная функции вероятности смеси распределений зануляется в точке x = (μ1+μ2)/2. Смесь распределений симметрична относительно точки x = (μ1+μ2)/2. Соответвенно точка перегиба будет лежать в этой точке.  \n",
    "\n"
   ]
  },
  {
   "cell_type": "code",
   "execution_count": 6,
   "metadata": {},
   "outputs": [
    {
     "data": {
      "image/gif": "[encoded data removed]",
      "text/plain": [
       "<IPython.core.display.Image object>"
      ]
     },
     "execution_count": 6,
     "metadata": {},
     "output_type": "execute_result"
    }
   ],
   "source": [
    "from IPython.display import Image\n",
    "Image(filename='./first_deviation.gif')"
   ]
  },
  {
   "cell_type": "markdown",
   "metadata": {},
   "source": [
    "Теперь мы возьмем вторую производную и посмотрим при каких условиях она меньше либо равна 0 в точке (μ1+μ2)/2, то есть строго выпукла вверх без перегибов. Получим, что при условии |μ1−μ2|≤2σ. "
   ]
  },
  {
   "cell_type": "code",
   "execution_count": 9,
   "metadata": {},
   "outputs": [
    {
     "data": {
      "image/png": "[encoded data removed]",
      "text/plain": [
       "<IPython.core.display.Image object>"
      ]
     },
     "execution_count": 9,
     "metadata": {},
     "output_type": "execute_result"
    }
   ],
   "source": [
    "Image(filename='./second_deviation.png')"
   ]
  },
  {
   "cell_type": "markdown",
   "metadata": {},
   "source": [
    "Строго говоря для проверки сохрании выпуклости вверх при |μ1−μ2|=2σ, мы должны проверить знак четвертой производной, она меньше нуля.\n",
    "\n",
    "Это показывает что смесь нормальных распределений будет унимодальной при условии |μ1−μ2|≤2σ, соответвенно в обратном случае при |μ1−μ2|>2σ - бимодальным.  "
   ]
  },
  {
   "cell_type": "markdown",
   "metadata": {},
   "source": [
    "посмотреть демонстрацию с выводом смеси распределений на графике можно тут https://www.desmos.com/calculator/2q4jqfl4bv?lang=ru"
   ]
  },
  {
   "cell_type": "code",
   "execution_count": null,
   "metadata": {},
   "outputs": [],
   "source": []
  },
  {
   "cell_type": "markdown",
   "metadata": {},
   "source": [
    "**Задача 5:**  \n",
    "Как )  \n",
    "\n",
    "**Ответ для задачи 5**  \n",
    "Способ  \n",
    "\n",
    "**Пояснения к ответу для задачи 5**   \n",
    "Давайте  "
   ]
  }
 ],
 "metadata": {
  "interpreter": {
   "hash": "916dbcbb3f70747c44a77c7bcd40155683ae19c65e1c03b4aa3499c5328201f1"
  },
  "kernelspec": {
   "display_name": "Python 3.8.10 64-bit",
   "name": "python3"
  },
  "language_info": {
   "codemirror_mode": {
    "name": "ipython",
    "version": 3
   },
   "file_extension": ".py",
   "mimetype": "text/x-python",
   "name": "python",
   "nbconvert_exporter": "python",
   "pygments_lexer": "ipython3",
   "version": "3.8.10"
  }
 },
 "nbformat": 4,
 "nbformat_minor": 2
}
