{
 "cells": [
  {
   "cell_type": "markdown",
   "metadata": {},
   "source": [
    "# Разбор алгоритмических задач\n",
    "\n",
    "Добро пожаловать! Если вы готовитесь к собеседованиям на роль дата сайентиста, этот ноутбук может быть для вас полезным. Он разработан как инструмент для быстрого возвращения в форму по решению алгоритмических задач перед собеседованием. Задача ноутбука не в том, чтобы изучить алгоритмы с нуля, а чтобы освежить в памяти и усовершенствовать уже имеющиеся навыки. Если у вас нет опыта, это также будет полезно, чтобы подготовиться к предстоящим испытаниям, так как здесь собраны основные и часто встречающиеся задачи.\n",
    "\n",
    "## Что вы найдете в этом ноутбуке:\n",
    "\n",
    "1. **Реальные задачи с алгоритмических секций:** Все задачи, представленные здесь, были собраны из различных источников и отражают типы вопросов, с которыми вы можете столкнуться на собеседованиях.\n",
    "2. **Описание и разбор задач:** Здесь вы найдете подробные описания каждой задачи, а также шаги их решения. Я стараюсь разобрать каждую задачу так, чтобы она была понятна даже тем, кто встречается с ней впервые. При использовании алгоритмов с остоявшимися в отрасли названиями указываю их.\n",
    "3. **Варианты решений:** Для каждой задачи стараюсь предлагать несколько способов решения, включая эффективные алгоритмические подходы.\n",
    "4. **Тесты производительности:** Также в ноутбуке проводятся тесты производительности различных решений, чтобы вы могли сравнить их эффективность.\n",
    "\n",
    "Цель этого ноутбука - не только помочь вам лучше подготовиться к собеседованиям, но и предоставить удобный инструмент для быстрого возвращения в форму по алгоритмическим задачам, дать понимание типов задач, которые могут быть заданы, и предложить эффективные методы их решения. Идеально для утреннего кофе и освежения знаний.  \n",
    "Удачи в подготовке!\n"
   ]
  },
  {
   "cell_type": "code",
   "execution_count": 3,
   "metadata": {},
   "outputs": [],
   "source": [
    "# import time\n",
    "import random\n",
    "\n",
    "import numpy as np\n",
    "# import itertools\n",
    "# from collections import Counter\n",
    "\n",
    "# import matplotlib.pyplot as plt\n",
    "\n",
    "# from typing import List"
   ]
  },
  {
   "cell_type": "code",
   "execution_count": 4,
   "metadata": {},
   "outputs": [],
   "source": [
    "RANDOM_SEED = 42\n",
    "random.seed(RANDOM_SEED)\n",
    "np.random.seed(RANDOM_SEED)\n",
    "\n",
    "TEST_FOLDER = './tests/'"
   ]
  },
  {
   "cell_type": "markdown",
   "metadata": {},
   "source": [
    "### Задача 1. Не минимум на отрезке\n",
    "\n",
    "Ограничение времени:\t1 секунда  \n",
    "Ограничение памяти:\t64Mb  \n",
    "Ввод:\tстандартный ввод или input.txt  \n",
    "Вывод:\tстандартный вывод или output.txt  \n",
    "\n",
    "Задана последовательность целых чисел a1, a2, …, an. Задаются запросы: сказать любой элемент последовательности на отрезке от L до R включительно, не равный минимуму на этом отрезке.  \n",
    "\n",
    "**Формат ввода**\n",
    "В первой строке содержатся два целых числа N, 1 ≤ N ≤ 100 и M, 1 ≤ M ≤ 1000 — длина последовательности и количество запросов соответственно.  \n",
    "Во второй строке — сама последовательность, 0 ≤ $a_i$ ≤ 1000.  \n",
    "Начиная с третьей строки перечисляются M запросов, состоящих из границ отрезка L и R, где L, R - индексы массива, нумеруются с нуля.  \n",
    "\n",
    "**Формат вывода**\n",
    "На каждый запрос выведите в отдельной строке ответ — любой элемент на [L, R], кроме минимального. В случае, если такого элемента нет, выведите \"NOT FOUND\".  \n",
    "\n",
    "**Пример 1:**  \n",
    "| Ввод | Вывод |\n",
    "|------|-------|\n",
    "| 10 5<br>1 1 1 2 2 2 3 3 3 10<br>0 1<br>0 3<br>3 4<br>7 9<br>3 7 | <br><br>NOT FOUND<br>2<br>NOT FOUND<br>10<br>3 |\n",
    "\n",
    "\n",
    "**Пример 2:**  \n",
    "| Ввод | Вывод |\n",
    "|------|-------|\n",
    "| 4 2<br>1 1 1 2<br>0 2<br>0 3 | <br><br>NOT FOUND<br>2 |\n",
    "\n",
    "***задача с разминки ML тренировок Яндекса по алгоритмам ([A. Не минимум на отрезке](https://contest.yandex.ru/contest/53027/problems/A/))***"
   ]
  },
  {
   "cell_type": "markdown",
   "metadata": {},
   "source": [
    "**Решение задачи 1 вариант 1** через генератор:  \n",
    "\n",
    "Будем решать задачу так:\n",
    "- сначала в заданном интервале найдем минимальный элемент (сложность $O(N)$) \n",
    "- потом пройдем по интервалу и будем искать элемент не равный минимальному, если найдем его вернем, если нет тогда вернем 'NOT FOUND' (сложность $O(N)$)  \n",
    "Таким образом, для каждого запроса сложность составляет $O(N)+O(N)=O(N)$"
   ]
  },
  {
   "cell_type": "code",
   "execution_count": 5,
   "metadata": {},
   "outputs": [],
   "source": [
    "def process_queries(data, queries):\n",
    "    for left, right in queries:\n",
    "        min_value = min(data[left:right+1])\n",
    "        first_not_min = next((x for x in data[left:right+1] if x != min_value), 'NOT FOUND')\n",
    "        print(first_not_min)\n",
    "\n",
    "def main(input_txt):\n",
    "    with open(input_txt, 'r') as file:\n",
    "        n, m = map(int, file.readline().split())\n",
    "        data = list(map(int, file.readline().split()))\n",
    "\n",
    "        queries = [tuple(map(int, file.readline().split())) for _ in range(m)]\n",
    "\n",
    "    process_queries(data, queries)\n",
    "\n",
    "# main('input.txt')  # код для контекста закомментирован"
   ]
  },
  {
   "cell_type": "code",
   "execution_count": 6,
   "metadata": {},
   "outputs": [
    {
     "name": "stdout",
     "output_type": "stream",
     "text": [
      "NOT FOUND\n",
      "2\n",
      "NOT FOUND\n",
      "10\n",
      "3\n"
     ]
    }
   ],
   "source": [
    "main(TEST_FOLDER + 'test_01_01.txt')"
   ]
  },
  {
   "cell_type": "code",
   "execution_count": 7,
   "metadata": {},
   "outputs": [
    {
     "name": "stdout",
     "output_type": "stream",
     "text": [
      "NOT FOUND\n",
      "2\n"
     ]
    }
   ],
   "source": [
    "main(TEST_FOLDER + 'test_01_02.txt')"
   ]
  },
  {
   "cell_type": "code",
   "execution_count": 8,
   "metadata": {},
   "outputs": [],
   "source": [
    "def process_queries2(data, queries):\n",
    "    for left, right in queries:\n",
    "        min_value = min(data[left:right+1])\n",
    "        first_not_min = 'NOT FOUND'\n",
    "        for i in range(left, right + 1):\n",
    "            if data[i] != min_value:\n",
    "                first_not_min = data[i]\n",
    "                break\n",
    "        print(first_not_min)\n",
    "\n",
    "def main2(input_txt):\n",
    "    with open(input_txt, 'r') as file:\n",
    "        n, m = map(int, file.readline().split())\n",
    "        data = list(map(int, file.readline().split()))\n",
    "\n",
    "        queries = [tuple(map(int, file.readline().split())) for _ in range(m)]\n",
    "\n",
    "    process_queries2(data, queries)\n",
    "\n",
    "# main2('input.txt')  # код для контекста закомментирован"
   ]
  },
  {
   "cell_type": "code",
   "execution_count": 9,
   "metadata": {},
   "outputs": [
    {
     "name": "stdout",
     "output_type": "stream",
     "text": [
      "NOT FOUND\n",
      "2\n",
      "NOT FOUND\n",
      "10\n",
      "3\n"
     ]
    }
   ],
   "source": [
    "main2(TEST_FOLDER + 'test_01_01.txt')"
   ]
  },
  {
   "cell_type": "code",
   "execution_count": 10,
   "metadata": {},
   "outputs": [
    {
     "name": "stdout",
     "output_type": "stream",
     "text": [
      "NOT FOUND\n",
      "2\n"
     ]
    }
   ],
   "source": [
    "main2(TEST_FOLDER + 'test_01_02.txt')"
   ]
  },
  {
   "cell_type": "markdown",
   "metadata": {},
   "source": [
    "**Тест производительности - Задача 1**:"
   ]
  },
  {
   "cell_type": "code",
   "execution_count": 11,
   "metadata": {},
   "outputs": [
    {
     "data": {
      "text/plain": [
       "(10000, 1000)"
      ]
     },
     "execution_count": 11,
     "metadata": {},
     "output_type": "execute_result"
    }
   ],
   "source": [
    "N = 10000\n",
    "M = 1000\n",
    "# Генерация случайных тестовых данных\n",
    "random_data = [random.randint(0, 10) for _ in range(N)]  # Случайные данные\n",
    "random_queries = [(np.random.randint(0, N), random.randint(0, N)) for _ in range(M)]  # Случайные запросы\n",
    "\n",
    "# Убедимся, что правая граница всегда больше или равна левой\n",
    "random_queries = [(min(l, r), max(l, r)) for l, r in random_queries]\n",
    "\n",
    "len(random_data), len(random_queries)\n"
   ]
  },
  {
   "cell_type": "code",
   "execution_count": 12,
   "metadata": {},
   "outputs": [
    {
     "name": "stdout",
     "output_type": "stream",
     "text": [
      "[10, 1, 0, 4, 3, 3, 2, 1, 10, 8, 1, 9, 6, 0, 0, 1, 3, 3, 8, 9]\n",
      "[(2903, 7270), (138, 860), (2044, 5390), (5191, 7580), (5734, 6069), (3161, 6265), (466, 7283), (153, 4426), (3629, 5578), (324, 8322)]\n"
     ]
    }
   ],
   "source": [
    "print(random_data[:20])\n",
    "print(random_queries[:10])"
   ]
  },
  {
   "cell_type": "code",
   "execution_count": 13,
   "metadata": {},
   "outputs": [],
   "source": [
    "def process_queries(data, queries):\n",
    "    for left, right in queries:\n",
    "        min_value = min(data[left:right+1])\n",
    "        first_not_min = next((x for x in data[left:right+1] if x != min_value), 'NOT FOUND')\n",
    "        # print(first_not_min)\n",
    "\n",
    "def process_queries2(data, queries):\n",
    "    for left, right in queries:\n",
    "        min_value = min(data[left:right+1])\n",
    "        first_not_min = 'NOT FOUND'\n",
    "        for i in range(left, right + 1):\n",
    "            if data[i] != min_value:\n",
    "                first_not_min = data[i]\n",
    "                break\n",
    "        # print(first_not_min)"
   ]
  },
  {
   "cell_type": "code",
   "execution_count": 14,
   "metadata": {},
   "outputs": [
    {
     "name": "stdout",
     "output_type": "stream",
     "text": [
      "64.5 ms ± 1.82 ms per loop (mean ± std. dev. of 7 runs, 100 loops each)\n"
     ]
    }
   ],
   "source": [
    "%timeit -n 100  process_queries(random_data, random_queries)"
   ]
  },
  {
   "cell_type": "code",
   "execution_count": 15,
   "metadata": {},
   "outputs": [
    {
     "name": "stdout",
     "output_type": "stream",
     "text": [
      "56.1 ms ± 2.78 ms per loop (mean ± std. dev. of 7 runs, 100 loops each)\n"
     ]
    }
   ],
   "source": [
    "%timeit -n 100  process_queries2(random_data, random_queries)"
   ]
  },
  {
   "cell_type": "markdown",
   "metadata": {},
   "source": [
    "Вывод по тесту производительности - Задача 1:  \n",
    "код без генератора работает немного быстрее\n",
    "\n",
    "Ниже скорость и использование памяти с контекста:  \n",
    "process_queries2 - 238ms - 28.10Mb  \n",
    "process_queries  - 239ms - 28.10Mb  "
   ]
  },
  {
   "cell_type": "markdown",
   "metadata": {},
   "source": [
    "### B. Сложить две дроби\n",
    "\n",
    "Ограничение времени: 1 секунда  \n",
    "Ограничение памяти: 64Mb  \n",
    "Ввод: стандартный ввод или input.txt  \n",
    "Вывод: стандартный вывод или output.txt  \n",
    "\n",
    "Даны две рациональные дроби: a/b и c/d. Сложите их и результат представьте в виде несократимой дроби m/n.\n",
    "\n",
    "**Формат ввода**  \n",
    "Программа получает на вход 4 натуральных числа a, b, c, d, каждое из которых не больше 100.\n",
    "\n",
    "**Формат вывода**  \n",
    "Программа должна вывести два натуральных числа m и n такие, что m/n=a/b+c/d и дробь m/n – несократима.\n",
    "\n",
    "**Пример**  \n",
    "| Ввод       | Вывод |\n",
    "|------------|-------|\n",
    "| 1 2 1 2    | 1 1   |\n",
    "\n",
    "***задача с разминки ML тренировок Яндекса по алгоритмам ([B. Сложить две дроби](https://contest.yandex.ru/contest/53027/problems/B/))***\n"
   ]
  },
  {
   "cell_type": "markdown",
   "metadata": {},
   "source": [
    "**Решение задачи 2 вариант 1**:  \n",
    "\n",
    "Будем решать задачу так:\n",
    "- сначала нахождим наименьшее общее кратное (НОК) знаменателей:\n",
    "   - НОК знаменателей `b` и `d` необходим для приведения дробей к общему знаменателю\n",
    "   - НОК двух чисел - это наименьшее число, которое делится на оба числа без остатка\n",
    "   - НОК(`b`, `d`) = `(b * d) / НОД(b, d)`, где НОД - наибольший общий делитель\n",
    "\n",
    "- приводим дроби к общему знаменателю:\n",
    "   - Умножаем числитель и знаменатель первой дроби `a/b` на `(НОК / b)`\n",
    "   - Умножаем числитель и знаменатель второй дроби `c/d` на `(НОК / d)`\n",
    "   - Теперь обе дроби имеют одинаковый знаменатель, который равен НОК\n",
    "\n",
    "- складываем дроби:\n",
    "   - Складываем числители приведенных дробей: `новый числитель = a * (НОК / b) + c * (НОК / d)`\n",
    "\n",
    "- приводим результат к несократимой форме:\n",
    "   - Находим НОД нового числителя и НОК (который теперь является общим знаменателем)\n",
    "   - Делим числитель и знаменатель на их НОД, чтобы получить несократимую дробь\n",
    "\n",
    "- выводим результат:\n",
    "   - В результате получаем дробь в форме `m/n`, где `m` и `n` - несократимый числитель и знаменатель соответственно\n"
   ]
  },
  {
   "cell_type": "code",
   "execution_count": 28,
   "metadata": {},
   "outputs": [],
   "source": [
    "def gcd(num1, num2):\n",
    "    \"\"\" GCD (Greatest Common Divisor): Наибольший общий делитель (НОД) \"\"\"\n",
    "    while num2 != 0:\n",
    "        num1 = num2\n",
    "        num2 = num1 % num2\n",
    "    return num1\n",
    "\n",
    "def lcm(num1, num2):\n",
    "    \"\"\" LCM (Least Common Multiple) Наименьшее общее кратное (НОК) \"\"\"\n",
    "    return (num1 * num2) // gcd(num1, num2)\n",
    "\n",
    "def add_fractions(a, b, c, d):\n",
    "    \"\"\" Сложение двух дробей a/b и c/d \"\"\"\n",
    "    # Находим НОК знаменателей\n",
    "    lcm_denominator = lcm(b, d)\n",
    "\n",
    "    # Вычисляем числитель новой дроби\n",
    "    numerator = a * (lcm_denominator // b) + c * (lcm_denominator // d)\n",
    "    \n",
    "    # Находим НОД числителя и знаменателя для несократимой дроби\n",
    "    gcd_fraction = gcd(numerator, lcm_denominator)\n",
    "\n",
    "    # Выводим числитель и знаменатель несократимой дроби\n",
    "    print(numerator // gcd_fraction, lcm_denominator // gcd_fraction)\n",
    "\n",
    "\n",
    "def main(input_txt):\n",
    "    with open(input_txt, 'r') as file:\n",
    "        a, b, c, d = map(int, file.readline().split())\n",
    "\n",
    "    add_fractions(a, b, c, d)\n",
    "\n",
    "# main('input.txt')  # код для контекста закомментирован"
   ]
  },
  {
   "cell_type": "code",
   "execution_count": 29,
   "metadata": {},
   "outputs": [
    {
     "name": "stdout",
     "output_type": "stream",
     "text": [
      "1 1\n"
     ]
    }
   ],
   "source": [
    "main(TEST_FOLDER + 'test_02_01.txt')"
   ]
  },
  {
   "cell_type": "markdown",
   "metadata": {},
   "source": [
    "Ниже скорость и использование памяти с контекста:  \n",
    "195ms - 28.32Mb  "
   ]
  },
  {
   "cell_type": "code",
   "execution_count": null,
   "metadata": {},
   "outputs": [],
   "source": []
  },
  {
   "cell_type": "code",
   "execution_count": null,
   "metadata": {},
   "outputs": [],
   "source": []
  },
  {
   "cell_type": "code",
   "execution_count": null,
   "metadata": {},
   "outputs": [],
   "source": []
  },
  {
   "cell_type": "code",
   "execution_count": null,
   "metadata": {},
   "outputs": [],
   "source": []
  },
  {
   "cell_type": "code",
   "execution_count": null,
   "metadata": {},
   "outputs": [],
   "source": []
  },
  {
   "cell_type": "code",
   "execution_count": null,
   "metadata": {},
   "outputs": [],
   "source": []
  },
  {
   "cell_type": "code",
   "execution_count": null,
   "metadata": {},
   "outputs": [],
   "source": []
  },
  {
   "cell_type": "code",
   "execution_count": null,
   "metadata": {},
   "outputs": [],
   "source": []
  },
  {
   "cell_type": "code",
   "execution_count": null,
   "metadata": {},
   "outputs": [],
   "source": []
  },
  {
   "cell_type": "code",
   "execution_count": null,
   "metadata": {},
   "outputs": [],
   "source": []
  },
  {
   "cell_type": "code",
   "execution_count": null,
   "metadata": {},
   "outputs": [],
   "source": []
  },
  {
   "cell_type": "code",
   "execution_count": null,
   "metadata": {},
   "outputs": [],
   "source": []
  },
  {
   "cell_type": "code",
   "execution_count": null,
   "metadata": {},
   "outputs": [],
   "source": []
  },
  {
   "cell_type": "code",
   "execution_count": null,
   "metadata": {},
   "outputs": [],
   "source": []
  }
 ],
 "metadata": {
  "kernelspec": {
   "display_name": "Python 3",
   "language": "python",
   "name": "python3"
  },
  "language_info": {
   "codemirror_mode": {
    "name": "ipython",
    "version": 3
   },
   "file_extension": ".py",
   "mimetype": "text/x-python",
   "name": "python",
   "nbconvert_exporter": "python",
   "pygments_lexer": "ipython3",
   "version": "3.8.10"
  }
 },
 "nbformat": 4,
 "nbformat_minor": 2
}
