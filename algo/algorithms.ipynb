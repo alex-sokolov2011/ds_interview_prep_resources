{
 "cells": [
  {
   "cell_type": "markdown",
   "metadata": {},
   "source": [
    "# Разбор алгоритмических задач\n",
    "\n",
    "Добро пожаловать! Если вы готовитесь к собеседованиям на роль дата сайентиста, этот ноутбук может быть для вас полезным. Он разработан как инструмент для быстрого возвращения в форму по решению алгоритмических задач перед собеседованием. Задача ноутбука не в том, чтобы изучить алгоритмы с нуля, а чтобы освежить в памяти и усовершенствовать уже имеющиеся навыки. Если у вас нет опыта, это также будет полезно, чтобы подготовиться к предстоящим испытаниям, так как здесь собраны основные и часто встречающиеся задачи.\n",
    "\n",
    "## Что вы найдете в этом ноутбуке:\n",
    "\n",
    "1. **Реальные задачи с алгоритмических секций:** Все задачи, представленные здесь, были собраны из различных источников и отражают типы вопросов, с которыми вы можете столкнуться на собеседованиях.\n",
    "2. **Описание и разбор задач:** Здесь вы найдете подробные описания каждой задачи, а также шаги их решения. Я стараюсь разобрать каждую задачу так, чтобы она была понятна даже тем, кто встречается с ней впервые. При использовании алгоритмов с остоявшимися в отрасли названиями указываю их.\n",
    "3. **Варианты решений:** Для каждой задачи стараюсь предлагать несколько способов решения, включая эффективные алгоритмические подходы.\n",
    "4. **Тесты производительности:** Также в ноутбуке проводятся тесты производительности различных решений, чтобы вы могли сравнить их эффективность.\n",
    "\n",
    "Цель этого ноутбука - не только помочь вам лучше подготовиться к собеседованиям, но и предоставить удобный инструмент для быстрого возвращения в форму по алгоритмическим задачам, дать понимание типов задач, которые могут быть заданы, и предложить эффективные методы их решения. Идеально для утреннего кофе и освежения знаний.  \n",
    "Удачи в подготовке!\n"
   ]
  },
  {
   "cell_type": "code",
   "execution_count": 1,
   "metadata": {},
   "outputs": [],
   "source": [
    "import time\n",
    "import random\n",
    "import os\n",
    "\n",
    "import numpy as np\n",
    "import math\n",
    "\n",
    "# import itertools\n",
    "# from collections import Counter\n",
    "\n",
    "# import matplotlib.pyplot as plt\n",
    "\n",
    "# from typing import List"
   ]
  },
  {
   "cell_type": "code",
   "execution_count": 2,
   "metadata": {},
   "outputs": [],
   "source": [
    "RANDOM_SEED = 42\n",
    "random.seed(RANDOM_SEED)\n",
    "np.random.seed(RANDOM_SEED)\n",
    "\n",
    "TEST_FOLDER = './tests/'"
   ]
  },
  {
   "cell_type": "markdown",
   "metadata": {},
   "source": [
    "### Задача 1. Не минимум на отрезке\n",
    "\n",
    "Ограничение времени:\t1 секунда  \n",
    "Ограничение памяти:\t64Mb  \n",
    "Ввод:\tстандартный ввод или input.txt  \n",
    "Вывод:\tстандартный вывод или output.txt  \n",
    "\n",
    "Задана последовательность целых чисел a1, a2, …, an. Задаются запросы: сказать любой элемент последовательности на отрезке от L до R включительно, не равный минимуму на этом отрезке.  \n",
    "\n",
    "**Формат ввода**\n",
    "В первой строке содержатся два целых числа N, 1 ≤ N ≤ 100 и M, 1 ≤ M ≤ 1000 — длина последовательности и количество запросов соответственно.  \n",
    "Во второй строке — сама последовательность, 0 ≤ $a_i$ ≤ 1000.  \n",
    "Начиная с третьей строки перечисляются M запросов, состоящих из границ отрезка L и R, где L, R - индексы массива, нумеруются с нуля.  \n",
    "\n",
    "**Формат вывода**\n",
    "На каждый запрос выведите в отдельной строке ответ — любой элемент на [L, R], кроме минимального. В случае, если такого элемента нет, выведите \"NOT FOUND\".  \n",
    "\n",
    "**Пример 1:**  \n",
    "| Ввод | Вывод |\n",
    "|------|-------|\n",
    "| 10 5<br>1 1 1 2 2 2 3 3 3 10<br>0 1<br>0 3<br>3 4<br>7 9<br>3 7 | <br><br>NOT FOUND<br>2<br>NOT FOUND<br>10<br>3 |\n",
    "\n",
    "\n",
    "**Пример 2:**  \n",
    "| Ввод | Вывод |\n",
    "|------|-------|\n",
    "| 4 2<br>1 1 1 2<br>0 2<br>0 3 | <br><br>NOT FOUND<br>2 |\n",
    "\n",
    "***задача с разминки ML тренировок Яндекса по алгоритмам ([A. Не минимум на отрезке](https://contest.yandex.ru/contest/53027/problems/A/))***"
   ]
  },
  {
   "cell_type": "markdown",
   "metadata": {},
   "source": [
    "**Решение задачи 1 вариант 1** через генератор:  \n",
    "\n",
    "Будем решать задачу так:\n",
    "- сначала в заданном интервале найдем минимальный элемент (сложность $O(N)$) \n",
    "- потом пройдем по интервалу и будем искать элемент не равный минимальному, если найдем его вернем, если нет тогда вернем 'NOT FOUND' (сложность $O(N)$)  \n",
    "Таким образом, для каждого запроса сложность составляет $O(N)+O(N)=O(N)$"
   ]
  },
  {
   "cell_type": "code",
   "execution_count": 3,
   "metadata": {},
   "outputs": [],
   "source": [
    "def process_queries(data, queries):\n",
    "    for left, right in queries:\n",
    "        min_value = min(data[left:right+1])\n",
    "        first_not_min = next((x for x in data[left:right+1] if x != min_value), 'NOT FOUND')\n",
    "        print(first_not_min)\n",
    "\n",
    "def main(input_txt):\n",
    "    with open(input_txt, 'r') as file:\n",
    "        n, m = map(int, file.readline().split())\n",
    "        data = list(map(int, file.readline().split()))\n",
    "\n",
    "        queries = [tuple(map(int, file.readline().split())) for _ in range(m)]\n",
    "\n",
    "    process_queries(data, queries)\n",
    "\n",
    "# main('input.txt')  # Код для контекста закомментирован"
   ]
  },
  {
   "cell_type": "code",
   "execution_count": 4,
   "metadata": {},
   "outputs": [
    {
     "name": "stdout",
     "output_type": "stream",
     "text": [
      "NOT FOUND\n",
      "2\n",
      "NOT FOUND\n",
      "10\n",
      "3\n"
     ]
    }
   ],
   "source": [
    "main(TEST_FOLDER + 'test_01_01.txt')"
   ]
  },
  {
   "cell_type": "code",
   "execution_count": 5,
   "metadata": {},
   "outputs": [
    {
     "name": "stdout",
     "output_type": "stream",
     "text": [
      "NOT FOUND\n",
      "2\n"
     ]
    }
   ],
   "source": [
    "main(TEST_FOLDER + 'test_01_02.txt')"
   ]
  },
  {
   "cell_type": "code",
   "execution_count": 6,
   "metadata": {},
   "outputs": [],
   "source": [
    "def process_queries2(data, queries):\n",
    "    for left, right in queries:\n",
    "        min_value = min(data[left:right+1])\n",
    "        first_not_min = 'NOT FOUND'\n",
    "        for i in range(left, right + 1):\n",
    "            if data[i] != min_value:\n",
    "                first_not_min = data[i]\n",
    "                break\n",
    "        print(first_not_min)\n",
    "\n",
    "def main2(input_txt):\n",
    "    with open(input_txt, 'r') as file:\n",
    "        n, m = map(int, file.readline().split())\n",
    "        data = list(map(int, file.readline().split()))\n",
    "\n",
    "        queries = [tuple(map(int, file.readline().split())) for _ in range(m)]\n",
    "\n",
    "    process_queries2(data, queries)\n",
    "\n",
    "# main2('input.txt')  # Код для контекста закомментирован"
   ]
  },
  {
   "cell_type": "code",
   "execution_count": 7,
   "metadata": {},
   "outputs": [
    {
     "name": "stdout",
     "output_type": "stream",
     "text": [
      "NOT FOUND\n",
      "2\n",
      "NOT FOUND\n",
      "10\n",
      "3\n"
     ]
    }
   ],
   "source": [
    "main2(TEST_FOLDER + 'test_01_01.txt')"
   ]
  },
  {
   "cell_type": "code",
   "execution_count": 8,
   "metadata": {},
   "outputs": [
    {
     "name": "stdout",
     "output_type": "stream",
     "text": [
      "NOT FOUND\n",
      "2\n"
     ]
    }
   ],
   "source": [
    "main2(TEST_FOLDER + 'test_01_02.txt')"
   ]
  },
  {
   "cell_type": "markdown",
   "metadata": {},
   "source": [
    "**Тест производительности - Задача 1**:"
   ]
  },
  {
   "cell_type": "code",
   "execution_count": 9,
   "metadata": {},
   "outputs": [
    {
     "data": {
      "text/plain": [
       "(10000, 1000)"
      ]
     },
     "execution_count": 9,
     "metadata": {},
     "output_type": "execute_result"
    }
   ],
   "source": [
    "N = 10000\n",
    "M = 1000\n",
    "# Генерация случайных тестовых данных\n",
    "random_data = [random.randint(0, 10) for _ in range(N)]  # Случайные данные\n",
    "random_queries = [(np.random.randint(0, N), random.randint(0, N)) for _ in range(M)]  # Случайные запросы\n",
    "\n",
    "# Убедимся, что правая граница всегда больше или равна левой\n",
    "random_queries = [(min(l, r), max(l, r)) for l, r in random_queries]\n",
    "\n",
    "len(random_data), len(random_queries)\n"
   ]
  },
  {
   "cell_type": "code",
   "execution_count": 10,
   "metadata": {},
   "outputs": [
    {
     "name": "stdout",
     "output_type": "stream",
     "text": [
      "[10, 1, 0, 4, 3, 3, 2, 1, 10, 8, 1, 9, 6, 0, 0, 1, 3, 3, 8, 9]\n",
      "[(2903, 7270), (138, 860), (2044, 5390), (5191, 7580), (5734, 6069), (3161, 6265), (466, 7283), (153, 4426), (3629, 5578), (324, 8322)]\n"
     ]
    }
   ],
   "source": [
    "print(random_data[:20])\n",
    "print(random_queries[:10])"
   ]
  },
  {
   "cell_type": "code",
   "execution_count": 11,
   "metadata": {},
   "outputs": [],
   "source": [
    "def process_queries(data, queries):\n",
    "    for left, right in queries:\n",
    "        min_value = min(data[left:right+1])\n",
    "        first_not_min = next((x for x in data[left:right+1] if x != min_value), 'NOT FOUND')\n",
    "        # print(first_not_min)\n",
    "\n",
    "def process_queries2(data, queries):\n",
    "    for left, right in queries:\n",
    "        min_value = min(data[left:right+1])\n",
    "        first_not_min = 'NOT FOUND'\n",
    "        for i in range(left, right + 1):\n",
    "            if data[i] != min_value:\n",
    "                first_not_min = data[i]\n",
    "                break\n",
    "        # print(first_not_min)"
   ]
  },
  {
   "cell_type": "code",
   "execution_count": 12,
   "metadata": {},
   "outputs": [
    {
     "name": "stdout",
     "output_type": "stream",
     "text": [
      "65.2 ms ± 2.91 ms per loop (mean ± std. dev. of 7 runs, 100 loops each)\n"
     ]
    }
   ],
   "source": [
    "%timeit -n 100  process_queries(random_data, random_queries)"
   ]
  },
  {
   "cell_type": "code",
   "execution_count": 13,
   "metadata": {},
   "outputs": [
    {
     "name": "stdout",
     "output_type": "stream",
     "text": [
      "56.3 ms ± 2.87 ms per loop (mean ± std. dev. of 7 runs, 100 loops each)\n"
     ]
    }
   ],
   "source": [
    "%timeit -n 100  process_queries2(random_data, random_queries)"
   ]
  },
  {
   "cell_type": "markdown",
   "metadata": {},
   "source": [
    "Вывод по тесту производительности - Задача 1:  \n",
    "код без генератора работает немного быстрее\n",
    "\n",
    "Ниже скорость и использование памяти с контекста:  \n",
    "process_queries2 - 238ms - 28.10Mb  \n",
    "process_queries  - 239ms - 28.10Mb  "
   ]
  },
  {
   "cell_type": "markdown",
   "metadata": {},
   "source": [
    "### Задача 2. Сложить две дроби\n",
    "\n",
    "Ограничение времени: 1 секунда  \n",
    "Ограничение памяти: 64Mb  \n",
    "Ввод: стандартный ввод или input.txt  \n",
    "Вывод: стандартный вывод или output.txt  \n",
    "\n",
    "Даны две рациональные дроби: a/b и c/d. Сложите их и результат представьте в виде несократимой дроби m/n.\n",
    "\n",
    "**Формат ввода**  \n",
    "Программа получает на вход 4 натуральных числа a, b, c, d, каждое из которых не больше 100.\n",
    "\n",
    "**Формат вывода**  \n",
    "Программа должна вывести два натуральных числа m и n такие, что m/n=a/b+c/d и дробь m/n – несократима.\n",
    "\n",
    "**Пример**  \n",
    "| Ввод       | Вывод |\n",
    "|------------|-------|\n",
    "| 1 2 1 2    | 1 1   |\n",
    "\n",
    "***задача с разминки ML тренировок Яндекса по алгоритмам ([B. Сложить две дроби](https://contest.yandex.ru/contest/53027/problems/B/))***\n"
   ]
  },
  {
   "cell_type": "markdown",
   "metadata": {},
   "source": [
    "**Решение задачи 2 вариант 1**:  \n",
    "\n",
    "Будем решать задачу так:\n",
    "- сначала нахождим наименьшее общее кратное (НОК) знаменателей:\n",
    "   - НОК знаменателей `b` и `d` необходим для приведения дробей к общему знаменателю\n",
    "   - НОК двух чисел - это наименьшее число, которое делится на оба числа без остатка\n",
    "   - НОК(`b`, `d`) = `(b * d) / НОД(b, d)`, где НОД - наибольший общий делитель\n",
    "\n",
    "- приводим дроби к общему знаменателю:\n",
    "   - Умножаем числитель и знаменатель первой дроби `a/b` на `(НОК / b)`\n",
    "   - Умножаем числитель и знаменатель второй дроби `c/d` на `(НОК / d)`\n",
    "   - Теперь обе дроби имеют одинаковый знаменатель, который равен НОК\n",
    "\n",
    "- складываем дроби:\n",
    "   - Складываем числители приведенных дробей: `новый числитель = a * (НОК / b) + c * (НОК / d)`\n",
    "\n",
    "- приводим результат к несократимой форме:\n",
    "   - Находим НОД нового числителя и НОК (который теперь является общим знаменателем)\n",
    "   - Делим числитель и знаменатель на их НОД, чтобы получить несократимую дробь\n",
    "\n",
    "- выводим результат:\n",
    "   - В результате получаем дробь в форме `m/n`, где `m` и `n` - несократимый числитель и знаменатель соответственно\n"
   ]
  },
  {
   "cell_type": "code",
   "execution_count": 14,
   "metadata": {},
   "outputs": [],
   "source": [
    "def gcd(num1, num2):\n",
    "    \"\"\" GCD (Greatest Common Divisor): Наибольший общий делитель (НОД) \"\"\"\n",
    "    while num2 != 0:\n",
    "        num1 = num2\n",
    "        num2 = num1 % num2\n",
    "    return num1\n",
    "\n",
    "def lcm(num1, num2):\n",
    "    \"\"\" LCM (Least Common Multiple) Наименьшее общее кратное (НОК) \"\"\"\n",
    "    return (num1 * num2) // gcd(num1, num2)\n",
    "\n",
    "def add_fractions(a, b, c, d):\n",
    "    \"\"\" Сложение двух дробей a/b и c/d \"\"\"\n",
    "    # Находим НОК знаменателей\n",
    "    lcm_denominator = lcm(b, d)\n",
    "\n",
    "    # Вычисляем числитель новой дроби\n",
    "    numerator = a * (lcm_denominator // b) + c * (lcm_denominator // d)\n",
    "    \n",
    "    # Находим НОД числителя и знаменателя для несократимой дроби\n",
    "    gcd_fraction = gcd(numerator, lcm_denominator)\n",
    "\n",
    "    # Выводим числитель и знаменатель несократимой дроби\n",
    "    print(numerator // gcd_fraction, lcm_denominator // gcd_fraction)\n",
    "\n",
    "\n",
    "def main(input_txt):\n",
    "    with open(input_txt, 'r') as file:\n",
    "        a, b, c, d = map(int, file.readline().split())\n",
    "\n",
    "    add_fractions(a, b, c, d)\n",
    "\n",
    "# main('input.txt')  # Код для контекста закомментирован"
   ]
  },
  {
   "cell_type": "code",
   "execution_count": 15,
   "metadata": {},
   "outputs": [
    {
     "name": "stdout",
     "output_type": "stream",
     "text": [
      "1 1\n"
     ]
    }
   ],
   "source": [
    "main(TEST_FOLDER + 'test_02_01.txt')"
   ]
  },
  {
   "cell_type": "markdown",
   "metadata": {},
   "source": [
    "Ниже скорость и использование памяти с контекста:  \n",
    "195ms - 28.32Mb  "
   ]
  },
  {
   "cell_type": "markdown",
   "metadata": {},
   "source": [
    "### Задача 3. Путешествие по Москве\n",
    "\n",
    "Ограничение времени: 2 секунды  \n",
    "Ограничение памяти: 256Mb  \n",
    "Ввод: стандартный ввод или input.txt  \n",
    "Вывод: стандартный вывод или output.txt  \n",
    "\n",
    "Мэрия Москвы основательно подготовилась к празднованию тысячелетия города в 2147 году, построив под столицей бесконечную асфальтированную площадку, чтобы заменить все существующие в городе автомобильные дороги. В память о кольцевых и радиальных дорогах разрешили двигаться по площадке только двумя способами:\n",
    "\n",
    "1. В сторону точки начала координат или от неё. При этом из точки начала координат разрешено двигаться в любом направлении.\n",
    "2. Вдоль окружности с центром в начале координат и радиусом, который равен текущему расстоянию до начала координат. Двигаться вдоль такой окружности разрешается в любом направлении (по или против часовой стрелки).\n",
    "\n",
    "Вам, как ведущему программисту ответственной инстанции, поручено разработать модуль, который будет определять кратчайший путь из точки A с координатами (xA, yA) в точку B с координатами (xB, yB). Считайте, что менять направление движения можно произвольное количество раз, но оно должно всегда соответствовать одному из двух описанных выше вариантов.\n",
    "\n",
    "**Формат ввода**  \n",
    "В первой строке ввода заданы четыре целых числа xA, yA, xB и yB, по модулю не превосходящие 10^6.\n",
    "\n",
    "**Формат вывода**  \n",
    "Выведите одно число — минимальное расстояние, которое придётся преодолеть по пути из точки A в точку B, если не нарушать правил дорожного движения. Ваш ответ будет принят, если его абсолютная или относительная погрешность не превосходит 10^-6.\n",
    "\n",
    "**Пример 1:**  \n",
    "| Ввод     | Вывод             |\n",
    "|----------|-------------------|\n",
    "| 0 5 4 3  | 4.636476090008    |\n",
    "\n",
    "**Пример 2:**  \n",
    "| Ввод      | Вывод             |\n",
    "|-----------|-------------------|\n",
    "| 0 5 4 -3  | 10.000000000000   |\n"
   ]
  },
  {
   "cell_type": "code",
   "execution_count": 16,
   "metadata": {},
   "outputs": [],
   "source": [
    "import math\n",
    "\n",
    "def solution1(input_file):\n",
    "    def calculate_radius(x, y):\n",
    "        \"\"\" Вычисление расстояния до точки от центра координат \"\"\"\n",
    "        return math.sqrt(x**2 + y**2)\n",
    "\n",
    "    def calculate_angle(x1, y1, x2, y2):\n",
    "        \"\"\" Вычисление угла между лучами из центра координат, проходящими через две точки \"\"\"\n",
    "        angle1 = math.atan2(y1, x1)\n",
    "        angle2 = math.atan2(y2, x2)\n",
    "\n",
    "        angle = abs(math.degrees(angle1 - angle2))\n",
    "        return min(angle, 360. - angle)\n",
    "\n",
    "    def calculate_arc_length(radius, angle):\n",
    "        \"\"\" Вычисление длины дуги (2 * π * r * θ) / 360, где r - радиус, θ - угол в градусах \"\"\"\n",
    "        return (2 * math.pi * radius * angle) / 360.0\n",
    "\n",
    "    def read_input_file(input_file):\n",
    "        with open(input_file, 'r') as file:\n",
    "            return list(map(int, file.readline().split()))\n",
    "\n",
    "    def calculate_shortest_path(xA, yA, xB, yB):\n",
    "        \"\"\" \n",
    "        Вычисление кратчайшего пути между двумя точками на плоскости с учетом правил движения.\n",
    "        Рассчитывает как прямой путь, так и путь по дуге окружности, и выбирает наименьший.\n",
    "\n",
    "        Args:\n",
    "        xA, yA - координаты первой точки\n",
    "        xB, yB - координаты второй точки\n",
    "\n",
    "        Returns:\n",
    "        Строка с минимальным расстоянием, форматированная с двенадцатью знаками после запятой.\n",
    "        \"\"\"\n",
    "        r1 = calculate_radius(xA, yA)\n",
    "        r2 = calculate_radius(xB, yB)\n",
    "\n",
    "        angle = calculate_angle(xA, yA, xB, yB)\n",
    "        arc = calculate_arc_length(min(r1, r2), angle)\n",
    "        dif = abs(r1 - r2)\n",
    "\n",
    "        res = min(r1 + r2, arc + dif)\n",
    "\n",
    "        return f\"{res:.12f}\"\n",
    "\n",
    "    def main(input_file):\n",
    "        xA, yA, xB, yB = read_input_file(input_file)\n",
    "\n",
    "        return calculate_shortest_path(xA, yA, xB, yB)\n",
    "\n",
    "    return main(input_file)\n",
    "\n",
    "# print(solution1('input.txt'))  # Код для контекста закомментирован"
   ]
  },
  {
   "cell_type": "markdown",
   "metadata": {},
   "source": [
    "**!!!Обратите внимание!!!** начиная с этого примера и далее для удобства тестирования разных решений:  \n",
    "- решения реализованы в функциях Solution\n",
    "- в решениях опереаторы вывода print для контекста заменены на return "
   ]
  },
  {
   "cell_type": "code",
   "execution_count": 17,
   "metadata": {},
   "outputs": [
    {
     "data": {
      "text/plain": [
       "'4.636476090008'"
      ]
     },
     "execution_count": 17,
     "metadata": {},
     "output_type": "execute_result"
    }
   ],
   "source": [
    "solution1(TEST_FOLDER + 'test_03_01.txt')"
   ]
  },
  {
   "cell_type": "code",
   "execution_count": 18,
   "metadata": {},
   "outputs": [
    {
     "data": {
      "text/plain": [
       "'10.000000000000'"
      ]
     },
     "execution_count": 18,
     "metadata": {},
     "output_type": "execute_result"
    }
   ],
   "source": [
    "solution1(TEST_FOLDER + 'test_03_02.txt')"
   ]
  },
  {
   "cell_type": "code",
   "execution_count": 19,
   "metadata": {},
   "outputs": [
    {
     "data": {
      "text/plain": [
       "'1.414213562319'"
      ]
     },
     "execution_count": 19,
     "metadata": {},
     "output_type": "execute_result"
    }
   ],
   "source": [
    "solution1(TEST_FOLDER + 'test_03_my.txt')"
   ]
  },
  {
   "cell_type": "markdown",
   "metadata": {},
   "source": [
    "Ниже скорость и использование памяти с контекста для решения 1:  \n",
    "189ms - 28.30Mb  "
   ]
  },
  {
   "cell_type": "code",
   "execution_count": 20,
   "metadata": {},
   "outputs": [],
   "source": [
    "def solution2(input_file):\n",
    "\n",
    "    def calculate_angle(ax, ay, bx, by):\n",
    "        \"\"\"Вычисление угла между двумя векторами.\"\"\"\n",
    "        angle = math.atan2(ax * by - ay * bx, ax * bx + ay * by)\n",
    "        return abs(math.degrees(angle))\n",
    "\n",
    "    def calculate_radius(x, y):\n",
    "        \"\"\"Вычисление расстояния до точки от центра координат.\"\"\"\n",
    "        return math.sqrt(x**2 + y**2)\n",
    "\n",
    "    def calculate_arc_length(radius, angle):\n",
    "        \"\"\"Вычисление длины дуги (2 * π * r * θ) / 360, где r - радиус, θ - угол в градусах.\"\"\"\n",
    "        return (2 * math.pi * radius * angle) / 360.0\n",
    "    \n",
    "    def read_input_file(input_file):\n",
    "        with open(input_file, 'r') as file:\n",
    "            return list(map(int, file.readline().split()))\n",
    "\n",
    "    def calculate_shortest_path(xA, yA, xB, yB):\n",
    "        rA = calculate_radius(xA, yA)\n",
    "        rB = calculate_radius(xB, yB)\n",
    "\n",
    "        angle = calculate_angle(xA, yA, xB, yB)\n",
    "\n",
    "        # Вычисление длины дуги с учётом меньшего радиуса\n",
    "        arc_length = calculate_arc_length(min(rA, rB), abs(angle))\n",
    "\n",
    "        # Выбор кратчайшего пути: по прямой или через дугу\n",
    "        path_via_arc = arc_length + abs(rA - rB)  # Путь через дугу\n",
    "\n",
    "        shortest_path = min(rA + rB, path_via_arc)\n",
    "\n",
    "        return f\"{shortest_path:.12f}\"\n",
    "\n",
    "    def main(input_file):\n",
    "        xA, yA, xB, yB = read_input_file(input_file)\n",
    "\n",
    "        return calculate_shortest_path(xA, yA, xB, yB)\n",
    "\n",
    "    return main(input_file)\n",
    "\n",
    "# print(solution2('input.txt'))  # Код для контекста закомментирован\n"
   ]
  },
  {
   "cell_type": "code",
   "execution_count": 21,
   "metadata": {},
   "outputs": [
    {
     "data": {
      "text/plain": [
       "'4.636476090008'"
      ]
     },
     "execution_count": 21,
     "metadata": {},
     "output_type": "execute_result"
    }
   ],
   "source": [
    "solution2(TEST_FOLDER + 'test_03_01.txt')"
   ]
  },
  {
   "cell_type": "code",
   "execution_count": 22,
   "metadata": {},
   "outputs": [
    {
     "data": {
      "text/plain": [
       "'10.000000000000'"
      ]
     },
     "execution_count": 22,
     "metadata": {},
     "output_type": "execute_result"
    }
   ],
   "source": [
    "solution2(TEST_FOLDER + 'test_03_02.txt')"
   ]
  },
  {
   "cell_type": "code",
   "execution_count": 23,
   "metadata": {},
   "outputs": [
    {
     "data": {
      "text/plain": [
       "'1.414213562373'"
      ]
     },
     "execution_count": 23,
     "metadata": {},
     "output_type": "execute_result"
    }
   ],
   "source": [
    "solution2(TEST_FOLDER + 'test_03_my.txt')"
   ]
  },
  {
   "cell_type": "code",
   "execution_count": 24,
   "metadata": {},
   "outputs": [],
   "source": [
    "def solution3(input_file):\n",
    "\n",
    "    def calculate_radius(x, y):\n",
    "        \"\"\"Вычисление расстояния до точки от центра координат.\"\"\"\n",
    "        return math.sqrt(x**2 + y**2)\n",
    "\n",
    "    def read_input_file(input_file):\n",
    "        with open(input_file, 'r') as file:\n",
    "            return list(map(int, file.readline().split()))\n",
    "\n",
    "    def calculate_shortest_path(xA, yA, xB, yB):\n",
    "            rA = calculate_radius(xA, yA)\n",
    "            rB = calculate_radius(xB, yB)\n",
    "\n",
    "            # Вычисление угла между двумя векторами\n",
    "            angle = abs(math.degrees(math.atan2(xA * yB - yA * xB, xA * xB + yA * yB)))\n",
    "\n",
    "            # Вычисление длины дуги с учётом меньшего радиуса\n",
    "            arc_length = (2 * math.pi * (min(rA, rB)) * angle) / 360.0\n",
    "\n",
    "            return f'{min(rA + rB, arc_length + abs(rA - rB)):.12f}'\n",
    "\n",
    "    def main(input_file):\n",
    "        xA, yA, xB, yB = read_input_file(input_file)\n",
    "\n",
    "        return calculate_shortest_path(xA, yA, xB, yB)\n",
    "\n",
    "    return main(input_file)\n",
    "\n",
    "# print(solution3('input.txt'))  # Код для контекста закомментирован"
   ]
  },
  {
   "cell_type": "code",
   "execution_count": 25,
   "metadata": {},
   "outputs": [
    {
     "data": {
      "text/plain": [
       "'4.636476090008'"
      ]
     },
     "execution_count": 25,
     "metadata": {},
     "output_type": "execute_result"
    }
   ],
   "source": [
    "solution3(TEST_FOLDER + 'test_03_01.txt')"
   ]
  },
  {
   "cell_type": "code",
   "execution_count": 26,
   "metadata": {},
   "outputs": [
    {
     "data": {
      "text/plain": [
       "'10.000000000000'"
      ]
     },
     "execution_count": 26,
     "metadata": {},
     "output_type": "execute_result"
    }
   ],
   "source": [
    "solution3(TEST_FOLDER + 'test_03_02.txt')"
   ]
  },
  {
   "cell_type": "code",
   "execution_count": 27,
   "metadata": {},
   "outputs": [
    {
     "data": {
      "text/plain": [
       "'1.414213562373'"
      ]
     },
     "execution_count": 27,
     "metadata": {},
     "output_type": "execute_result"
    }
   ],
   "source": [
    "solution3(TEST_FOLDER + 'test_03_my.txt')"
   ]
  },
  {
   "cell_type": "markdown",
   "metadata": {},
   "source": [
    "**Тест производительности - Задача 3**:"
   ]
  },
  {
   "cell_type": "code",
   "execution_count": 28,
   "metadata": {},
   "outputs": [],
   "source": [
    "N  = 10000"
   ]
  },
  {
   "cell_type": "code",
   "execution_count": 29,
   "metadata": {},
   "outputs": [],
   "source": [
    "# Создание тестовых файлов с координатами\n",
    "tests = []\n",
    "    \n",
    "for i in range(N):\n",
    "    xA, yA, xB, yB = [random.randint(-10_000_000, 10_000_000) for _ in range(4)]\n",
    "    tests.append((xA, yA, xB, yB))"
   ]
  },
  {
   "cell_type": "code",
   "execution_count": 30,
   "metadata": {},
   "outputs": [
    {
     "data": {
      "text/plain": [
       "[(3482451, -5340530, -9138308, -5876344),\n",
       " (7804966, -622626, -1660461, 2362455),\n",
       " (5163854, 5945046, 7277646, 3862228),\n",
       " (-3693950, -9895005, 810686, -9441980),\n",
       " (2086494, -8464742, 922813, 4908440)]"
      ]
     },
     "execution_count": 30,
     "metadata": {},
     "output_type": "execute_result"
    }
   ],
   "source": [
    "tests[:5]"
   ]
  },
  {
   "cell_type": "code",
   "execution_count": 31,
   "metadata": {},
   "outputs": [
    {
     "name": "stdout",
     "output_type": "stream",
     "text": [
      "415 ns ± 109 ns per loop (mean ± std. dev. of 7 runs, 1000 loops each)\n"
     ]
    }
   ],
   "source": [
    "%timeit -n 1000 (solution1.calculate_shortest_path(xA, yA, xB, yB) for xA, yA, xB, yB in tests)"
   ]
  },
  {
   "cell_type": "code",
   "execution_count": 32,
   "metadata": {},
   "outputs": [
    {
     "name": "stdout",
     "output_type": "stream",
     "text": [
      "471 ns ± 90.3 ns per loop (mean ± std. dev. of 7 runs, 1000 loops each)\n"
     ]
    }
   ],
   "source": [
    "%timeit -n 1000 (solution2.calculate_shortest_path(xA, yA, xB, yB) for xA, yA, xB, yB in tests)"
   ]
  },
  {
   "cell_type": "code",
   "execution_count": 33,
   "metadata": {},
   "outputs": [
    {
     "name": "stdout",
     "output_type": "stream",
     "text": [
      "372 ns ± 101 ns per loop (mean ± std. dev. of 7 runs, 1000 loops each)\n"
     ]
    }
   ],
   "source": [
    "%timeit -n 1000 (solution3.calculate_shortest_path(xA, yA, xB, yB) for xA, yA, xB, yB in tests)"
   ]
  },
  {
   "cell_type": "markdown",
   "metadata": {},
   "source": [
    "Выводы по тесту производительности: все три решения практически одинаковые по скорости. Небольшие расходения нельзя принимать в расчет изза достаточно большой дисперсии в разных циклах.\n",
    "\n",
    "Далее я буду проводить тесты для всех решений, и если расхождения будут незначительными буду оставлять одно решение без тестов чтобы не перегружать вас. А если разница будет существенной, тогда буду оставлять ее вам чтобы вы могли ее учитывать"
   ]
  },
  {
   "cell_type": "code",
   "execution_count": null,
   "metadata": {},
   "outputs": [],
   "source": []
  },
  {
   "cell_type": "code",
   "execution_count": null,
   "metadata": {},
   "outputs": [],
   "source": []
  },
  {
   "cell_type": "code",
   "execution_count": null,
   "metadata": {},
   "outputs": [],
   "source": []
  }
 ],
 "metadata": {
  "kernelspec": {
   "display_name": "Python 3",
   "language": "python",
   "name": "python3"
  },
  "language_info": {
   "codemirror_mode": {
    "name": "ipython",
    "version": 3
   },
   "file_extension": ".py",
   "mimetype": "text/x-python",
   "name": "python",
   "nbconvert_exporter": "python",
   "pygments_lexer": "ipython3",
   "version": "3.8.10"
  }
 },
 "nbformat": 4,
 "nbformat_minor": 2
}
