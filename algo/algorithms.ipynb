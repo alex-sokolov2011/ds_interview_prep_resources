{
 "cells": [
  {
   "cell_type": "markdown",
   "metadata": {},
   "source": [
    "# Разбор алгоритмических задач\n",
    "\n",
    "Добро пожаловать! Если вы готовитесь к собеседованиям на роль дата сайентиста, этот ноутбук может быть для вас полезным. Он разработан как инструмент для быстрого возвращения в форму по решению алгоритмических задач перед собеседованием. Задача ноутбука не в том, чтобы изучить алгоритмы с нуля, а чтобы освежить в памяти и усовершенствовать уже имеющиеся навыки. Если у вас нет опыта, это также будет полезно, чтобы подготовиться к предстоящим испытаниям, так как здесь собраны основные и часто встречающиеся задачи.\n",
    "\n",
    "## Что вы найдете в этом ноутбуке:\n",
    "\n",
    "1. **Реальные задачи с алгоритмических секций:** Все задачи, представленные здесь, были собраны из различных источников и отражают типы вопросов, с которыми вы можете столкнуться на собеседованиях.\n",
    "2. **Описание и разбор задач:** Здесь вы найдете подробные описания каждой задачи, а также шаги их решения. Я стараюсь разобрать каждую задачу так, чтобы она была понятна даже тем, кто встречается с ней впервые. При использовании алгоритмов с устоявшимися в отрасли названиями указываю их. Это бывает полезно, когда вы знаете как решать задачу, а объяснение хромает. \n",
    "3. **Варианты решений:** Для каждой задачи стараюсь предлагать несколько способов решения, включая эффективные алгоритмические подходы.\n",
    "4. **Тесты производительности:** Также в ноутбуке проводятся тесты производительности различных решений, чтобы вы могли сравнить их эффективность.\n",
    "\n",
    "Цель этого ноутбука - не только помочь вам лучше подготовиться к собеседованиям, но и предоставить удобный инструмент для быстрого возвращения в форму по алгоритмическим задачам, дать понимание типов задач, которые могут быть заданы, и предложить эффективные методы их решения. Идеально для утреннего кофе и освежения знаний.  \n",
    "Удачи в подготовке!\n"
   ]
  },
  {
   "cell_type": "code",
   "execution_count": 3,
   "metadata": {},
   "outputs": [],
   "source": [
    "import time\n",
    "import random\n",
    "import os\n",
    "\n",
    "import numpy as np\n",
    "import math"
   ]
  },
  {
   "cell_type": "code",
   "execution_count": 4,
   "metadata": {},
   "outputs": [],
   "source": [
    "RANDOM_SEED = 42\n",
    "random.seed(RANDOM_SEED)\n",
    "np.random.seed(RANDOM_SEED)\n",
    "\n",
    "TEST_FOLDER = './tests/'"
   ]
  },
  {
   "cell_type": "code",
   "execution_count": 24,
   "metadata": {},
   "outputs": [],
   "source": [
    "def read_test(input_file):\n",
    "    \"\"\"Функция вывода содержимого файла теста\"\"\"\n",
    "    print(f'Содержание теста: {input_file}'.center(75, '-'))\n",
    "    with open(input_file, 'r') as file:\n",
    "        for line in file:  # Итерация по файлу построчно\n",
    "            print(line.strip())\n",
    "    print(f'Конец файла теста'.center(75, '-'))"
   ]
  },
  {
   "cell_type": "markdown",
   "metadata": {},
   "source": [
    "### Задача 1. Не минимум на отрезке\n",
    "\n",
    "Ограничение времени:\t1 секунда  \n",
    "Ограничение памяти:\t64Mb  \n",
    "Ввод:\tстандартный ввод или input.txt  \n",
    "Вывод:\tстандартный вывод или output.txt  \n",
    "\n",
    "Задана последовательность целых чисел a1, a2, …, an. Задаются запросы: сказать любой элемент последовательности на отрезке от L до R включительно, не равный минимуму на этом отрезке.  \n",
    "\n",
    "**Формат ввода**\n",
    "В первой строке содержатся два целых числа N, 1 ≤ N ≤ 100 и M, 1 ≤ M ≤ 1000 — длина последовательности и количество запросов соответственно.  \n",
    "Во второй строке — сама последовательность, 0 ≤ $a_i$ ≤ 1000.  \n",
    "Начиная с третьей строки перечисляются M запросов, состоящих из границ отрезка L и R, где L, R - индексы массива, нумеруются с нуля.  \n",
    "\n",
    "**Формат вывода**\n",
    "На каждый запрос выведите в отдельной строке ответ — любой элемент на [L, R], кроме минимального. В случае, если такого элемента нет, выведите \"NOT FOUND\".  \n",
    "\n",
    "**Пример 1:**  \n",
    "| Ввод | Вывод |  \n",
    "|------|-------|  \n",
    "| 10 5<br>1 1 1 2 2 2 3 3 3 10<br>0 1<br>0 3<br>3 4<br>7 9<br>3 7 | <br><br>NOT FOUND<br>2<br>NOT FOUND<br>10<br>3 |  \n",
    "\n",
    "\n",
    "**Пример 2:**  \n",
    "| Ввод | Вывод |  \n",
    "|------|-------|  \n",
    "| 4 2<br>1 1 1 2<br>0 2<br>0 3 | <br><br>NOT FOUND<br>2 |  \n",
    "\n",
    "***задача с разминки тренировок Яндекса по алгоритмам 4.0 зима 2023 ([A. Не минимум на отрезке](https://contest.yandex.ru/contest/53027/problems/A/))***"
   ]
  },
  {
   "cell_type": "markdown",
   "metadata": {},
   "source": [
    "**Решение задачи 1 вариант 1** через генератор:  \n",
    "\n",
    "Будем решать задачу так:\n",
    "- сначала в заданном интервале найдем минимальный элемент (сложность $O(N)$) \n",
    "- потом пройдем по интервалу и будем искать элемент не равный минимальному, если найдем его вернем, если нет тогда вернем 'NOT FOUND' (сложность $O(N)$)  \n",
    "Таким образом, для каждого запроса сложность составляет $O(N)+O(N)=O(N)$"
   ]
  },
  {
   "cell_type": "code",
   "execution_count": 3,
   "metadata": {},
   "outputs": [],
   "source": [
    "def process_queries(data, queries):\n",
    "    for left, right in queries:\n",
    "        min_value = min(data[left:right+1])\n",
    "        first_not_min = next((x for x in data[left:right+1] if x != min_value), 'NOT FOUND')\n",
    "        print(first_not_min)\n",
    "\n",
    "def main(input_txt):\n",
    "    with open(input_txt, 'r') as file:\n",
    "        n, m = map(int, file.readline().split())\n",
    "        data = list(map(int, file.readline().split()))\n",
    "\n",
    "        queries = [tuple(map(int, file.readline().split())) for _ in range(m)]\n",
    "\n",
    "    process_queries(data, queries)\n",
    "\n",
    "# main('input.txt')  # Код для контекста закомментирован"
   ]
  },
  {
   "cell_type": "code",
   "execution_count": 4,
   "metadata": {},
   "outputs": [
    {
     "name": "stdout",
     "output_type": "stream",
     "text": [
      "NOT FOUND\n",
      "2\n",
      "NOT FOUND\n",
      "10\n",
      "3\n"
     ]
    }
   ],
   "source": [
    "main(TEST_FOLDER + 'test_01_01.txt')"
   ]
  },
  {
   "cell_type": "code",
   "execution_count": 5,
   "metadata": {},
   "outputs": [
    {
     "name": "stdout",
     "output_type": "stream",
     "text": [
      "NOT FOUND\n",
      "2\n"
     ]
    }
   ],
   "source": [
    "main(TEST_FOLDER + 'test_01_02.txt')"
   ]
  },
  {
   "cell_type": "code",
   "execution_count": 6,
   "metadata": {},
   "outputs": [],
   "source": [
    "def process_queries2(data, queries):\n",
    "    for left, right in queries:\n",
    "        min_value = min(data[left:right+1])\n",
    "        first_not_min = 'NOT FOUND'\n",
    "        for i in range(left, right + 1):\n",
    "            if data[i] != min_value:\n",
    "                first_not_min = data[i]\n",
    "                break\n",
    "        print(first_not_min)\n",
    "\n",
    "def main2(input_txt):\n",
    "    with open(input_txt, 'r') as file:\n",
    "        n, m = map(int, file.readline().split())\n",
    "        data = list(map(int, file.readline().split()))\n",
    "\n",
    "        queries = [tuple(map(int, file.readline().split())) for _ in range(m)]\n",
    "\n",
    "    process_queries2(data, queries)\n",
    "\n",
    "# main2('input.txt')  # Код для контекста закомментирован"
   ]
  },
  {
   "cell_type": "code",
   "execution_count": 7,
   "metadata": {},
   "outputs": [
    {
     "name": "stdout",
     "output_type": "stream",
     "text": [
      "NOT FOUND\n",
      "2\n",
      "NOT FOUND\n",
      "10\n",
      "3\n"
     ]
    }
   ],
   "source": [
    "main2(TEST_FOLDER + 'test_01_01.txt')"
   ]
  },
  {
   "cell_type": "code",
   "execution_count": 8,
   "metadata": {},
   "outputs": [
    {
     "name": "stdout",
     "output_type": "stream",
     "text": [
      "NOT FOUND\n",
      "2\n"
     ]
    }
   ],
   "source": [
    "main2(TEST_FOLDER + 'test_01_02.txt')"
   ]
  },
  {
   "cell_type": "markdown",
   "metadata": {},
   "source": [
    "**Тест производительности - Задача 1**:"
   ]
  },
  {
   "cell_type": "code",
   "execution_count": 9,
   "metadata": {},
   "outputs": [
    {
     "data": {
      "text/plain": [
       "(10000, 1000)"
      ]
     },
     "execution_count": 9,
     "metadata": {},
     "output_type": "execute_result"
    }
   ],
   "source": [
    "N = 10000\n",
    "M = 1000\n",
    "# Генерация случайных тестовых данных\n",
    "random_data = [random.randint(0, 10) for _ in range(N)]  # Случайные данные\n",
    "random_queries = [(np.random.randint(0, N), random.randint(0, N)) for _ in range(M)]  # Случайные запросы\n",
    "\n",
    "# Убедимся, что правая граница всегда больше или равна левой\n",
    "random_queries = [(min(l, r), max(l, r)) for l, r in random_queries]\n",
    "\n",
    "len(random_data), len(random_queries)\n"
   ]
  },
  {
   "cell_type": "code",
   "execution_count": 10,
   "metadata": {},
   "outputs": [
    {
     "name": "stdout",
     "output_type": "stream",
     "text": [
      "[10, 1, 0, 4, 3, 3, 2, 1, 10, 8, 1, 9, 6, 0, 0, 1, 3, 3, 8, 9]\n",
      "[(2903, 7270), (138, 860), (2044, 5390), (5191, 7580), (5734, 6069), (3161, 6265), (466, 7283), (153, 4426), (3629, 5578), (324, 8322)]\n"
     ]
    }
   ],
   "source": [
    "print(random_data[:20])\n",
    "print(random_queries[:10])"
   ]
  },
  {
   "cell_type": "code",
   "execution_count": 11,
   "metadata": {},
   "outputs": [],
   "source": [
    "def process_queries(data, queries):\n",
    "    for left, right in queries:\n",
    "        min_value = min(data[left:right+1])\n",
    "        first_not_min = next((x for x in data[left:right+1] if x != min_value), 'NOT FOUND')\n",
    "        # print(first_not_min)\n",
    "\n",
    "def process_queries2(data, queries):\n",
    "    for left, right in queries:\n",
    "        min_value = min(data[left:right+1])\n",
    "        first_not_min = 'NOT FOUND'\n",
    "        for i in range(left, right + 1):\n",
    "            if data[i] != min_value:\n",
    "                first_not_min = data[i]\n",
    "                break\n",
    "        # print(first_not_min)"
   ]
  },
  {
   "cell_type": "code",
   "execution_count": 12,
   "metadata": {},
   "outputs": [
    {
     "name": "stdout",
     "output_type": "stream",
     "text": [
      "70.8 ms ± 6.23 ms per loop (mean ± std. dev. of 7 runs, 100 loops each)\n"
     ]
    }
   ],
   "source": [
    "%timeit -n 100  process_queries(random_data, random_queries)"
   ]
  },
  {
   "cell_type": "code",
   "execution_count": 13,
   "metadata": {},
   "outputs": [
    {
     "name": "stdout",
     "output_type": "stream",
     "text": [
      "58.5 ms ± 1.57 ms per loop (mean ± std. dev. of 7 runs, 100 loops each)\n"
     ]
    }
   ],
   "source": [
    "%timeit -n 100  process_queries2(random_data, random_queries)"
   ]
  },
  {
   "cell_type": "markdown",
   "metadata": {},
   "source": [
    "Вывод по тесту производительности - Задача 1:  \n",
    "код без генератора работает немного быстрее\n",
    "\n",
    "Ниже скорость и использование памяти с контекста:  \n",
    "process_queries2 - 238ms - 28.10Mb  \n",
    "process_queries  - 239ms - 28.10Mb  "
   ]
  },
  {
   "cell_type": "markdown",
   "metadata": {},
   "source": [
    "!!!дополнение к задаче!!! можно было бы найти максимум и если он отличается от минимума то выводить его"
   ]
  },
  {
   "cell_type": "markdown",
   "metadata": {},
   "source": [
    "### Задача 2. Сложить две дроби\n",
    "\n",
    "Ограничение времени: 1 секунда  \n",
    "Ограничение памяти: 64Mb  \n",
    "Ввод: стандартный ввод или input.txt  \n",
    "Вывод: стандартный вывод или output.txt  \n",
    "\n",
    "Даны две рациональные дроби: a/b и c/d. Сложите их и результат представьте в виде несократимой дроби m/n.\n",
    "\n",
    "**Формат ввода**  \n",
    "Программа получает на вход 4 натуральных числа a, b, c, d, каждое из которых не больше 100.\n",
    "\n",
    "**Формат вывода**  \n",
    "Программа должна вывести два натуральных числа m и n такие, что m/n=a/b+c/d и дробь m/n – несократима.\n",
    "\n",
    "**Пример**  \n",
    "| Ввод       | Вывод |  \n",
    "|------------|-------|  \n",
    "| 1 2 1 2    | 1 1   |  \n",
    "\n",
    "***задача с разминки тренировок Яндекса по алгоритмам 4.0 зима 2023 ([B. Сложить две дроби](https://contest.yandex.ru/contest/53027/problems/B/))***\n"
   ]
  },
  {
   "cell_type": "markdown",
   "metadata": {},
   "source": [
    "**Решение задачи 2 вариант 1**:  \n",
    "\n",
    "Будем решать задачу так:\n",
    "- сначала находим наименьшее общее кратное (НОК) знаменателей:\n",
    "   - НОК знаменателей `b` и `d` необходим для приведения дробей к общему знаменателю\n",
    "   - НОК двух чисел - это наименьшее число, которое делится на оба числа без остатка\n",
    "   - НОК(`b`, `d`) = `(b * d) / НОД(b, d)`, где НОД - наибольший общий делитель (находим его с помщью алгоритма Евклида, он быстрее перебора с помощью цикла. Его трудоемкость $O(log(min(b,d)))$)\n",
    "\n",
    "- приводим дроби к общему знаменателю:\n",
    "   - Умножаем числитель и знаменатель первой дроби `a/b` на `(НОК / b)`\n",
    "   - Умножаем числитель и знаменатель второй дроби `c/d` на `(НОК / d)`\n",
    "   - Теперь обе дроби имеют одинаковый знаменатель, который равен НОК\n",
    "\n",
    "- складываем дроби:\n",
    "   - Складываем числители приведенных дробей: `новый числитель = a * (НОК / b) + c * (НОК / d)`\n",
    "\n",
    "- приводим результат к несократимой форме:\n",
    "   - Находим НОД нового числителя и НОК (который теперь является общим знаменателем)\n",
    "   - Делим числитель и знаменатель на их НОД, чтобы получить несократимую дробь\n",
    "\n",
    "- выводим результат:\n",
    "   - В результате получаем дробь в форме `m/n`, где `m` и `n` - несократимый числитель и знаменатель соответственно\n"
   ]
  },
  {
   "cell_type": "code",
   "execution_count": 14,
   "metadata": {},
   "outputs": [],
   "source": [
    "def gcd(num1, num2):\n",
    "    \"\"\" GCD (Greatest Common Divisor): Наибольший общий делитель (НОД) \"\"\"\n",
    "    while num2 != 0:\n",
    "        temp = num1 % num2\n",
    "        num1 = num2\n",
    "        num2 = temp\n",
    "    return num1\n",
    "\n",
    "def lcm(num1, num2):\n",
    "    \"\"\" LCM (Least Common Multiple) Наименьшее общее кратное (НОК) \"\"\"\n",
    "    return (num1 * num2) // gcd(num1, num2)\n",
    "\n",
    "def add_fractions(a, b, c, d):\n",
    "    \"\"\" Сложение двух дробей a/b и c/d \"\"\"\n",
    "    # Находим НОК знаменателей\n",
    "    lcm_denominator = lcm(b, d)\n",
    "\n",
    "    # Вычисляем числитель новой дроби\n",
    "    numerator = a * (lcm_denominator // b) + c * (lcm_denominator // d)\n",
    "    \n",
    "    # Находим НОД числителя и знаменателя для несократимой дроби\n",
    "    gcd_fraction = gcd(numerator, lcm_denominator)\n",
    "\n",
    "    # Выводим числитель и знаменатель несократимой дроби\n",
    "    print(numerator // gcd_fraction, lcm_denominator // gcd_fraction)\n",
    "\n",
    "\n",
    "def main(input_txt):\n",
    "    with open(input_txt, 'r') as file:\n",
    "        a, b, c, d = map(int, file.readline().split())\n",
    "\n",
    "    add_fractions(a, b, c, d)\n",
    "\n",
    "# main('input.txt')  # Код для контекста закомментирован"
   ]
  },
  {
   "cell_type": "code",
   "execution_count": 15,
   "metadata": {},
   "outputs": [
    {
     "name": "stdout",
     "output_type": "stream",
     "text": [
      "1 1\n"
     ]
    }
   ],
   "source": [
    "main(TEST_FOLDER + 'test_02_01.txt')"
   ]
  },
  {
   "cell_type": "markdown",
   "metadata": {},
   "source": [
    "Ниже скорость и использование памяти с контекста:  \n",
    "195ms - 28.32Mb  "
   ]
  },
  {
   "cell_type": "markdown",
   "metadata": {},
   "source": [
    "**Решение задачи 2 вариант 2**:  А можно упростить алгоритм и не считать НОК"
   ]
  },
  {
   "cell_type": "code",
   "execution_count": 16,
   "metadata": {},
   "outputs": [],
   "source": [
    "def gcd(num1, num2):\n",
    "    \"\"\" GCD (Greatest Common Divisor): Наибольший общий делитель (НОД) \"\"\"\n",
    "    while num2 != 0:\n",
    "        temp = num1 % num2\n",
    "        num1 = num2\n",
    "        num2 = temp\n",
    "    return num1\n",
    "\n",
    "def add_fractions2(a, b, c, d):\n",
    "    \"\"\" Сложение двух дробей a/b и c/d \"\"\"\n",
    "    # Вычисляем числитель и знаменатель новой дроби\n",
    "    numerator = a * d + b * c\n",
    "    denominator = b * d\n",
    "    \n",
    "    # Находим НОД числителя и знаменателя для упрощения дроби\n",
    "    gcd_fraction = gcd(numerator, denominator)\n",
    "\n",
    "    # Выводим числитель и знаменатель упрощенной дроби\n",
    "    print(numerator // gcd_fraction, denominator // gcd_fraction)\n",
    "\n",
    "def main2(input_txt):\n",
    "    with open(input_txt, 'r') as file:\n",
    "        a, b, c, d = map(int, file.readline().split())\n",
    "\n",
    "    add_fractions(a, b, c, d)\n",
    "\n",
    "# main2('input.txt')  # Код для контекста закомментирован\n"
   ]
  },
  {
   "cell_type": "code",
   "execution_count": 17,
   "metadata": {},
   "outputs": [
    {
     "name": "stdout",
     "output_type": "stream",
     "text": [
      "1 1\n"
     ]
    }
   ],
   "source": [
    "main2(TEST_FOLDER + 'test_02_01.txt')"
   ]
  },
  {
   "cell_type": "markdown",
   "metadata": {},
   "source": [
    "### Задача 3. Путешествие по Москве\n",
    "\n",
    "Ограничение времени: 2 секунды  \n",
    "Ограничение памяти: 256Mb  \n",
    "Ввод: стандартный ввод или input.txt  \n",
    "Вывод: стандартный вывод или output.txt  \n",
    "\n",
    "Мэрия Москвы основательно подготовилась к празднованию тысячелетия города в 2147 году, построив под столицей бесконечную асфальтированную площадку, чтобы заменить все существующие в городе автомобильные дороги. В память о кольцевых и радиальных дорогах разрешили двигаться по площадке только двумя способами:\n",
    "\n",
    "1. В сторону точки начала координат или от неё. При этом из точки начала координат разрешено двигаться в любом направлении.\n",
    "2. Вдоль окружности с центром в начале координат и радиусом, который равен текущему расстоянию до начала координат. Двигаться вдоль такой окружности разрешается в любом направлении (по или против часовой стрелки).\n",
    "\n",
    "Вам, как ведущему программисту ответственной инстанции, поручено разработать модуль, который будет определять кратчайший путь из точки A с координатами (xA, yA) в точку B с координатами (xB, yB). Считайте, что менять направление движения можно произвольное количество раз, но оно должно всегда соответствовать одному из двух описанных выше вариантов.\n",
    "\n",
    "**Формат ввода**  \n",
    "В первой строке ввода заданы четыре целых числа xA, yA, xB и yB, по модулю не превосходящие 10^6.\n",
    "\n",
    "**Формат вывода**  \n",
    "Выведите одно число — минимальное расстояние, которое придётся преодолеть по пути из точки A в точку B, если не нарушать правил дорожного движения. Ваш ответ будет принят, если его абсолютная или относительная погрешность не превосходит 10^-6.\n",
    "\n",
    "**Пример 1:**  \n",
    "| Ввод     | Вывод             |  \n",
    "|----------|-------------------|  \n",
    "| 0 5 4 3  | 4.636476090008    |  \n",
    "\n",
    "**Пример 2:**  \n",
    "| Ввод      | Вывод             |  \n",
    "|-----------|-------------------|  \n",
    "| 0 5 4 -3  | 10.000000000000   |  \n",
    "\n",
    "***задача с разминки тренировок Яндекса по алгоритмам 4.0 зима 2023 ([C. Путешествие по Москве](https://contest.yandex.ru/contest/53027/problems/C/))***\n"
   ]
  },
  {
   "cell_type": "markdown",
   "metadata": {},
   "source": [
    "**Решение задачи 3 вариант 1**:  \n",
    "\n",
    "Будем решать задачу так:\n",
    "- сначала вычислим радиусы: для каждой точки вычисляется расстояние от центра координат, что эквивалентно нахождению радиуса в полярных координатах\n",
    "- вычисляем угол между точками: определяем угол между двумя точками относительно центра координат. Заиспользуем функцию `math.atan2` для нахождения угла между каждой точкой и осью X. В отличии от `math.atan` наша функция использует два аргумента, что дает возможность правильно определять квадрант угла и возвращать значения в интервале -π до π. Затем вычислим абсолютную разность между этими углами\n",
    "- потом расчитаем длину кратчайшей дуги: на основе полученного угла в радианах и минимального из двух радиусов рассчитывается длина дуги между точками\n",
    "- и в конце выбираем кратчаший путь: сравниваем два возможных пути между точками: прямой путь (разность радиусов) и путь через дугу окружности + разность радиусов и выбираем наименьшее"
   ]
  },
  {
   "cell_type": "code",
   "execution_count": 18,
   "metadata": {},
   "outputs": [],
   "source": [
    "import math\n",
    "\n",
    "def solution1(input_file, is_testing=False, _xA=None, _yA=None, _xB=None, _yB=None):\n",
    "    def calculate_radius(x, y):\n",
    "        \"\"\" Вычисление расстояния до точки от центра координат \"\"\"\n",
    "        return math.sqrt(x**2 + y**2)\n",
    "\n",
    "    def calculate_angle(x1, y1, x2, y2):\n",
    "        \"\"\" Вычисление угла между лучами из центра координат, проходящими через две точки \"\"\"\n",
    "        angle1 = math.atan2(y1, x1)\n",
    "        angle2 = math.atan2(y2, x2)\n",
    "\n",
    "        angle = abs(angle1 - angle2)\n",
    "        return min(angle, 2 * math.pi - angle)\n",
    "\n",
    "    def calculate_arc_length(radius, angle):\n",
    "        \"\"\" Вычисление длины дуги r * θ где r - радиус, θ - угол в радианах \"\"\"\n",
    "        return radius * angle\n",
    "\n",
    "    def read_input_file(input_file):\n",
    "        with open(input_file, 'r') as file:\n",
    "            return list(map(int, file.readline().split()))\n",
    "\n",
    "    def calculate_shortest_path(xA, yA, xB, yB):\n",
    "        \"\"\"\n",
    "        Вычисление кратчайшего пути между двумя точками на плоскости с учетом правил движения.\n",
    "        Рассчитывает как прямой путь, так и путь по дуге окружности, и выбирает наименьший.\n",
    "\n",
    "        Args:\n",
    "        xA, yA - координаты первой точки\n",
    "        xB, yB - координаты второй точки\n",
    "\n",
    "        Returns:\n",
    "        Строка с минимальным расстоянием, форматированная с двенадцатью знаками после запятой.\n",
    "        \"\"\"\n",
    "        r1 = calculate_radius(xA, yA)\n",
    "        r2 = calculate_radius(xB, yB)\n",
    "\n",
    "        angle = calculate_angle(xA, yA, xB, yB)\n",
    "        arc = calculate_arc_length(min(r1, r2), angle)\n",
    "        dif = abs(r1 - r2)\n",
    "\n",
    "        res = min(r1 + r2, arc + dif)\n",
    "\n",
    "        return f\"{res:.12f}\"\n",
    "\n",
    "    def main(input_file):\n",
    "        if not is_testing:\n",
    "            xA, yA, xB, yB = read_input_file(input_file)\n",
    "        else:\n",
    "            xA, yA, xB, yB = _xA, _yA, _xB, _yB\n",
    "\n",
    "        return calculate_shortest_path(xA, yA, xB, yB)\n",
    "\n",
    "    return main(input_file)\n",
    "\n",
    "# print(solution1('input.txt'))  # Код для контекста закомментирован"
   ]
  },
  {
   "cell_type": "markdown",
   "metadata": {},
   "source": [
    "**!!!Обратите внимание!!!** начиная с этого примера и далее для удобства тестирования разных решений:  \n",
    "- решения реализованы в функциях solution\n",
    "- в решениях опереаторы вывода print для контекста заменены на return "
   ]
  },
  {
   "cell_type": "code",
   "execution_count": 19,
   "metadata": {},
   "outputs": [
    {
     "data": {
      "text/plain": [
       "'4.636476090008'"
      ]
     },
     "execution_count": 19,
     "metadata": {},
     "output_type": "execute_result"
    }
   ],
   "source": [
    "solution1(TEST_FOLDER + 'test_03_01.txt')"
   ]
  },
  {
   "cell_type": "code",
   "execution_count": 20,
   "metadata": {},
   "outputs": [
    {
     "data": {
      "text/plain": [
       "'10.000000000000'"
      ]
     },
     "execution_count": 20,
     "metadata": {},
     "output_type": "execute_result"
    }
   ],
   "source": [
    "solution1(TEST_FOLDER + 'test_03_02.txt')"
   ]
  },
  {
   "cell_type": "code",
   "execution_count": 21,
   "metadata": {},
   "outputs": [
    {
     "data": {
      "text/plain": [
       "'1.414213562319'"
      ]
     },
     "execution_count": 21,
     "metadata": {},
     "output_type": "execute_result"
    }
   ],
   "source": [
    "solution1(TEST_FOLDER + 'test_03_my.txt')"
   ]
  },
  {
   "cell_type": "markdown",
   "metadata": {},
   "source": [
    "Ниже скорость и использование памяти с контекста для решения 1:  \n",
    "189ms - 28.30Mb  "
   ]
  },
  {
   "cell_type": "markdown",
   "metadata": {},
   "source": [
    "**Решение задачи 3 вариант 2**:  \n",
    "\n",
    "Тоже самое что в первом варианте только будем сразу расчитывать угол между векторами через расчет векторное произведение (перекрестное произведение): xA * yB - yA * xB и скалярного (точечное произведение): xA * xB + yA * yB\n",
    "в этом случае  `math.atan2(xA * yB - yA * xB, xA * xB + yA * yB)`, вернет угол между векторами"
   ]
  },
  {
   "cell_type": "code",
   "execution_count": 22,
   "metadata": {},
   "outputs": [],
   "source": [
    "def solution2(input_file, is_testing=False, _xA=None, _yA=None, _xB=None, _yB=None):\n",
    "\n",
    "    def calculate_angle(ax, ay, bx, by):\n",
    "        \"\"\"Вычисление угла между двумя векторами.\"\"\"\n",
    "        angle = math.atan2(ax * by - ay * bx, ax * bx + ay * by)\n",
    "        return abs(angle)\n",
    "\n",
    "    def calculate_radius(x, y):\n",
    "        \"\"\"Вычисление расстояния до точки от центра координат.\"\"\"\n",
    "        return math.sqrt(x**2 + y**2)\n",
    "\n",
    "    def calculate_arc_length(radius, angle):\n",
    "        \"\"\"Вычисление длины дуги r * θ, где r - радиус, θ - угол в радианах\"\"\"\n",
    "        return radius * angle\n",
    "    \n",
    "    def read_input_file(input_file):\n",
    "        with open(input_file, 'r') as file:\n",
    "            return list(map(int, file.readline().split()))\n",
    "\n",
    "    def calculate_shortest_path(xA, yA, xB, yB):\n",
    "        rA = calculate_radius(xA, yA)\n",
    "        rB = calculate_radius(xB, yB)\n",
    "\n",
    "        angle = calculate_angle(xA, yA, xB, yB)\n",
    "\n",
    "        # Вычисление длины дуги с учётом меньшего радиуса\n",
    "        arc_length = calculate_arc_length(min(rA, rB), abs(angle))\n",
    "\n",
    "        # Выбор кратчайшего пути: по прямой или через дугу\n",
    "        path_via_arc = arc_length + abs(rA - rB)  # Путь через дугу\n",
    "\n",
    "        shortest_path = min(rA + rB, path_via_arc)\n",
    "\n",
    "        return f\"{shortest_path:.12f}\"\n",
    "\n",
    "    def main(input_file):\n",
    "        if not is_testing:\n",
    "            xA, yA, xB, yB = read_input_file(input_file)\n",
    "        else:\n",
    "            xA, yA, xB, yB = _xA, _yA, _xB, _yB\n",
    "\n",
    "        return calculate_shortest_path(xA, yA, xB, yB)\n",
    "\n",
    "    return main(input_file)\n",
    "\n",
    "# print(solution2('input.txt'))  # Код для контекста закомментирован\n"
   ]
  },
  {
   "cell_type": "code",
   "execution_count": 23,
   "metadata": {},
   "outputs": [
    {
     "data": {
      "text/plain": [
       "'4.636476090008'"
      ]
     },
     "execution_count": 23,
     "metadata": {},
     "output_type": "execute_result"
    }
   ],
   "source": [
    "solution2(TEST_FOLDER + 'test_03_01.txt')"
   ]
  },
  {
   "cell_type": "code",
   "execution_count": 24,
   "metadata": {},
   "outputs": [
    {
     "data": {
      "text/plain": [
       "'10.000000000000'"
      ]
     },
     "execution_count": 24,
     "metadata": {},
     "output_type": "execute_result"
    }
   ],
   "source": [
    "solution2(TEST_FOLDER + 'test_03_02.txt')"
   ]
  },
  {
   "cell_type": "code",
   "execution_count": 25,
   "metadata": {},
   "outputs": [
    {
     "data": {
      "text/plain": [
       "'1.414213562373'"
      ]
     },
     "execution_count": 25,
     "metadata": {},
     "output_type": "execute_result"
    }
   ],
   "source": [
    "solution2(TEST_FOLDER + 'test_03_my.txt')"
   ]
  },
  {
   "cell_type": "markdown",
   "metadata": {},
   "source": [
    "**Решение задачи 3 вариант 3**:  \n",
    "\n",
    "Тоже самое что во втором варианте только избавимся от всех функций, чтобы проверить насколько сильно вызовы фунции замедляют расчеты"
   ]
  },
  {
   "cell_type": "code",
   "execution_count": 26,
   "metadata": {},
   "outputs": [],
   "source": [
    "def solution3(input_file, is_testing=False, _xA=None, _yA=None, _xB=None, _yB=None):\n",
    "\n",
    "    def read_input_file(input_file):\n",
    "        with open(input_file, 'r') as file:\n",
    "            return list(map(int, file.readline().split()))\n",
    "\n",
    "    def calculate_shortest_path(xA, yA, xB, yB):\n",
    "            # Вычисление радиусов\n",
    "            rA = (xA**2 + yA**2)**0.5\n",
    "            rB = (xB**2 + yB**2)**0.5\n",
    "\n",
    "            # Вычисление угла между двумя векторами\n",
    "            angle = abs(math.atan2(xA * yB - yA * xB, xA * xB + yA * yB))\n",
    "\n",
    "            # Вычисление длины дуги с учётом меньшего радиуса\n",
    "            arc_length = min(rA, rB) * angle\n",
    "\n",
    "            return f'{min(rA + rB, arc_length + abs(rA - rB)):.12f}'\n",
    "\n",
    "    def main(input_file):\n",
    "        if not is_testing:\n",
    "            xA, yA, xB, yB = read_input_file(input_file)\n",
    "        else:\n",
    "            xA, yA, xB, yB = _xA, _yA, _xB, _yB\n",
    "\n",
    "        return calculate_shortest_path(xA, yA, xB, yB)\n",
    "\n",
    "    return main(input_file)\n",
    "\n",
    "# print(solution3('input.txt'))  # Код для контекста закомментирован"
   ]
  },
  {
   "cell_type": "code",
   "execution_count": 27,
   "metadata": {},
   "outputs": [
    {
     "data": {
      "text/plain": [
       "'4.636476090008'"
      ]
     },
     "execution_count": 27,
     "metadata": {},
     "output_type": "execute_result"
    }
   ],
   "source": [
    "solution3(TEST_FOLDER + 'test_03_01.txt')"
   ]
  },
  {
   "cell_type": "code",
   "execution_count": 28,
   "metadata": {},
   "outputs": [
    {
     "data": {
      "text/plain": [
       "'10.000000000000'"
      ]
     },
     "execution_count": 28,
     "metadata": {},
     "output_type": "execute_result"
    }
   ],
   "source": [
    "solution3(TEST_FOLDER + 'test_03_02.txt')"
   ]
  },
  {
   "cell_type": "code",
   "execution_count": 29,
   "metadata": {},
   "outputs": [
    {
     "data": {
      "text/plain": [
       "'1.414213562373'"
      ]
     },
     "execution_count": 29,
     "metadata": {},
     "output_type": "execute_result"
    }
   ],
   "source": [
    "solution3(TEST_FOLDER + 'test_03_my.txt')"
   ]
  },
  {
   "cell_type": "markdown",
   "metadata": {},
   "source": [
    "**Тест производительности - Задача 3**:"
   ]
  },
  {
   "cell_type": "code",
   "execution_count": 30,
   "metadata": {},
   "outputs": [],
   "source": [
    "N  = 1000"
   ]
  },
  {
   "cell_type": "code",
   "execution_count": 31,
   "metadata": {},
   "outputs": [],
   "source": [
    "# Создание тестовых файлов с координатами\n",
    "tests = []\n",
    "    \n",
    "for i in range(N):\n",
    "    xA, yA, xB, yB = [random.randint(-10_000_000, 10_000_000) for _ in range(4)]\n",
    "    tests.append((xA, yA, xB, yB))"
   ]
  },
  {
   "cell_type": "code",
   "execution_count": 32,
   "metadata": {},
   "outputs": [
    {
     "data": {
      "text/plain": [
       "[(3482451, -5340530, -9138308, -5876344),\n",
       " (7804966, -622626, -1660461, 2362455),\n",
       " (5163854, 5945046, 7277646, 3862228),\n",
       " (-3693950, -9895005, 810686, -9441980),\n",
       " (2086494, -8464742, 922813, 4908440)]"
      ]
     },
     "execution_count": 32,
     "metadata": {},
     "output_type": "execute_result"
    }
   ],
   "source": [
    "tests[:5]"
   ]
  },
  {
   "cell_type": "code",
   "execution_count": 33,
   "metadata": {},
   "outputs": [
    {
     "name": "stdout",
     "output_type": "stream",
     "text": [
      "10.8 ms ± 880 µs per loop (mean ± std. dev. of 7 runs, 100 loops each)\n"
     ]
    }
   ],
   "source": [
    "%%timeit -n 100 \n",
    "\n",
    "for xA_, yA_, xB_, yB_ in tests:\n",
    "    solution1(input_file='', is_testing=True, _xA=xA_, _yA=yA_, _xB=xB_, _yB=yB_)"
   ]
  },
  {
   "cell_type": "code",
   "execution_count": 34,
   "metadata": {},
   "outputs": [
    {
     "name": "stdout",
     "output_type": "stream",
     "text": [
      "8.01 ms ± 421 µs per loop (mean ± std. dev. of 7 runs, 100 loops each)\n"
     ]
    }
   ],
   "source": [
    "%%timeit -n 100 \n",
    "\n",
    "for xA_, yA_, xB_, yB_ in tests:\n",
    "    solution2(input_file='', is_testing=True, _xA=xA_, _yA=yA_, _xB=xB_, _yB=yB_)"
   ]
  },
  {
   "cell_type": "code",
   "execution_count": 35,
   "metadata": {},
   "outputs": [
    {
     "name": "stdout",
     "output_type": "stream",
     "text": [
      "6.99 ms ± 475 µs per loop (mean ± std. dev. of 7 runs, 100 loops each)\n"
     ]
    }
   ],
   "source": [
    "%%timeit -n 100 \n",
    "\n",
    "for xA_, yA_, xB_, yB_ in tests:\n",
    "    solution3(input_file='', is_testing=True, _xA=xA_, _yA=yA_, _xB=xB_, _yB=yB_)"
   ]
  },
  {
   "cell_type": "markdown",
   "metadata": {},
   "source": [
    "Выводы по тесту производительности: все три решения практически одинаковые по скорости. Небольшие расхождения нельзя принимать в расчет изза достаточно большой дисперсии в разных циклах по отношению к среднему.\n",
    "\n",
    "**!!!Обратите внимание!!!** Далее я буду проводить тесты для всех решений, и если расхождения будут незначительными буду оставлять одно решение без тестов чтобы не перегружать вас. А если разница будет существенной, тогда буду оставлять ее вам чтобы вы могли ее учитывать"
   ]
  },
  {
   "cell_type": "markdown",
   "metadata": {},
   "source": [
    "### Задача 4. Анаграмма?\n",
    "\n",
    "Ограничение времени: 1 секунда  \n",
    "Ограничение памяти: 64Mb  \n",
    "Ввод: стандартный ввод или input.txt  \n",
    "Вывод: стандартный вывод или output.txt  \n",
    "\n",
    "Задано две строки, нужно проверить, является ли одна анаграммой другой. Анаграммой называется строка, полученная из другой перестановкой букв.\n",
    "\n",
    "**Формат ввода**  \n",
    "Строки состоят из строчных латинских букв, их длина не превосходит 100000. Каждая записана в отдельной строке.\n",
    "\n",
    "**Формат вывода**  \n",
    "Выведите \"YES\" если одна из строк является анаграммой другой и \"NO\" в противном случае.\n",
    "\n",
    "**Пример 1:**  \n",
    "| Ввод    | Вывод |  \n",
    "|---------|-------|  \n",
    "| dusty   | YES   |  \n",
    "| study   |       |  \n",
    "\n",
    "**Пример 2:**  \n",
    "| Ввод    | Вывод |  \n",
    "|---------|-------|  \n",
    "| rat     | NO    |  \n",
    "| bat     |       |  \n",
    "\n",
    "\n",
    "***задача с разминки тренировок Яндекса по алгоритмам 4.0 зима 2023 ([D. Анаграмма?](https://contest.yandex.ru/contest/53027/problems/D/))***"
   ]
  },
  {
   "cell_type": "markdown",
   "metadata": {},
   "source": [
    "**Решение задачи 4 вариант 1**: с помощью встроенных функций \n",
    "\n",
    "Будем решать задачу так:\n",
    "- сначала "
   ]
  },
  {
   "cell_type": "code",
   "execution_count": 36,
   "metadata": {},
   "outputs": [],
   "source": [
    "def read_input_file(input_file):\n",
    "    with open(input_file, 'r') as file:\n",
    "        word1 = file.readline().strip()\n",
    "        word2 = file.readline().strip()\n",
    "    return word1, word2\n",
    "\n",
    "def is_anagram(word1, word2):\n",
    "    \"\"\"Проверяет, являются ли две строки анаграммами.\"\"\"\n",
    "    if len(word1) != len(word2):\n",
    "        return \"NO\"\n",
    "\n",
    "    return \"YES\" if sorted(word1) == sorted(word2) else \"NO\"\n",
    "\n",
    "def solution1(input_file):\n",
    "    word1, word2 = read_input_file(input_file)\n",
    "\n",
    "    return is_anagram(word1, word2)\n",
    "\n",
    "# print(solution1('input.txt'))  # Код для контекста закомментирован"
   ]
  },
  {
   "cell_type": "code",
   "execution_count": 37,
   "metadata": {},
   "outputs": [
    {
     "data": {
      "text/plain": [
       "'YES'"
      ]
     },
     "execution_count": 37,
     "metadata": {},
     "output_type": "execute_result"
    }
   ],
   "source": [
    "solution1(TEST_FOLDER + 'test_04_01.txt')"
   ]
  },
  {
   "cell_type": "code",
   "execution_count": 38,
   "metadata": {},
   "outputs": [
    {
     "data": {
      "text/plain": [
       "'NO'"
      ]
     },
     "execution_count": 38,
     "metadata": {},
     "output_type": "execute_result"
    }
   ],
   "source": [
    "solution1(TEST_FOLDER + 'test_04_02.txt')"
   ]
  },
  {
   "cell_type": "markdown",
   "metadata": {},
   "source": [
    "Ниже скорость и использование памяти с контекста для решения 1:  \n",
    "270ms - 31.31Mb  "
   ]
  },
  {
   "cell_type": "code",
   "execution_count": 39,
   "metadata": {},
   "outputs": [],
   "source": [
    "def is_anagram2(word1, word2):\n",
    "    \"\"\"Проверяет, являются ли две строки анаграммами.\"\"\"\n",
    "    if len(word1) != len(word2):\n",
    "        return \"NO\"\n",
    "\n",
    "    # Сортировка подсчетом\n",
    "    def count_sort(word):\n",
    "        count_dict = {}\n",
    "        for char in word:\n",
    "            count_dict[char] = count_dict.get(char, 0) + 1\n",
    "        return count_dict\n",
    "\n",
    "    return \"YES\" if count_sort(word1) == count_sort(word2) else \"NO\"\n",
    "\n",
    "def solution2(input_file):\n",
    "    word1, word2 = read_input_file(input_file)\n",
    "\n",
    "    return is_anagram2(word1, word2)\n"
   ]
  },
  {
   "cell_type": "code",
   "execution_count": 40,
   "metadata": {},
   "outputs": [
    {
     "data": {
      "text/plain": [
       "'YES'"
      ]
     },
     "execution_count": 40,
     "metadata": {},
     "output_type": "execute_result"
    }
   ],
   "source": [
    "solution2(TEST_FOLDER + 'test_04_01.txt')"
   ]
  },
  {
   "cell_type": "code",
   "execution_count": 41,
   "metadata": {},
   "outputs": [
    {
     "data": {
      "text/plain": [
       "'NO'"
      ]
     },
     "execution_count": 41,
     "metadata": {},
     "output_type": "execute_result"
    }
   ],
   "source": [
    "solution2(TEST_FOLDER + 'test_04_02.txt')"
   ]
  },
  {
   "cell_type": "code",
   "execution_count": 42,
   "metadata": {},
   "outputs": [],
   "source": [
    "def generate_random_string(length=200_000):\n",
    "    \"\"\"Генерирует случайную строку заданной длины.\"\"\"\n",
    "    letters = \"abcdefghijklmnopqrstuvwxyz\"\n",
    "    return ''.join(random.choice(letters) for _ in range(length))\n",
    "\n",
    "# Генерация двух случайных строк\n",
    "random_string1 = generate_random_string()\n",
    "random_string2 = ''.join(random.sample(random_string1, len(random_string1)))"
   ]
  },
  {
   "cell_type": "code",
   "execution_count": 43,
   "metadata": {},
   "outputs": [
    {
     "data": {
      "text/plain": [
       "'YES'"
      ]
     },
     "execution_count": 43,
     "metadata": {},
     "output_type": "execute_result"
    }
   ],
   "source": [
    "is_anagram(random_string1, random_string2)"
   ]
  },
  {
   "cell_type": "code",
   "execution_count": 44,
   "metadata": {},
   "outputs": [
    {
     "data": {
      "text/plain": [
       "'YES'"
      ]
     },
     "execution_count": 44,
     "metadata": {},
     "output_type": "execute_result"
    }
   ],
   "source": [
    "is_anagram2(random_string1, random_string2)"
   ]
  },
  {
   "cell_type": "code",
   "execution_count": 45,
   "metadata": {},
   "outputs": [
    {
     "name": "stdout",
     "output_type": "stream",
     "text": [
      "62.8 ms ± 2.15 ms per loop (mean ± std. dev. of 7 runs, 100 loops each)\n"
     ]
    }
   ],
   "source": [
    "%timeit -n 100 is_anagram(random_string1, random_string2)\n",
    "\n"
   ]
  },
  {
   "cell_type": "code",
   "execution_count": 46,
   "metadata": {},
   "outputs": [
    {
     "name": "stdout",
     "output_type": "stream",
     "text": [
      "58 ms ± 2.13 ms per loop (mean ± std. dev. of 7 runs, 100 loops each)\n"
     ]
    }
   ],
   "source": [
    "%timeit -n 100 is_anagram2(random_string1, random_string2)"
   ]
  },
  {
   "cell_type": "markdown",
   "metadata": {},
   "source": [
    "### Задача 5. Средний уровень\n",
    "\n",
    "Ограничение времени: 1 секунда  \n",
    "Ограничение памяти: 256Mb  \n",
    "Ввод: стандартный ввод или input.txt  \n",
    "Вывод: стандартный вывод или output.txt  \n",
    "\n",
    "В группе учатся n студентов, каждый из которых имеет свой рейтинг $a_i$. Им нужно выбрать старосту; для этого студенты хотят выбрать старосту таким образом, чтобы суммарный уровень недовольства группы был минимальным. Если выбрать j-го старостой, то уровень недовольства i-го студента равен $|a_i - a_j|$. Например, если в группе есть три студента с рейтингами 1, 3 и 4 и в качестве старосты выбирают второго, то уровень недовольства группы будет равен |1 - 3| + |3 - 3| + |4 - 3| = 3. Вычислите уровень недовольства группы при выборе каждого из студентов старостой.\n",
    "\n",
    "**Формат ввода**  \n",
    "В первой строке дано единственное целое число n (1 ≤ n ≤ 10^5) — количество студентов в группе. Во второй строке даны n целых чисел $a_1$, $a_2$, ..., $a_n$, идущих по неубыванию (0 ≤ $a_1$ ≤ $a_2$ ≤ ... ≤ $a_n$ ≤ 10^4) — рейтинги студентов.\n",
    "\n",
    "**Формат вывода**  \n",
    "Выведите n чисел через пробел, i-е из которых будет обозначать уровень недовольства группы при выборе i-го студента старостой.\n",
    "\n",
    "**Пример 1:**  \n",
    "| Ввод     | Вывод          |  \n",
    "|----------|----------------|  \n",
    "| 3        | 5 3 4          |  \n",
    "| 1 3 4    |                |  \n",
    "\n",
    "**Пример 2:**  \n",
    "| Ввод     | Вывод          |  \n",
    "|----------|----------------|  \n",
    "| 5        | 28 16 15 17 32 |  \n",
    "| 3 7 8 10 15 |             |  \n",
    "\n",
    "***задача с разминки Яндекса по алгоритмам 4.0 зима 2023 ([E. Средний уровень](https://contest.yandex.ru/contest/53027/problems/E/))***\n"
   ]
  },
  {
   "cell_type": "markdown",
   "metadata": {},
   "source": [
    "**Решение задачи 5 вариант 1**:  \n",
    "\n",
    "Будем решать задачу так:\n",
    "- сначала подготовка сумм для последующих вычислений (сложность $O(N)$):\n",
    "   - Создаем массив sums длинной для хранения кумулятивных (префиксных) сумм рейтингов\n",
    "   - Нулевой элемент sums равен нулевому элементу nums\n",
    "   - Заполняем массив sums, где каждый следующий элемент равен сумме всех предыдущих рейтингов до текущего включительно\n",
    "\n",
    "- вычисляем уровень недовольства для каждого студента при его выборе старостой (сложность $O(N)$):\n",
    "   - Создаем массив res для хранения результата.\n",
    "   - Для первого студента (индекс 0) вычисляем уровень недовольства как разницу между суммой всех рейтингов и произведением его рейтинга на общее количество студентов.\n",
    "   - Для каждого следующего студента (с индексом i от 1 до n-1):\n",
    "     - Вычисляем уровень недовольства как сумму двух частей:\n",
    "       - положительная часть: общая сумма всех рейтингов минус сумма всех рейтингов до текущего студента, минус произведение рейтинга текущего студента на количество оставшихся студентов\n",
    "       - отрицательная часть: сумма всех рейтингов до него минус произведение рейтинга студента на его индекс\n",
    "       - после взятия модуля от отрицательной части она становиться положительной поэтому ее надо вычесть\n",
    "   - Для последнего студента вычисляем уровень недовольства как произведение его рейтинга на общее количество студентов минус сумма всех рейтингов\n",
    "\n",
    "Таким образом, общая сложность составляет $O(N)+O(N)=O(N)$\n"
   ]
  },
  {
   "cell_type": "code",
   "execution_count": 47,
   "metadata": {},
   "outputs": [],
   "source": [
    "def read_input_file(input_file):\n",
    "    with open(input_file, 'r') as file:\n",
    "        n = int(file.readline().strip())\n",
    "        nums = list(map(int, file.readline().strip().split()))\n",
    "\n",
    "    return n, nums\n",
    "\n",
    "def calculate_discontent_levels(n, nums):\n",
    "    \"\"\"\n",
    "    Вычисляет уровень недовольства группы студентов при выборе каждого из них в качестве старосты.\n",
    "    Возвращает строку с уровнями недовольства для каждого кандидата.\n",
    "    \"\"\"\n",
    "    sums = [0] * len(nums)\n",
    "    sums[0] = nums[0]\n",
    "    for i in range(1, len(nums)):\n",
    "        sums[i] = sums[i - 1] + nums[i]\n",
    "\n",
    "    res = [0] * len(nums)\n",
    "    res[0] = sums[-1] - nums[0] * n\n",
    "    for i in range(1, len(sums) - 1):\n",
    "        pozitive = sums[-1] - nums[i] * (n - i) - sums[i-1]\n",
    "        negative = sums[i-1] - nums[i] * i\n",
    "        res[i] = pozitive - negative\n",
    "        # res[i] = sums[-1] - 2 * sums[i-1] + nums[i] * (2 * i - n)  # упрощение выражения\n",
    "    res[-1] = nums[-1] * n - sums[-1]\n",
    "\n",
    "    return \" \".join(map(str, res))\n",
    "\n",
    "def solution1(input_file):\n",
    "    n, nums = read_input_file(input_file)\n",
    "    if n == 1:\n",
    "        return \"0\"\n",
    "\n",
    "    return calculate_discontent_levels(n, nums)\n",
    "\n",
    "\n",
    "# print(solution_e('input.txt'))  # Код для контекста закомментирован"
   ]
  },
  {
   "cell_type": "code",
   "execution_count": 48,
   "metadata": {},
   "outputs": [
    {
     "data": {
      "text/plain": [
       "'5 3 4'"
      ]
     },
     "execution_count": 48,
     "metadata": {},
     "output_type": "execute_result"
    }
   ],
   "source": [
    "solution1(TEST_FOLDER + 'test_05_01.txt')"
   ]
  },
  {
   "cell_type": "code",
   "execution_count": 49,
   "metadata": {},
   "outputs": [
    {
     "data": {
      "text/plain": [
       "'28 16 15 17 32'"
      ]
     },
     "execution_count": 49,
     "metadata": {},
     "output_type": "execute_result"
    }
   ],
   "source": [
    "solution1(TEST_FOLDER + 'test_05_02.txt')"
   ]
  },
  {
   "cell_type": "markdown",
   "metadata": {},
   "source": [
    "Ниже скорость и использование памяти с контекста для решения 1:  \n",
    "234ms - 40.79Mb  "
   ]
  },
  {
   "cell_type": "markdown",
   "metadata": {},
   "source": [
    "!!!дополнение к задаче!!! можно посчитать без префиксных сумм запустить один проход слева для негативных рейтингов а другой с права для позитивных и потом их сложить, но производительность была бы такая же"
   ]
  },
  {
   "cell_type": "markdown",
   "metadata": {},
   "source": [
    "### Задача 6. Лифт\n",
    "\n",
    "Ограничение времени: 1 секунда  \n",
    "Ограничение памяти: 256Mb  \n",
    "Ввод: стандартный ввод или input.txt  \n",
    "Вывод: стандартный вывод или output.txt  \n",
    "\n",
    "Тридцатого декабря все сотрудники известной IT-компании отправляются праздновать Новый год! На парковке офиса сотрудников уже ожидают автобусы, чтобы отвезти их в ресторан. Известно, что на i-м этаже работает $a_i$ сотрудников, а парковка расположена на нулевом этаже. Изначально лифт расположен на этаже с парковкой. Какое минимальное количество времени лифт будет перевозить всех людей на парковку? Известно, что лифт движется со скоростью один этаж в секунду, а посадка и высадка происходит мгновенно.\n",
    "\n",
    "**Формат ввода**  \n",
    "В первой строке дано единственное целое число k (1 ≤ k ≤ 10^9) — количество людей, которое вмещает лифт за одну поездку. Во второй строке дано единственное целое число n — количество этажей в здании. В следующих n (1 ≤ n ≤ 10^5) строках дано по одному целому неотрицательному числу $a_i$ (0 ≤ $a_i$ ≤ 10^9), которое обозначает количество сотрудников на этаже номер i.\n",
    "\n",
    "**Формат вывода**  \n",
    "Выведите единственное целое число — минимальное количество секунд, которое необходимо, чтобы все сотрудники оказались на парковке.\n",
    "\n",
    "**Пример 1:**  \n",
    "| Ввод     | Вывод |  \n",
    "|----------|-------|  \n",
    "| 2        | 8     |  \n",
    "| 3        |       |  \n",
    "| 3 0 1    |       |  \n",
    "\n",
    "***задача с разминки Яндекса по алгоритмам 4.0 зима 2023 ([F. Лифт](https://contest.yandex.ru/contest/53027/problems/F/))***\n"
   ]
  },
  {
   "cell_type": "markdown",
   "metadata": {},
   "source": [
    "**Решение задачи 6 вариант 1**:  \n",
    "\n",
    "Будем решать задачу так:\n",
    "- сначала создадим для k и n более понятные переменные емкость лифта (`capacity`) и количество этажей в здании (`max_floor`)\n",
    "   - Объявляем переменную `time` для хранения общего времени, затраченного лифтом, и инициализируем её нулем\n",
    "   - кол-во людей на этажах будем хранить в списке `people`\n",
    "\n",
    "- далее расчитаем количества поездок и времени на каждом этаже:\n",
    "   - Для каждого этажа от 1 до `max_floor`:\n",
    "     - Считываем количество людей (`peoples`) на этаже\n",
    "     - Вычисляем количество полных поездок (`trips`), которое может сделать лифт с этого этажа, исходя из его емкости\n",
    "     - Увеличиваем общее время (`time`) на двойное произведение количества поездок и номера этажа (поездка вверх и вниз)\n",
    "     - Вычисляем количество оставшихся людей на этаже после полных поездок и сохраняем это значение в массиве `people`\n",
    "     - Одновременно запоминаем максимальный этаж для возврата где остались люди - `return_max_floor`, если людей не останется тогда это значение останется с инициированным значением -1 что соответствует парковке\n",
    "\n",
    "- для оставшихся делаем дополнительные проходы лифта:\n",
    "   - Устанавливаем начальную вместимость лифта (`current_capacity`) как полную вместимость лифта\n",
    "   - Добавляем время для подъема на максимальный этаж где остались люди +1\n",
    "   - Пока есть этажи с оставшимися людьми, загружаем лифт и обновляем `current_capacity`.\n",
    "   - Если лифт полностью загружен, отправляем его на парковку и обновляем время умножая его на два чтобы лифт вернулся и забрал оставшихся\n",
    "   - Продолжаем процесс до тех пор, пока не вернемся на парковку"
   ]
  },
  {
   "cell_type": "code",
   "execution_count": 50,
   "metadata": {},
   "outputs": [],
   "source": [
    "def read_input_file(input_file):\n",
    "    \"\"\"Читает входные данные из файла и возвращает вместимость лифта и список людей на каждом этаже.\"\"\"\n",
    "    with open(input_file, 'r') as file:\n",
    "        capacity = int(file.readline().strip())\n",
    "        max_floor = int(file.readline().strip())\n",
    "        people = [int(file.readline().strip()) for _ in range(max_floor)]\n",
    "    return capacity, max_floor, people\n",
    "\n",
    "def calculate_lift_time(capacity, max_floor, people):\n",
    "    \"\"\"Вычисляет минимальное количество времени для перевозки всех людей на парковку.\"\"\"\n",
    "    time = 0\n",
    "    return_max_floor = -1\n",
    "\n",
    "    for i in range(max_floor):\n",
    "        trips = people[i] // capacity\n",
    "        time += trips * (i + 1) * 2\n",
    "        people[i] = people[i] % capacity\n",
    "        if people[i] > 0:\n",
    "            return_max_floor = i\n",
    "\n",
    "    current_capacity = capacity\n",
    "    time += return_max_floor + 1\n",
    "\n",
    "    while return_max_floor > -1:\n",
    "        if current_capacity < people[return_max_floor]:\n",
    "            people[return_max_floor] -= current_capacity\n",
    "            current_capacity = capacity\n",
    "            time += (return_max_floor + 1) * 2\n",
    "        else:\n",
    "            current_capacity -= people[return_max_floor]\n",
    "            people[return_max_floor] = 0\n",
    "            return_max_floor -= 1\n",
    "            time += 1\n",
    "\n",
    "    return time\n",
    "\n",
    "def solution1(input_file):\n",
    "    \"\"\"Интегрирует чтение входных данных и вычисление времени для задачи 'Лифт'.\"\"\"\n",
    "    capacity, max_floor, people = read_input_file(input_file)\n",
    "    return calculate_lift_time(capacity, max_floor, people)\n",
    "\n",
    "# print(solution1('input.txt'))  # Код для контекста закомментирован"
   ]
  },
  {
   "cell_type": "code",
   "execution_count": 51,
   "metadata": {},
   "outputs": [
    {
     "data": {
      "text/plain": [
       "8"
      ]
     },
     "execution_count": 51,
     "metadata": {},
     "output_type": "execute_result"
    }
   ],
   "source": [
    "solution1(TEST_FOLDER + 'test_06_01.txt')"
   ]
  },
  {
   "cell_type": "code",
   "execution_count": 52,
   "metadata": {},
   "outputs": [
    {
     "data": {
      "text/plain": [
       "2286"
      ]
     },
     "execution_count": 52,
     "metadata": {},
     "output_type": "execute_result"
    }
   ],
   "source": [
    "solution1(TEST_FOLDER + 'test_06_my.txt')"
   ]
  },
  {
   "cell_type": "markdown",
   "metadata": {},
   "source": [
    "Анализ сложности алгоритма:\n",
    "\n",
    "Алгоритм состоит из двух основных частей:\n",
    "\n",
    "1. **Первый проход (Вычисление времени лифта на каждом этаже)**:\n",
    "   - В этой части алгоритма происходит проход по всем этажам здания для вычисления количества полных поездок лифта с каждого этажа и общего времени, затрачиваемого на эти поездки.\n",
    "   - Сложность этой части составляет $O(N)$, где N — количество этажей в здании.\n",
    "\n",
    "2. **Второй проход (Цикл `while` для оставшихся людей)**:\n",
    "   - Во второй части алгоритма лифт проходит через оставшиеся этажи, на которых остались люди после первого прохода. Лифт останавливается на каждом таком этаже для загрузки оставшихся людей и возвращается на парковку.\n",
    "   - В худшем случае лифт остановится на каком то этаже два раза. Следовательно, сложность этой части также составляет $O(N)$, в худшем случае если на каждом этаже останется после первого прохода (capacity - 1) людей сложность составит $O(2N)$.\n",
    "\n",
    "Общая временная сложность алгоритма равна сумме сложностей обеих частей: $O(N) + O(N) = O(N)$. Это означает, что алгоритм имеет линейную сложность относительно количества этажей. Даже в худшем случае, когда на каждом этаже количество людей превышает вместимость лифта, каждый этаж будет посещен лифтом только один раз в первый проход и максимум 2 раза во второй проход \n"
   ]
  },
  {
   "cell_type": "markdown",
   "metadata": {},
   "source": [
    "Ниже скорость и использование памяти с контекста для решения 1:  \n",
    "242ms - 28.10Mb  "
   ]
  },
  {
   "cell_type": "markdown",
   "metadata": {},
   "source": [
    "### Задача 7. Кролик учит геометрию\n",
    "\n",
    "Ограничение времени: 4 секунды  \n",
    "Ограничение памяти: 80Mb  \n",
    "Ввод: стандартный ввод или input.txt  \n",
    "Вывод: стандартный вывод или output.txt  \n",
    "\n",
    "Кролики — существа любопытные, особенно когда дело касается геометрии. Наш герой — кролик, который решил изучить новую фигуру: квадрат. Он бегает по грядке, представляющей собой клеточное поле размером N × M. В некоторых клетках есть морковки, в других — нет.\n",
    "\n",
    "Задача кролика — найти квадрат наибольшей площади, полностью заполненный морковками.\n",
    "\n",
    "**Формат ввода**  \n",
    "Первая строка содержит два натуральных числа N и M (1 ≤ N, M ≤ 1000). Следующие N строк содержат по M чисел, разделенных пробелами. Число равно 0, если в клетке нет морковки, и 1, если морковка есть.\n",
    "\n",
    "**Формат вывода**  \n",
    "Выведите одно число — длину стороны наибольшего квадрата, полностью заполненного морковками.\n",
    "\n",
    "**Пример 1:**  \n",
    "| Ввод            | Вывод |  \n",
    "|-----------------|-------|  \n",
    "| 4 5<br>0 0 0 1 0<br>0 1 1 1 0<br>0 0 1 1 0<br>1 0 1 0 0 | 2     |  \n",
    "\n",
    "**Пример 2:**  \n",
    "| Ввод | Вывод |  \n",
    "|------|-------|  \n",
    "| 10 10<br>1 1 1 1 1 1 1 1 1 1<br>1 1 1 1 1 1 1 1 1 1<br>1 1 1 1 1 1 1 1 1 1<br>1 1 1 1 1 1 1 1 1 1<br>1 1 1 1 1 1 1 1 1 1<br>1 1 1 1 1 1 1 1 1 1<br>1 1 1 1 1 1 1 1 1 1<br>1 1 1 1 1 1 1 1 1 1<br>1 1 1 1 1 1 1 1 1 1<br>1 1 1 1 1 1 1 1 1 1 | 10    |  \n",
    "\n",
    "**Пример 3:**  \n",
    "| Ввод | Вывод |  \n",
    "|------|-------|  \n",
    "| 10 10<br>0 0 0 0 0 0 0 0 0 0<br>0 0 0 0 0 0 0 0 0 0<br>0 0 0 0 0 0 0 0 0 0<br>0 0 0 0 0 0 0 0 0 0<br>0 0 0 0 0 0 0 0 0 0<br>0 0 0 0 0 0 0 0 0 0<br>0 0 0 0 0 0 0 0 0 0<br>0 0 0 0 0 0 0 0 0 0<br>0 0 0 0 0 0 0 0 0 0<br>0 0 0 0 0 0 0 0 0 0 | 0     |\n",
    "\n",
    "***задача с разминки Яндекса по алгоритмам 4.0 зима 2023 ([G. Кролик учит геометрию](https://contest.yandex.ru/contest/53027/problems/G/))***\n"
   ]
  },
  {
   "cell_type": "markdown",
   "metadata": {},
   "source": [
    "**Решение задачи 7 вариант 1**:  \n",
    "\n",
    "Будем решать задачу с помощью динамического программирования так:\n",
    "- сначала инициализируем матрицу `dp` размером `n` на `m`, где каждый элемент инициализируется нулем. Этот массив будет хранить размер наибольшего квадрата, который можно создать в каждой клетке.\n",
    "- инициализируем первую строку и столбец\n",
    "- динамическое программирование:\n",
    "   - Перебираем элементы массива начиная со второй строки и второго столбца.\n",
    "   - Для каждой клетки (i, j), где matrix[i][j] равно 1, рассчитываем размер наибольшего квадрата с помощью минимума из трех соседних клеток слева, сверху и по диагонали (выше и левее), прибавляя 1. Это значение сохраняется в `dp[i][j]`.\n",
    "- по результату находим максимум в матрице `dp`"
   ]
  },
  {
   "cell_type": "code",
   "execution_count": 53,
   "metadata": {},
   "outputs": [],
   "source": [
    "def read_input_file(input_file):\n",
    "    \"\"\"Читает входные данные из файла и возвращает размеры матрицы и матрицу\"\"\"\n",
    "    with open(input_file, 'r') as file:\n",
    "        n, m = map(int, file.readline().split())\n",
    "        matrix = [list(map(int, file.readline().strip().split())) for _ in range(n)]\n",
    "    return n, m, matrix\n",
    "\n",
    "def build_dp_matrix(n, m, matrix):\n",
    "    \"\"\"Строит матрицу динамического программирования для заданной матрицы.\"\"\"\n",
    "    dp = [[0 for _ in range(m)] for _ in range(n)]\n",
    "\n",
    "    # Инициализация первой строки и столбца\n",
    "    for i in range(n):\n",
    "        dp[i][0] = matrix[i][0]\n",
    "    for j in range(m):\n",
    "        dp[0][j] = matrix[0][j]\n",
    "\n",
    "    # Вычисление размера наибольшего квадрата\n",
    "    for i in range(1, n):\n",
    "        for j in range(1, m):\n",
    "            if matrix[i][j] == 1:\n",
    "                dp[i][j] = min(dp[i - 1][j - 1], dp[i - 1][j], dp[i][j - 1]) + 1\n",
    "    return dp\n",
    "\n",
    "def find_max_in_dp_matrix(dp):\n",
    "    \"\"\"Находит максимум в двумерном массиве \"\"\"\n",
    "    return max(map(max, dp))\n",
    "\n",
    "def solution1(input_file):\n",
    "    \"\"\"Интеграционная функция для чтения входных данных и вычисления результата.\"\"\"\n",
    "    n, m, matrix = read_input_file(input_file)\n",
    "    return find_max_in_dp_matrix(build_dp_matrix(n, m, matrix))\n",
    "\n",
    "# print(solution1('input.txt'))  # Код для контекста закомментирован"
   ]
  },
  {
   "cell_type": "code",
   "execution_count": 54,
   "metadata": {},
   "outputs": [
    {
     "data": {
      "text/plain": [
       "2"
      ]
     },
     "execution_count": 54,
     "metadata": {},
     "output_type": "execute_result"
    }
   ],
   "source": [
    "solution1(TEST_FOLDER + 'test_07_01.txt')"
   ]
  },
  {
   "cell_type": "code",
   "execution_count": 55,
   "metadata": {},
   "outputs": [
    {
     "data": {
      "text/plain": [
       "10"
      ]
     },
     "execution_count": 55,
     "metadata": {},
     "output_type": "execute_result"
    }
   ],
   "source": [
    "solution1(TEST_FOLDER + 'test_07_02.txt')"
   ]
  },
  {
   "cell_type": "code",
   "execution_count": 56,
   "metadata": {},
   "outputs": [
    {
     "data": {
      "text/plain": [
       "0"
      ]
     },
     "execution_count": 56,
     "metadata": {},
     "output_type": "execute_result"
    }
   ],
   "source": [
    "solution1(TEST_FOLDER + 'test_07_03.txt')"
   ]
  },
  {
   "cell_type": "markdown",
   "metadata": {},
   "source": [
    "Анализ трудоемкости алгоритма:\n",
    "\n",
    "1. Функция `read_input_file(input_file)`:\n",
    "   - Чтение размеров матрицы: $O(1)$, так как это константные операции.\n",
    "   - Чтение матрицы: $O(N * M)$, где N и M — размеры матрицы. Каждый элемент матрицы считывается и обрабатывается один раз. Тут важно обратить внимание что если мы чистаем данные за $O(N * M)$ то и решение скорее всего не целесообразно пытаться сделать лучше этого значения\n",
    "\n",
    "2. Функция `build_dp_matrix(n, m, matrix)`:\n",
    "   - Инициализация `dp`: $O(N * M)$ для создания двумерного массива.\n",
    "   - Заполнение первой строки и столбца: $O(N + M)$, так как происходит один проход по первой строке и один по первому столбцу.\n",
    "   - Заполнение остальной части `dp`: $O(N * M)$, так как каждый элемент матрицы обрабатывается один раз.\n",
    "\n",
    "3. Функция `find_max_in_dp_matrix(dp)`:\n",
    "   - Поиск максимума в `dp`: $O(N * M)$, так как происходит один проход по всем элементам двумерного массива.\n",
    "\n",
    "суммарно: $O(N * M)$"
   ]
  },
  {
   "cell_type": "markdown",
   "metadata": {},
   "source": [
    "Ниже скорость и использование памяти с контекста для решения 1:  \n",
    "358ms - 43.07Mb  "
   ]
  },
  {
   "cell_type": "markdown",
   "metadata": {},
   "source": [
    "!!!дополнение к алгоритму!!! можно было бы организовать более оптимальный поиск максимума в матрице dp двигаясть снизу вверх и справа налево исключая из прохода строки или столбцы если максимум более одного, но код от этого становиться более громозким и не сильно улучшает производительность, потому что ассимтотика остается на уровне N*M, но если бы размеры матрицы были бы очень большими, то можно было бы побороться"
   ]
  },
  {
   "cell_type": "markdown",
   "metadata": {},
   "source": [
    "### Задача 8. Результаты контеста\n",
    "\n",
    "Ограничение времени: 1 секунда  \n",
    "Ограничение памяти: 64Mb  \n",
    "Ввод: стандартный ввод или input.txt  \n",
    "Вывод: стандартный вывод или output.txt  \n",
    "\n",
    "В каждой группе студентов подсчитывается один параметр для оценки качества обучения программированию — суммарное количество решенных студентами задач. \n",
    "\n",
    "Известно, что в первой группе суммарное количество решенных на контесте задач равно a, а во второй — b. Всего на контесте было предложено n задач, а также известно, что каждый студент решил не менее одной (и не более n) задач.\n",
    "\n",
    "По заданным a, b и n определите, могло ли в первой группе быть строго больше студентов, чем во второй.\n",
    "\n",
    "**Формат ввода**  \n",
    "Вводятся три целых числа a, b, n (0 ≤ a, b ≤ 10000, 1 ≤ n ≤ 10000).\n",
    "\n",
    "**Формат вывода**  \n",
    "Выведите \"Yes\" если в первой группе могло быть строго больше студентов, чем во второй, и \"No\" в противном случае.\n",
    "\n",
    "**Пример 1:**  \n",
    "| Ввод | Вывод |  \n",
    "|------|-------|  \n",
    "| 60<br>30<br>4 | Yes |\n",
    "\n",
    "**Пример 2:**  \n",
    "| Ввод | Вывод |  \n",
    "|------|-------|  \n",
    "| 30<br>30<br>1 | No |\n",
    "\n",
    "**Пример 3:**  \n",
    "| Ввод | Вывод |  \n",
    "|------|-------|  \n",
    "| 30<br>150<br>4 | No |\n",
    "\n",
    "***задача с разминки Яндекса по алгоритмам 4.0 зима 2023 ([H. Результаты контеста](https://contest.yandex.ru/contest/53027/problems/H/))***"
   ]
  },
  {
   "cell_type": "markdown",
   "metadata": {},
   "source": [
    "**Решение задачи 8 вариант 1**:  \n",
    "\n",
    "Будем решать задачу так:\n",
    "- сначала "
   ]
  },
  {
   "cell_type": "code",
   "execution_count": 57,
   "metadata": {},
   "outputs": [],
   "source": [
    "def read_input_file(input_file):\n",
    "    \"\"\"Читает входные данные из файла и возвращает значения a, b и n\"\"\"\n",
    "    with open(input_file, 'r') as file:\n",
    "        a = int(file.readline().strip())\n",
    "        b = int(file.readline().strip())\n",
    "        n = int(file.readline().strip())\n",
    "    return a, b, n\n",
    "\n",
    "def rounding_up(divisible, divider):\n",
    "    \"\"\"Выполняет округление вверх деления divisible на divider.\"\"\"\n",
    "    return (divisible + divider - 1) // divider\n",
    "\n",
    "def solution1(input_file):\n",
    "    \"\"\"Определяет, могло ли в первой группе быть строго больше студентов, чем во второй.\"\"\"\n",
    "    a, b, n = read_input_file(input_file)\n",
    "    return \"Yes\" if a > rounding_up(b, n) else \"No\"\n",
    "\n",
    "# print(solution1('input.txt'))  # Код для контекста закомментирован"
   ]
  },
  {
   "cell_type": "code",
   "execution_count": 58,
   "metadata": {},
   "outputs": [
    {
     "data": {
      "text/plain": [
       "'Yes'"
      ]
     },
     "execution_count": 58,
     "metadata": {},
     "output_type": "execute_result"
    }
   ],
   "source": [
    "solution1(TEST_FOLDER + 'test_08_01.txt')"
   ]
  },
  {
   "cell_type": "code",
   "execution_count": 59,
   "metadata": {},
   "outputs": [
    {
     "data": {
      "text/plain": [
       "'No'"
      ]
     },
     "execution_count": 59,
     "metadata": {},
     "output_type": "execute_result"
    }
   ],
   "source": [
    "solution1(TEST_FOLDER + 'test_08_02.txt')"
   ]
  },
  {
   "cell_type": "code",
   "execution_count": 60,
   "metadata": {},
   "outputs": [
    {
     "data": {
      "text/plain": [
       "'No'"
      ]
     },
     "execution_count": 60,
     "metadata": {},
     "output_type": "execute_result"
    }
   ],
   "source": [
    "solution1(TEST_FOLDER + 'test_08_03.txt')"
   ]
  },
  {
   "cell_type": "markdown",
   "metadata": {},
   "source": [
    "### Задача 9. Правильная скобочная последовательность\n",
    "\n",
    "Ограничение времени: 1 секунда  \n",
    "Ограничение памяти: 64Mb  \n",
    "Ввод: стандартный ввод или input.txt  \n",
    "Вывод: стандартный вывод или output.txt  \n",
    "\n",
    "Рассмотрим последовательность, состоящую из круглых, квадратных и фигурных скобок. Программа должна определить, является ли данная скобочная последовательность правильной. Пустая последовательность является правильной. Если A — правильная, то последовательности (A), [A], {A} — правильные. Если A и B — правильные последовательности, то последовательность AB — правильная.\n",
    "\n",
    "**Формат ввода**  \n",
    "В единственной строке записана скобочная последовательность, содержащая не более 100000 скобок.\n",
    "\n",
    "**Формат вывода**  \n",
    "Если данная последовательность правильная, то программа должна вывести строку \"yes\", иначе строку \"no\".\n",
    "\n",
    "**Пример 1:**  \n",
    "| Ввод | Вывод |  \n",
    "|------|-------|  \n",
    "| ()[] | yes   |\n",
    "\n",
    "**Пример 2:**  \n",
    "| Ввод  | Вывод |  \n",
    "|-------|-------|  \n",
    "| ([)]  | no    |\n",
    "\n",
    "**Пример 3:**  \n",
    "| Ввод | Вывод |  \n",
    "|------|-------|  \n",
    "| (    | no    |\n",
    "\n",
    "***задача с разминки тренировок Яндекса по алгоритмам 4.0 зима 2023 ([I. Правильная скобочная последовательность](https://contest.yandex.ru/contest/53027/problems/I/))***\n"
   ]
  },
  {
   "cell_type": "markdown",
   "metadata": {},
   "source": [
    "**Решение задачи 9 вариант 1**:  \n",
    "\n",
    "Будем решать задачу так:\n",
    "- сначала "
   ]
  },
  {
   "cell_type": "code",
   "execution_count": 61,
   "metadata": {},
   "outputs": [],
   "source": [
    "def read_input_file(input_file):\n",
    "    \"\"\"Читает входные данные из файла и возвращает строку скобочной последовательности.\"\"\"\n",
    "    with open(input_file, 'r') as file:\n",
    "        return file.readline().strip()\n",
    "\n",
    "def is_valid(s):\n",
    "    \"\"\"Проверяет, является ли скобочная последовательность правильной.\"\"\"\n",
    "    if len(s) % 2 != 0:\n",
    "        return False\n",
    "    stack = []\n",
    "    for char in s:\n",
    "        if char in \"([{\":\n",
    "            stack.append(char)\n",
    "        elif char in \")]}\":\n",
    "            if not stack:\n",
    "                return False\n",
    "            last_open = stack.pop()\n",
    "            if (last_open == '(' and char != ')') or \\\n",
    "               (last_open == '[' and char != ']') or \\\n",
    "               (last_open == '{' and char != '}'):\n",
    "                return False\n",
    "    return len(stack) == 0\n",
    "\n",
    "def solution1(input_file):\n",
    "    \"\"\"Определяет, является ли данная скобочная последовательность правильной.\"\"\"\n",
    "    sequence = read_input_file(input_file)\n",
    "    return \"yes\" if is_valid(sequence) else \"no\"\n",
    "\n",
    "# print(solution1('input.txt'))  # Код для контекста закомментирован"
   ]
  },
  {
   "cell_type": "code",
   "execution_count": 62,
   "metadata": {},
   "outputs": [
    {
     "data": {
      "text/plain": [
       "'yes'"
      ]
     },
     "execution_count": 62,
     "metadata": {},
     "output_type": "execute_result"
    }
   ],
   "source": [
    "solution1(TEST_FOLDER + 'test_09_01.txt')"
   ]
  },
  {
   "cell_type": "code",
   "execution_count": 63,
   "metadata": {},
   "outputs": [
    {
     "data": {
      "text/plain": [
       "'no'"
      ]
     },
     "execution_count": 63,
     "metadata": {},
     "output_type": "execute_result"
    }
   ],
   "source": [
    "solution1(TEST_FOLDER + 'test_09_02.txt')"
   ]
  },
  {
   "cell_type": "code",
   "execution_count": 64,
   "metadata": {},
   "outputs": [
    {
     "data": {
      "text/plain": [
       "'no'"
      ]
     },
     "execution_count": 64,
     "metadata": {},
     "output_type": "execute_result"
    }
   ],
   "source": [
    "solution1(TEST_FOLDER + 'test_09_03.txt')"
   ]
  },
  {
   "cell_type": "markdown",
   "metadata": {},
   "source": [
    "### Задача 10. Групповой проект\n",
    "\n",
    "Ограничение времени: 1 секунда  \n",
    "Ограничение памяти: 256Mb  \n",
    "Ввод: стандартный ввод или input.txt  \n",
    "Вывод: стандартный вывод или output.txt  \n",
    "\n",
    "На направлении «Мировая культура» учится n студентов. Преподаватель поставил задачу - выполнить групповой проект. Для этого студентам нужно разбиться на группы численностью от a до b человек. Ваша задача - определить, можно ли разбить всех студентов на группы для выполнения проекта.\n",
    "\n",
    "**Формат ввода:**  \n",
    "В первой строке вводится число t (1 ≤ t ≤ 100) — количество тестовых случаев. Для каждого тестового случая вводится 3 целых числа n, a и b (1 ≤ n ≤ 10^9, 1 ≤ a ≤ b ≤ n) — общее число студентов и ограничения на число студентов в одной группе.\n",
    "\n",
    "**Формат вывода:**  \n",
    "Для каждого тестового случая выведите \"YES\", если можно разбить студентов на группы, и \"NO\", если это невозможно.\n",
    "\n",
    "**Примеры:**\n",
    "\n",
    "| Ввод       | Вывод       |\n",
    "|------------|-------------|\n",
    "| 4<br>10 2 3<br>11 7 8<br>28 4 6<br>3 1 2 | YES<br>NO<br>YES<br>YES |\n",
    "\n",
    "***задача с разминки тренировок Яндекса по алгоритмам 4.0 зима 2023 ([J. Групповой проект](https://contest.yandex.ru/contest/53027/problems/J/))***\n"
   ]
  },
  {
   "cell_type": "markdown",
   "metadata": {},
   "source": [
    "**Решение задачи 10 вариант 1**:  \n",
    "\n",
    "Будем решать задачу так:\n",
    "- сначала "
   ]
  },
  {
   "cell_type": "code",
   "execution_count": 65,
   "metadata": {},
   "outputs": [],
   "source": [
    "def read_input_file(input_file):\n",
    "    \"\"\"Читает входные данные из файла и возвращает список тестовых случаев.\"\"\"\n",
    "    with open(input_file, 'r') as file:\n",
    "        t = int(file.readline().strip())\n",
    "        test_cases = [list(map(int, file.readline().strip().split())) for _ in range(t)]\n",
    "    return test_cases\n",
    "\n",
    "def can_split_groups(n, a, b):\n",
    "    \"\"\"Определяет, можно ли разбить n студентов на группы от a до b.\"\"\"\n",
    "    return n % a <= n // a * (b - a)\n",
    "\n",
    "def solution1(input_file):\n",
    "    \"\"\"Определяет для каждого тестового случая, можно ли разбить студентов на группы.\"\"\"\n",
    "    test_cases = read_input_file(input_file)\n",
    "    for n, a, b in test_cases:\n",
    "        print(\"YES\" if can_split_groups(n, a, b) else \"NO\")\n",
    "\n",
    "# solution1('input.txt')  # Код для контекста закомментирован"
   ]
  },
  {
   "cell_type": "code",
   "execution_count": 66,
   "metadata": {},
   "outputs": [
    {
     "name": "stdout",
     "output_type": "stream",
     "text": [
      "YES\n",
      "NO\n",
      "YES\n",
      "YES\n"
     ]
    }
   ],
   "source": [
    "solution1(TEST_FOLDER + 'test_10_01.txt')"
   ]
  },
  {
   "cell_type": "markdown",
   "metadata": {},
   "source": [
    "### Задача 11. Partition\n",
    "\n",
    "Ограничение времени: 2 секунды  \n",
    "Ограничение памяти: 256Mb  \n",
    "Ввод: стандартный ввод или input.txt  \n",
    "Вывод: стандартный вывод или output.txt  \n",
    "\n",
    "Базовым алгоритмом для быстрой сортировки является алгоритм partition, который разбивает набор элементов на две части относительно заданного предиката. По сути элементы массива просто меняются местами так, что левее некоторой точки в нем после этой операции лежат элементы, удовлетворяющие заданному предикату, а справа — не удовлетворяющие ему. Например, при сортировке можно использовать предикат «меньше опорного», что при оптимальном выборе опорного элемента может разбить массив на две примерно равные части. Напишите алгоритм partition в качестве первого шага для написания быстрой сортировки.\n",
    "\n",
    "**Формат ввода:**  \n",
    "В первой строке входного файла содержится число N — количество элементов массива (0 ≤ N ≤ 10^6). Во второй строке содержатся N целых чисел $a_i$, разделенных пробелами (-10^9 ≤ $a_i$ ≤ 10^9). В третьей строке содержится опорный элемент x (-10^9 ≤ x ≤ 10^9). Заметьте, что x не обязательно встречается среди $a_i$.\n",
    "\n",
    "**Формат вывода:**  \n",
    "Выведите результат работы вашего алгоритма при использовании предиката «меньше x»: в первой строке выведите число элементов массива, меньших x, а во второй — количество всех остальных.\n",
    "\n",
    "**Пример 1:**  \n",
    "Ввод | Вывод  \n",
    "-----|------\n",
    "5    | 2  \n",
    "1 9 4 2 3 | 3  \n",
    "3    |\n",
    "\n",
    "**Пример 2:**  \n",
    "Ввод | Вывод  \n",
    "-----|------\n",
    "0    | 0  \n",
    "<br>0  | 0  \n",
    "\n",
    "**Пример 3:**  \n",
    "Ввод | Вывод  \n",
    "-----|------\n",
    "1    | 0  \n",
    "0    | 1  \n",
    "0    |\n",
    "\n",
    "**Примечания:**  \n",
    "Чтобы решить, советуем реализовать функцию, которая принимает на вход предикат и пару итераторов, задающих массив (или массив и два индекса в нём), а возвращает точку разбиения, то есть итератор (индекс) на конец части, которая содержащит элементы, удовлетворяющие заданному предикату.\n",
    "\n",
    "В таком виде вам будет удобно использовать эту функцию для реализации сортировки.\n",
    "\n",
    "***задача c занятия 1 тренировок Яндекса по алгоритмам 4.0 зима 2023 ([A. Partition](https://contest.yandex.ru/contest/53029/problems/A/))***\n"
   ]
  },
  {
   "cell_type": "markdown",
   "metadata": {},
   "source": [
    "**Решение задачи 11 вариант 1**:  \n",
    "\n",
    "Будем решать задачу так:\n",
    "- сначала "
   ]
  },
  {
   "cell_type": "code",
   "execution_count": 67,
   "metadata": {},
   "outputs": [],
   "source": [
    "def read_input_file(input_file):\n",
    "    \"\"\"Читает входные данные из файла и возвращает массив чисел и опорный элемент\"\"\"\n",
    "    with open(input_file, 'r') as file:\n",
    "        n = int(file.readline().strip())\n",
    "        nums = list(map(int, file.readline().strip().split()))\n",
    "        pivot = int(file.readline().strip())\n",
    "    return nums, pivot\n",
    "\n",
    "def partition(nums, start, end, pivot):\n",
    "    \"\"\"Разделяет массив nums относительно элемента pivot\"\"\"\n",
    "    equal, great = start, start\n",
    "    for i in range(start, end + 1):\n",
    "        if nums[i] < pivot:\n",
    "            nums[i], nums[great], nums[equal] = nums[great], nums[equal], nums[i]\n",
    "            equal += 1\n",
    "            great += 1\n",
    "        elif nums[i] == pivot:\n",
    "            nums[i], nums[great] = nums[great], nums[i]\n",
    "            great += 1\n",
    "    return equal\n",
    "\n",
    "def solution1(input_file):\n",
    "    \"\"\"Основная функция, выполняющая задачу\"\"\"\n",
    "    nums, pivot = read_input_file(input_file)\n",
    "    less = partition(nums, 0, len(nums)-1, pivot)\n",
    "    print(less)\n",
    "    print(len(nums) - less)\n",
    "\n",
    "# print(solution1('input.txt'))  # Код для контекста закомментирован\n"
   ]
  },
  {
   "cell_type": "code",
   "execution_count": 68,
   "metadata": {},
   "outputs": [
    {
     "name": "stdout",
     "output_type": "stream",
     "text": [
      "2\n",
      "3\n"
     ]
    }
   ],
   "source": [
    "solution1(TEST_FOLDER + 'test_11_01.txt')"
   ]
  },
  {
   "cell_type": "code",
   "execution_count": 69,
   "metadata": {},
   "outputs": [
    {
     "name": "stdout",
     "output_type": "stream",
     "text": [
      "0\n",
      "0\n"
     ]
    }
   ],
   "source": [
    "solution1(TEST_FOLDER + 'test_11_02.txt')"
   ]
  },
  {
   "cell_type": "code",
   "execution_count": 70,
   "metadata": {},
   "outputs": [
    {
     "name": "stdout",
     "output_type": "stream",
     "text": [
      "0\n",
      "1\n"
     ]
    }
   ],
   "source": [
    "solution1(TEST_FOLDER + 'test_11_03.txt')"
   ]
  },
  {
   "cell_type": "code",
   "execution_count": 71,
   "metadata": {},
   "outputs": [
    {
     "name": "stdout",
     "output_type": "stream",
     "text": [
      "0\n",
      "5\n"
     ]
    }
   ],
   "source": [
    "solution1(TEST_FOLDER + 'test_11_my.txt')"
   ]
  },
  {
   "cell_type": "markdown",
   "metadata": {},
   "source": [
    "### Задача 12. Быстрая сортировка\n",
    "\n",
    "Ограничение времени: 10 секунд  \n",
    "Ограничение памяти: 512Mb  \n",
    "Ввод: стандартный ввод или input.txt  \n",
    "Вывод: стандартный вывод или output.txt  \n",
    "\n",
    "Реализуйте быструю сортировку, используя алгоритм из предыдущей задачи. На каждом шаге выбирайте опорный элемент и выполняйте partition относительно него. Затем рекурсивно запуститесь от двух частей, на которые разбился исходный массив.\n",
    "\n",
    "**Формат ввода:**  \n",
    "В первой строке входного файла содержится число N — количество элементов массива (0 ≤ N ≤ 10^6). Во второй строке содержатся N целых чисел ai, разделенных пробелами (-10^9 ≤ ai ≤ 10^9).\n",
    "\n",
    "**Формат вывода:**  \n",
    "Выведите результат сортировки, то есть N целых чисел, разделенных пробелами.\n",
    "\n",
    "**Примеры:**\n",
    "\n",
    "| Ввод         | Вывод       |\n",
    "|--------------|-------------|\n",
    "| 5            | 1 2 3 4 5   |\n",
    "| 1 5 2 4 3    |             |\n",
    "\n",
    "**Примечания:**  \n",
    "Используйте функцию, реализованную в предыдущей задаче.\n",
    "\n",
    "***задача c занятия 1 тренировок Яндекса по алгоритмам 4.0 зима 2023 ([B. Быстрая сортировка](https://contest.yandex.ru/contest/53029/problems/B/))***\n"
   ]
  },
  {
   "cell_type": "markdown",
   "metadata": {},
   "source": [
    "**Решение задачи 12 вариант 1**:  \n",
    "\n",
    "Будем решать задачу так:\n",
    "- сначала "
   ]
  },
  {
   "cell_type": "code",
   "execution_count": 72,
   "metadata": {},
   "outputs": [],
   "source": [
    "import random\n",
    "\n",
    "def read_input_file(input_file):\n",
    "    \"\"\"Читает входные данные из файла и возвращает размер массива и массив\"\"\"\n",
    "    with open(input_file, 'r') as file:\n",
    "        n = int(file.readline().strip())\n",
    "        nums = list(map(int, file.readline().strip().split()))\n",
    "    return n, nums\n",
    "\n",
    "def partition(nums, start, end, pivot):\n",
    "    \"\"\"Разделяет массив nums относительно элемента pivot\"\"\"\n",
    "    equal, great = start, start\n",
    "    for i in range(start, end + 1):\n",
    "        if nums[i] < pivot:\n",
    "            nums[i], nums[great], nums[equal] = nums[great], nums[equal], nums[i]\n",
    "            equal += 1\n",
    "            great += 1\n",
    "        elif nums[i] == pivot:\n",
    "            nums[i], nums[great] = nums[great], nums[i]\n",
    "            great += 1\n",
    "    return equal, great\n",
    "\n",
    "def quick_sort(nums, start, end):\n",
    "    \"\"\"Рекурсивная функция быстрой сортировки.\"\"\"\n",
    "    if start < end:\n",
    "        pivot = nums[random.randint(start, end)]\n",
    "        less, greater = partition(nums, start, end, pivot)\n",
    "        quick_sort(nums, start, less - 1)\n",
    "        quick_sort(nums, greater, end)\n",
    "\n",
    "\n",
    "def solution1(input_file):\n",
    "    \"\"\"Основная функция, выполняющая задачу\"\"\"\n",
    "    n, nums = read_input_file(input_file)\n",
    "    quick_sort(nums, 0, n - 1)\n",
    "    return \" \".join(map(str, nums))\n",
    "\n",
    "# print(solution1('input.txt'))  # Код для контекста закомментирован"
   ]
  },
  {
   "cell_type": "code",
   "execution_count": 73,
   "metadata": {},
   "outputs": [
    {
     "name": "stdout",
     "output_type": "stream",
     "text": [
      "1 2 3 4 5\n"
     ]
    }
   ],
   "source": [
    "print(solution1(TEST_FOLDER + 'test_12_01.txt'))"
   ]
  },
  {
   "cell_type": "markdown",
   "metadata": {},
   "source": [
    "### Задача 13. Слияние\n",
    "\n",
    "Ограничение времени: 5 секунд  \n",
    "Ограничение памяти: 512Mb  \n",
    "Ввод: стандартный ввод или input.txt  \n",
    "Вывод: стандартный вывод или output.txt  \n",
    "\n",
    "Базовым алгоритмом для сортировки слиянием является алгоритм слияния двух упорядоченных массивов в один упорядоченный массив. Эта операция выполняется за линейное время с линейным потреблением памяти. Напишите алгоритм слияния в качестве первого шага для написания сортировки слиянием.\n",
    "\n",
    "**Формат ввода:**  \n",
    "В первой строке входного файла содержится число N — количество элементов первого массива (0 ≤ N ≤ 10^6).  \n",
    "Во второй строке содержатся N целых чисел $a_i$, разделенных пробелами, отсортированные по неубыванию (-10^9 ≤ $a_i$ ≤ 10^9).  \n",
    "В третьей строке входного файла содержится число M — количество элементов второго массива (0 ≤ M ≤ 10^6).  \n",
    "В четвертой строке содержатся M целых чисел $b_i$, разделенных пробелами, отсортированные по неубыванию (-10^9 ≤ $b_i$ ≤ 10^9).\n",
    "\n",
    "**Формат вывода:**  \n",
    "Выведите результат слияния этих двух массивов, то есть M + N целых чисел, разделенных пробелами, в порядке неубывания.\n",
    "\n",
    "**Пример 1:**  \n",
    "Ввод | Вывод  \n",
    "-----|------\n",
    "5<br>1 3 5 5 9<br>3<br>2 5 6| 1 2 3 5 5 5 6 9  \n",
    "\n",
    "**Пример 2:**  \n",
    "Ввод | Вывод  \n",
    "-----|------\n",
    "1<br>0<br>0<br>| 0  \n",
    "\n",
    "**Пример 3:**  \n",
    "Ввод | Вывод  \n",
    "-----|------\n",
    "0<br><br>1<br>0| 0  \n",
    "\n",
    "**Примечания:**  \n",
    "Для решения этой задачи советуем реализовать функцию, которая принимает на вход две пары итераторов, задающие два массива, и итератор на начало буфера, в который необходимо записывать результат. Итераторы можно заменить на передачу массивов и индексов в них. В таком виде вам будет удобно использовать эту функцию для реализации\n",
    "\n",
    "***задача c занятия 1 тренировок Яндекса по алгоритмам 4.0 зима 2023 ([C. Слияние](https://contest.yandex.ru/contest/53029/problems/C/))***"
   ]
  },
  {
   "cell_type": "markdown",
   "metadata": {},
   "source": [
    "**Решение задачи 13 вариант 1**:  \n",
    "\n",
    "Будем решать задачу так:\n",
    "- сначала "
   ]
  },
  {
   "cell_type": "code",
   "execution_count": 74,
   "metadata": {},
   "outputs": [],
   "source": [
    "def read_input_file(file_path):\n",
    "    \"\"\"Читает входные данные из файла и возвращает размеры массивов и массивы\"\"\"\n",
    "    with open(file_path, 'r') as file:\n",
    "        n = int(file.readline().strip())\n",
    "        nums1 = list(map(int, file.readline().strip().split()))\n",
    "        m = int(file.readline().strip())\n",
    "        nums2 = list(map(int, file.readline().strip().split()))\n",
    "    return n, nums1, m, nums2\n",
    "\n",
    "def merge(n, nums1, m, nums2):\n",
    "    \"\"\"Объединяет два массива в один отсортированный массив.\"\"\"\n",
    "    result = []\n",
    "    p1, p2 = 0, 0\n",
    "    while p1 < n and p2 < m:\n",
    "        if nums1[p1] <= nums2[p2]:\n",
    "            result.append(nums1[p1])\n",
    "            p1 += 1\n",
    "        else:\n",
    "            result.append(nums2[p2])\n",
    "            p2 += 1\n",
    "\n",
    "    # Добавляем оставшиеся элементы из каждого массива\n",
    "    result.extend(nums1[p1:])\n",
    "    result.extend(nums2[p2:])\n",
    "\n",
    "    return result\n",
    "\n",
    "\n",
    "def solution1(file_path):\n",
    "    n, nums1, m, nums2 = read_input_file(file_path)\n",
    "    merged = merge(n, nums1, m, nums2)\n",
    "    return ' '.join(map(str, merged))\n",
    "\n",
    "# print(solution1('input.txt'))  # Код для контекста закомментирован"
   ]
  },
  {
   "cell_type": "code",
   "execution_count": 75,
   "metadata": {},
   "outputs": [
    {
     "name": "stdout",
     "output_type": "stream",
     "text": [
      "1 2 3 5 5 5 6 9\n"
     ]
    }
   ],
   "source": [
    "print(solution1(TEST_FOLDER + 'test_13_01.txt'))"
   ]
  },
  {
   "cell_type": "code",
   "execution_count": 76,
   "metadata": {},
   "outputs": [
    {
     "name": "stdout",
     "output_type": "stream",
     "text": [
      "0\n"
     ]
    }
   ],
   "source": [
    "print(solution1(TEST_FOLDER + 'test_13_02.txt'))"
   ]
  },
  {
   "cell_type": "code",
   "execution_count": 77,
   "metadata": {},
   "outputs": [
    {
     "name": "stdout",
     "output_type": "stream",
     "text": [
      "0\n"
     ]
    }
   ],
   "source": [
    "print(solution1(TEST_FOLDER + 'test_13_03.txt'))"
   ]
  },
  {
   "cell_type": "markdown",
   "metadata": {},
   "source": [
    "### Задача 14. Сортировка слиянием\n",
    "\n",
    "Ограничение времени: 15 секунд  \n",
    "Ограничение памяти: 512Mb  \n",
    "Ввод: стандартный ввод или input.txt  \n",
    "Вывод: стандартный вывод или output.txt  \n",
    "\n",
    "Используйте алгоритм сортировки слиянием, основанный на алгоритме из предыдущей задачи. На каждом шаге делите массив на две части, сортируйте их независимо и сливайте с помощью уже реализованной функции слияния.\n",
    "\n",
    "**Формат ввода:**  \n",
    "В первой строке входного файла содержится число N — количество элементов массива (0 ≤ N ≤ 10^6).  \n",
    "Во второй строке содержатся N целых чисел $a_i$, разделенных пробелами (-10^9 ≤ $a_i$ ≤ 10^9).\n",
    "\n",
    "**Формат вывода:**  \n",
    "Выведите результат сортировки, то есть N целых чисел, разделенных пробелами, в порядке неубывания.\n",
    "\n",
    "**Пример:**  \n",
    "Ввод | Вывод  \n",
    "-----|------\n",
    "5    | 1 2 3 4 5  \n",
    "1 5 2 4 3 |  \n",
    "\n",
    "**Примечания:**  \n",
    "Для реализации сортировки слиянием разделите массив на две части, отсортируйте каждую из частей, а затем используйте функцию слияния для объединения отсортированных частей. Этот подход обеспечивает эффективную сортировку для больших массивов.\n",
    "\n",
    "***задача c занятия 1 тренировок Яндекса по алгоритмам 4.0 зима 2023 ([D. Сортировка слиянием](https://contest.yandex.ru/contest/53029/problems/D/))***"
   ]
  },
  {
   "cell_type": "markdown",
   "metadata": {},
   "source": [
    "**Решение задачи 14 вариант 1**:  \n",
    "\n",
    "Будем решать задачу так:\n",
    "- сначала "
   ]
  },
  {
   "cell_type": "code",
   "execution_count": 78,
   "metadata": {},
   "outputs": [],
   "source": [
    "def read_input_file(input_file):\n",
    "    \"\"\"Читает входные данные из файла и возвращает размер массива и массив\"\"\"\n",
    "    with open(input_file, 'r') as file:\n",
    "        n = int(file.readline().strip())\n",
    "        nums = list(map(int, file.readline().strip().split()))\n",
    "    return n, nums\n",
    "\n",
    "def merge(n, nums1, m, nums2):\n",
    "    \"\"\"Объединяет два массива в один отсортированный массив.\"\"\"\n",
    "    result = []\n",
    "    p1, p2 = 0, 0\n",
    "    while p1 < n and p2 < m:\n",
    "        if nums1[p1] <= nums2[p2]:\n",
    "            result.append(nums1[p1])\n",
    "            p1 += 1\n",
    "        else:\n",
    "            result.append(nums2[p2])\n",
    "            p2 += 1\n",
    "\n",
    "    # Добавляем оставшиеся элементы из каждого массива\n",
    "    result.extend(nums1[p1:])\n",
    "    result.extend(nums2[p2:])\n",
    "\n",
    "    return result\n",
    "\n",
    "\n",
    "def merge_sort(n, nums):\n",
    "    \"\"\"Выполняет сортировку слиянием на массиве nums.\"\"\"\n",
    "    if n > 1:\n",
    "        mid = n // 2\n",
    "        left_half = nums[:mid]\n",
    "        right_half = nums[mid:]\n",
    "\n",
    "        merge_sort(mid, left_half)\n",
    "        merge_sort(n - mid, right_half)\n",
    "\n",
    "        # Объединяем отсортированные половины\n",
    "        nums[:] = merge(mid, left_half, n - mid, right_half)\n",
    "\n",
    "def solution1(input_file):\n",
    "    \"\"\"Основная функция, выполняющая задачу\"\"\"\n",
    "    n, nums = read_input_file(input_file)\n",
    "    if n <= 1:\n",
    "        return ' '.join(map(str, nums))\n",
    "\n",
    "    merge_sort(n, nums)\n",
    "    return ' '.join(map(str, nums))\n",
    "\n",
    "# print(solution1('input.txt'))  # Код для контекста закомментирован\n"
   ]
  },
  {
   "cell_type": "code",
   "execution_count": 79,
   "metadata": {},
   "outputs": [
    {
     "name": "stdout",
     "output_type": "stream",
     "text": [
      "1 2 3 4 5\n"
     ]
    }
   ],
   "source": [
    "print(solution1(TEST_FOLDER + 'test_14_01.txt'))"
   ]
  },
  {
   "cell_type": "markdown",
   "metadata": {},
   "source": [
    "### Задача 15. Поразрядная сортировка\n",
    "\n",
    "Ограничение времени: 1 секунда  \n",
    "Ограничение памяти: 64Mb  \n",
    "Ввод: стандартный ввод или input.txt  \n",
    "Вывод: стандартный вывод или output.txt  \n",
    "\n",
    "Поразрядная сортировка - это метод сортировки, работающий за практически линейное время от размера сортируемого массива. Этот метод использует внутреннюю структуру сортируемых объектов, благодаря чему достигается высокая скорость. Задан массив строк одинаковой длины, состоящий только из цифр от 0 до 9. Необходимо выполнить поразрядную сортировку этого массива. Сортировка происходит по каждому разряду начиная с последнего, при этом важно сохранять относительный порядок элементов.\n",
    "\n",
    "**Формат ввода:**  \n",
    "Первая строка входного файла содержит целое число n (1 ≤ n ≤ 1000). Следующие n строк содержат по одной строке $s_i$. Длины всех строк si одинаковы и не превосходят 20. Все $s_i$ состоят только из цифр от 0 до 9.\n",
    "\n",
    "**Формат вывода:**  \n",
    "В выходной файл выведите исходный массив строк, состояние \"корзин\" после распределения элементов по ним для каждой фазы и отсортированный массив. Следуйте формату, приведенному в примере.\n",
    "\n",
    "**Пример:**  \n",
    "| Ввод | Вывод |\n",
    "| ---- | ----- |\n",
    "| 9<br>12<br>32<br>45<br>67<br>98<br>29<br>61<br>35<br>09 | Initial array:<br>12, 32, 45, 67, 98, 29, 61, 35, 09<br> ********** <br>Phase 1<br>Bucket 0: empty<br>Bucket 1: 61<br>Bucket 2: 12, 32<br>Bucket 3: empty<br>Bucket 4: empty<br>Bucket 5: 45, 35<br>Bucket 6: empty<br>Bucket 7: 67<br>Bucket 8: 98<br>Bucket 9: 29, 09<br> ********** <br>Phase 2<br>Bucket 0: 09<br>Bucket 1: 12<br>Bucket 2: 29<br>Bucket 3: 32, 35<br>Bucket 4: 45<br>Bucket 5: empty<br>Bucket 6: 61, 67<br>Bucket 7: empty<br>Bucket 8: empty<br>Bucket 9: 98<br> ********** <br>Sorted array:<br>\n",
    "\n",
    "***задача c занятия 1 тренировок Яндекса по алгоритмам 4.0 зима 2023 ([E. Поразрядная сортировка](https://contest.yandex.ru/contest/53029/problems/E/))***\n"
   ]
  },
  {
   "cell_type": "markdown",
   "metadata": {},
   "source": [
    "**Решение задачи 15 вариант 1**:  \n",
    "\n",
    "Будем решать задачу так:\n",
    "- сначала "
   ]
  },
  {
   "cell_type": "code",
   "execution_count": 80,
   "metadata": {},
   "outputs": [],
   "source": [
    "def read_input_file(input_file):\n",
    "    \"\"\"Читает входные данные из файла и возвращает список строк.\"\"\"\n",
    "    with open(input_file, 'r') as file:\n",
    "        n = int(file.readline().strip())\n",
    "        strings = [file.readline().strip() for _ in range(n)]\n",
    "    return strings\n",
    "\n",
    "def radix_sort(strings):\n",
    "    \"\"\"Выполняет поразрядную сортировку списка строк.\"\"\"\n",
    "    k = len(strings[0])\n",
    "    for i in range(k):\n",
    "        print(\"Phase\", i + 1)\n",
    "        buckets = {str(j): [] for j in range(10)}\n",
    "        for string in strings:\n",
    "            key = string[-1 - i]\n",
    "            buckets[key].append(string)\n",
    "        print_buckets(buckets)\n",
    "        strings[:] = [string for bucket in buckets.values() for string in bucket]\n",
    "\n",
    "def print_buckets(buckets):\n",
    "    \"\"\"Печатает содержимое корзин.\"\"\"\n",
    "    for i in range(10):\n",
    "        bucket = buckets[str(i)]\n",
    "        print(f\"Bucket {i}: \" + (', '.join(bucket) if bucket else \"empty\"))\n",
    "    print(\"**********\")\n",
    "\n",
    "def solution1(input_file):\n",
    "    \"\"\"Основная функция, выполняющая задачу.\"\"\"\n",
    "    strings = read_input_file(input_file)\n",
    "    print(\"Initial array:\")\n",
    "    print(\", \".join(strings))\n",
    "    print(\"**********\")\n",
    "    radix_sort(strings)\n",
    "    print(\"Sorted array:\")\n",
    "    print(\", \".join(strings))\n",
    "\n",
    "# Пример вызова функции\n",
    "# solution1('input.txt')\n"
   ]
  },
  {
   "cell_type": "code",
   "execution_count": 81,
   "metadata": {},
   "outputs": [
    {
     "name": "stdout",
     "output_type": "stream",
     "text": [
      "Initial array:\n",
      "12, 32, 45, 67, 98, 29, 61, 35, 09\n",
      "**********\n",
      "Phase 1\n",
      "Bucket 0: empty\n",
      "Bucket 1: 61\n",
      "Bucket 2: 12, 32\n",
      "Bucket 3: empty\n",
      "Bucket 4: empty\n",
      "Bucket 5: 45, 35\n",
      "Bucket 6: empty\n",
      "Bucket 7: 67\n",
      "Bucket 8: 98\n",
      "Bucket 9: 29, 09\n",
      "**********\n",
      "Phase 2\n",
      "Bucket 0: 09\n",
      "Bucket 1: 12\n",
      "Bucket 2: 29\n",
      "Bucket 3: 32, 35\n",
      "Bucket 4: 45\n",
      "Bucket 5: empty\n",
      "Bucket 6: 61, 67\n",
      "Bucket 7: empty\n",
      "Bucket 8: empty\n",
      "Bucket 9: 98\n",
      "**********\n",
      "Sorted array:\n",
      "09, 12, 29, 32, 35, 45, 61, 67, 98\n"
     ]
    }
   ],
   "source": [
    "solution1(TEST_FOLDER + 'test_15_01.txt')"
   ]
  },
  {
   "cell_type": "code",
   "execution_count": 82,
   "metadata": {},
   "outputs": [
    {
     "name": "stdout",
     "output_type": "stream",
     "text": [
      "Initial array:\n",
      "72646949104982, 86760909269958, 70895853644343, 98463563006463, 70181869598203, 23860473078524, 05776166968711, 01712353486422, 14750121922669, 61581703986997\n",
      "**********\n",
      "Phase 1\n",
      "Bucket 0: empty\n",
      "Bucket 1: 05776166968711\n",
      "Bucket 2: 72646949104982, 01712353486422\n",
      "Bucket 3: 70895853644343, 98463563006463, 70181869598203\n",
      "Bucket 4: 23860473078524\n",
      "Bucket 5: empty\n",
      "Bucket 6: empty\n",
      "Bucket 7: 61581703986997\n",
      "Bucket 8: 86760909269958\n",
      "Bucket 9: 14750121922669\n",
      "**********\n",
      "Phase 2\n",
      "Bucket 0: 70181869598203\n",
      "Bucket 1: 05776166968711\n",
      "Bucket 2: 01712353486422, 23860473078524\n",
      "Bucket 3: empty\n",
      "Bucket 4: 70895853644343\n",
      "Bucket 5: 86760909269958\n",
      "Bucket 6: 98463563006463, 14750121922669\n",
      "Bucket 7: empty\n",
      "Bucket 8: 72646949104982\n",
      "Bucket 9: 61581703986997\n",
      "**********\n",
      "Phase 3\n",
      "Bucket 0: empty\n",
      "Bucket 1: empty\n",
      "Bucket 2: 70181869598203\n",
      "Bucket 3: 70895853644343\n",
      "Bucket 4: 01712353486422, 98463563006463\n",
      "Bucket 5: 23860473078524\n",
      "Bucket 6: 14750121922669\n",
      "Bucket 7: 05776166968711\n",
      "Bucket 8: empty\n",
      "Bucket 9: 86760909269958, 72646949104982, 61581703986997\n",
      "**********\n",
      "Phase 4\n",
      "Bucket 0: empty\n",
      "Bucket 1: empty\n",
      "Bucket 2: 14750121922669\n",
      "Bucket 3: empty\n",
      "Bucket 4: 70895853644343, 72646949104982\n",
      "Bucket 5: empty\n",
      "Bucket 6: 01712353486422, 98463563006463, 61581703986997\n",
      "Bucket 7: empty\n",
      "Bucket 8: 70181869598203, 23860473078524, 05776166968711\n",
      "Bucket 9: 86760909269958\n",
      "**********\n",
      "Phase 5\n",
      "Bucket 0: 72646949104982, 98463563006463\n",
      "Bucket 1: empty\n",
      "Bucket 2: 14750121922669\n",
      "Bucket 3: empty\n",
      "Bucket 4: 70895853644343\n",
      "Bucket 5: empty\n",
      "Bucket 6: 05776166968711, 86760909269958\n",
      "Bucket 7: 23860473078524\n",
      "Bucket 8: 01712353486422, 61581703986997\n",
      "Bucket 9: 70181869598203\n",
      "**********\n",
      "Phase 6\n",
      "Bucket 0: 98463563006463, 23860473078524\n",
      "Bucket 1: 72646949104982\n",
      "Bucket 2: 86760909269958\n",
      "Bucket 3: empty\n",
      "Bucket 4: 01712353486422\n",
      "Bucket 5: 70181869598203\n",
      "Bucket 6: 70895853644343\n",
      "Bucket 7: empty\n",
      "Bucket 8: empty\n",
      "Bucket 9: 14750121922669, 05776166968711, 61581703986997\n",
      "**********\n",
      "Phase 7\n",
      "Bucket 0: empty\n",
      "Bucket 1: 14750121922669\n",
      "Bucket 2: empty\n",
      "Bucket 3: 98463563006463, 23860473078524, 01712353486422, 70895853644343, 61581703986997\n",
      "Bucket 4: empty\n",
      "Bucket 5: empty\n",
      "Bucket 6: 05776166968711\n",
      "Bucket 7: empty\n",
      "Bucket 8: empty\n",
      "Bucket 9: 72646949104982, 86760909269958, 70181869598203\n",
      "**********\n",
      "Phase 8\n",
      "Bucket 0: 61581703986997, 86760909269958\n",
      "Bucket 1: empty\n",
      "Bucket 2: 14750121922669\n",
      "Bucket 3: empty\n",
      "Bucket 4: 72646949104982\n",
      "Bucket 5: 01712353486422, 70895853644343\n",
      "Bucket 6: 98463563006463, 05776166968711, 70181869598203\n",
      "Bucket 7: 23860473078524\n",
      "Bucket 8: empty\n",
      "Bucket 9: empty\n",
      "**********\n",
      "Phase 9\n",
      "Bucket 0: empty\n",
      "Bucket 1: 14750121922669, 05776166968711\n",
      "Bucket 2: empty\n",
      "Bucket 3: 01712353486422\n",
      "Bucket 4: 23860473078524\n",
      "Bucket 5: 98463563006463\n",
      "Bucket 6: empty\n",
      "Bucket 7: 61581703986997\n",
      "Bucket 8: 70895853644343, 70181869598203\n",
      "Bucket 9: 86760909269958, 72646949104982\n",
      "**********\n",
      "Phase 10\n",
      "Bucket 0: 14750121922669, 23860473078524, 86760909269958\n",
      "Bucket 1: 61581703986997, 70181869598203\n",
      "Bucket 2: 01712353486422\n",
      "Bucket 3: 98463563006463\n",
      "Bucket 4: empty\n",
      "Bucket 5: 70895853644343\n",
      "Bucket 6: 05776166968711, 72646949104982\n",
      "Bucket 7: empty\n",
      "Bucket 8: empty\n",
      "Bucket 9: empty\n",
      "**********\n",
      "Phase 11\n",
      "Bucket 0: empty\n",
      "Bucket 1: 01712353486422\n",
      "Bucket 2: empty\n",
      "Bucket 3: empty\n",
      "Bucket 4: 72646949104982\n",
      "Bucket 5: 14750121922669\n",
      "Bucket 6: 23860473078524, 86760909269958, 98463563006463\n",
      "Bucket 7: 05776166968711\n",
      "Bucket 8: 61581703986997, 70181869598203\n",
      "Bucket 9: 70895853644343\n",
      "**********\n",
      "Phase 12\n",
      "Bucket 0: empty\n",
      "Bucket 1: 70181869598203\n",
      "Bucket 2: empty\n",
      "Bucket 3: empty\n",
      "Bucket 4: 98463563006463\n",
      "Bucket 5: 61581703986997\n",
      "Bucket 6: 72646949104982\n",
      "Bucket 7: 01712353486422, 14750121922669, 86760909269958, 05776166968711\n",
      "Bucket 8: 23860473078524, 70895853644343\n",
      "Bucket 9: empty\n",
      "**********\n",
      "Phase 13\n",
      "Bucket 0: 70181869598203, 70895853644343\n",
      "Bucket 1: 61581703986997, 01712353486422\n",
      "Bucket 2: 72646949104982\n",
      "Bucket 3: 23860473078524\n",
      "Bucket 4: 14750121922669\n",
      "Bucket 5: 05776166968711\n",
      "Bucket 6: 86760909269958\n",
      "Bucket 7: empty\n",
      "Bucket 8: 98463563006463\n",
      "Bucket 9: empty\n",
      "**********\n",
      "Phase 14\n",
      "Bucket 0: 01712353486422, 05776166968711\n",
      "Bucket 1: 14750121922669\n",
      "Bucket 2: 23860473078524\n",
      "Bucket 3: empty\n",
      "Bucket 4: empty\n",
      "Bucket 5: empty\n",
      "Bucket 6: 61581703986997\n",
      "Bucket 7: 70181869598203, 70895853644343, 72646949104982\n",
      "Bucket 8: 86760909269958\n",
      "Bucket 9: 98463563006463\n",
      "**********\n",
      "Sorted array:\n",
      "01712353486422, 05776166968711, 14750121922669, 23860473078524, 61581703986997, 70181869598203, 70895853644343, 72646949104982, 86760909269958, 98463563006463\n"
     ]
    }
   ],
   "source": [
    "solution1(TEST_FOLDER + 'test_15_17.txt')"
   ]
  },
  {
   "cell_type": "markdown",
   "metadata": {},
   "source": [
    "### Задача 16. Равенство подстрок\n",
    "\n",
    "Ограничение времени: 15 секунд  \n",
    "Ограничение памяти: 512Mb  \n",
    "Ввод: стандартный ввод или input.txt  \n",
    "Вывод: стандартный вывод или output.txt  \n",
    "\n",
    "Дана строка S, состоящая из строчных латинских букв. Задача состоит в определении совпадения подстрок одинаковой длины L, начинающихся с различных позиций A и B в строке S.\n",
    "\n",
    "**Формат ввода:**  \n",
    "Первая строка содержит строку S (1 ≤ |S| ≤ 2 ⋅ 10^5), состоящую из строчных латинских букв.  \n",
    "Вторая строка содержит число Q (1 ≤ Q ≤ 2 ⋅ 10^5) — количество запросов.  \n",
    "Следующие Q строк содержат запросы: целые числа L, A и B (1 ≤ L ≤ |S|, 0 ≤ A, B ≤ (|S| - L)) — длина подстрок и позиции, с которых они начинаются.\n",
    "\n",
    "**Формат вывода:**  \n",
    "Для каждого запроса выводите \"yes\", если подстроки совпадают, и \"no\" — в противном случае.\n",
    "\n",
    "**Пример 1:**  \n",
    "Ввод | Вывод  \n",
    "-----|------\n",
    "| acabaca<br>3<br>4 3 2<br>3 4 0<br>2 0 1 | no<br>yes<br>no |  \n",
    "\n",
    "**Пример 2:**  \n",
    "Ввод | Вывод  \n",
    "-----|------\n",
    "| caeabaeadedcbdcdccec<br>10<br>13 4 3<br>2 12 15<br>10 1 3<br>3 8 15<br>13 5 6<br>7 2 6<br>9 8 8<br>19 0 0<br>19 0 0<br>6 7 13 | no<br>no<br>no<br>no<br>no<br>no<br>yes<br>yes<br>yes<br>no |\n",
    "\n",
    "**Примечания:**  \n",
    "Проверьте подстроки на совпадение, используя заданные позиции начала и длину. Это задача полезна для понимания работы со строками и подстроками в программировании.\n",
    "\n",
    "***задача c занятия 2 тренировок Яндекса по алгоритмам 4.0 зима 2023 ([A. Равенство подстрок](https://contest.yandex.ru/contest/53030/problems/A/))***\n"
   ]
  },
  {
   "cell_type": "markdown",
   "metadata": {},
   "source": [
    "**Решение задачи 16 вариант 1**:  \n",
    "\n",
    "Для решения задачи мы будем использовать хеширование строк, чтобы эффективно сравнивать подстроки. Этот метод позволяет нам за константное время определять, равны ли две подстроки одинаковой длины, начинающиеся в разных местах исходной строки.\n",
    "\n",
    "- сначала  инициализируем хеши: мы инициализируем массив хешей для всех префиксов исходной строки `S`. Для каждой позиции `i` в строке, мы вычисляем хеш префикса от начала строки до позиции `i`, включительно. Хеш каждой следующей позиции рассчитывается на основе предыдущего хеша, умноженного на фиксированное число `X`, к которому добавляется код текущего символа. Для предотвращения переполнения значения хеша, мы используем модульное вычисление с большим простым числом `MODULE`.\n",
    "\n",
    "- потом предобработка степеней `X`: Поскольку хеш-функция включает умножение на `X` в степени, соответствующей позиции символа в строке, мы также предварительно вычисляем и сохраняем степени `X` до максимальной длины строки. Это ускоряет процесс вычисления хешей.\n",
    "\n",
    "- ну и обработка запросов**: Каждый запрос содержит длину подстроки `L` и две начальные позиции `A` и `B`. Чтобы проверить, равны ли подстроки, начинающиеся в `A` и `B`, мы сравниваем их хеши. Хеш подстроки определяется как разница между хешом префикса до конца подстроки и хешом префикса до начала подстроки, умноженной на соответствующую степень `X`. Если хеши совпадают, подстроки равны. В случае совпадения выводим \"yes\", иначе - \"no\".\n",
    "\n",
    "Такой подход позволяет нам эффективно и быстро сравнивать подстроки за время, не зависящее от их длины, что является ключевым преимуществом при работе с большими строками и множеством запросов\n",
    "\n",
    "В качестве MODULE я взял простое число с началом текущего года 2_023_000_019. Использование уникального, нестандартного значения MODULE (не одного из часто используемых чисел, например, 1_000_000_007) может предоставить некоторую дополнительную защиту от преднамеренных коллизий в случаях, когда это критично (например, в задачах, когда преподаватель предусмотрит такую возможность в одном из тестов)"
   ]
  },
  {
   "cell_type": "code",
   "execution_count": 83,
   "metadata": {},
   "outputs": [],
   "source": [
    "MODULE = 2_023_000_019\n",
    "X = 127\n",
    "\n",
    "def read_input_file(input_file):\n",
    "    with open(input_file, 'r') as file:\n",
    "        s = file.readline().strip()\n",
    "        n = int(file.readline().strip())\n",
    "        queries = [list(map(int, file.readline().strip().split())) for _ in range(n)]\n",
    "    return s, queries\n",
    "\n",
    "def init(s):\n",
    "    global p, pow\n",
    "    p = [0] * (len(s) + 1)\n",
    "    pow = [1] * (len(s) + 1)\n",
    "    for i in range(1, len(s) + 1):\n",
    "        p[i] = (p[i-1] * X + ord(s[i - 1]) - ord('a') + 1) % MODULE\n",
    "        pow[i] = (pow[i - 1] * X) % MODULE\n",
    "\n",
    "def is_equal(length, p1, p2):\n",
    "    if p1 == p2:\n",
    "        return True\n",
    "    h1 = (p[p1 + length] + p[p2] * pow[length]) % MODULE\n",
    "    h2 = (p[p2 + length] + p[p1] * pow[length]) % MODULE\n",
    "    return h1 == h2\n",
    "\n",
    "def solution1(input_file):\n",
    "    s, queries = read_input_file(input_file)\n",
    "    init(s)\n",
    "    for l, a, b in queries:\n",
    "        res = (l == 1 and s[a] == s[b]) or is_equal(l, a, b)\n",
    "        print(\"yes\" if res else \"no\")\n",
    "\n",
    "# Пример вызова функции\n",
    "# solution1('input.txt')"
   ]
  },
  {
   "cell_type": "code",
   "execution_count": 84,
   "metadata": {},
   "outputs": [
    {
     "name": "stdout",
     "output_type": "stream",
     "text": [
      "no\n",
      "yes\n",
      "no\n"
     ]
    }
   ],
   "source": [
    "solution1(TEST_FOLDER + 'test_16_01.txt')"
   ]
  },
  {
   "cell_type": "code",
   "execution_count": 85,
   "metadata": {},
   "outputs": [
    {
     "name": "stdout",
     "output_type": "stream",
     "text": [
      "no\n",
      "no\n",
      "no\n",
      "no\n",
      "no\n",
      "no\n",
      "yes\n",
      "yes\n",
      "yes\n",
      "no\n"
     ]
    }
   ],
   "source": [
    "solution1(TEST_FOLDER + 'test_16_02.txt')"
   ]
  },
  {
   "cell_type": "markdown",
   "metadata": {},
   "source": [
    "### Задача 17. Основание строки\n",
    "\n",
    "Ограничение времени: 1 секунда  \n",
    "Ограничение памяти: 256Mb  \n",
    "Ввод: стандартный ввод или input.txt  \n",
    "Вывод: стандартный вывод или output.txt  \n",
    "\n",
    "Задана строка S, полученная путем многократного повторения исходной строки и взятия префикса из полученного результата. Необходимо определить минимально возможную длину исходной строки S.\n",
    "\n",
    "**Формат ввода:**  \n",
    "В первой и единственной строке входного файла записана строка, содержащая только латинские буквы. Длина строки не превышает 50,000 символов.\n",
    "\n",
    "**Формат вывода:**  \n",
    "Выведите минимально возможную длину исходной строки S.\n",
    "\n",
    "**Примеры:**  \n",
    "| Ввод | Вывод |\n",
    "| ---- | ----- |\n",
    "| zzz  | 1     |\n",
    "| bcabcab | 3   |\n",
    "\n",
    "**Примечания:**  \n",
    "Используйте префикс-функцию или z-функцию. Обратите внимание, что строка S, повторённая много раз, идеально прикладывается к себе, начиная с позиции |S|\n",
    "\n",
    "***задача c занятия 2 тренировок Яндекса по алгоритмам 4.0 зима 2023 ([B. Основание строки](https://contest.yandex.ru/contest/53030/problems/B/))***\n"
   ]
  },
  {
   "cell_type": "markdown",
   "metadata": {},
   "source": [
    "**Решение задачи 17 вариант 1**:  \n",
    "\n",
    "Будем решать задачу с использованием префикс-функции для определения минимально возможной длины исходной строки `S`. Префикс-функция для данной строки поможет нам найти наибольший собственный префикс каждой подстроки, который одновременно является её суффиксом:\n",
    "- сначала строим префикс-функция: вычисляем префикс-функцию для исходной строки `S`. Префикс-функция для каждой позиции `i` строки `S` будет определять длину наибольшего собственного суффикса подстроки `S[0..i]`, который также является префиксом.\n",
    "- обработаем префикс-функции: Для определения основания строки, мы рассмотрим значение префикс-функции в последнем символе строки. Это значение указывает на наибольший суффикс строки, который также является её префиксом.\n",
    "- вычислим длину основания строки: Если значение префикс-функции в последней позиции строки равно нулю, это означает, что нет повторяющегося префикса, и, следовательно, основание строки равно всей длине строки. Если значение отлично от нуля, то длина основания строки равна длине строки минус значение префикс-функции в последней позиции.\n",
    "\n",
    "Этот подход позволяет нам эффективно определить минимально возможную длину исходной строки `S`, которая могла быть повторена несколько раз для создания данной строки.\n"
   ]
  },
  {
   "cell_type": "code",
   "execution_count": 86,
   "metadata": {},
   "outputs": [],
   "source": [
    "MODULE = 2_023_000_019\n",
    "X = 127\n",
    "\n",
    "def read_input_file(input_file):\n",
    "    \"\"\"Читает входные данные из файла и возвращает строку S.\"\"\"\n",
    "    with open(input_file, 'r') as file:\n",
    "        s = file.readline().strip()\n",
    "    return s\n",
    "\n",
    "def init(s):\n",
    "    global p, pow\n",
    "    p = [0] * (len(s) + 1)\n",
    "    pow = [1] * (len(s) + 1)\n",
    "    for i in range(1, len(s) + 1):\n",
    "        p[i] = (p[i-1] * X + ord(s[i - 1]) - ord('a') + 1) % MODULE\n",
    "        pow[i] = (pow[i - 1] * X) % MODULE\n",
    "\n",
    "def is_equal(length, p1, p2):\n",
    "    if p1 == p2:\n",
    "        return True\n",
    "    h1 = (p[p1 + length] + p[p2] * pow[length]) % MODULE\n",
    "    h2 = (p[p2 + length] + p[p1] * pow[length]) % MODULE\n",
    "    return h1 == h2\n",
    "\n",
    "def find_base_length(s):\n",
    "    init(s)\n",
    "    n = len(s)\n",
    "    for length in range(1, n):\n",
    "        for i in range(length, n - length + 1, length):\n",
    "            if not is_equal(length, 0, i):\n",
    "                break\n",
    "        else:  # Выполняется, если цикл не был прерван\n",
    "            tail = n % length\n",
    "            if tail != 0 and not is_equal(tail, 0, n - tail):\n",
    "                continue  # Переход к следующей итерации цикла for\n",
    "            return length\n",
    "    return n\n",
    "\n",
    "\n",
    "def solution1(input_file):\n",
    "    \"\"\"Основная функция, выполняющая задачу.\"\"\"\n",
    "    s = read_input_file(input_file)\n",
    "    base_length = find_base_length(s)\n",
    "    print(base_length)\n",
    "\n",
    "# Пример вызова функции\n",
    "# solution1('input.txt')"
   ]
  },
  {
   "cell_type": "code",
   "execution_count": 87,
   "metadata": {},
   "outputs": [
    {
     "name": "stdout",
     "output_type": "stream",
     "text": [
      "1\n"
     ]
    }
   ],
   "source": [
    "solution1(TEST_FOLDER + 'test_17_01.txt')"
   ]
  },
  {
   "cell_type": "code",
   "execution_count": 88,
   "metadata": {},
   "outputs": [
    {
     "name": "stdout",
     "output_type": "stream",
     "text": [
      "3\n"
     ]
    }
   ],
   "source": [
    "solution1(TEST_FOLDER + 'test_17_02.txt')"
   ]
  },
  {
   "cell_type": "code",
   "execution_count": 89,
   "metadata": {},
   "outputs": [
    {
     "name": "stdout",
     "output_type": "stream",
     "text": [
      "113\n"
     ]
    }
   ],
   "source": [
    "solution1(TEST_FOLDER + 'test_17_my.txt')"
   ]
  },
  {
   "cell_type": "markdown",
   "metadata": {},
   "source": [
    "Алгоритмическая сложность кода решения задачи 17:\n",
    "\n",
    "- функция `init` (Сложность: O(n), где n — длина строки.):\n",
    "   - Для каждого символа строки вычисляется хеш и степень основания хеширования `X`. Это выполняется один раз для каждого символа строки\n",
    "\n",
    "- функция `is_equal` (Сложность: O(1)):\n",
    "   - Функция выполняет несколько арифметических операций и модульных вычислений. Время её выполнения считается константным для каждого вызова\n",
    "\n",
    "- функция `find_base_length`: (Сложность: Приблизительно O(n log n))\n",
    "   - Происходит перебор всех возможных длин подстроки от 1 до n. Для каждой длины подстроки `length` выполняется серия проверок хешей на равенство, которая в худшем случае может потребовать O(n/length) проверок. С учетом всех возможных длин подстрок, общая трудоемкость этой части алгоритма составит примерно O(n log n).\n",
    "\n",
    "- проверка хвоста строки: (Сложность: O(1) для каждой длины подстроки)\n",
    "   - для каждой длины подстроки дополнительно выполняется проверка хвоста строки, требующая константного времени.\n",
    "\n",
    "Общая трудоемкость алгоритма близка к $O(nlog(n))$\n"
   ]
  },
  {
   "cell_type": "markdown",
   "metadata": {},
   "source": [
    "!!!дополнение к задаче!!! можно решить задачу за O(n) c помощью расчета хешей для префиксов и суффиксов, или через префикс функцию или через z-функцию, но я решил выбрать такую реализацию, потому что на следующих задачах эти методы будут реализованы"
   ]
  },
  {
   "cell_type": "markdown",
   "metadata": {},
   "source": [
    "### Задача 18. Z-функция\n",
    "\n",
    "Ограничение времени: 2 секунды  \n",
    "Ограничение памяти: 256Mb  \n",
    "Ввод: стандартный ввод или input.txt  \n",
    "Вывод: стандартный вывод или output.txt  \n",
    "\n",
    "Задача заключается в вычислении Z-функции для данной строки S. Z-функция для каждой позиции i в строке S определяется как максимальная длина подстроки, начинающейся с позиции i и совпадающей с префиксом всей строки. По определению, z[0] равно 0.\n",
    "\n",
    "**Формат ввода:**  \n",
    "Строка S длины N, где 0 < N ≤ 10^6, состоящая из прописных латинских букв.\n",
    "\n",
    "**Формат вывода:**  \n",
    "Выводите N чисел — значения z-функции для каждой позиции в строке S, разделённые пробелом.\n",
    "\n",
    "**Пример:**  \n",
    "\n",
    "Ввод | Вывод\n",
    "-----|------\n",
    "abracadabra | 0 0 0 1 0 1 0 4 0 0 1  \n",
    "\n",
    "***задача c занятия 2 тренировок Яндекса по алгоритмам 4.0 зима 2023 ([C. Z-функция](https://contest.yandex.ru/contest/53030/problems/C/))***"
   ]
  },
  {
   "cell_type": "code",
   "execution_count": 90,
   "metadata": {},
   "outputs": [],
   "source": [
    "def read_input_file(input_file):\n",
    "    \"\"\"Читает входные данные из файла и возвращает строку s\"\"\"\n",
    "    with open(input_file, 'r') as file:\n",
    "        s = file.readline().strip()\n",
    "    return s\n",
    "\n",
    "def calculate_z_function(s):\n",
    "    \"\"\"Вычисляет Z-функцию для строки S.\"\"\"\n",
    "    n = len(s)\n",
    "    z = [0] * n\n",
    "    left, right = 0, 0\n",
    "\n",
    "    for i in range(1, n):\n",
    "        if i <= right:\n",
    "            z[i] = min(right - i + 1, z[i - left])\n",
    "        while i + z[i] < n and s[z[i]] == s[i + z[i]]:\n",
    "            z[i] += 1\n",
    "        if i + z[i] - 1 > right:\n",
    "            left, right = i, i + z[i] - 1\n",
    "\n",
    "    return z\n",
    "\n",
    "def solution1(input_file):\n",
    "    \"\"\"Основная функция, выполняющая задачу.\"\"\"\n",
    "    s = read_input_file(input_file)\n",
    "    z = calculate_z_function(s)\n",
    "    return ' '.join(map(str, z))\n",
    "\n",
    "\n",
    "# print(solution1('input.txt'))\n"
   ]
  },
  {
   "cell_type": "code",
   "execution_count": 91,
   "metadata": {},
   "outputs": [
    {
     "name": "stdout",
     "output_type": "stream",
     "text": [
      "0 0 0 1 0 1 0 4 0 0 1\n"
     ]
    }
   ],
   "source": [
    "print(solution1(TEST_FOLDER + 'test_18_01.txt'))"
   ]
  },
  {
   "cell_type": "markdown",
   "metadata": {},
   "source": [
    "### Задача 19. Кубики в зеркале\n",
    "\n",
    "Ограничение времени: 5 секунд  \n",
    "Ограничение памяти: 256Mb  \n",
    "Ввод: стандартный ввод или input.txt  \n",
    "Вывод: стандартный вывод или output.txt  \n",
    "\n",
    "Привидение Петя любит играть со своими кубиками, выкладывая их в ряд и разглядывая своё творение. Однажды друзья поставили в его игровой комнате зеркало. Привидения не отражаются в зеркале, но кубики отражаются. Перед Петей теперь N цветных кубиков, и он не знает, какие из них настоящие, а какие — лишь отражение в зеркале. Нужно определить, сколько кубиков может быть у Пети, учитывая, что он видит отражение всех кубиков и часть кубиков, находящихся перед ним.\n",
    "\n",
    "На рисунке в ячейке ниже можно посмотреть визуальное представление условия задачи.\n",
    "\n",
    "**Формат ввода:**  \n",
    "Первая строка входного файла содержит число N (1 ≤ N ≤ 10^6) и количество различных цветов M (1 ≤ M ≤ 10^6), в которые могут быть раскрашены кубики. Вторая строка содержит N целых чисел от 1 до M, обозначающих цвета кубиков.\n",
    "\n",
    "**Формат вывода:**  \n",
    "Выведите все такие K, что у Пети может быть K кубиков.\n",
    "\n",
    "**Пример:**\n",
    "\n",
    "Ввод | Вывод\n",
    "-----|------\n",
    "6 2<br>1 1 2 2 1 1 | 3 5 6\n",
    "\n",
    "***задача c занятия 2 тренировок Яндекса по алгоритмам 4.0 зима 2023 ([D. Кубики в зеркале](https://contest.yandex.ru/contest/53030/problems/D/))***"
   ]
  },
  {
   "cell_type": "code",
   "execution_count": 92,
   "metadata": {},
   "outputs": [
    {
     "data": {
      "image/png": "[encoded data removed]",
      "text/plain": [
       "<IPython.core.display.Image object>"
      ]
     },
     "execution_count": 92,
     "metadata": {},
     "output_type": "execute_result"
    }
   ],
   "source": [
    "from IPython.display import Image\n",
    "Image(filename='./pictures/19_4_2_D.png')"
   ]
  },
  {
   "cell_type": "code",
   "execution_count": 93,
   "metadata": {},
   "outputs": [],
   "source": [
    "MODULE = 2_023_000_019\n",
    "X = 1_000_019\n",
    "\n",
    "def read_input_file(input_file):\n",
    "    \"\"\"Читает входные данные из файла.\"\"\"\n",
    "    with open(input_file, 'r') as file:\n",
    "        n = int(file.readline().split()[0])\n",
    "        nums = list(map(int, file.readline().split()))\n",
    "    return n, nums\n",
    "\n",
    "def init_hash(n, nums):\n",
    "    \"\"\"Инициализирует хеш для строки и ее обратной копии.\"\"\"\n",
    "    global hash_forward, hash_backward, pow\n",
    "    hash_forward = [0] * (n + 1)\n",
    "    hash_backward = [0] * (n + 1)\n",
    "\n",
    "    pow = [1] * (n + 1)\n",
    "    for i in range(1, n + 1):\n",
    "        hash_forward[i] = (hash_forward[i - 1] * X + nums[i - 1]) % MODULE\n",
    "        hash_backward[i] = (hash_backward[i - 1] * X + nums[n - i]) % MODULE\n",
    "        pow[i] = (pow[i - 1] * X) % MODULE\n",
    "\n",
    "def is_palindrome(n, before_mirror):\n",
    "    \"\"\"Проверяет, является ли часть строки палиндромом вместе с её отражением.\"\"\"\n",
    "    length = before_mirror * 2\n",
    "    right_hash = (hash_forward[length] + hash_backward[n - length] * pow[length] ) % MODULE\n",
    "    left_hash = (hash_backward[n] + hash_forward[0] * pow[length] ) % MODULE\n",
    "    return left_hash == right_hash\n",
    "\n",
    "def find_possible_k(n, nums):\n",
    "    \"\"\"Находит все возможные значения K.\"\"\"\n",
    "    init_hash(n, nums)\n",
    "    possible_k = []\n",
    "\n",
    "    for i in range(1,n//2+1):\n",
    "        if is_palindrome(n, i):\n",
    "            possible_k.append(n - i)\n",
    "    possible_k.append(n)\n",
    "    return possible_k\n",
    "\n",
    "\n",
    "def solution1(input_file):\n",
    "    \"\"\"Основная функция, выполняющая задачу.\"\"\"\n",
    "    n, nums = read_input_file(input_file)\n",
    "    result = find_possible_k(n, nums)\n",
    "    return ' '.join(map(str,result))\n",
    "\n",
    "\n",
    "# print(solution1('input.txt'))\n"
   ]
  },
  {
   "cell_type": "code",
   "execution_count": 94,
   "metadata": {},
   "outputs": [
    {
     "data": {
      "text/plain": [
       "'5 3 6'"
      ]
     },
     "execution_count": 94,
     "metadata": {},
     "output_type": "execute_result"
    }
   ],
   "source": [
    "solution1(TEST_FOLDER + 'test_19_01.txt')"
   ]
  },
  {
   "cell_type": "code",
   "execution_count": 95,
   "metadata": {},
   "outputs": [
    {
     "data": {
      "text/plain": [
       "'99582 99108 96667 50000 100000'"
      ]
     },
     "execution_count": 95,
     "metadata": {},
     "output_type": "execute_result"
    }
   ],
   "source": [
    "solution1(TEST_FOLDER + 'test_19_16.txt')"
   ]
  },
  {
   "cell_type": "markdown",
   "metadata": {},
   "source": [
    "### Задача 20. Подпалиндромы\n",
    "\n",
    "Ограничение времени: 3 секунды  \n",
    "Ограничение памяти: 256Mb  \n",
    "Ввод: стандартный ввод или input.txt  \n",
    "Вывод: стандартный вывод или output.txt  \n",
    "\n",
    "Строка считается палиндромом, если она читается одинаково слева направо и справа налево, как, например, строки \"abba\" и \"ata\". Ваша задача — написать программу, которая определяет количество подстрок в данной строке, которые являются палиндромами.\n",
    "\n",
    "**Формат ввода:**  \n",
    "Вводится одна строка, состоящая из прописных латинских букв. Длина строки не превышает 100000 символов.\n",
    "\n",
    "**Формат вывода:**  \n",
    "Выведите одно число — количество подстрок данной строки, которые являются палиндромами.\n",
    "\n",
    "**Пример 1:**  \n",
    "Ввод | Вывод\n",
    "-----|------\n",
    "aaa  | 6\n",
    "\n",
    "**Пример 2:**  \n",
    "Ввод | Вывод\n",
    "-----|------\n",
    "aba  | 4\n",
    "\n",
    "***задача c занятия 2 тренировок Яндекса по алгоритмам 4.0 зима 2023 ([E. Подпалиндромы](https://contest.yandex.ru/contest/53030/problems/E/))***\n"
   ]
  },
  {
   "cell_type": "code",
   "execution_count": 3,
   "metadata": {},
   "outputs": [],
   "source": [
    "def read_input_file(input_file):\n",
    "    \"\"\"Читает входные данные из файла и возвращает строку s\"\"\"\n",
    "    with open(input_file, 'r') as file:\n",
    "        s = file.readline().strip()\n",
    "    return s\n",
    "\n",
    "def modify_string(s):\n",
    "    \"\"\"Модифицирует строку добавляя между символами специальный символ для учета четных длин палиндромов\"\"\"\n",
    "    char = '#'\n",
    "    if not s:\n",
    "        return char+'<'\n",
    "    return '>' + char + char.join(s) + char + '<'\n",
    "\n",
    "def count_subpalindromes(s):\n",
    "    \"\"\"Считает количество подпалиндров в строке\"\"\"\n",
    "    modified_s = modify_string(s)\n",
    "    n = len(modified_s)\n",
    "    dp = [0] * n\n",
    "    center, radius = 0, 0\n",
    "\n",
    "    for i in range(1, n - 1):\n",
    "        mirror = 2 * center - i\n",
    "        if i < radius:\n",
    "            dp[i] = min(radius - i, dp[mirror])\n",
    "\n",
    "        # Попытка расширить палиндром вокруг i\n",
    "        while modified_s[i + 1 + dp[i]] == modified_s[i - 1 - dp[i]]:\n",
    "            dp[i] += 1\n",
    "\n",
    "        # Обновление центра и радиуса, если нашли больший палиндром\n",
    "        if i + dp[i] > radius:\n",
    "            center, radius = i, i + dp[i]\n",
    "\n",
    "    # Подсчет палиндромов\n",
    "    total = 0\n",
    "    for i in range(n - 1):\n",
    "        total += dp[i] // 2\n",
    "    return total\n",
    "\n",
    "def solution1(input_file):\n",
    "    \"\"\"Основная функция, выполняющая задачу\"\"\"\n",
    "    s = read_input_file(input_file)\n",
    "    result = count_subpalindromes(s) + len(s)\n",
    "    return result\n",
    "\n",
    "# Пример вызова функции\n",
    "# print(solution1('input.txt'))"
   ]
  },
  {
   "cell_type": "code",
   "execution_count": 97,
   "metadata": {},
   "outputs": [
    {
     "name": "stdout",
     "output_type": "stream",
     "text": [
      "6\n"
     ]
    }
   ],
   "source": [
    "print(solution1(TEST_FOLDER + 'test_20_01.txt'))"
   ]
  },
  {
   "cell_type": "code",
   "execution_count": 4,
   "metadata": {},
   "outputs": [
    {
     "name": "stdout",
     "output_type": "stream",
     "text": [
      "4\n"
     ]
    }
   ],
   "source": [
    "print(solution1(TEST_FOLDER + 'test_20_02.txt'))"
   ]
  },
  {
   "cell_type": "markdown",
   "metadata": {},
   "source": [
    "### Задача 21. Андрей и кислота\n",
    "\n",
    "Ограничение времени: 2 секунды  \n",
    "Ограничение памяти: 512Mb  \n",
    "Ввод: стандартный ввод или input.txt  \n",
    "Вывод: стандартный вывод или output.txt  \n",
    "\n",
    "Андрей работает в секретной химической лаборатории, где производят опасную кислоту с удивительными свойствами. У Андрея есть $n$ бесконечно больших резервуаров, расположенных в ряд. Изначально каждый резервуар содержит некоторое количество кислоты. Начальство требует, чтобы во всех резервуарах было одинаковое количество кислоты. К сожалению, аппарат для разлива кислоты несовершенен: за одну операцию он может добавить по одному литру кислоты в каждый из первых $k$ резервуаров (1 ≤ $k$ ≤ $n$). Обратите внимание, что $k$ может быть разным для разных операций. Так как кислота очень дорогая, из резервуаров нельзя выливать кислоту. Ваша задача - определить, можно ли уравнять объемы кислоты в резервуарах, и если да, то какое минимальное количество операций для этого потребуется.\n",
    "\n",
    "**Формат ввода:**  \n",
    "В первой строке входных данных содержится число $n$ (1 ≤ $n$ ≤ 100000) — количество резервуаров. Во второй строке находятся n целых чисел $a_i$ (1 ≤ $a_i$ ≤ $10^9$), где $a_i$ обозначает начальный объем кислоты в i-м резервуаре в литрах.\n",
    "\n",
    "**Формат вывода:**  \n",
    "Если возможно уравнять объемы кислоты в резервуарах, выведите минимальное количество операций, необходимых для этого. Если это невозможно, выведите «-1».\n",
    "\n",
    "**Пример 1:**  \n",
    "Ввод | Вывод  \n",
    "-----|------\n",
    "2<br>1 2 | 1\n",
    "\n",
    "**Пример 2:**  \n",
    "Ввод | Вывод  \n",
    "-----|------\n",
    "5<br>1 1 5 5 5 | 4\n",
    "\n",
    "**Пример 3:**  \n",
    "Ввод | Вывод  \n",
    "-----|------\n",
    "3<br>3 2 1 | -1\n",
    "\n",
    "**Примечания:**  \n",
    "В первом примере достаточно одной операции с $k$, равным 1. Тогда в обоих резервуарах окажется по 2 литра.  \n",
    "Во втором примере достаточно четырех операций с $k$, равным 2. Тогда во всех резервуарах окажется по 5 литров.  \n",
    "В третьем примере объемы уравнять невозможно.  \n",
    "\n",
    "***Первая задача c вводной лекции [Как и зачем изучать алгоритмы](https://www.youtube.com/live/o3IXpX8wxjQ?si=GlFOw_tg9qZcGOK9&t=4855) перед тренировками Яндекса по алгоритмам 3.0 от 9 февраля 2023  \n",
    "К сожалению после лекции доступ к этому контексту был закрыт, поэтому я оставлю тут ссылку на эту задачу из контекста зимней школы зима 2022 при отборе на backend ([A. Андрей и кислота](https://contest.yandex.ru/contest/28412/problems/A/))***\n"
   ]
  },
  {
   "cell_type": "code",
   "execution_count": 11,
   "metadata": {},
   "outputs": [],
   "source": [
    "def read_input_file(input_file):\n",
    "    \"\"\"Читает входные данные из файла\"\"\"\n",
    "    with open(input_file, 'r') as file:\n",
    "        lines = file.readlines()\n",
    "        n = int(lines[0])\n",
    "        nums = list(map(int, lines[1].split()))\n",
    "    return n, nums\n",
    "\n",
    "def check_increasing_sequence(n, nums):\n",
    "    \"\"\"Проверяет, возрастает ли последовательность, и вычисляет разницу между последним и первым элементом\"\"\"\n",
    "    for i in range(n - 1):\n",
    "        if nums[i] > nums[i + 1]:\n",
    "            return -1\n",
    "    return nums[-1] - nums[0]\n",
    "\n",
    "def solution(input_file):\n",
    "    \"\"\"Основная функция, выполняющая задачу\"\"\"\n",
    "    n, nums = read_input_file(input_file)\n",
    "    result = check_increasing_sequence(n, nums)\n",
    "    return result\n",
    "\n",
    "# Пример вызова функции\n",
    "# print(solution('input.txt'))\n"
   ]
  },
  {
   "cell_type": "code",
   "execution_count": 12,
   "metadata": {},
   "outputs": [
    {
     "data": {
      "text/plain": [
       "1"
      ]
     },
     "execution_count": 12,
     "metadata": {},
     "output_type": "execute_result"
    }
   ],
   "source": [
    "print(solution(TEST_FOLDER + 'test_21_01.txt'))"
   ]
  },
  {
   "cell_type": "code",
   "execution_count": 13,
   "metadata": {},
   "outputs": [
    {
     "data": {
      "text/plain": [
       "4"
      ]
     },
     "execution_count": 13,
     "metadata": {},
     "output_type": "execute_result"
    }
   ],
   "source": [
    "print(solution(TEST_FOLDER + 'test_21_02.txt'))"
   ]
  },
  {
   "cell_type": "code",
   "execution_count": 14,
   "metadata": {},
   "outputs": [
    {
     "data": {
      "text/plain": [
       "-1"
      ]
     },
     "execution_count": 14,
     "metadata": {},
     "output_type": "execute_result"
    }
   ],
   "source": [
    "print(solution(TEST_FOLDER + 'test_21_03.txt'))"
   ]
  },
  {
   "cell_type": "markdown",
   "metadata": {},
   "source": [
    "### Задача 22. Через тернии к клиенту\n",
    "\n",
    "Ограничение времени: 5 секунд  \n",
    "Ограничение памяти: 512Mb  \n",
    "Ввод: стандартный ввод или input.txt  \n",
    "Вывод: стандартный вывод или output.txt  \n",
    "\n",
    "Известная компания \"Тындекс\" идёт в ногу со временем — с началом активных космических перелётов в компании открылся сервис \"Тындекс.Ракетакси\". Пользователю необходимо лишь указать координаты начала и конца перелёта, после чего за ним вылетит персональная ракета. По сути любой заказ можно описать в виде событий четырёх типов:\n",
    "\n",
    "- **A** (accepted) - заказ принят в работу (ракета вылетела за клиентом);  \n",
    "- **B** (boarding) - клиент сел в ракету;  \n",
    "- **S** (success) - заказ успешно завершён (клиент вышел на планете назначения);  \n",
    "- **C** (cancelled) - заказ отменён.\n",
    "\n",
    "Все происходящие с ракетами события отправляются на сервера, где сразу логируются. Из-за проблем со связью (метеоритные потоки, вспышки на звездах и т.д.) отправка событий иногда затягивается, и записи в логе могут идти не по порядку.\n",
    "\n",
    "Гарантируется, что все описанные в логе события задают один из следующих сценариев:\n",
    "- **A** - **B** - **S**  \n",
    "- **A** - **B** - **C**  \n",
    "- **A** - **C**  \n",
    "\n",
    "Ваша задача — как главному аналитику (и по совместительству главному программисту) ракетопарка, исследовать лог за прошедший год и определить для каждой ракеты суммарное время движения (в минутах) в течение заказов.\n",
    "\n",
    "В каждый момент времени ракета:\n",
    "- либо стоит на месте в ожидании заказа,\n",
    "- либо перемещается по космосу, выполняя заказ.\n",
    "\n",
    "Движение начинается после принятия заказа и завершается после его отмены или завершения. За одну минуту не может произойти несколько событий, связанных с одной и той же ракетой.\n",
    "\n",
    "**Формат ввода:**  \n",
    "В первой строке дано целое число $N$ (2 ≤ $N$ ≤ 200,000) — количество записей в логе.  \n",
    "Следующие $N$ строк содержат записи в логе в формате *day hour minute id status*:\n",
    "\n",
    "- *day* (1 ≤ $d$ ≤ 365) — номер дня (сквозная нумерация с начала календарного года);\n",
    "- *hour* (0 ≤ $h$ < 24) — часы;\n",
    "- *minute* (0 ≤ $m$ < 60) — минуты;\n",
    "- *id* (0 ≤ $id$ ≤ $10^9$) — уникальный идентификатор ракеты;\n",
    "- *status* ∈ {**A**,**B**,**S**,**C**} — буква, обозначающая тип события.\n",
    "\n",
    "**Формат вывода:**  \n",
    "В единственной строке выведите через пробел суммарное время движения на заказах для каждой упомянутой в логе ракеты.  \n",
    "Данные необходимо выводить в порядке возрастания идентификаторов ракет.\n",
    "\n",
    "**Пример:**\n",
    "\n",
    "**Пример:**\n",
    "\n",
    "| Ввод                            | Вывод    |\n",
    "|---------------------------------|----------|\n",
    "| 8<br>50 7 25 3632 A<br>14 23 52 212372 S<br>15 0 5 3632 C<br>14 21 30 212372 A<br>50 7 26 3632 C<br>14 21 30 3632 A<br>14 21 40 212372 B<br>14 23 52 3632 B| 156 142  |\n",
    "\n",
    "\n",
    "**Примечания:**  \n",
    "*Ракета №3632:*\n",
    "- в 14-й день года в 21:30 получила заказ (шестая запись в логе);\n",
    "- забрала пассажира в 23:52 того же дня (восьмая запись в логе);\n",
    "- заказ был отменён в 15-й день года в 00:05 (третья запись в логе);\n",
    "- в 50-й день года в 7:25 получила заказ (первая запись в логе);\n",
    "- заказ был отменён через минуту (четвёртая запись в логе).\n",
    "\n",
    "Таким образом, ракета №3632 провела в движении с 14-го дня 21:30 до 15-го дня 00:05 и с 50-го дня 7:25 до 50-го дня 7:26 — всего **156** минут.\n",
    "\n",
    "*Ракета №212372:*\n",
    "- в 14-й день года в 21:30 получила заказ (третья запись в логе);\n",
    "- через 10 минут забрала пассажира (седьмая запись в логе);\n",
    "- в 23:52 прибыла на место назначения (вторая запись в логе).\n",
    "\n",
    "Всего ракета №212372 провела в движении с 14-го дня 21:30 до 14-го дня 23:52 — **142** минуты.\n",
    "\n",
    "***Вторая задача c вводной лекции [Как и зачем изучать алгоритмы](https://www.youtube.com/live/o3IXpX8wxjQ?si=GlFOw_tg9qZcGOK9&t=4855) перед тренировками Яндекса по алгоритмам 3.0 от 9 февраля 2023  \n",
    "К сожалению после лекции доступ к этому контексту был закрыт, поэтому я не смог проверить ее на контексте. Если вы знаете ссылку на контекст для этой задачи, с удовольствием добавлю сюда ссылку***\n"
   ]
  },
  {
   "cell_type": "code",
   "execution_count": 4,
   "metadata": {},
   "outputs": [],
   "source": [
    "def read_input_file(input_file):\n",
    "    \"\"\"Читает входные данные из файла\"\"\"\n",
    "    with open(input_file, 'r') as file:\n",
    "        lines = file.readlines()\n",
    "    return lines[1:]  # Возвращаем все строки кроме первой, так как в ней указано количество записей.\n",
    "\n",
    "\n",
    "def calculate_event_time(events):\n",
    "    \"\"\"Вычисляет суммарное время движения для каждой ракеты\"\"\"\n",
    "    event_time_by_rocket_id = {}\n",
    "    for event in events:\n",
    "        parts = event.split()\n",
    "\n",
    "        status = parts[4]\n",
    "        if status == 'B':  # Пропускаем событие 'B'\n",
    "            continue\n",
    "\n",
    "        vector = -1 if status == 'A' else 1\n",
    "\n",
    "        day, hour, minute, rocket_id = map(int, parts[:4])\n",
    "        minute = (day * 24 + hour) * 60 + minute\n",
    "\n",
    "        event_time_by_rocket_id[rocket_id] = event_time_by_rocket_id.get(rocket_id, 0) + vector * minute\n",
    "\n",
    "    return event_time_by_rocket_id\n",
    "\n",
    "\n",
    "def solution(input_file):\n",
    "    \"\"\"Основная функция, выполняющая задачу\"\"\"\n",
    "    events = read_input_file(input_file)\n",
    "    event_time_by_rocket_id = calculate_event_time(events)\n",
    "    # Сортируем результаты по идентификаторам ракет\n",
    "    for id_rocket in sorted(event_time_by_rocket_id):\n",
    "        print(event_time_by_rocket_id[id_rocket], end=' ')\n",
    "\n",
    "# Пример вызова функции\n",
    "# solution('input.txt')\n"
   ]
  },
  {
   "cell_type": "code",
   "execution_count": 5,
   "metadata": {},
   "outputs": [
    {
     "name": "stdout",
     "output_type": "stream",
     "text": [
      "156 142 "
     ]
    }
   ],
   "source": [
    "solution(TEST_FOLDER + 'test_22_01.txt')"
   ]
  },
  {
   "cell_type": "markdown",
   "metadata": {},
   "source": [
    "**Примечание к решению:** я не стал делать сортировку событий внутри функции, чтобы они шли последовательно, чтобы, например, не было переполнения. Python должен справиться с задачей, даже если первые 100000 событий имеют статус \"A\" и соответствующие им временные отметки высоки. Переполнения стека при этом не произойдет, поскольку операции проводятся с использованием стандартных библиотек Python, которые оптимизированы для работы с большими числами.  \n",
    "А дополнительная сортировка в функции уведичивает сложность до Nlog(N), вместо текущей N."
   ]
  },
  {
   "cell_type": "code",
   "execution_count": 7,
   "metadata": {},
   "outputs": [
    {
     "data": {
      "text/plain": [
       "{1: 52703900000}"
      ]
     },
     "execution_count": 7,
     "metadata": {},
     "output_type": "execute_result"
    }
   ],
   "source": [
    "# Генерируем события для теста\n",
    "events = []\n",
    "for i in range(100000):\n",
    "    # Задаем большое время для завершения поездок, чтобы проверить переполнение стека для одной ракеты\n",
    "    events.append(f\"365 23 59 1 C\")  # Максимальное время со статусом 'C'\n",
    "\n",
    "# Проверяем, что получится в словаре после обработки всех событий\n",
    "events_by_rocket_id = calculate_event_time(events)\n",
    "\n",
    "# Выводим полученное время для суммы завершения поездки для ракеты 1\n",
    "events_by_rocket_id"
   ]
  },
  {
   "cell_type": "markdown",
   "metadata": {},
   "source": [
    "### Задача 23. Гистограмма\n",
    "\n",
    "Ограничение времени: 1 секунда  \n",
    "Ограничение памяти: 64Mb  \n",
    "Ввод: стандартный ввод или input.txt  \n",
    "Вывод: стандартный вывод или output.txt  \n",
    "\n",
    "Вовочка ломает систему безопасности Пентагона. Для этого ему понадобилось узнать, какие символы в секретных зашифрованных посланиях употребляются чаще других. Для удобства изучения Вовочка хочет получить графическое представление встречаемости символов. Поэтому он хочет построить гистограмму количества символов в сообщении. Гистограмма — это график, в котором каждому символу, встречающемуся в сообщении хотя бы один раз, соответствует столбик, высота которого пропорциональна количеству этих символов в сообщении.\n",
    "\n",
    "**Формат ввода:**  \n",
    "Входной файл содержит зашифрованный текст сообщения. Он содержит строчные и прописные латинские буквы, цифры, знаки препинания («.», «!», «?», «:», «-», «,», «;», «(», «)»), пробелы и переводы строк. Размер входного файла не превышает 10000 байт. Текст содержит хотя бы один непробельный символ. Все строки входного файла не длиннее 200 символов. Для каждого символа $c$ кроме пробелов и переводов строк выведите столбик из символов «#», количество которых должно быть равно количеству символов $c$ в данном тексте. Под каждым столбиком напишите символ, соответствующий ему. Отформатируйте гистограмму так, чтобы нижние концы столбиков были на одной строке, первая строка и первый столбец были непустыми. Не отделяйте столбики друг от друга. Отсортируйте столбики в порядке увеличения кодов символов.\n",
    "\n",
    "**Формат вывода:**  \n",
    "Для каждого символа $c$ кроме пробелов и переводов строк выведите столбик из символов «#», количество которых должно быть равно количеству символов $c$ в данном тексте. Под каждым столбиком напишите символ, соответствующий ему. Отформатируйте гистограмму так, чтобы нижние концы столбиков были на одной строке, первая строка и первый столбец были непустыми. Не отделяйте столбики друг от друга. Отсортируйте столбики в порядке увеличения кодов символов.\n",
    "\n",
    "**Пример 1:**  \n",
    "\n",
    "| Ввод          | Вывод          |\n",
    "|---------------|----------------|\n",
    "| Hello, world! | <pre>     #   <br>     ##  <br>#########<br>!,Hdelorw</pre> |\n",
    "\n",
    "**Пример 2:**  \n",
    "\n",
    "| Ввод          | Вывод          |\n",
    "|---------------|----------------|\n",
    "| Twas brillig, and the slithy toves<br>Did gyre and gimble in the wabe;<br>All mimsy were the borogoves,<br>And the mome raths outgrabe. | <pre>         #              <br>         #              <br>         #              <br>         #              <br>         #              <br>         #              <br>         #         #    <br>         #  #      #    <br>      #  # ###  ####    <br>      ## ###### ####    <br>      ##############    <br>      ##############  ##<br>#  #  ############## ###<br>########################<br>,.;ADTabdeghilmnorstuvwy</pre> |\n",
    "\n",
    "***задача c тренировок Яндекса по алгоритмам 3.0 ([1. Гистограмма](https://contest.yandex.ru/contest/45468/problems/1/))***\n"
   ]
  },
  {
   "cell_type": "markdown",
   "metadata": {},
   "source": [
    "Решение для контекста без встроенных функций\n"
   ]
  },
  {
   "cell_type": "code",
   "execution_count": 44,
   "metadata": {},
   "outputs": [],
   "source": [
    "def read_input_file(input_file):\n",
    "    \"\"\"Функция для чтения содержимого входного файла\"\"\"\n",
    "    with open(input_file, 'r') as file:\n",
    "        content = file.read()\n",
    "    return content\n",
    "\n",
    "def calculate_character_counts(text):\n",
    "    \"\"\"\n",
    "    Функция подсчитывает частоты символов в тексте, исключая пробелы и переводы строк.\n",
    "    Возвращает словарь частот и максимальное значение частоты.\n",
    "    \"\"\"\n",
    "    counter_ = {}\n",
    "    max_count = 0\n",
    "    for char in text:\n",
    "        if char != \" \" and char != \"\\n\":\n",
    "            counter_[char] = counter_.get(char, 0) + 1\n",
    "            max_count = max(max_count, counter_[char])\n",
    "    return counter_, max_count\n",
    "\n",
    "def create_histogram(content):\n",
    "    \"\"\"Функция для создания и печати гистограммы частоты символов\"\"\"\n",
    "    counter, max_count = calculate_character_counts(sorted(content))\n",
    "\n",
    "    # Генерируем и печатаем строки гистограммы от максимального к минимальному количеству вхождений\n",
    "    for i in range(max_count, 0, -1):\n",
    "        line = ''\n",
    "        for char, count in counter.items():\n",
    "            line += '#' if count >= i else ' '\n",
    "        print(line)\n",
    "    # Добавляем строку с символами в порядке увеличения их кодов\n",
    "    print(''.join(counter.keys()))\n",
    "\n",
    "# Пример использования:\n",
    "def solution(input_path):\n",
    "    \"\"\"Основная функция, выполняющая задачу\"\"\"\n",
    "    content = read_input_file(input_path)\n",
    "    create_histogram(content)\n",
    "\n",
    "# Пример вызова функции\n",
    "# solution('input.txt')"
   ]
  },
  {
   "cell_type": "code",
   "execution_count": 45,
   "metadata": {},
   "outputs": [
    {
     "name": "stdout",
     "output_type": "stream",
     "text": [
      "     #   \n",
      "     ##  \n",
      "#########\n",
      "!,Hdelorw\n"
     ]
    }
   ],
   "source": [
    "solution(TEST_FOLDER + 'test_23_01.txt')"
   ]
  },
  {
   "cell_type": "code",
   "execution_count": 46,
   "metadata": {},
   "outputs": [
    {
     "name": "stdout",
     "output_type": "stream",
     "text": [
      "         #              \n",
      "         #              \n",
      "         #              \n",
      "         #              \n",
      "         #              \n",
      "         #         #    \n",
      "         #  #      #    \n",
      "      #  # ###  ####    \n",
      "      ## ###### ####    \n",
      "      ##############    \n",
      "      ##############  ##\n",
      "#  #  ############## ###\n",
      "########################\n",
      ",.;ADTabdeghilmnorstuvwy\n"
     ]
    }
   ],
   "source": [
    "solution(TEST_FOLDER + 'test_23_02.txt')"
   ]
  },
  {
   "cell_type": "markdown",
   "metadata": {},
   "source": [
    "### Задача 24. Красивая строка\n",
    "\n",
    "Ограничение времени: 1 секунда  \n",
    "Ограничение памяти: 64Mb  \n",
    "Ввод: стандартный ввод или input.txt  \n",
    "Вывод: стандартный вывод или output.txt  \n",
    "\n",
    "Красотой строки назовем максимальное число идущих подряд одинаковых букв. (красота строки `abcaabdddettq` равна 3)\n",
    "\n",
    "Сделайте данную вам строку как можно более красивой, если вы можете сделать не более $k$ операций замены символа.\n",
    "\n",
    "**Формат ввода:**  \n",
    "В первой строке записано одно целое число $k$ (0 ≤ $k$ ≤ 10^9)\n",
    "\n",
    "Во второй строке дана непустая строчка $S$ ($|S|$ ≤ 2 ⋅ 10^5). Строчка $S$ состоит только из маленьких латинских букв.\n",
    "\n",
    "**Формат вывода:**  \n",
    "Выведите одно число — максимально возможную красоту строчки, которую можно получить.\n",
    "\n",
    "**Пример 1:**  \n",
    "Ввод | Вывод  \n",
    "-----|------\n",
    "2<br>abcaz | 4\n",
    "\n",
    "**Пример 2:**  \n",
    "Ввод | Вывод  \n",
    "-----|------\n",
    "2<br>helto | 3\n",
    "\n",
    "***задача c тренировок Яндекса по алгоритмам 3.0 ([2. Красивая строка](https://contest.yandex.ru/contest/45468/problems/2/))***"
   ]
  },
  {
   "cell_type": "code",
   "execution_count": 38,
   "metadata": {},
   "outputs": [],
   "source": [
    "def read_input_file(input_file):\n",
    "    \"\"\"Читает входные данные из файла и возвращает k и строку S.\"\"\"\n",
    "    with open(input_file, 'r') as file:\n",
    "        k = int(file.readline().strip())\n",
    "        s = file.readline().strip()\n",
    "    return k, s\n",
    "\n",
    "def index_char(char):\n",
    "    return ord(char) - ord('a')\n",
    "\n",
    "def calculate_max_beauty(k, s):\n",
    "    \"\"\"Вычисляет максимально возможную красоту строки после k операций замены.\"\"\"\n",
    "    w = [0] * 26  # Инициализация списка для подсчета частот букв\n",
    "    max_freq = 0\n",
    "    p = 0\n",
    "    for i, char in enumerate(s):\n",
    "        char_index = index_char(char)\n",
    "\n",
    "        w[char_index] += 1\n",
    "        max_freq = max(max_freq, w[char_index])\n",
    "\n",
    "        if max_freq + k - 1 < i - p:\n",
    "            w[index_char(char)] -= 1\n",
    "            p += 1\n",
    "    return len(s) - p\n",
    "\n",
    "def solution(input_file):\n",
    "    \"\"\"Основная функция, выполняющая задачу.\"\"\"\n",
    "    k, s = read_input_file(input_file)\n",
    "    return calculate_max_beauty(k, s)\n",
    "\n",
    "# # Пример вызова функции\n",
    "# print(solution('input.txt'))"
   ]
  },
  {
   "cell_type": "code",
   "execution_count": 39,
   "metadata": {},
   "outputs": [
    {
     "name": "stdout",
     "output_type": "stream",
     "text": [
      "4\n"
     ]
    }
   ],
   "source": [
    "print(solution(TEST_FOLDER + 'test_24_01.txt'))"
   ]
  },
  {
   "cell_type": "code",
   "execution_count": 40,
   "metadata": {},
   "outputs": [
    {
     "name": "stdout",
     "output_type": "stream",
     "text": [
      "3\n"
     ]
    }
   ],
   "source": [
    "print(solution(TEST_FOLDER + 'test_24_02.txt'))"
   ]
  },
  {
   "cell_type": "markdown",
   "metadata": {},
   "source": [
    "### Задача 25. Коллекционер Диего\n",
    "\n",
    "Ограничение времени: 2 секунды  \n",
    "Ограничение памяти: 256Mb  \n",
    "Ввод: стандартный ввод или input.txt  \n",
    "Вывод: стандартный вывод или output.txt  \n",
    "\n",
    "Диего увлекается коллекционированием наклеек. На каждой из них написано число, и каждый коллекционер мечтает собрать наклейки со всеми встречающимися числами.\n",
    "\n",
    "Диего собрал $N$ наклеек, некоторые из которых, возможно, совпадают. Как-то раз к нему пришли $K$ коллекционеров. $i$-й из них собрал все наклейки с номерами не меньшими, чем $p_i$. Напишите программу, которая поможет каждому из коллекционеров определить, сколько недостающих ему наклеек есть у Диего. Разумеется, гостей Диего не интересуют повторные экземпляры наклеек.\n",
    "\n",
    "**Формат ввода:**  \n",
    "В первой строке содержится единственное число $N$ (0 ≤ $N$ ≤ 100 000) — количество наклеек у Диего.\n",
    "\n",
    "В следующей строке содержатся $N$ целых неотрицательных чисел (не обязательно различных) — номера наклеек Диего. Все номера наклеек не превосходят $10^9$.\n",
    "\n",
    "В следующей строке содержится число $K$ (0 ≤ $K$ ≤ 100 000) — количество коллекционеров, пришедших к Диего. В следующей строке содержатся $K$ целых чисел $p_i$ (0 ≤ $p_i$ ≤ $10^9$), где $p_i$ — наименьший номер наклейки, не интересующий $i$-го коллекционера.\n",
    "\n",
    "**Формат вывода:**  \n",
    "Для каждого коллекционера в отдельной строке выведите количество различных чисел на наклейках, которые есть у Диего, но нет у этого коллекционера.\n",
    "\n",
    "**Пример 1:**  \n",
    "Ввод | Вывод  \n",
    "-----|------\n",
    "1<br>5<br>2<br>4 6 | 0<br>1\n",
    "\n",
    "**Пример 2:**  \n",
    "Ввод | Вывод  \n",
    "-----|------\n",
    "3<br>100 1 50<br>3<br>300 0 75 | 3<br>0<br>2\n",
    "\n",
    "***задача c тренировок Яндекса по алгоритмам 3.0 ([3. Коллекционер Диего](https://contest.yandex.ru/contest/45468/problems/3/))***\n"
   ]
  },
  {
   "cell_type": "code",
   "execution_count": 74,
   "metadata": {},
   "outputs": [],
   "source": [
    "def read_input_file(input_file):\n",
    "    \"\"\"Читает входные данные из файла\"\"\"\n",
    "    with open(input_file, 'r') as file:\n",
    "        n = int(file.readline())\n",
    "        diego_stickers = list(map(int, file.readline().split()))\n",
    "        k = int(file.readline())\n",
    "        min_collectors_stickers = list(map(int, file.readline().split()))\n",
    "    return n, diego_stickers, k, min_collectors_stickers\n",
    "\n",
    "def find_missing_stickers(diego_stickers, min_collectors_stickers):\n",
    "    \"\"\"Определяет количество недостающих наклеек для каждого коллекционера\"\"\"\n",
    "    diego_card_set = sorted(set(diego_stickers))\n",
    "    missing_stickers_counts = []\n",
    "\n",
    "    def check(m, param):\n",
    "        return diego_card_set[m] >= param\n",
    "\n",
    "    def lbinsearch(l, r, check, param):\n",
    "        while l < r:\n",
    "            m = (l + r) // 2\n",
    "            if check(m, param):\n",
    "                r = m\n",
    "            else:\n",
    "                l = m + 1\n",
    "        return l\n",
    "\n",
    "    for min_sticker_value in min_collectors_stickers:\n",
    "        # Используем левый бинарный поиск для определения количества наклеек меньше max_value\n",
    "        left_index = lbinsearch(0, len(diego_card_set), check, min_sticker_value)\n",
    "        missing_stickers_counts.append(str(left_index))\n",
    "\n",
    "    return missing_stickers_counts\n",
    "\n",
    "def solution(input_file):\n",
    "    \"\"\"Основная функция, выполняющая задачу\"\"\"\n",
    "    n, diego_stickers, k, min_collectors_stickers = read_input_file(input_file)\n",
    "    if n == 0:\n",
    "        print('\\n'.join(['0'] * k))\n",
    "    elif k != 0:\n",
    "        missing_counts = find_missing_stickers(diego_stickers, min_collectors_stickers)\n",
    "        print('\\n'.join(missing_counts))\n",
    "\n",
    "# Пример использования:\n",
    "# solution('input.txt')\n"
   ]
  },
  {
   "cell_type": "code",
   "execution_count": 75,
   "metadata": {},
   "outputs": [
    {
     "name": "stdout",
     "output_type": "stream",
     "text": [
      "0\n",
      "1\n"
     ]
    }
   ],
   "source": [
    "solution(TEST_FOLDER + 'test_25_01.txt')"
   ]
  },
  {
   "cell_type": "code",
   "execution_count": 76,
   "metadata": {},
   "outputs": [
    {
     "name": "stdout",
     "output_type": "stream",
     "text": [
      "3\n",
      "0\n",
      "2\n"
     ]
    }
   ],
   "source": [
    "solution(TEST_FOLDER + 'test_25_02.txt')"
   ]
  },
  {
   "cell_type": "code",
   "execution_count": 77,
   "metadata": {},
   "outputs": [
    {
     "name": "stdout",
     "output_type": "stream",
     "text": [
      "------------------Содержание теста: ./tests/test_25_03.txt-----------------\n",
      "3\n",
      "100 100 100\n",
      "3\n",
      "99 100 101\n",
      "-----------------------------Конец файла теста-----------------------------\n",
      "0\n",
      "0\n",
      "1\n"
     ]
    }
   ],
   "source": [
    "# я создал дополнительный тест чтобы проверить алгоритм на границе равенства карточек у Диего и коллекционера\n",
    "read_test(TEST_FOLDER + 'test_25_03.txt')\n",
    "solution(TEST_FOLDER + 'test_25_03.txt')"
   ]
  },
  {
   "cell_type": "code",
   "execution_count": 78,
   "metadata": {},
   "outputs": [
    {
     "name": "stdout",
     "output_type": "stream",
     "text": [
      "------------------Содержание теста: ./tests/test_25_04.txt-----------------\n",
      "0\n",
      "\n",
      "3\n",
      "0 0 0\n",
      "-----------------------------Конец файла теста-----------------------------\n",
      "0\n",
      "0\n",
      "0\n"
     ]
    }
   ],
   "source": [
    "# я создал дополнительный тест чтобы проверить вывод при нулевых значениях N и K\n",
    "read_test(TEST_FOLDER + 'test_25_04.txt')\n",
    "solution(TEST_FOLDER + 'test_25_04.txt')"
   ]
  },
  {
   "cell_type": "markdown",
   "metadata": {},
   "source": [
    "### Задача 26. Контрольная работа\n",
    "\n",
    "Ограничение времени: 1 секунда  \n",
    "Ограничение памяти: 64Mb  \n",
    "Ввод: стандартный ввод или input.txt  \n",
    "Вывод: стандартный вывод или output.txt  \n",
    "\n",
    "Петя и Вася — одноклассники и лучшие друзья, поэтому они во всём помогают друг другу. Завтра у них контрольная по математике, и учитель подготовил целых $K$ вариантов заданий.\n",
    "\n",
    "В классе стоит один ряд парт, за каждой из них (кроме, возможно, последней) на контрольной будут сидеть ровно два ученика. Ученики знают, что варианты будут раздаваться строго по порядку: правый относительно учителя ученик первой парты получит вариант 1, левый — вариант 2, правый ученик второй парты получит вариант 3 (если число вариантов больше двух) и т.д. Так как $K$ может быть меньше чем число учеников $N$, то после варианта $K$ снова выдаётся вариант 1. На последней парте в случае нечётного числа учеников используется только место 1.\n",
    "\n",
    "Петя самым первым вошёл в класс и сел на своё любимое место. Вася вошёл следом и хочет получить такой же вариант, что и Петя, при этом сидя к нему как можно ближе. То есть между ними должно оказаться как можно меньше парт, а при наличии двух таких мест с равным расстоянием от Пети Вася сядет позади Пети, а не перед ним. Напишите программу, которая подскажет Васе, какой ряд и какое место (справа или слева от учителя) ему следует выбрать. Если же один и тот же вариант Вася с Петей писать не смогут, то выдайте одно число  - 1.\n",
    "\n",
    "**Формат ввода:**  \n",
    "В первой строке входных данных находится количество учеников в классе $2 ≤ N ≤ 10^9$. Во второй строке — количество подготовленных для контрольной вариантов заданий $2 ≤ K ≤ N$. В третьей строке — номер ряда, на который уже сел Петя, в четвёртой — цифра 1, если он сел на правое место, и 2, если на левое.\n",
    "\n",
    "**Формат вывода:**  \n",
    "Если Вася никак не сможет писать тот же вариант, что и Петя, то выведите  - 1. Если решение существует, то выведите два числа — номер ряда, на который следует сесть Васе, и 1, если ему надо сесть на правое место, или 2, если на левое. Разрешается использовать только первые $N$ мест в порядке раздачи вариантов.\n",
    "\n",
    "**Пример 1:**  \n",
    "Ввод | Вывод  \n",
    "-----|------\n",
    "25<br>2<br>1<br>2 | 2 2\n",
    "\n",
    "**Пример 2:**  \n",
    "Ввод | Вывод  \n",
    "-----|------\n",
    "25<br>13<br>7<br>1 | -1\n",
    "\n",
    "**Примечания:**  \n",
    "В первом примере вариантов 2, поэтому наилучшее место для Васи находится сразу за Петей. Во втором примере Петя будет единственным, кто получит вариант 13.\n"
   ]
  },
  {
   "cell_type": "code",
   "execution_count": 138,
   "metadata": {},
   "outputs": [],
   "source": [
    "def read_input_file(input_file):\n",
    "    \"\"\"Читает входные данные из файла\"\"\"\n",
    "    with open(input_file, 'r') as file:\n",
    "        n = int(file.readline())\n",
    "        k = int(file.readline())\n",
    "        row = int(file.readline())\n",
    "        place = int(file.readline())\n",
    "    return n, k, row, place\n",
    "\n",
    "def find_row_place(n, k, row, place):\n",
    "    \"\"\"Определяет место для Васи на основе заданных параметров.\"\"\"\n",
    "\n",
    "    def inverse_hash_function(row, place):\n",
    "        \"\"\"Возвращает позицию (порядковый номер места в классе) по номеру ряда и месту\"\"\"\n",
    "        return (row - 1) * 2 + place\n",
    "\n",
    "    def hash_function(position):\n",
    "        \"\"\"Возвращает ряд и место по позиции (порядковый номер места в классе)\"\"\"\n",
    "        row = (position - 1) // 2 + 1\n",
    "        place = 2 if position % 2 == 0 else 1\n",
    "        return row, place\n",
    "\n",
    "    position = inverse_hash_function(row, place)\n",
    "\n",
    "    options = []\n",
    "    if position - k > 0:  # если есть место впереди Пети\n",
    "        options.append(hash_function(position - k))\n",
    "    if position + k <= n:  # если есть место позади Пети\n",
    "        options.append(hash_function(position + k))\n",
    "\n",
    "    if options:\n",
    "        if len(options) > 1:\n",
    "            # Если есть несколько вариантов, выбираем ближайший к Пете\n",
    "            # если расстояния равны выбираем вариант позади Пети\n",
    "            row_before_petia = options[0][0]\n",
    "            row_after_petia = options[1][0]\n",
    "            if row - row_before_petia < row_after_petia - row:\n",
    "                return options[0]\n",
    "            else:\n",
    "                return options[1]\n",
    "        else:\n",
    "            return options[0]\n",
    "\n",
    "    return -1, -1\n",
    "\n",
    "def solution(input_file):\n",
    "    \"\"\"Основная функция, выполняющая задачу.\"\"\"\n",
    "    n, k, row, place = read_input_file(input_file)\n",
    "    result_row, result_place = find_row_place(n, k, row, place)\n",
    "    return f\"{result_row} {result_place}\" if result_row != -1 else \"-1\"\n",
    "\n",
    "# Пример использования:\n",
    "# print(solution('input.txt'))"
   ]
  },
  {
   "cell_type": "code",
   "execution_count": 139,
   "metadata": {},
   "outputs": [
    {
     "name": "stdout",
     "output_type": "stream",
     "text": [
      "2 2\n"
     ]
    }
   ],
   "source": [
    "print(solution(TEST_FOLDER + 'test_26_01.txt'))"
   ]
  },
  {
   "cell_type": "code",
   "execution_count": 140,
   "metadata": {},
   "outputs": [
    {
     "name": "stdout",
     "output_type": "stream",
     "text": [
      "-1\n"
     ]
    }
   ],
   "source": [
    "print(solution(TEST_FOLDER + 'test_26_02.txt'))"
   ]
  },
  {
   "cell_type": "markdown",
   "metadata": {},
   "source": []
  }
 ],
 "metadata": {
  "kernelspec": {
   "display_name": "Python 3",
   "language": "python",
   "name": "python3"
  },
  "language_info": {
   "codemirror_mode": {
    "name": "ipython",
    "version": 3
   },
   "file_extension": ".py",
   "mimetype": "text/x-python",
   "name": "python",
   "nbconvert_exporter": "python",
   "pygments_lexer": "ipython3",
   "version": "3.8.10"
  }
 },
 "nbformat": 4,
 "nbformat_minor": 2
}
