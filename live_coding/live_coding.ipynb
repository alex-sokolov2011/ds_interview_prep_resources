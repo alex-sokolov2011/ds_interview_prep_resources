{
 "cells": [
  {
   "cell_type": "markdown",
   "metadata": {},
   "source": [
    "# Примеры заданий по live coding c решениями с собесодований\n",
    "\n",
    "Добро пожаловать в этот Jupyter Notebook! Если вы готовитесь к собеседованиям на роль Data Scientist, этот материал может быть для вас полезным.\n",
    "\n",
    "## Что вы найдете в этом ноутбуке:\n",
    "\n",
    "1. **Реальные задачи с собеседований:** Все задачи, представленные здесь, были собраны с реальных собеседований. \n",
    "2. **Подробные решения и объяснения:** Для каждой задачи предоставлены подробные решения с объяснениями. Я делюсь своим процессом мышления и почему был выбран именно этот подход или метод.\n",
    "\n",
    "Цель этого ноутбука - помочь вам лучше подготовиться к собеседованиям с live coding, дать понимание типов задач, которые могут быть заданы, и предложить эффективные методы их решения. Независимо от того, являетесь ли вы начинающим или опытным специалистом, я надеюсь, что найдете здесь что-то полезное для себя.\n",
    "\n",
    "Удачи в подготовке и на собеседованиях!"
   ]
  },
  {
   "cell_type": "markdown",
   "metadata": {},
   "source": [
    "### Задача 1. Разработка класса аналог множества, только с генерацией случайного элемента\n",
    "\n",
    "Необходимо разработать класс `RandomizedSet`, который обладает следующими характеристиками:\n",
    "\n",
    "- Добавление элемента (`add`) и его удаление (`delete`) должны выполняться за время O(1).\n",
    "- Возможность генерации случайного элемента (`get_random`) из множества за время O(1).\n",
    "\n",
    "#### Структура класса:\n",
    "\n",
    "```python\n",
    "class RandomizedSet:\n",
    "    def __init__(self) -> None:\n",
    "        # Конструктор класса\n",
    "\n",
    "    def add(self, element: int) -> None:\n",
    "        # Метод для добавления элемента в множество\n",
    "\n",
    "    def delete(self, element: int) -> None:\n",
    "        # Метод для удаления элемента из множества\n",
    "\n",
    "    def get_random(self) -> int:\n",
    "        # Метод для получения случайного элемента из множества\n",
    "\n",
    "\n",
    "randomized_set = RandomizedSet()\n",
    "randomized_set.add(1)\n",
    "randomized_set.add(2)\n",
    "randomized_set.add(1)\n",
    "assert randomized_set.get_random() in [1, 2] # Должен вернуть 1 или 2 с равной вероятностью\n",
    "assert randomized_set.get_random() in [1, 2] # Должен вернуть 1 или 2 с равной вероятностью\n",
    "randomized_set.delete(1)\n",
    "assert randomized_set.get_random() == 2 # Должен вернуть 2, так как 1 был удален\n",
    "```\n",
    "\n",
    "***задача с собеса X5***"
   ]
  },
  {
   "cell_type": "markdown",
   "metadata": {},
   "source": [
    "**Решение задачи 1**:"
   ]
  },
  {
   "cell_type": "code",
   "execution_count": 9,
   "metadata": {},
   "outputs": [],
   "source": [
    "import random\n",
    "\n",
    "class RandomizedSet:\n",
    "    def __init__(self) -> None:\n",
    "        self.indexes = {}  # Словарь для хранения элементов и их индексов\n",
    "        self.items = []  # Список для хранения элементов\n",
    "\n",
    "    def add(self, item: int) -> None:  # O(1)\n",
    "        if item not in self.indexes:  # Проверяем, что элемента еще нет в множестве\n",
    "                                      # O(1) <= Операция проверки наличия элемента в хэш-таблице, \n",
    "                                      # каковой является словарь в Python (self.dict в данном случае), \n",
    "                                      # в среднем выполняется за время O(1)\n",
    "            self.indexes[item] = len(self.items)\n",
    "            self.items.append(item)\n",
    "\n",
    "    def delete(self, item: int) -> None:  # O(1)\n",
    "        if item in self.indexes:  # Проверяем, что элемент существует\n",
    "            index = self.indexes.pop(item)  # Удаляем элемент из словаря и получаем его индекс\n",
    "            # Заменяем удаляемый элемент последним элементом в списке\n",
    "            last_item = self.items[-1]  \n",
    "            self.items[index] = last_item\n",
    "            self.indexes[last_item] = index\n",
    "            self.items.pop()  # Удаляем последний элемент\n",
    "\n",
    "    def get_random(self) -> int:\n",
    "        return random.choice(self.items)  # Возвращаем случайный элемент из списка"
   ]
  },
  {
   "cell_type": "code",
   "execution_count": 10,
   "metadata": {},
   "outputs": [
    {
     "data": {
      "text/plain": [
       "2"
      ]
     },
     "execution_count": 10,
     "metadata": {},
     "output_type": "execute_result"
    }
   ],
   "source": [
    "randomized_set = RandomizedSet()\n",
    "randomized_set.add(1)\n",
    "randomized_set.add(2)\n",
    "randomized_set.add(1)\n",
    "randomized_set.get_random()  # Должен вернуть 1 или 2 с равной вероятностью\n",
    "\n"
   ]
  },
  {
   "cell_type": "code",
   "execution_count": 11,
   "metadata": {},
   "outputs": [
    {
     "data": {
      "text/plain": [
       "2"
      ]
     },
     "execution_count": 11,
     "metadata": {},
     "output_type": "execute_result"
    }
   ],
   "source": [
    "randomized_set.get_random()  # Должен вернуть 1 или 2 с равной вероятностью"
   ]
  },
  {
   "cell_type": "code",
   "execution_count": 12,
   "metadata": {},
   "outputs": [
    {
     "data": {
      "text/plain": [
       "2"
      ]
     },
     "execution_count": 12,
     "metadata": {},
     "output_type": "execute_result"
    }
   ],
   "source": [
    "randomized_set.delete(1)\n",
    "randomized_set.get_random()  # Должен вернуть 2, так как 1 был удален"
   ]
  },
  {
   "cell_type": "markdown",
   "metadata": {},
   "source": [
    "Возможности для ускорения кода к задаче 1:\n",
    "- в нашем случае, если большинство операций delete действительно будут проводиться над существующими элементами, использование try/except может быть оправданным. Использование блока try/except вместо проверки if может быть эффективным в сценариях, когда исключения (ошибки) случаются редко. В Python обработка исключений при отсутствии ошибок может быть даже немного быстрее, чем проверка условий, поскольку это упрощает поток управления. Однако, если исключения случаются часто, это может быть менее эффективным, поскольку обработка исключений в Python относительно медленная.\n",
    "\n",
    "Вот как это может выглядеть:\n",
    "```python\n",
    "def delete(self, item: int) -> None:  # O(1)\n",
    "    try:\n",
    "        index = self.indexes.pop(item)  # Удаляем элемент из словаря и получаем его индекс\n",
    "        last_item = self.items[-1]  \n",
    "        self.items[index] = last_item\n",
    "        self.indexes[last_item] = index\n",
    "        self.items.pop()  # Удаляем последний элемент\n",
    "    except KeyError:\n",
    "        pass  # Элемента нет в множестве, ничего не делаем\n",
    "```"
   ]
  },
  {
   "cell_type": "code",
   "execution_count": 14,
   "metadata": {},
   "outputs": [],
   "source": [
    "class RandomizedSet_try:\n",
    "    def __init__(self) -> None:\n",
    "        self.indexes = {}  # Словарь для хранения элементов и их индексов\n",
    "        self.items = []  # Список для хранения элементов\n",
    "\n",
    "    def add(self, item: int) -> None:  # O(1)\n",
    "        if item not in self.indexes:  # Проверяем, что элемента еще нет в множестве\n",
    "                                      # O(1) <= Операция проверки наличия элемента в хэш-таблице, \n",
    "                                      # каковой является словарь в Python (self.dict в данном случае), \n",
    "                                      # в среднем выполняется за время O(1)\n",
    "            self.indexes[item] = len(self.items)\n",
    "            self.items.append(item)\n",
    "\n",
    "    def delete(self, item: int) -> None:  # O(1)\n",
    "        try:\n",
    "            index = self.indexes.pop(item)  # Удаляем элемент из словаря и получаем его индекс\n",
    "            # Заменяем удаляемый элемент последним элементом в списке\n",
    "            last_item = self.items[-1]  \n",
    "            self.items[index] = last_item\n",
    "            self.indexes[last_item] = index\n",
    "            self.items.pop()  # Удаляем последний элемент\n",
    "        except KeyError:\n",
    "            pass  # Элемента нет в множестве, ничего не делаем\n",
    "\n",
    "    def get_random(self) -> int:\n",
    "        return random.choice(self.items)  # Возвращаем случайный элемент из списка"
   ]
  },
  {
   "cell_type": "code",
   "execution_count": 28,
   "metadata": {},
   "outputs": [],
   "source": [
    "test_set = RandomizedSet()\n",
    "for i in range(int(10e6)):\n",
    "    test_set.add(i)"
   ]
  },
  {
   "cell_type": "code",
   "execution_count": 25,
   "metadata": {},
   "outputs": [],
   "source": [
    "test_set_1 = RandomizedSet()\n",
    "test_set_2 = RandomizedSet_try()\n"
   ]
  },
  {
   "cell_type": "code",
   "execution_count": 31,
   "metadata": {},
   "outputs": [
    {
     "name": "stdout",
     "output_type": "stream",
     "text": [
      "1.15 s ± 37.3 ms per loop (mean ± std. dev. of 7 runs, 10 loops each)\n"
     ]
    }
   ],
   "source": [
    "%%timeit -n 10\n",
    "# Удаление элементов из test_set_1 (используется метод с проверкой if)\n",
    "test_set_1.items = test_set.items[:]\n",
    "test_set_1.indexes = dict(test_set.indexes)\n",
    "for i in range(10000):\n",
    "    test_set_1.delete(i)"
   ]
  },
  {
   "cell_type": "code",
   "execution_count": 32,
   "metadata": {},
   "outputs": [
    {
     "name": "stdout",
     "output_type": "stream",
     "text": [
      "1.27 s ± 60.3 ms per loop (mean ± std. dev. of 7 runs, 10 loops each)\n"
     ]
    }
   ],
   "source": [
    "%%timeit -n 10\n",
    "# Удаление элементов из test_set_2 (используется метод с try/except)\n",
    "test_set_2.items = test_set.items[:]\n",
    "test_set_2.indexes = dict(test_set.indexes)\n",
    "for i in range(10000):\n",
    "    test_set_2.delete(i)"
   ]
  },
  {
   "cell_type": "markdown",
   "metadata": {},
   "source": [
    "вывод: Время не сильно отличается. Казалось бы версия2 с трай не делает одну операцию сравнения и должна работать быстрее. Но нет. А давайте тогда попробуем поудалять несуществующие элементы. Кажется в этом случаем версия2 с трай должна выполняться дольше из-за обработки ошибки."
   ]
  },
  {
   "cell_type": "code",
   "execution_count": 29,
   "metadata": {},
   "outputs": [
    {
     "name": "stdout",
     "output_type": "stream",
     "text": [
      "928 ms ± 53.2 ms per loop (mean ± std. dev. of 7 runs, 10 loops each)\n"
     ]
    }
   ],
   "source": [
    "%%timeit -n 10\n",
    "# Удаление элементов из test_set_1 (используется метод с проверкой if)\n",
    "test_set_1.items = test_set.items[:]\n",
    "test_set_1.indexes = dict(test_set.indexes)\n",
    "for i in range(10000):\n",
    "    test_set_1.delete(-i)"
   ]
  },
  {
   "cell_type": "code",
   "execution_count": 30,
   "metadata": {},
   "outputs": [
    {
     "name": "stdout",
     "output_type": "stream",
     "text": [
      "847 ms ± 8.87 ms per loop (mean ± std. dev. of 7 runs, 10 loops each)\n"
     ]
    }
   ],
   "source": [
    "%%timeit -n 10\n",
    "# Удаление элементов из test_set_2 (используется метод с try/except)\n",
    "test_set_2.items = test_set.items[:]\n",
    "test_set_2.indexes = dict(test_set.indexes)\n",
    "for i in range(10000):\n",
    "    test_set_2.delete(-i)"
   ]
  },
  {
   "cell_type": "markdown",
   "metadata": {},
   "source": [
    "Опять не верно. Версия 2 работает не намного, но быстрее. Заодно прошли тему возможного вопроса, помогает ли ускорить процесс замена if на try/except"
   ]
  }
 ],
 "metadata": {
  "kernelspec": {
   "display_name": "Python 3",
   "language": "python",
   "name": "python3"
  },
  "language_info": {
   "codemirror_mode": {
    "name": "ipython",
    "version": 3
   },
   "file_extension": ".py",
   "mimetype": "text/x-python",
   "name": "python",
   "nbconvert_exporter": "python",
   "pygments_lexer": "ipython3",
   "version": "3.8.10"
  }
 },
 "nbformat": 4,
 "nbformat_minor": 2
}
