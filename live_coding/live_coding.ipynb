{
 "cells": [
  {
   "cell_type": "markdown",
   "metadata": {},
   "source": [
    "# Примеры заданий по live coding c решениями с собеседований\n",
    "\n",
    "Добро пожаловать в этот Jupyter Notebook! Если вы готовитесь к собеседованиям на роль Data Scientist, этот материал может быть для вас полезным.\n",
    "\n",
    "## Что вы найдете в этом ноутбуке:\n",
    "\n",
    "1. **Реальные задачи с собеседований:** Все задачи, представленные здесь, были собраны с реальных собеседований. \n",
    "2. **Подробные решения и объяснения:** Для каждой задачи предоставлены подробные решения с объяснениями. Я делюсь своим процессом мышления и почему был выбран именно этот подход или метод.\n",
    "\n",
    "Цель этого ноутбука - помочь вам лучше подготовиться к собеседованиям с live coding, дать понимание типов задач, которые могут быть заданы, и предложить эффективные методы их решения. Независимо от того, являетесь ли вы начинающим или опытным специалистом, я надеюсь, что найдете здесь что-то полезное для себя.\n",
    "\n",
    "Удачи в подготовке и на собеседованиях!"
   ]
  },
  {
   "cell_type": "markdown",
   "metadata": {},
   "source": [
    "### Задача 1. Разработка класса аналог множества, только с генерацией случайного элемента\n",
    "\n",
    "Необходимо разработать класс `RandomizedSet`, который обладает следующими характеристиками:\n",
    "\n",
    "- Добавление элемента (`add`) и его удаление (`delete`) должны выполняться за время O(1).\n",
    "- Возможность генерации случайного элемента (`get_random`) из множества за время O(1).\n",
    "\n",
    "#### Структура класса:\n",
    "\n",
    "```python\n",
    "class RandomizedSet:\n",
    "    def __init__(self) -> None:\n",
    "        # Конструктор класса\n",
    "\n",
    "    def add(self, element: int) -> None:\n",
    "        # Метод для добавления элемента в множество\n",
    "\n",
    "    def delete(self, element: int) -> None:\n",
    "        # Метод для удаления элемента из множества\n",
    "\n",
    "    def get_random(self) -> int:\n",
    "        # Метод для получения случайного элемента из множества\n",
    "\n",
    "\n",
    "randomized_set = RandomizedSet()\n",
    "randomized_set.add(1)\n",
    "randomized_set.add(2)\n",
    "randomized_set.add(1)\n",
    "assert randomized_set.get_random() in [1, 2] # Должен вернуть 1 или 2 с равной вероятностью\n",
    "assert randomized_set.get_random() in [1, 2] # Должен вернуть 1 или 2 с равной вероятностью\n",
    "randomized_set.delete(1)\n",
    "assert randomized_set.get_random() == 2 # Должен вернуть 2, так как 1 был удален\n",
    "```\n",
    "\n",
    "***задача с собеса X5***"
   ]
  },
  {
   "cell_type": "markdown",
   "metadata": {},
   "source": [
    "**Решение задачи 1**:"
   ]
  },
  {
   "cell_type": "code",
   "execution_count": 4,
   "metadata": {},
   "outputs": [],
   "source": [
    "import random\n",
    "\n",
    "class RandomizedSet:\n",
    "    def __init__(self) -> None:\n",
    "        self.indexes = {}  # Словарь для хранения элементов и их индексов\n",
    "        self.items = []  # Список для хранения элементов\n",
    "\n",
    "    def add(self, item: int) -> None:  # O(1)\n",
    "        if item not in self.indexes:  # Проверяем, что элемента еще нет в множестве\n",
    "                                      # O(1) <= Операция проверки наличия элемента в хэш-таблице, \n",
    "                                      # каковой является словарь в Python (self.dict в данном случае), \n",
    "                                      # в среднем выполняется за время O(1)\n",
    "            self.indexes[item] = len(self.items)\n",
    "            self.items.append(item)\n",
    "\n",
    "    def delete(self, item: int) -> None:  # O(1)\n",
    "        if item in self.indexes:  # Проверяем, что элемент существует\n",
    "            index = self.indexes.pop(item)  # Удаляем элемент из словаря и получаем его индекс\n",
    "            # Заменяем удаляемый элемент последним элементом в списке\n",
    "            last_item = self.items[-1]  \n",
    "            self.items[index] = last_item\n",
    "            self.indexes[last_item] = index\n",
    "            self.items.pop()  # Удаляем последний элемент\n",
    "\n",
    "    def get_random(self) -> int:\n",
    "        return random.choice(self.items)  # Возвращаем случайный элемент из списка"
   ]
  },
  {
   "cell_type": "code",
   "execution_count": 5,
   "metadata": {},
   "outputs": [
    {
     "data": {
      "text/plain": [
       "1"
      ]
     },
     "execution_count": 5,
     "metadata": {},
     "output_type": "execute_result"
    }
   ],
   "source": [
    "randomized_set = RandomizedSet()\n",
    "randomized_set.add(1)\n",
    "randomized_set.add(2)\n",
    "randomized_set.add(1)\n",
    "randomized_set.get_random()  # Должен вернуть 1 или 2 с равной вероятностью\n",
    "\n"
   ]
  },
  {
   "cell_type": "code",
   "execution_count": 6,
   "metadata": {},
   "outputs": [
    {
     "data": {
      "text/plain": [
       "2"
      ]
     },
     "execution_count": 6,
     "metadata": {},
     "output_type": "execute_result"
    }
   ],
   "source": [
    "randomized_set.get_random()  # Должен вернуть 1 или 2 с равной вероятностью"
   ]
  },
  {
   "cell_type": "code",
   "execution_count": 7,
   "metadata": {},
   "outputs": [
    {
     "data": {
      "text/plain": [
       "2"
      ]
     },
     "execution_count": 7,
     "metadata": {},
     "output_type": "execute_result"
    }
   ],
   "source": [
    "randomized_set.delete(1)\n",
    "randomized_set.get_random()  # Должен вернуть 2, так как 1 был удален"
   ]
  },
  {
   "cell_type": "markdown",
   "metadata": {},
   "source": [
    "### Задача 2. Разработка класса DummyModel для предсказания на основе статистической функции\n",
    "\n",
    "Необходимо доработать класс `DummyModel`, который обладает следующими характеристиками:\n",
    "\n",
    "- Инициализация модели с выбранной статистической функцией (например, медиана, среднее, максимум).\n",
    "- Метод `fit`, который получает на вход `X_train` и `y_train`\n",
    "- Метод `predict`, который по `X_test` возвращает вектор\n",
    "\n",
    "#### Структура класса:\n",
    "\n",
    "```python\n",
    "\n",
    "class DummyModel:\n",
    "    def __init__(self, function):\n",
    "        ...\n",
    "\n",
    "    def fit(self, X_train, y_train):\n",
    "        ...\n",
    "\n",
    "    def predict(self, X_test):\n",
    "        ...\n",
    "\n",
    "# Пример использования\n",
    "X_train = np.array([[1, 2], [3, 4], [5, 6], [7, 8]])\n",
    "y_train = np.array([1, 2, 3, 40])\n",
    "\n",
    "# Инициализация модели с функцией np.median\n",
    "model = DummyModel(function=np.mean)\n",
    "model.fit(X_train, y_train)\n",
    "\n",
    "# Тестовые данные\n",
    "X_test = np.array([[9, 10], [11, 12]])\n",
    "\n",
    "# Предсказание\n",
    "predictions = model.predict(X_test)\n",
    "assert np.array_equal(predictions, np.array([11.5, 11.5])) \n",
    "```\n",
    "\n",
    "***Задание с собеседования ГК Самолет (в задании это не указано, но задавая вопросы можно узнать библиотеки которые можно использовать - например numpy, также дали дополнительное задание - написать аннотацию типов)***"
   ]
  },
  {
   "cell_type": "markdown",
   "metadata": {},
   "source": [
    "**Решение задачи 2**:\n",
    "- __init__, инициализирует объект класса следующими атрибутами:\n",
    "  - self.func - функция агрегации, передаваемая при создании объекта класса. Она определяет метод агрегации (например, среднее значение, медиана, максимум и т.д.), который будет использоваться для вычисления одного предсказываемого значения на основе целевых значений (y_train) в методе fit\n",
    "  - self.value - атрибут для хранения рассчитанного агрегированного значения после вызова метода fit. Изначально он устанавливается в None, так как до вызова метода fit у нас нет рассчитанного значения\n",
    "\n",
    "\n",
    "- Метод fit: Принимает два аргумента: X_train и y_train, которые представляют собой обучающий набор признаков и целевые значения соответственно. В этом методе вы вычисляете агрегированное значение y_train с помощью предоставленной функции агрегации и сохраняете это значение в переменной экземпляра self.value\n",
    "\n",
    "- Метод predict: Принимает один аргумент: X_test, который представляет собой набор признаков, для которого вы хотите сделать предсказания. В этом методе вы создаете массив NumPy, который заполняете повторяющимися значениями self.value (рассчитанными в методе fit) в количестве, равном длине X_test. Таким образом, для каждого элемента в X_test вы предсказываете одно и то же значение, рассчитанное на основе y_train\n"
   ]
  },
  {
   "cell_type": "code",
   "execution_count": 15,
   "metadata": {},
   "outputs": [],
   "source": [
    "import numpy as np\n",
    "\n",
    "class DummyModel:\n",
    "    def __init__(self, func) -> None:\n",
    "        self.func = func\n",
    "        self.value = None\n",
    "\n",
    "    def fit(self, X_train: np.ndarray, y_train: np.ndarray) -> None:\n",
    "        self.value = self.func(y_train)\n",
    "\n",
    "    def predict(self, X_test: np.ndarray) -> np.ndarray:\n",
    "        return np.array([self.value] * len(X_test))"
   ]
  },
  {
   "cell_type": "code",
   "execution_count": 16,
   "metadata": {},
   "outputs": [
    {
     "name": "stdout",
     "output_type": "stream",
     "text": [
      "Predictions: [11.5 11.5]\n"
     ]
    }
   ],
   "source": [
    "X_train = np.array([[1, 2], [3, 4], [5, 6], [7, 8]])\n",
    "y_train = np.array([1, 2, 3, 40])\n",
    "\n",
    "# Инициализация модели с функцией np.median\n",
    "model = DummyModel(np.mean)\n",
    "model.fit(X_train, y_train)\n",
    "\n",
    "# Тестовые данные\n",
    "X_test = np.array([[9, 10], [11, 12]])\n",
    "\n",
    "predictions = model.predict(X_test) \n",
    "assert np.array_equal(predictions, np.array([11.5, 11.5])) \n",
    "\n",
    "# Вывод результатов\n",
    "print(\"Predictions:\", predictions)"
   ]
  },
  {
   "cell_type": "markdown",
   "metadata": {},
   "source": [
    "Далее последовал вопрос как можно отпимизировать код чтобы он быстрее выполнялся на больших массивов"
   ]
  },
  {
   "cell_type": "code",
   "execution_count": 17,
   "metadata": {},
   "outputs": [],
   "source": [
    "class DummyModel_optimized:\n",
    "    def __init__(self, func) -> None:\n",
    "        self.func = func\n",
    "        self.value = None\n",
    "\n",
    "    def fit(self, X_train: np.ndarray, y_train: np.ndarray) -> None:\n",
    "        self.value = self.func(y_train)\n",
    "\n",
    "    def predict(self, X_test: np.ndarray) -> np.ndarray:\n",
    "        return np.full(len(X_test), self.value)"
   ]
  },
  {
   "cell_type": "markdown",
   "metadata": {},
   "source": [
    "**Тестирование решения для задачи 2**:"
   ]
  },
  {
   "cell_type": "code",
   "execution_count": 18,
   "metadata": {},
   "outputs": [
    {
     "name": "stdout",
     "output_type": "stream",
     "text": [
      "X_train shape: (10000000, 4)\n",
      "X_test shape: (2000000, 4)\n",
      "y_train shape: (10000000,)\n",
      "y_train median: 1.0\n",
      "y_train mean: 2.9999999\n"
     ]
    }
   ],
   "source": [
    "# Задаем размеры массивов\n",
    "size = int(10e6)\n",
    "num_features = 4\n",
    "\n",
    "# Создаем X_train и X_test\n",
    "X_train = np.ones((size, num_features))  # Массив size x num_features, заполненный единицами\n",
    "X_test = np.ones((int(size * 0.2), num_features))  # 20% от X_train\n",
    "\n",
    "# Создаем y_train\n",
    "y_train = np.ones(size)  # Вектор длиной size, заполненный единицами\n",
    "\n",
    "y_train[-1] = 2*size  # Заменяем последний элемент большим значением\n",
    "\n",
    "# Проверяем размерности\n",
    "print(f\"X_train shape: {X_train.shape}\")\n",
    "print(f\"X_test shape: {X_test.shape}\")\n",
    "print(f\"y_train shape: {y_train.shape}\")\n",
    "print(f\"y_train median: {np.median(y_train)}\")\n",
    "print(f\"y_train mean: {y_train.mean()}\")"
   ]
  },
  {
   "cell_type": "code",
   "execution_count": 19,
   "metadata": {},
   "outputs": [],
   "source": [
    "model1 = DummyModel(np.mean)\n",
    "model1.fit(X_train, y_train)"
   ]
  },
  {
   "cell_type": "code",
   "execution_count": 20,
   "metadata": {},
   "outputs": [],
   "source": [
    "model2 = DummyModel_optimized(np.mean)\n",
    "model2.fit(X_train, y_train)"
   ]
  },
  {
   "cell_type": "code",
   "execution_count": 21,
   "metadata": {},
   "outputs": [
    {
     "name": "stdout",
     "output_type": "stream",
     "text": [
      "121 ms ± 5.98 ms per loop (mean ± std. dev. of 7 runs, 10 loops each)\n"
     ]
    }
   ],
   "source": [
    "%timeit -n 10  model1.predict(X_test)"
   ]
  },
  {
   "cell_type": "code",
   "execution_count": 22,
   "metadata": {},
   "outputs": [
    {
     "name": "stdout",
     "output_type": "stream",
     "text": [
      "4.42 ms ± 409 µs per loop (mean ± std. dev. of 7 runs, 100 loops each)\n"
     ]
    }
   ],
   "source": [
    "%timeit -n 100  model2.predict(X_test)"
   ]
  },
  {
   "cell_type": "markdown",
   "metadata": {},
   "source": [
    "в принципе этого следовало ожидать, нампай обычно быстрее делает процессы"
   ]
  },
  {
   "cell_type": "markdown",
   "metadata": {},
   "source": [
    "### Задача 3: Разработка декоратора `progress_fit_predict` для отслеживания времени обучения и предсказания моделей\n",
    "\n",
    "Необходимо разработать декоратор `progress_fit_predict`, который можно применить к классам моделей. Декоратор должен отслеживать время, затраченное на методы `fit` и `predict` модели, и выводить это время в консоль.\n",
    "\n",
    "#### Требования к декоратору:\n",
    "\n",
    "1. При вызове метода `fit` модели должно выводиться сообщение в формате: \"Обучение модели {название_класса} заняло: {время} секунд\".\n",
    "2. При вызове метода `predict` модели должно выводиться сообщение в формате: \"Предсказание модели {название_класса} заняло: {время} секунд\".\n",
    "3. Декоратор не должен влиять на остальные методы класса модели.\n",
    "\n",
    "#### Структура декоратора:\n",
    "\n",
    "```python\n",
    "def progress_fit_predict(...):\n",
    "    ...\n",
    "```\n",
    "#### Пример использования декоратора:\n",
    "```python\n",
    "@progress_fit_predict\n",
    "class LinearRegression:\n",
    "    ...\n",
    "\n",
    "    def fit(self, X_train: np.ndarray, y_train: np.ndarray) -> None:\n",
    "        ...\n",
    "\n",
    "    def predict(self, X_test: np.ndarray) -> np.ndarray:\n",
    "        ...\n",
    "\n",
    "# Создание экземпляра модели и тестирование\n",
    "model = LinearRegression()\n",
    "model.fit(X_train, y_train)\n",
    "predictions = model.predict(X_test)\n",
    "```\n",
    "**Вывод:**  \n",
    "Обучение модели LinearRegression заняло: 1.73 секунд  \n",
    "Предсказание модели LinearRegression заняло: 0.02 секунд\n",
    "\n",
    "***Задание с собеседования Rubbles***"
   ]
  },
  {
   "cell_type": "markdown",
   "metadata": {},
   "source": [
    "**Решение задачи 3**:\n",
    "- я ни разу до этого не писал декораторы для классов поэтому сказал про это. Меня попросили написать для функции, а потом подсказали что можно заменить def на class и название с больгой буквы и все. Оказалось что там различий нет: \n",
    "- декораторы функций: \n",
    "  - Модифицируют поведение функции, \n",
    "  - Обычно принимают функцию в качестве аргумента и возвращают новую функцию.\n",
    "  - Могут добавлять дополнительную логику до и после выполнения оригинальной функции.\n",
    "- декораторы классов:\n",
    "  - Модифицируют поведение класса.\n",
    "  - Обычно принимают класс в качестве аргумента и возвращают новый класс или экземпляр класса.\n",
    "  - Могут добавлять новые методы, изменять существующие, добавлять атрибуты или изменять процесс инициализации экземпляра.\n",
    "- super() используется для вызова методов родительского класса. Это стандартный подход в объектно-ориентированном программировании, который позволяет дочернему классу расширять или изменять функционал родительского класса."
   ]
  },
  {
   "cell_type": "code",
   "execution_count": 46,
   "metadata": {},
   "outputs": [],
   "source": [
    "import time\n",
    "import numpy as np\n",
    "\n",
    "def progress_fit_predict(cls):\n",
    "    class Wrapped(cls):\n",
    "        def fit(self, X, y):\n",
    "            start_time = time.time()\n",
    "            super().fit(X, y)\n",
    "            print(f\"Обучение модели {cls.__name__} заняло: {time.time() - start_time:.2f} секунд\")\n",
    "\n",
    "        def predict(self, X):\n",
    "            start_time = time.time()\n",
    "            predict = super().predict(X)\n",
    "            print(f\"Предсказание модели {cls.__name__} заняло: {time.time() - start_time:.2f} секунд\")\n",
    "            return predict\n",
    "\n",
    "    return Wrapped"
   ]
  },
  {
   "cell_type": "markdown",
   "metadata": {},
   "source": [
    "**Тестирование решения для задачи 3**:"
   ]
  },
  {
   "cell_type": "code",
   "execution_count": 45,
   "metadata": {},
   "outputs": [
    {
     "name": "stdout",
     "output_type": "stream",
     "text": [
      "Обучение модели DummyModel заняло: 0.02 секунд\n",
      "Предсказание модели DummyModel заняло: 0.00 секунд\n"
     ]
    }
   ],
   "source": [
    "@progress_fit_predict\n",
    "class DummyModel:  # приведу пример на DummyModel модели которая была описана выше для проверки кода\n",
    "    def __init__(self, func) -> None:\n",
    "        self.func = func\n",
    "        self.value = None\n",
    "\n",
    "    def fit(self, X_train: np.ndarray, y_train: np.ndarray) -> None:\n",
    "        self.value = self.func(y_train)\n",
    "\n",
    "    def predict(self, X_test: np.ndarray) -> np.ndarray:\n",
    "        return np.full(len(X_test), self.value)\n",
    "\n",
    "# Создание экземпляра модели и тестирование\n",
    "model = DummyModel(np.mean)\n",
    "model.fit(X_train, y_train)\n",
    "predictions = model.predict(X_test)"
   ]
  },
  {
   "cell_type": "markdown",
   "metadata": {},
   "source": [
    "дальше последовал вопрос, а можно ли применить этот декоратор к моделям из sklearn. Если да то как? И будут ли какие-нибудь ошибки?"
   ]
  },
  {
   "cell_type": "markdown",
   "metadata": {},
   "source": [
    "**Решения для задачи 3 для встроенных классов моделей sklearn**:"
   ]
  },
  {
   "cell_type": "code",
   "execution_count": 42,
   "metadata": {},
   "outputs": [],
   "source": [
    "from sklearn.linear_model import LinearRegression\n",
    "\n",
    "@progress_fit_predict\n",
    "class MyLinearRegression(LinearRegression):\n",
    "    pass"
   ]
  },
  {
   "cell_type": "code",
   "execution_count": 43,
   "metadata": {},
   "outputs": [
    {
     "data": {
      "text/plain": [
       "((8000000, 4), (2000000, 4), (8000000,), (2000000,))"
      ]
     },
     "execution_count": 43,
     "metadata": {},
     "output_type": "execute_result"
    }
   ],
   "source": [
    "from sklearn.datasets import make_regression\n",
    "from sklearn.model_selection import train_test_split\n",
    "\n",
    "# Задаем размеры массивов\n",
    "size = int(10e6)\n",
    "num_features = 4\n",
    "\n",
    "# Генерация синтетических данных\n",
    "X, y = make_regression(n_samples=size, n_features=num_features, noise=10)\n",
    "\n",
    "# Разделение данных на обучающую и тестовую выборку (80% обучающих, 20% тестовых)\n",
    "X_train, X_test, y_train, y_test = train_test_split(X, y, test_size=0.2)\n",
    "X_train.shape, X_test.shape, y_train.shape, y_test.shape"
   ]
  },
  {
   "cell_type": "markdown",
   "metadata": {},
   "source": [
    "**Тестирование решения для задачи 3 для встроенных классов моделей sklearn**:"
   ]
  },
  {
   "cell_type": "code",
   "execution_count": 44,
   "metadata": {},
   "outputs": [
    {
     "name": "stdout",
     "output_type": "stream",
     "text": [
      "Обучение модели MyLinearRegression заняло: 1.66 секунд\n",
      "Предсказание модели MyLinearRegression заняло: 0.02 секунд\n"
     ]
    }
   ],
   "source": [
    "# Создание экземпляра модели и тестирование\n",
    "model = MyLinearRegression()\n",
    "model.fit(X_train, y_train)\n",
    "predictions = model.predict(X_test)"
   ]
  },
  {
   "cell_type": "code",
   "execution_count": null,
   "metadata": {},
   "outputs": [],
   "source": []
  },
  {
   "cell_type": "code",
   "execution_count": null,
   "metadata": {},
   "outputs": [],
   "source": []
  }
 ],
 "metadata": {
  "kernelspec": {
   "display_name": "Python 3",
   "language": "python",
   "name": "python3"
  },
  "language_info": {
   "codemirror_mode": {
    "name": "ipython",
    "version": 3
   },
   "file_extension": ".py",
   "mimetype": "text/x-python",
   "name": "python",
   "nbconvert_exporter": "python",
   "pygments_lexer": "ipython3",
   "version": "3.8.10"
  }
 },
 "nbformat": 4,
 "nbformat_minor": 2
}
